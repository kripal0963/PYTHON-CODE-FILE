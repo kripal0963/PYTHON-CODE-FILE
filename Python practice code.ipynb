{
 "cells": [
  {
   "cell_type": "markdown",
   "id": "5ef33b5e-98f9-4e06-9928-137b0682623b",
   "metadata": {},
   "source": [
    "# python Tutorial"
   ]
  },
  {
   "cell_type": "code",
   "execution_count": 4,
   "id": "987625fd-e536-467a-8d05-060fa9769cfa",
   "metadata": {},
   "outputs": [
    {
     "data": {
      "text/plain": [
       "'3.12.4 | packaged by Anaconda, Inc. | (main, Jun 18 2024, 15:03:56) [MSC v.1929 64 bit (AMD64)]'"
      ]
     },
     "execution_count": 4,
     "metadata": {},
     "output_type": "execute_result"
    }
   ],
   "source": [
    "import sys\n",
    "sys.version"
   ]
  },
  {
   "cell_type": "code",
   "execution_count": 6,
   "id": "0d6fe683-eb65-4d14-a3c5-62011c6af9db",
   "metadata": {},
   "outputs": [
    {
     "data": {
      "text/plain": [
       "['False',\n",
       " 'None',\n",
       " 'True',\n",
       " 'and',\n",
       " 'as',\n",
       " 'assert',\n",
       " 'async',\n",
       " 'await',\n",
       " 'break',\n",
       " 'class',\n",
       " 'continue',\n",
       " 'def',\n",
       " 'del',\n",
       " 'elif',\n",
       " 'else',\n",
       " 'except',\n",
       " 'finally',\n",
       " 'for',\n",
       " 'from',\n",
       " 'global',\n",
       " 'if',\n",
       " 'import',\n",
       " 'in',\n",
       " 'is',\n",
       " 'lambda',\n",
       " 'nonlocal',\n",
       " 'not',\n",
       " 'or',\n",
       " 'pass',\n",
       " 'raise',\n",
       " 'return',\n",
       " 'try',\n",
       " 'while',\n",
       " 'with',\n",
       " 'yield']"
      ]
     },
     "execution_count": 6,
     "metadata": {},
     "output_type": "execute_result"
    }
   ],
   "source": [
    "import keyword\n",
    "keyword.kwlist"
   ]
  },
  {
   "cell_type": "code",
   "execution_count": 8,
   "id": "2cb5aa3d-80db-47a0-aadc-a5636b5f9332",
   "metadata": {},
   "outputs": [
    {
     "ename": "SyntaxError",
     "evalue": "invalid decimal literal (2365974214.py, line 1)",
     "output_type": "error",
     "traceback": [
      "\u001b[1;36m  Cell \u001b[1;32mIn[8], line 1\u001b[1;36m\u001b[0m\n\u001b[1;33m    1var = 24\u001b[0m\n\u001b[1;37m    ^\u001b[0m\n\u001b[1;31mSyntaxError\u001b[0m\u001b[1;31m:\u001b[0m invalid decimal literal\n"
     ]
    }
   ],
   "source": [
    "1var = 24 #varialble never start with numbers "
   ]
  },
  {
   "cell_type": "code",
   "execution_count": 10,
   "id": "89a9b1a9-5c49-4bf5-9459-fba0cbfcf394",
   "metadata": {},
   "outputs": [
    {
     "ename": "SyntaxError",
     "evalue": "invalid syntax (1042499614.py, line 1)",
     "output_type": "error",
     "traceback": [
      "\u001b[1;36m  Cell \u001b[1;32mIn[10], line 1\u001b[1;36m\u001b[0m\n\u001b[1;33m    var* = 25\u001b[0m\n\u001b[1;37m         ^\u001b[0m\n\u001b[1;31mSyntaxError\u001b[0m\u001b[1;31m:\u001b[0m invalid syntax\n"
     ]
    }
   ],
   "source": [
    "var* = 25 # in variable we can't put special character\n",
    "\n",
    "var"
   ]
  },
  {
   "cell_type": "code",
   "execution_count": 12,
   "id": "0331db70-6e48-4bf3-8505-c2c788a5800f",
   "metadata": {},
   "outputs": [
    {
     "data": {
      "text/plain": [
       "10"
      ]
     },
     "execution_count": 12,
     "metadata": {},
     "output_type": "execute_result"
    }
   ],
   "source": [
    "# single line comment \n",
    "val1 = 10\n",
    "val1"
   ]
  },
  {
   "cell_type": "code",
   "execution_count": 14,
   "id": "d97f9596-2468-4272-be6e-55b53196b5c5",
   "metadata": {},
   "outputs": [
    {
     "data": {
      "text/plain": [
       "10"
      ]
     },
     "execution_count": 14,
     "metadata": {},
     "output_type": "execute_result"
    }
   ],
   "source": [
    "'''\n",
    "multi line \n",
    "comments can be use\n",
    "'''\n",
    "val1"
   ]
  },
  {
   "cell_type": "code",
   "execution_count": 16,
   "id": "415e64de-002c-4f2b-9c0d-ba7053949ccf",
   "metadata": {},
   "outputs": [
    {
     "data": {
      "text/plain": [
       "10"
      ]
     },
     "execution_count": 16,
     "metadata": {},
     "output_type": "execute_result"
    }
   ],
   "source": [
    "' single line comment' \n",
    "val1"
   ]
  },
  {
   "cell_type": "code",
   "execution_count": 22,
   "id": "f5234200-1c68-44a1-8015-258883e0aa48",
   "metadata": {},
   "outputs": [
    {
     "data": {
      "text/plain": [
       "(20, int, '0x7ff82fd33c18')"
      ]
     },
     "execution_count": 22,
     "metadata": {},
     "output_type": "execute_result"
    }
   ],
   "source": [
    "p = 20\n",
    "q = 20\n",
    "r = q\n",
    "p, type(p), hex(id(p))"
   ]
  },
  {
   "cell_type": "code",
   "execution_count": 26,
   "id": "d750b5fa-e732-40c9-8b4a-ceba7b3ce564",
   "metadata": {},
   "outputs": [
    {
     "data": {
      "text/plain": [
       "(20, int, '0x7ff82fd33c18')"
      ]
     },
     "execution_count": 26,
     "metadata": {},
     "output_type": "execute_result"
    }
   ],
   "source": [
    "q, type(q), hex(id(q))"
   ]
  },
  {
   "cell_type": "code",
   "execution_count": 32,
   "id": "a1e9dd22-c544-41ef-bc7a-6f704d0bd394",
   "metadata": {},
   "outputs": [
    {
     "data": {
      "text/plain": [
       "(20, int, '0x7ff82fd33c18')"
      ]
     },
     "execution_count": 32,
     "metadata": {},
     "output_type": "execute_result"
    }
   ],
   "source": [
    "r, type(r), hex(id(r))"
   ]
  },
  {
   "cell_type": "code",
   "execution_count": 34,
   "id": "804c0d7d-a062-41fc-be9c-26beb2ae5e7e",
   "metadata": {},
   "outputs": [
    {
     "data": {
      "text/plain": [
       "30"
      ]
     },
     "execution_count": 34,
     "metadata": {},
     "output_type": "execute_result"
    }
   ],
   "source": [
    "p = 20\n",
    "p = p + 10\n",
    "p"
   ]
  },
  {
   "cell_type": "code",
   "execution_count": 42,
   "id": "1da049ee-9326-4d3f-85f9-9d0a6d93e5ec",
   "metadata": {},
   "outputs": [
    {
     "name": "stdout",
     "output_type": "stream",
     "text": [
      "20\n",
      "10.5\n",
      "Hellow Wrold\n"
     ]
    }
   ],
   "source": [
    "intvar=20\n",
    "floatvar=10.5\n",
    "strvar=\"Hellow Wrold\"\n",
    "\n",
    "print(intvar)\n",
    "print(floatvar)\n",
    "print(strvar)\n",
    "    "
   ]
  },
  {
   "cell_type": "code",
   "execution_count": 54,
   "id": "c0dec9f1-baae-4fa9-8278-6efc70cbb425",
   "metadata": {},
   "outputs": [
    {
     "name": "stdout",
     "output_type": "stream",
     "text": [
      "20\n",
      "10.5\n",
      "Hello Wrold\n"
     ]
    }
   ],
   "source": [
    "intvar,floatvar,strvar = 20, 10.5, 'Hello Wrold'\n",
    "print(intvar)\n",
    "print(floatvar)\n",
    "print(strvar)\n",
    "    "
   ]
  },
  {
   "cell_type": "code",
   "execution_count": 58,
   "id": "8dbee17e-2a61-491b-8ae1-9768ea695afe",
   "metadata": {},
   "outputs": [
    {
     "name": "stdout",
     "output_type": "stream",
     "text": [
      "1 2 3\n"
     ]
    }
   ],
   "source": [
    " a, b, c = 1, 2, 3\n",
    "print(a, b, c)"
   ]
  },
  {
   "cell_type": "code",
   "execution_count": 60,
   "id": "7ec1e52d-6ce0-4d61-868b-051e36309e99",
   "metadata": {},
   "outputs": [
    {
     "name": "stdout",
     "output_type": "stream",
     "text": [
      "100 100 100 100\n"
     ]
    }
   ],
   "source": [
    "k1 = k2 =k3 =k4 = 100\n",
    "print(k1,k2,k3,k4)"
   ]
  },
  {
   "cell_type": "markdown",
   "id": "208293f2-0b20-4920-bac1-a712a999a78c",
   "metadata": {},
   "source": [
    "# Data types\n",
    "## Numeric"
   ]
  },
  {
   "cell_type": "code",
   "execution_count": 92,
   "id": "e1e526db-588c-4c3a-a9d1-2a9d295057a5",
   "metadata": {},
   "outputs": [
    {
     "name": "stdout",
     "output_type": "stream",
     "text": [
      "10\n",
      "<class 'int'>\n",
      "28\n",
      "10 is Integer? True\n"
     ]
    }
   ],
   "source": [
    "val1 \n",
    "print(val1)\n",
    "print(type(val1))\n",
    "print(sys.getsizeof(val1))\n",
    "print(val1,'is Integer?', isinstance(val1, int))"
   ]
  },
  {
   "cell_type": "code",
   "execution_count": 90,
   "id": "72d73f4d-2a98-49c0-a0d5-3e37e24d48b0",
   "metadata": {},
   "outputs": [
    {
     "name": "stdout",
     "output_type": "stream",
     "text": [
      "98.9\n",
      "<class 'float'>\n",
      "24\n",
      "98.9 is float? True\n"
     ]
    }
   ],
   "source": [
    "val2 = 98.90\n",
    "print(val2)\n",
    "print(type(val2))\n",
    "print(sys.getsizeof(val2))\n",
    "print(val2, 'is float?', isinstance(val2, float))\n",
    "      "
   ]
  },
  {
   "cell_type": "code",
   "execution_count": 106,
   "id": "1d016acd-83d0-4dad-9530-afab77510bb0",
   "metadata": {},
   "outputs": [
    {
     "name": "stdout",
     "output_type": "stream",
     "text": [
      "12\n",
      "<class 'int'>\n",
      "28\n",
      "12 is float? False\n"
     ]
    }
   ],
   "source": [
    "val3 = 12\n",
    "print(val3)\n",
    "print(type(val3))\n",
    "print(sys.getsizeof(val3))\n",
    "print(val3, \"is float?\", isinstance(val3, float))"
   ]
  },
  {
   "cell_type": "code",
   "execution_count": 126,
   "id": "efa28ace-06a3-4b7f-bcac-439c8b386cf4",
   "metadata": {},
   "outputs": [
    {
     "name": "stdout",
     "output_type": "stream",
     "text": [
      "(25+10j)\n",
      "<class 'complex'>\n",
      "32\n",
      "(25+10j) is complex? True\n"
     ]
    }
   ],
   "source": [
    "val4 = 25 + 10j\n",
    "print(val4)\n",
    "print(type(val4))\n",
    "print(sys.getsizeof(val4))\n",
    "print(val4, 'is complex?', isinstance(val4, complex))"
   ]
  },
  {
   "cell_type": "code",
   "execution_count": 128,
   "id": "c7a2d2c2-344c-4421-af24-7e25cc8e5766",
   "metadata": {},
   "outputs": [
    {
     "data": {
      "text/plain": [
       "28"
      ]
     },
     "execution_count": 128,
     "metadata": {},
     "output_type": "execute_result"
    }
   ],
   "source": [
    "sys.getsizeof(int())"
   ]
  },
  {
   "cell_type": "code",
   "execution_count": 136,
   "id": "495edd75-893f-4879-8382-d546ccf20d3b",
   "metadata": {},
   "outputs": [
    {
     "data": {
      "text/plain": [
       "28"
      ]
     },
     "execution_count": 136,
     "metadata": {},
     "output_type": "execute_result"
    }
   ],
   "source": [
    "a = 4\n",
    "sys.getsizeof(a)\n"
   ]
  },
  {
   "cell_type": "code",
   "execution_count": 144,
   "id": "e3e72d34-3a6e-41ee-b684-2810f710e523",
   "metadata": {},
   "outputs": [
    {
     "data": {
      "text/plain": [
       "32"
      ]
     },
     "execution_count": 144,
     "metadata": {},
     "output_type": "execute_result"
    }
   ],
   "source": [
    "sys.getsizeof(complex())"
   ]
  },
  {
   "cell_type": "markdown",
   "id": "b3dfc115-9db8-4616-b069-676bbecfb5bd",
   "metadata": {},
   "source": [
    "# boolean"
   ]
  },
  {
   "cell_type": "code",
   "execution_count": 153,
   "id": "af7897e1-83c0-4034-876b-49a1737b109c",
   "metadata": {},
   "outputs": [],
   "source": [
    "bool1 = True"
   ]
  },
  {
   "cell_type": "code",
   "execution_count": 155,
   "id": "73a07c7b-8a80-447e-9017-fdfcbcd82bfc",
   "metadata": {},
   "outputs": [],
   "source": [
    "bool2 = False"
   ]
  },
  {
   "cell_type": "code",
   "execution_count": 157,
   "id": "093c4448-8d77-4724-8425-0242e0909ff9",
   "metadata": {},
   "outputs": [
    {
     "name": "stdout",
     "output_type": "stream",
     "text": [
      "<class 'bool'>\n"
     ]
    }
   ],
   "source": [
    "print(type(bool1))"
   ]
  },
  {
   "cell_type": "code",
   "execution_count": 161,
   "id": "b65d689e-637b-4129-8644-da41212e2b96",
   "metadata": {},
   "outputs": [
    {
     "name": "stdout",
     "output_type": "stream",
     "text": [
      "<class 'bool'>\n"
     ]
    }
   ],
   "source": [
    "print(type(bool2))"
   ]
  },
  {
   "cell_type": "code",
   "execution_count": 171,
   "id": "34d076d2-2acf-4def-adec-bd85ff4f7a89",
   "metadata": {},
   "outputs": [
    {
     "data": {
      "text/plain": [
       "True"
      ]
     },
     "execution_count": 171,
     "metadata": {},
     "output_type": "execute_result"
    }
   ],
   "source": [
    "isinstance(bool1, bool)"
   ]
  },
  {
   "cell_type": "code",
   "execution_count": 177,
   "id": "e06832d0-17fd-470b-9931-85e8d30cfc98",
   "metadata": {},
   "outputs": [
    {
     "data": {
      "text/plain": [
       "True"
      ]
     },
     "execution_count": 177,
     "metadata": {},
     "output_type": "execute_result"
    }
   ],
   "source": [
    "isinstance(bool2, bool)"
   ]
  },
  {
   "cell_type": "code",
   "execution_count": 179,
   "id": "97f234f3-7130-4bb2-80c0-074427c05fce",
   "metadata": {},
   "outputs": [
    {
     "data": {
      "text/plain": [
       "False"
      ]
     },
     "execution_count": 179,
     "metadata": {},
     "output_type": "execute_result"
    }
   ],
   "source": [
    "bool(0)"
   ]
  },
  {
   "cell_type": "code",
   "execution_count": 181,
   "id": "f1092a5b-3a2f-4ab4-87a8-e7e1d729a8f7",
   "metadata": {},
   "outputs": [
    {
     "data": {
      "text/plain": [
       "True"
      ]
     },
     "execution_count": 181,
     "metadata": {},
     "output_type": "execute_result"
    }
   ],
   "source": [
    "bool(1)"
   ]
  },
  {
   "cell_type": "code",
   "execution_count": 185,
   "id": "640ff196-b296-462d-858d-301f2432a719",
   "metadata": {},
   "outputs": [
    {
     "data": {
      "text/plain": [
       "False"
      ]
     },
     "execution_count": 185,
     "metadata": {},
     "output_type": "execute_result"
    }
   ],
   "source": [
    "bool(None)"
   ]
  },
  {
   "cell_type": "code",
   "execution_count": 187,
   "id": "d27f2b1f-f3d8-4d2b-ba83-3dd4ee00c546",
   "metadata": {},
   "outputs": [
    {
     "data": {
      "text/plain": [
       "False"
      ]
     },
     "execution_count": 187,
     "metadata": {},
     "output_type": "execute_result"
    }
   ],
   "source": [
    "bool(False)"
   ]
  },
  {
   "cell_type": "markdown",
   "id": "23b4081d-7939-44cc-a61d-addd2550bf21",
   "metadata": {},
   "source": [
    "# Strings\n",
    "\n",
    "### string creation"
   ]
  },
  {
   "cell_type": "code",
   "execution_count": 195,
   "id": "1ff60807-947a-4199-949b-00b0fffd3522",
   "metadata": {},
   "outputs": [],
   "source": [
    "str1 = \"Hello python\"\n"
   ]
  },
  {
   "cell_type": "code",
   "execution_count": 203,
   "id": "1a68632a-7e33-49d4-8ea9-73f38127073d",
   "metadata": {},
   "outputs": [],
   "source": [
    "mystr = \"Hello World\""
   ]
  },
  {
   "cell_type": "code",
   "execution_count": 205,
   "id": "1beba445-5b17-476d-8bdb-f0e961c10b1d",
   "metadata": {},
   "outputs": [
    {
     "name": "stdout",
     "output_type": "stream",
     "text": [
      "Hello World\n"
     ]
    }
   ],
   "source": [
    "print(mystr)"
   ]
  },
  {
   "cell_type": "code",
   "execution_count": 219,
   "id": "e5aa83b4-f29b-42f8-be08-5107ec539a40",
   "metadata": {},
   "outputs": [
    {
     "name": "stdout",
     "output_type": "stream",
     "text": [
      "Hello\n",
      "             Wrold\n"
     ]
    }
   ],
   "source": [
    "mystr = '''Hello\n",
    "             Wrold'''\n",
    "print(mystr)"
   ]
  },
  {
   "cell_type": "code",
   "execution_count": 228,
   "id": "b1fbe3e1-f3e6-452c-bfe3-cb5266d82fb3",
   "metadata": {},
   "outputs": [
    {
     "name": "stdout",
     "output_type": "stream",
     "text": [
      "MondayTuesdayWednesday\n"
     ]
    }
   ],
   "source": [
    "mystr = ('Monday'\n",
    "         'Tuesday'\n",
    "        'Wednesday')\n",
    "print(mystr)"
   ]
  },
  {
   "cell_type": "code",
   "execution_count": 232,
   "id": "a2582d41-2671-438f-b382-65f5d1bba534",
   "metadata": {},
   "outputs": [
    {
     "name": "stdout",
     "output_type": "stream",
     "text": [
      "123\n"
     ]
    }
   ],
   "source": [
    "mystr = ('1'\n",
    "         '2'\n",
    "         '3')\n",
    "print(mystr)"
   ]
  },
  {
   "cell_type": "code",
   "execution_count": 240,
   "id": "9e68f1c8-b239-4575-ae0c-a296e076544e",
   "metadata": {},
   "outputs": [
    {
     "name": "stdout",
     "output_type": "stream",
     "text": [
      "Happy Monday everyone\n"
     ]
    }
   ],
   "source": [
    "mystr = ('Happy '\n",
    "         'Monday '\n",
    "         'everyone')\n",
    "print(mystr)"
   ]
  },
  {
   "cell_type": "code",
   "execution_count": 252,
   "id": "bc7ebdf1-ce86-449a-a6d7-ef70173aaa41",
   "metadata": {},
   "outputs": [
    {
     "data": {
      "text/plain": [
       "'wooooo wooooo wooooo wooooo wooooo '"
      ]
     },
     "execution_count": 252,
     "metadata": {},
     "output_type": "execute_result"
    }
   ],
   "source": [
    "mystr1 = 'wooooo '\n",
    "mystr1 = mystr1*5\n",
    "mystr1"
   ]
  },
  {
   "cell_type": "code",
   "execution_count": 254,
   "id": "e7cebee9-8150-40ae-9f72-64d2d0681bf0",
   "metadata": {},
   "outputs": [
    {
     "data": {
      "text/plain": [
       "35"
      ]
     },
     "execution_count": 254,
     "metadata": {},
     "output_type": "execute_result"
    }
   ],
   "source": [
    "len(mystr1)"
   ]
  },
  {
   "cell_type": "markdown",
   "id": "dd28d453-1c55-497b-91a2-7af2cc69d580",
   "metadata": {},
   "source": [
    "# string indexing\n",
    "## 1. forward indexing\n",
    "## 2. backward indexing"
   ]
  },
  {
   "cell_type": "code",
   "execution_count": 256,
   "id": "ba94f639-3f05-4ffb-ab7a-f47c44a9cc7e",
   "metadata": {},
   "outputs": [
    {
     "data": {
      "text/plain": [
       "'hello python'"
      ]
     },
     "execution_count": 256,
     "metadata": {},
     "output_type": "execute_result"
    }
   ],
   "source": [
    "str = 'hello python'\n",
    "str"
   ]
  },
  {
   "cell_type": "code",
   "execution_count": 260,
   "id": "23a3969a-0076-401e-8d48-0adfe0f433ea",
   "metadata": {},
   "outputs": [
    {
     "data": {
      "text/plain": [
       "'l'"
      ]
     },
     "execution_count": 260,
     "metadata": {},
     "output_type": "execute_result"
    }
   ],
   "source": [
    "str[2]"
   ]
  },
  {
   "cell_type": "code",
   "execution_count": 264,
   "id": "8049048c-7255-445b-a8c2-759ac763b806",
   "metadata": {},
   "outputs": [
    {
     "data": {
      "text/plain": [
       "'o'"
      ]
     },
     "execution_count": 264,
     "metadata": {},
     "output_type": "execute_result"
    }
   ],
   "source": [
    "str[4]"
   ]
  },
  {
   "cell_type": "code",
   "execution_count": 266,
   "id": "81416e5b-0f49-44dd-a1b6-bf504dbdabd7",
   "metadata": {},
   "outputs": [
    {
     "data": {
      "text/plain": [
       "' '"
      ]
     },
     "execution_count": 266,
     "metadata": {},
     "output_type": "execute_result"
    }
   ],
   "source": [
    "str[5]"
   ]
  },
  {
   "cell_type": "code",
   "execution_count": 272,
   "id": "8de2b0ba-a1e1-4781-80c0-6b82e0d58460",
   "metadata": {},
   "outputs": [
    {
     "data": {
      "text/plain": [
       "'o'"
      ]
     },
     "execution_count": 272,
     "metadata": {},
     "output_type": "execute_result"
    }
   ],
   "source": [
    "str[-8]"
   ]
  },
  {
   "cell_type": "code",
   "execution_count": 289,
   "id": "264b402f-a45a-4da7-b4f0-13f60db85047",
   "metadata": {},
   "outputs": [
    {
     "data": {
      "text/plain": [
       "'t'"
      ]
     },
     "execution_count": 289,
     "metadata": {},
     "output_type": "execute_result"
    }
   ],
   "source": [
    "str[-4]"
   ]
  },
  {
   "cell_type": "markdown",
   "id": "5eab28f9-3df4-4a72-aade-38a4189f1987",
   "metadata": {},
   "source": [
    "#   string slicing"
   ]
  },
  {
   "cell_type": "code",
   "execution_count": 306,
   "id": "71deddaa-0ce4-463f-85f6-f877d1e99baf",
   "metadata": {},
   "outputs": [
    {
     "data": {
      "text/plain": [
       "'hello'"
      ]
     },
     "execution_count": 306,
     "metadata": {},
     "output_type": "execute_result"
    }
   ],
   "source": [
    "\n",
    "\n",
    "str[0:5]\n"
   ]
  },
  {
   "cell_type": "code",
   "execution_count": 300,
   "id": "13def0ed-cb5f-4d69-b345-a5a52e50f8b8",
   "metadata": {},
   "outputs": [
    {
     "data": {
      "text/plain": [
       "' python'"
      ]
     },
     "execution_count": 300,
     "metadata": {},
     "output_type": "execute_result"
    }
   ],
   "source": [
    "str[5:12]"
   ]
  },
  {
   "cell_type": "code",
   "execution_count": 334,
   "id": "dda37324-a9fe-4923-be34-35447a4a0b5f",
   "metadata": {},
   "outputs": [
    {
     "data": {
      "text/plain": [
       "'Hello '"
      ]
     },
     "execution_count": 334,
     "metadata": {},
     "output_type": "execute_result"
    }
   ],
   "source": [
    "str[:6]"
   ]
  },
  {
   "cell_type": "code",
   "execution_count": 310,
   "id": "8990ed20-4f96-45cb-92a1-ec2955d2f8e0",
   "metadata": {},
   "outputs": [
    {
     "data": {
      "text/plain": [
       "'Hello Python'"
      ]
     },
     "execution_count": 310,
     "metadata": {},
     "output_type": "execute_result"
    }
   ],
   "source": [
    "str = Hello Python'"
   ]
  },
  {
   "cell_type": "code",
   "execution_count": 324,
   "id": "9be823ea-fe8c-4cda-98e1-59ed82d73751",
   "metadata": {},
   "outputs": [
    {
     "data": {
      "text/plain": [
       "'Hello Pyt'"
      ]
     },
     "execution_count": 324,
     "metadata": {},
     "output_type": "execute_result"
    }
   ],
   "source": [
    "str[:-3]"
   ]
  },
  {
   "cell_type": "code",
   "execution_count": 326,
   "id": "039e39aa-7bde-4b97-909f-c73d86e75e71",
   "metadata": {},
   "outputs": [
    {
     "data": {
      "text/plain": [
       "'hon'"
      ]
     },
     "execution_count": 326,
     "metadata": {},
     "output_type": "execute_result"
    }
   ],
   "source": [
    "str[-3:] # retrive last three character"
   ]
  },
  {
   "cell_type": "code",
   "execution_count": 336,
   "id": "0267b6f7-d11e-4bed-a2b9-46465cd20fe5",
   "metadata": {},
   "outputs": [],
   "source": [
    "# update and delete String"
   ]
  },
  {
   "cell_type": "code",
   "execution_count": 390,
   "id": "fe106233-425b-41e3-aa7e-731cf595cc5f",
   "metadata": {},
   "outputs": [
    {
     "data": {
      "text/plain": [
       "'HWLOOE'"
      ]
     },
     "execution_count": 390,
     "metadata": {},
     "output_type": "execute_result"
    }
   ],
   "source": [
    "kripal= 'HWLOOE'\n",
    "kripal"
   ]
  },
  {
   "cell_type": "code",
   "execution_count": 392,
   "id": "512ef641-4662-400f-a156-f2ccadab7452",
   "metadata": {},
   "outputs": [
    {
     "data": {
      "text/plain": [
       "'E'"
      ]
     },
     "execution_count": 392,
     "metadata": {},
     "output_type": "execute_result"
    }
   ],
   "source": [
    "kripal[5]"
   ]
  },
  {
   "cell_type": "code",
   "execution_count": 400,
   "id": "e883a3d1-615b-4554-991a-321ea031e476",
   "metadata": {},
   "outputs": [
    {
     "ename": "NameError",
     "evalue": "name 'kripal' is not defined",
     "output_type": "error",
     "traceback": [
      "\u001b[1;31m---------------------------------------------------------------------------\u001b[0m",
      "\u001b[1;31mNameError\u001b[0m                                 Traceback (most recent call last)",
      "Cell \u001b[1;32mIn[400], line 1\u001b[0m\n\u001b[1;32m----> 1\u001b[0m kripal[\u001b[38;5;241m0\u001b[39m:\u001b[38;5;241m5\u001b[39m]\n",
      "\u001b[1;31mNameError\u001b[0m: name 'kripal' is not defined"
     ]
    }
   ],
   "source": [
    "kripal[0:5]"
   ]
  },
  {
   "cell_type": "code",
   "execution_count": 404,
   "id": "f88564f4-523b-4f96-b3ad-1502d32dafe2",
   "metadata": {},
   "outputs": [
    {
     "ename": "NameError",
     "evalue": "name 'kripal' is not defined",
     "output_type": "error",
     "traceback": [
      "\u001b[1;31m---------------------------------------------------------------------------\u001b[0m",
      "\u001b[1;31mNameError\u001b[0m                                 Traceback (most recent call last)",
      "Cell \u001b[1;32mIn[404], line 1\u001b[0m\n\u001b[1;32m----> 1\u001b[0m \u001b[38;5;28;01mdel\u001b[39;00m kripal\n\u001b[0;32m      2\u001b[0m \u001b[38;5;28mprint\u001b[39m(kripal)\n",
      "\u001b[1;31mNameError\u001b[0m: name 'kripal' is not defined"
     ]
    }
   ],
   "source": [
    "del kripal\n",
    "print(kripal)\n"
   ]
  },
  {
   "cell_type": "markdown",
   "id": "3bac988c-ea4d-423f-914e-cc80bf682a30",
   "metadata": {},
   "source": [
    "# string concatenation "
   ]
  },
  {
   "cell_type": "code",
   "execution_count": 409,
   "id": "21636a48-bc6a-4eb2-9bd7-e331c3d4aaf8",
   "metadata": {},
   "outputs": [
    {
     "name": "stdout",
     "output_type": "stream",
     "text": [
      "helloArif\n"
     ]
    }
   ],
   "source": [
    "s1 = 'hello'\n",
    "s2 = 'Arif'\n",
    "s3 = s1 + s2\n",
    "print(s3)"
   ]
  },
  {
   "cell_type": "markdown",
   "id": "a622c92d-ae70-4215-a838-f4eafecbf214",
   "metadata": {},
   "source": [
    "# 23rd and 24th Finished\n"
   ]
  },
  {
   "cell_type": "code",
   "execution_count": 3,
   "id": "a8127a35-86fb-42e6-8784-64f7a0dd72fa",
   "metadata": {},
   "outputs": [
    {
     "ename": "SyntaxError",
     "evalue": "invalid syntax (1523490938.py, line 2)",
     "output_type": "error",
     "traceback": [
      "\u001b[1;36m  Cell \u001b[1;32mIn[3], line 2\u001b[1;36m\u001b[0m\n\u001b[1;33m    print.\u001b[0m\n\u001b[1;37m          ^\u001b[0m\n\u001b[1;31mSyntaxError\u001b[0m\u001b[1;31m:\u001b[0m invalid syntax\n"
     ]
    }
   ],
   "source": [
    "S# 'hello'\n",
    "print.\n"
   ]
  },
  {
   "cell_type": "code",
   "execution_count": 5,
   "id": "190f8d98-5b8b-4a51-9b97-9e1acb17b226",
   "metadata": {},
   "outputs": [],
   "source": [
    ">>>"
   ]
  },
  {
   "cell_type": "code",
   "execution_count": 7,
   "id": "f1d108c7-8649-4337-9f99-0a9747c177b8",
   "metadata": {},
   "outputs": [
    {
     "data": {
      "text/plain": [
       "['False',\n",
       " 'None',\n",
       " 'True',\n",
       " 'and',\n",
       " 'as',\n",
       " 'assert',\n",
       " 'async',\n",
       " 'await',\n",
       " 'break',\n",
       " 'class',\n",
       " 'continue',\n",
       " 'def',\n",
       " 'del',\n",
       " 'elif',\n",
       " 'else',\n",
       " 'except',\n",
       " 'finally',\n",
       " 'for',\n",
       " 'from',\n",
       " 'global',\n",
       " 'if',\n",
       " 'import',\n",
       " 'in',\n",
       " 'is',\n",
       " 'lambda',\n",
       " 'nonlocal',\n",
       " 'not',\n",
       " 'or',\n",
       " 'pass',\n",
       " 'raise',\n",
       " 'return',\n",
       " 'try',\n",
       " 'while',\n",
       " 'with',\n",
       " 'yield']"
      ]
     },
     "execution_count": 7,
     "metadata": {},
     "output_type": "execute_result"
    }
   ],
   "source": [
    "import keyword\n",
    "keyword.kwlist\n"
   ]
  },
  {
   "cell_type": "code",
   "execution_count": 9,
   "id": "4d85bb32-b83c-4a3f-b79b-86625559d098",
   "metadata": {},
   "outputs": [
    {
     "data": {
      "text/plain": [
       "35"
      ]
     },
     "execution_count": 9,
     "metadata": {},
     "output_type": "execute_result"
    }
   ],
   "source": [
    "len(keyword.kwlist)"
   ]
  },
  {
   "cell_type": "code",
   "execution_count": 11,
   "id": "1643c533-d157-44f7-9fe7-6a8d8d66e2a3",
   "metadata": {},
   "outputs": [
    {
     "data": {
      "image/png": "[encoded data removed]",
      "text/plain": [
       "<Figure size 640x480 with 1 Axes>"
      ]
     },
     "metadata": {},
     "output_type": "display_data"
    }
   ],
   "source": [
    "import matplotlib.pyplot as plt\n",
    "plt.plot([12,34,45,56])\n",
    "plt.ylabel(\"numbers\")\n",
    "\n",
    "plt.show()"
   ]
  },
  {
   "cell_type": "code",
   "execution_count": 12,
   "id": "80c6b6b6-fc35-4a52-9d81-913f2856d141",
   "metadata": {},
   "outputs": [],
   "source": [
    "a = 12\n"
   ]
  },
  {
   "cell_type": "code",
   "execution_count": 13,
   "id": "83401438-5eb3-4805-983f-bb09fe3fc7af",
   "metadata": {},
   "outputs": [
    {
     "data": {
      "text/plain": [
       "'3.12.4 | packaged by Anaconda, Inc. | (main, Jun 18 2024, 15:03:56) [MSC v.1929 64 bit (AMD64)]'"
      ]
     },
     "execution_count": 13,
     "metadata": {},
     "output_type": "execute_result"
    }
   ],
   "source": [
    "import sys\n",
    "sys.version"
   ]
  },
  {
   "cell_type": "code",
   "execution_count": 39,
   "id": "bc4fccfc-bd1b-4a5c-aa42-b11612c6d8b2",
   "metadata": {},
   "outputs": [
    {
     "name": "stdout",
     "output_type": "stream",
     "text": [
      "12\n",
      "<class 'int'>\n",
      "28\n",
      "12 is integer? <built-in function isinstance> is= (12, <class 'int'>)\n"
     ]
    }
   ],
   "source": [
    "print(a)\n",
    "print(type(a))\n",
    "print(sys.getsizeof(a))\n",
    "print(a, \"is integer?\", isinstance ,\"is=\",(a, int))"
   ]
  },
  {
   "cell_type": "code",
   "execution_count": 19,
   "id": "ef103b9e-8cc7-4362-8f4d-b64b1ac7b96f",
   "metadata": {},
   "outputs": [
    {
     "name": "stdout",
     "output_type": "stream",
     "text": [
      "12\n"
     ]
    }
   ],
   "source": [
    "print(a)"
   ]
  },
  {
   "cell_type": "code",
   "execution_count": 27,
   "id": "4ce7ef3b-0768-4a49-99d0-7fb40c5bc885",
   "metadata": {},
   "outputs": [
    {
     "name": "stdout",
     "output_type": "stream",
     "text": [
      "<class 'int'>\n",
      "28\n",
      "12 is integer? True\n"
     ]
    }
   ],
   "source": [
    "print(type(a))\n",
    "print(sys.getsizeof(a))\n",
    "print(a, \"is integer?\", isinstance(a, int))"
   ]
  },
  {
   "cell_type": "code",
   "execution_count": 47,
   "id": "76de8d20-3b34-45a8-a023-f7631505cba4",
   "metadata": {},
   "outputs": [
    {
     "data": {
      "text/plain": [
       "'3.12.4 | packaged by Anaconda, Inc. | (main, Jun 18 2024, 15:03:56) [MSC v.1929 64 bit (AMD64)]'"
      ]
     },
     "execution_count": 47,
     "metadata": {},
     "output_type": "execute_result"
    }
   ],
   "source": [
    "import sys\n",
    "sys.version"
   ]
  },
  {
   "cell_type": "markdown",
   "id": "54336d6c-4443-47ae-b99b-9ec893ad0f2c",
   "metadata": {},
   "source": [
    "# python all data types convert"
   ]
  },
  {
   "cell_type": "code",
   "execution_count": 2,
   "id": "dbfbbef0-f8fa-4b30-a0d8-e2c20ba2871b",
   "metadata": {},
   "outputs": [
    {
     "data": {
      "text/plain": [
       "True"
      ]
     },
     "execution_count": 2,
     "metadata": {},
     "output_type": "execute_result"
    }
   ],
   "source": [
    "bool(12)"
   ]
  },
  {
   "cell_type": "code",
   "execution_count": 4,
   "id": "f88bc62a-78bf-4e99-a6ae-8d351345f970",
   "metadata": {},
   "outputs": [
    {
     "data": {
      "text/plain": [
       "3"
      ]
     },
     "execution_count": 4,
     "metadata": {},
     "output_type": "execute_result"
    }
   ],
   "source": [
    "int(3.5)"
   ]
  },
  {
   "cell_type": "code",
   "execution_count": 6,
   "id": "b7367ffe-0835-494a-bb3b-e577ea105795",
   "metadata": {},
   "outputs": [
    {
     "ename": "TypeError",
     "evalue": "float() argument must be a string or a real number, not 'complex'",
     "output_type": "error",
     "traceback": [
      "\u001b[1;31m---------------------------------------------------------------------------\u001b[0m",
      "\u001b[1;31mTypeError\u001b[0m                                 Traceback (most recent call last)",
      "Cell \u001b[1;32mIn[6], line 1\u001b[0m\n\u001b[1;32m----> 1\u001b[0m \u001b[38;5;28mfloat\u001b[39m(\u001b[38;5;241m1\u001b[39m\u001b[38;5;241m+\u001b[39m\u001b[38;5;241m3\u001b[39mj)\n",
      "\u001b[1;31mTypeError\u001b[0m: float() argument must be a string or a real number, not 'complex'"
     ]
    }
   ],
   "source": [
    "float(1+3j)"
   ]
  },
  {
   "cell_type": "code",
   "execution_count": 8,
   "id": "3865dd71-2832-491a-9e55-0730c576fdbc",
   "metadata": {},
   "outputs": [
    {
     "data": {
      "text/plain": [
       "4.0"
      ]
     },
     "execution_count": 8,
     "metadata": {},
     "output_type": "execute_result"
    }
   ],
   "source": [
    "float(1+3)"
   ]
  },
  {
   "cell_type": "code",
   "execution_count": 10,
   "id": "ddd66644-b73d-4db7-8329-ec9b24cd6de7",
   "metadata": {},
   "outputs": [
    {
     "ename": "TypeError",
     "evalue": "float() argument must be a string or a real number, not 'complex'",
     "output_type": "error",
     "traceback": [
      "\u001b[1;31m---------------------------------------------------------------------------\u001b[0m",
      "\u001b[1;31mTypeError\u001b[0m                                 Traceback (most recent call last)",
      "Cell \u001b[1;32mIn[10], line 1\u001b[0m\n\u001b[1;32m----> 1\u001b[0m \u001b[38;5;28mfloat\u001b[39m(\u001b[38;5;241m1\u001b[39m\u001b[38;5;241m+\u001b[39m\u001b[38;5;241m2\u001b[39mj)\n",
      "\u001b[1;31mTypeError\u001b[0m: float() argument must be a string or a real number, not 'complex'"
     ]
    }
   ],
   "source": [
    "float(1+2j)"
   ]
  },
  {
   "cell_type": "code",
   "execution_count": 12,
   "id": "10b88380-5e3f-4fc8-a968-f01b37882651",
   "metadata": {},
   "outputs": [
    {
     "data": {
      "text/plain": [
       "(2.4+0j)"
      ]
     },
     "execution_count": 12,
     "metadata": {},
     "output_type": "execute_result"
    }
   ],
   "source": [
    "complex(2.4)"
   ]
  },
  {
   "cell_type": "code",
   "execution_count": 14,
   "id": "c8ac9f57-4759-4be2-821f-317bdd893323",
   "metadata": {},
   "outputs": [
    {
     "data": {
      "text/plain": [
       "(23+0j)"
      ]
     },
     "execution_count": 14,
     "metadata": {},
     "output_type": "execute_result"
    }
   ],
   "source": [
    "complex(23)"
   ]
  },
  {
   "cell_type": "code",
   "execution_count": 16,
   "id": "37d13832-6ab8-48ab-aed3-81076c6d49ff",
   "metadata": {},
   "outputs": [
    {
     "data": {
      "text/plain": [
       "(1+0j)"
      ]
     },
     "execution_count": 16,
     "metadata": {},
     "output_type": "execute_result"
    }
   ],
   "source": [
    "complex(True)"
   ]
  },
  {
   "cell_type": "code",
   "execution_count": 18,
   "id": "7f83b5dc-326a-4e95-922f-48ff27509b49",
   "metadata": {},
   "outputs": [
    {
     "data": {
      "text/plain": [
       "0j"
      ]
     },
     "execution_count": 18,
     "metadata": {},
     "output_type": "execute_result"
    }
   ],
   "source": [
    "complex(False)"
   ]
  },
  {
   "cell_type": "code",
   "execution_count": 20,
   "id": "c93295a3-2825-41e0-b404-09e4ceee373f",
   "metadata": {},
   "outputs": [],
   "source": [
    "kripal = \"Hellow Python\""
   ]
  },
  {
   "cell_type": "code",
   "execution_count": 24,
   "id": "8871879c-9876-48a0-b449-a710978007a3",
   "metadata": {},
   "outputs": [
    {
     "data": {
      "text/plain": [
       "'l'"
      ]
     },
     "execution_count": 24,
     "metadata": {},
     "output_type": "execute_result"
    }
   ],
   "source": [
    "kripal[3]"
   ]
  },
  {
   "cell_type": "raw",
   "id": "d5c463c6-5b1f-4c35-919e-aca8b0e9dbd9",
   "metadata": {},
   "source": [
    "kripal[9]\n"
   ]
  },
  {
   "cell_type": "code",
   "execution_count": 30,
   "id": "887ab60e-56be-4808-acb3-a78128e6ca97",
   "metadata": {},
   "outputs": [
    {
     "data": {
      "text/plain": [
       "'Hellow Py'"
      ]
     },
     "execution_count": 30,
     "metadata": {},
     "output_type": "execute_result"
    }
   ],
   "source": [
    "kripal[:9]"
   ]
  },
  {
   "cell_type": "code",
   "execution_count": 32,
   "id": "40301077-e834-4fbb-930f-bbb4b393cbef",
   "metadata": {},
   "outputs": [
    {
     "data": {
      "text/plain": [
       "'Hellow '"
      ]
     },
     "execution_count": 32,
     "metadata": {},
     "output_type": "execute_result"
    }
   ],
   "source": [
    "kripal[:-6]"
   ]
  },
  {
   "cell_type": "code",
   "execution_count": 36,
   "id": "5cb09035-c3c3-4c20-9673-1ab737a0680d",
   "metadata": {},
   "outputs": [
    {
     "data": {
      "text/plain": [
       "' Python'"
      ]
     },
     "execution_count": 36,
     "metadata": {},
     "output_type": "execute_result"
    }
   ],
   "source": [
    "kripal[6:]"
   ]
  },
  {
   "cell_type": "code",
   "execution_count": 40,
   "id": "b8d1b977-9849-4616-bb36-0a20b852dcfb",
   "metadata": {},
   "outputs": [
    {
     "data": {
      "text/plain": [
       "'low Python'"
      ]
     },
     "execution_count": 40,
     "metadata": {},
     "output_type": "execute_result"
    }
   ],
   "source": [
    "kripal[3:]"
   ]
  },
  {
   "cell_type": "code",
   "execution_count": 44,
   "id": "66418711-fd74-46b3-94f2-f0d00f9f3766",
   "metadata": {},
   "outputs": [
    {
     "data": {
      "text/plain": [
       "'nPl'"
      ]
     },
     "execution_count": 44,
     "metadata": {},
     "output_type": "execute_result"
    }
   ],
   "source": [
    "kripal[::-5]"
   ]
  },
  {
   "cell_type": "code",
   "execution_count": 46,
   "id": "53c0fe6b-d374-49d3-aaa4-9fd72cf0981c",
   "metadata": {},
   "outputs": [
    {
     "data": {
      "text/plain": [
       "'el'"
      ]
     },
     "execution_count": 46,
     "metadata": {},
     "output_type": "execute_result"
    }
   ],
   "source": [
    "kripal[1:5:2]"
   ]
  },
  {
   "cell_type": "markdown",
   "id": "6a3d945e-8c4f-49b4-ae7c-ee07bc5d38b3",
   "metadata": {},
   "source": [
    "#   python list"
   ]
  },
  {
   "cell_type": "code",
   "execution_count": 58,
   "id": "f442b51a-e597-46dd-b3a6-cd1c48b5d6d7",
   "metadata": {},
   "outputs": [],
   "source": [
    "kl = [25]"
   ]
  },
  {
   "cell_type": "code",
   "execution_count": 60,
   "id": "c4842a4c-82b4-4172-8d60-d87639b92a55",
   "metadata": {},
   "outputs": [
    {
     "data": {
      "text/plain": [
       "[25]"
      ]
     },
     "execution_count": 60,
     "metadata": {},
     "output_type": "execute_result"
    }
   ],
   "source": [
    "kl"
   ]
  },
  {
   "cell_type": "code",
   "execution_count": 62,
   "id": "cc0ddf32-ab33-4787-b5c3-b917b593f973",
   "metadata": {},
   "outputs": [],
   "source": [
    "kl.append(2500)"
   ]
  },
  {
   "cell_type": "code",
   "execution_count": 64,
   "id": "0f2ef7c7-25ed-44d9-9f3b-96f61a6e1b0a",
   "metadata": {},
   "outputs": [],
   "source": [
    "kl.append(34)\n",
    "kl.append(45)\n",
    "kl.append(67)"
   ]
  },
  {
   "cell_type": "code",
   "execution_count": 66,
   "id": "3ff21cf6-74fc-44f8-9d36-c8b6c411592c",
   "metadata": {},
   "outputs": [
    {
     "data": {
      "text/plain": [
       "[25, 2500, 34, 45, 67]"
      ]
     },
     "execution_count": 66,
     "metadata": {},
     "output_type": "execute_result"
    }
   ],
   "source": [
    "kl"
   ]
  },
  {
   "cell_type": "code",
   "execution_count": 73,
   "id": "55ed6148-81ac-4ab4-aa59-a7407138578f",
   "metadata": {},
   "outputs": [
    {
     "data": {
      "text/plain": [
       "<function list.reverse()>"
      ]
     },
     "execution_count": 73,
     "metadata": {},
     "output_type": "execute_result"
    }
   ],
   "source": [
    "kl.reverse\n"
   ]
  },
  {
   "cell_type": "code",
   "execution_count": 75,
   "id": "1eba6b13-1173-45aa-b6fe-d0249122fc65",
   "metadata": {},
   "outputs": [
    {
     "data": {
      "text/plain": [
       "[67, 45, 34, 2500, 25]"
      ]
     },
     "execution_count": 75,
     "metadata": {},
     "output_type": "execute_result"
    }
   ],
   "source": [
    "kl"
   ]
  },
  {
   "cell_type": "code",
   "execution_count": 84,
   "id": "4c04f840-8058-439c-b53d-a4d5d53f417d",
   "metadata": {},
   "outputs": [
    {
     "ename": "ValueError",
     "evalue": "list.remove(x): x not in list",
     "output_type": "error",
     "traceback": [
      "\u001b[1;31m---------------------------------------------------------------------------\u001b[0m",
      "\u001b[1;31mValueError\u001b[0m                                Traceback (most recent call last)",
      "Cell \u001b[1;32mIn[84], line 1\u001b[0m\n\u001b[1;32m----> 1\u001b[0m kl\u001b[38;5;241m.\u001b[39mremove(\u001b[38;5;241m45\u001b[39m)\n",
      "\u001b[1;31mValueError\u001b[0m: list.remove(x): x not in list"
     ]
    }
   ],
   "source": [
    "kl.remove(45)"
   ]
  },
  {
   "cell_type": "code",
   "execution_count": 86,
   "id": "13828503-f900-4d27-9762-abf28c09bc11",
   "metadata": {},
   "outputs": [
    {
     "data": {
      "text/plain": [
       "[67, 34, 2500, 25]"
      ]
     },
     "execution_count": 86,
     "metadata": {},
     "output_type": "execute_result"
    }
   ],
   "source": [
    "kl"
   ]
  },
  {
   "cell_type": "code",
   "execution_count": 90,
   "id": "85c25790-6110-46d3-a2a5-d3de6ead518f",
   "metadata": {},
   "outputs": [],
   "source": [
    "k2 = kl.copy()"
   ]
  },
  {
   "cell_type": "code",
   "execution_count": 92,
   "id": "60782b49-cf63-4bfe-865a-a42b46279e75",
   "metadata": {},
   "outputs": [
    {
     "data": {
      "text/plain": [
       "[67, 34, 2500, 25]"
      ]
     },
     "execution_count": 92,
     "metadata": {},
     "output_type": "execute_result"
    }
   ],
   "source": [
    "k2"
   ]
  },
  {
   "cell_type": "code",
   "execution_count": 94,
   "id": "4a6029d9-a0e2-4e35-a85a-caa5f8283210",
   "metadata": {},
   "outputs": [
    {
     "data": {
      "text/plain": [
       "1"
      ]
     },
     "execution_count": 94,
     "metadata": {},
     "output_type": "execute_result"
    }
   ],
   "source": [
    "k2.count(2500)"
   ]
  },
  {
   "cell_type": "code",
   "execution_count": 106,
   "id": "d2cc252e-aa21-453f-9c46-2d6a3b2d8b6b",
   "metadata": {},
   "outputs": [],
   "source": [
    "k2.append(25)\n"
   ]
  },
  {
   "cell_type": "code",
   "execution_count": 108,
   "id": "8caca9c5-390f-45ae-ab58-80adfe9ae1dd",
   "metadata": {},
   "outputs": [
    {
     "data": {
      "text/plain": [
       "[67, 34, 2500, 25, 25, 25, 25, 25, 25]"
      ]
     },
     "execution_count": 108,
     "metadata": {},
     "output_type": "execute_result"
    }
   ],
   "source": [
    "k2"
   ]
  },
  {
   "cell_type": "code",
   "execution_count": 124,
   "id": "2453c1b4-02c7-4075-b29c-a313ff50b9a1",
   "metadata": {},
   "outputs": [],
   "source": [
    "k2.remove(25)"
   ]
  },
  {
   "cell_type": "code",
   "execution_count": 126,
   "id": "2e0c1829-80be-460f-bc0b-63502fa4366f",
   "metadata": {},
   "outputs": [
    {
     "data": {
      "text/plain": [
       "[67, 34, 2500, 25, 25]"
      ]
     },
     "execution_count": 126,
     "metadata": {},
     "output_type": "execute_result"
    }
   ],
   "source": [
    "k2"
   ]
  },
  {
   "cell_type": "code",
   "execution_count": 128,
   "id": "eee26937-f3fc-45b1-a6f6-26758c918a90",
   "metadata": {},
   "outputs": [],
   "source": [
    "k2.clear()"
   ]
  },
  {
   "cell_type": "code",
   "execution_count": 130,
   "id": "6129b0c5-4148-48bf-a3a0-fa03e418c750",
   "metadata": {},
   "outputs": [
    {
     "data": {
      "text/plain": [
       "[]"
      ]
     },
     "execution_count": 130,
     "metadata": {},
     "output_type": "execute_result"
    }
   ],
   "source": [
    "k2"
   ]
  },
  {
   "cell_type": "code",
   "execution_count": 134,
   "id": "18c13834-f133-4246-8ce0-32e6abae1d74",
   "metadata": {},
   "outputs": [
    {
     "ename": "NameError",
     "evalue": "name 'k1' is not defined",
     "output_type": "error",
     "traceback": [
      "\u001b[1;31m---------------------------------------------------------------------------\u001b[0m",
      "\u001b[1;31mNameError\u001b[0m                                 Traceback (most recent call last)",
      "Cell \u001b[1;32mIn[134], line 1\u001b[0m\n\u001b[1;32m----> 1\u001b[0m k1\n",
      "\u001b[1;31mNameError\u001b[0m: name 'k1' is not defined"
     ]
    }
   ],
   "source": [
    "k1"
   ]
  },
  {
   "cell_type": "code",
   "execution_count": 136,
   "id": "0cc7f48d-7dc7-430d-9308-e50427aa203e",
   "metadata": {},
   "outputs": [
    {
     "data": {
      "text/plain": [
       "[]"
      ]
     },
     "execution_count": 136,
     "metadata": {},
     "output_type": "execute_result"
    }
   ],
   "source": [
    "k2"
   ]
  },
  {
   "cell_type": "code",
   "execution_count": 138,
   "id": "4366e0ad-841b-4e55-bff8-1e1399cf36da",
   "metadata": {},
   "outputs": [],
   "source": [
    "k1 = k2.copy()"
   ]
  },
  {
   "cell_type": "code",
   "execution_count": 140,
   "id": "2e306ed4-3bf4-446d-b577-f265951a93d4",
   "metadata": {},
   "outputs": [
    {
     "data": {
      "text/plain": [
       "[]"
      ]
     },
     "execution_count": 140,
     "metadata": {},
     "output_type": "execute_result"
    }
   ],
   "source": [
    "k1"
   ]
  },
  {
   "cell_type": "code",
   "execution_count": 156,
   "id": "f856e95d-cd12-4027-9b7e-9ba251659c1a",
   "metadata": {},
   "outputs": [],
   "source": [
    "k2 = [2,3,4,5,6]"
   ]
  },
  {
   "cell_type": "code",
   "execution_count": 158,
   "id": "d1fe91c4-587b-407a-b6dd-8b333cb6f7ed",
   "metadata": {},
   "outputs": [
    {
     "data": {
      "text/plain": [
       "[2, 3, 4, 5, 6]"
      ]
     },
     "execution_count": 158,
     "metadata": {},
     "output_type": "execute_result"
    }
   ],
   "source": [
    "k2"
   ]
  },
  {
   "cell_type": "code",
   "execution_count": 164,
   "id": "6a9eebd5-26dd-4e6e-b87c-c8a3b6c82f2c",
   "metadata": {},
   "outputs": [
    {
     "ename": "SyntaxError",
     "evalue": "invalid syntax (4287655677.py, line 1)",
     "output_type": "error",
     "traceback": [
      "\u001b[1;36m  Cell \u001b[1;32mIn[164], line 1\u001b[1;36m\u001b[0m\n\u001b[1;33m    len.(k2)\u001b[0m\n\u001b[1;37m        ^\u001b[0m\n\u001b[1;31mSyntaxError\u001b[0m\u001b[1;31m:\u001b[0m invalid syntax\n"
     ]
    }
   ],
   "source": [
    "len.(k2)"
   ]
  },
  {
   "cell_type": "code",
   "execution_count": 166,
   "id": "86ae0a69-c9fa-406f-bf96-986bb46b8d2e",
   "metadata": {},
   "outputs": [
    {
     "data": {
      "text/plain": [
       "[2, 3, 4, 5, 6]"
      ]
     },
     "execution_count": 166,
     "metadata": {},
     "output_type": "execute_result"
    }
   ],
   "source": [
    "k2[:]"
   ]
  },
  {
   "cell_type": "code",
   "execution_count": 168,
   "id": "65aa0b84-555f-4999-af66-1c200206bb0c",
   "metadata": {},
   "outputs": [
    {
     "data": {
      "text/plain": [
       "5"
      ]
     },
     "execution_count": 168,
     "metadata": {},
     "output_type": "execute_result"
    }
   ],
   "source": [
    "len(k2)"
   ]
  },
  {
   "cell_type": "code",
   "execution_count": null,
   "id": "54de66cf-8dfe-4bfe-9a3f-7d1331a6263c",
   "metadata": {},
   "outputs": [],
   "source": []
  },
  {
   "cell_type": "code",
   "execution_count": 150,
   "id": "1f8b6e84-529e-498a-85f5-aa778934289f",
   "metadata": {},
   "outputs": [
    {
     "data": {
      "image/png": "[encoded data removed]",
      "text/plain": [
       "<Figure size 640x480 with 1 Axes>"
      ]
     },
     "metadata": {},
     "output_type": "display_data"
    }
   ],
   "source": [
    "import matplotlib.pyplot as plt\n",
    "plt.plot([2,3,4,5])\n",
    "plt.ylabel(\"numbers\")\n",
    "plt.xlabel(\"index\")\n",
    "plt.show()"
   ]
  },
  {
   "cell_type": "code",
   "execution_count": null,
   "id": "e58e3bbc-9075-4230-a757-e485b18a8f8e",
   "metadata": {},
   "outputs": [],
   "source": []
  },
  {
   "cell_type": "code",
   "execution_count": 152,
   "id": "2193c75a-2a42-46e9-a7b3-223196fec47c",
   "metadata": {},
   "outputs": [
    {
     "data": {
      "text/plain": [
       "['False',\n",
       " 'None',\n",
       " 'True',\n",
       " 'and',\n",
       " 'as',\n",
       " 'assert',\n",
       " 'async',\n",
       " 'await',\n",
       " 'break',\n",
       " 'class',\n",
       " 'continue',\n",
       " 'def',\n",
       " 'del',\n",
       " 'elif',\n",
       " 'else',\n",
       " 'except',\n",
       " 'finally',\n",
       " 'for',\n",
       " 'from',\n",
       " 'global',\n",
       " 'if',\n",
       " 'import',\n",
       " 'in',\n",
       " 'is',\n",
       " 'lambda',\n",
       " 'nonlocal',\n",
       " 'not',\n",
       " 'or',\n",
       " 'pass',\n",
       " 'raise',\n",
       " 'return',\n",
       " 'try',\n",
       " 'while',\n",
       " 'with',\n",
       " 'yield']"
      ]
     },
     "execution_count": 152,
     "metadata": {},
     "output_type": "execute_result"
    }
   ],
   "source": [
    "import keyword\n",
    "keyword.kwlist"
   ]
  },
  {
   "cell_type": "code",
   "execution_count": 154,
   "id": "10301f68-6af6-417b-886a-5922dc199b29",
   "metadata": {},
   "outputs": [
    {
     "data": {
      "text/plain": [
       "35"
      ]
     },
     "execution_count": 154,
     "metadata": {},
     "output_type": "execute_result"
    }
   ],
   "source": [
    "len(keyword.kwlist)"
   ]
  },
  {
   "cell_type": "code",
   "execution_count": 162,
   "id": "39d4ece6-d0a8-42f8-b654-ee9421d422d9",
   "metadata": {},
   "outputs": [
    {
     "ename": "SyntaxError",
     "evalue": "invalid syntax (4287655677.py, line 1)",
     "output_type": "error",
     "traceback": [
      "\u001b[1;36m  Cell \u001b[1;32mIn[162], line 1\u001b[1;36m\u001b[0m\n\u001b[1;33m    len.(k2)\u001b[0m\n\u001b[1;37m        ^\u001b[0m\n\u001b[1;31mSyntaxError\u001b[0m\u001b[1;31m:\u001b[0m invalid syntax\n"
     ]
    }
   ],
   "source": [
    "len.(k2)"
   ]
  },
  {
   "cell_type": "markdown",
   "id": "3cb83324-9004-4534-b5b9-de45a2a1baa4",
   "metadata": {},
   "source": [
    "# list data structure "
   ]
  },
  {
   "cell_type": "code",
   "execution_count": 41,
   "id": "b750c959-c111-4a4d-8d87-57d54546d013",
   "metadata": {},
   "outputs": [
    {
     "data": {
      "text/plain": [
       "[]"
      ]
     },
     "execution_count": 41,
     "metadata": {},
     "output_type": "execute_result"
    }
   ],
   "source": [
    "list1 = []\n",
    "list1"
   ]
  },
  {
   "cell_type": "code",
   "execution_count": 43,
   "id": "a0b34736-7333-46e5-9c62-d5a35c92b639",
   "metadata": {},
   "outputs": [
    {
     "data": {
      "text/plain": [
       "list"
      ]
     },
     "execution_count": 43,
     "metadata": {},
     "output_type": "execute_result"
    }
   ],
   "source": [
    "type(list1)"
   ]
  },
  {
   "cell_type": "code",
   "execution_count": 45,
   "id": "e930b1e5-b320-4e09-b9dd-12b19a37c963",
   "metadata": {},
   "outputs": [
    {
     "name": "stdout",
     "output_type": "stream",
     "text": [
      "<class 'list'>\n"
     ]
    }
   ],
   "source": [
    "print(type(list1))"
   ]
  },
  {
   "cell_type": "code",
   "execution_count": 47,
   "id": "4a72146d-6cc7-429e-9535-688a45cbf9c2",
   "metadata": {},
   "outputs": [
    {
     "data": {
      "text/plain": [
       "[12, 20, 30]"
      ]
     },
     "execution_count": 47,
     "metadata": {},
     "output_type": "execute_result"
    }
   ],
   "source": [
    "list2 = [12,20,30]\n",
    "list2"
   ]
  },
  {
   "cell_type": "code",
   "execution_count": 49,
   "id": "4cf96fa3-25d2-4ec3-af8b-220e574e1828",
   "metadata": {},
   "outputs": [
    {
     "data": {
      "text/plain": [
       "[10.77, 34.66, 60.87]"
      ]
     },
     "execution_count": 49,
     "metadata": {},
     "output_type": "execute_result"
    }
   ],
   "source": [
    "list3 = [10.77, 34.66, 60.87]\n",
    "list3"
   ]
  },
  {
   "cell_type": "code",
   "execution_count": 50,
   "id": "c99fb4bd-ecbf-408f-b095-58b97b9c9e9f",
   "metadata": {},
   "outputs": [
    {
     "data": {
      "text/plain": [
       "('one', 'two', 'three')"
      ]
     },
     "execution_count": 50,
     "metadata": {},
     "output_type": "execute_result"
    }
   ],
   "source": [
    "list4 = ('one', 'two', 'three')\n",
    "list4\n"
   ]
  },
  {
   "cell_type": "code",
   "execution_count": 51,
   "id": "3424d6e6-960e-4de0-a20d-2a875556ba73",
   "metadata": {},
   "outputs": [
    {
     "data": {
      "text/plain": [
       "['asif', 25, [50, 100], [150, 160]]"
      ]
     },
     "execution_count": 51,
     "metadata": {},
     "output_type": "execute_result"
    }
   ],
   "source": [
    "list5 = ['asif', 25,[50,100],[150,160]]\n",
    "list5"
   ]
  },
  {
   "cell_type": "code",
   "execution_count": 55,
   "id": "854517b0-b3c5-4271-bfb6-ac3539e82b8b",
   "metadata": {},
   "outputs": [
    {
     "data": {
      "text/plain": [
       "[100, 'asif', 17.677]"
      ]
     },
     "execution_count": 55,
     "metadata": {},
     "output_type": "execute_result"
    }
   ],
   "source": [
    "list6 =[ 100, 'asif', 17.677]\n",
    "list6\n"
   ]
  },
  {
   "cell_type": "code",
   "execution_count": 57,
   "id": "ac5a9b28-0fde-4b44-b055-01dea66b2c34",
   "metadata": {},
   "outputs": [],
   "source": [
    "list7 = ['asif', 25,[50,100], [300, 400], {'john','michel'}]"
   ]
  },
  {
   "cell_type": "code",
   "execution_count": 59,
   "id": "be99f7cd-0d52-440d-9caa-67e7d70e652e",
   "metadata": {},
   "outputs": [
    {
     "data": {
      "text/plain": [
       "['asif', 25, [50, 100], [300, 400], {'john', 'michel'}]"
      ]
     },
     "execution_count": 59,
     "metadata": {},
     "output_type": "execute_result"
    }
   ],
   "source": [
    "list7"
   ]
  },
  {
   "cell_type": "code",
   "execution_count": 61,
   "id": "9ac6a3ed-e2c7-4e89-b58a-aded1e4c7a15",
   "metadata": {},
   "outputs": [
    {
     "data": {
      "text/plain": [
       "5"
      ]
     },
     "execution_count": 61,
     "metadata": {},
     "output_type": "execute_result"
    }
   ],
   "source": [
    "len(list7)"
   ]
  },
  {
   "cell_type": "code",
   "execution_count": 63,
   "id": "e319b6ea-e20d-41ee-8f2a-7c3fb2a313d0",
   "metadata": {},
   "outputs": [
    {
     "data": {
      "text/plain": [
       "3"
      ]
     },
     "execution_count": 63,
     "metadata": {},
     "output_type": "execute_result"
    }
   ],
   "source": [
    "len(list6)\n"
   ]
  },
  {
   "cell_type": "code",
   "execution_count": 65,
   "id": "07122fa5-c900-4167-88c3-ccba346300df",
   "metadata": {},
   "outputs": [
    {
     "data": {
      "text/plain": [
       "4"
      ]
     },
     "execution_count": 65,
     "metadata": {},
     "output_type": "execute_result"
    }
   ],
   "source": [
    "len(list5)"
   ]
  },
  {
   "cell_type": "code",
   "execution_count": 67,
   "id": "5924a045-a4a1-49b1-b9d3-ac69097d551f",
   "metadata": {},
   "outputs": [
    {
     "data": {
      "text/plain": [
       "30"
      ]
     },
     "execution_count": 67,
     "metadata": {},
     "output_type": "execute_result"
    }
   ],
   "source": [
    "list2[2]"
   ]
  },
  {
   "cell_type": "code",
   "execution_count": 69,
   "id": "525862fe-f06b-4625-9511-800ff4e71261",
   "metadata": {},
   "outputs": [
    {
     "data": {
      "text/plain": [
       "60.87"
      ]
     },
     "execution_count": 69,
     "metadata": {},
     "output_type": "execute_result"
    }
   ],
   "source": [
    "list3[2]\n"
   ]
  },
  {
   "cell_type": "code",
   "execution_count": 71,
   "id": "e850d35d-b420-4e12-ad77-0f0ce71e96fd",
   "metadata": {},
   "outputs": [
    {
     "data": {
      "text/plain": [
       "'a'"
      ]
     },
     "execution_count": 71,
     "metadata": {},
     "output_type": "execute_result"
    }
   ],
   "source": [
    "list5[0][0] \n"
   ]
  },
  {
   "cell_type": "code",
   "execution_count": 107,
   "id": "271afd38-f9b8-4dae-b7a8-6e087388b829",
   "metadata": {},
   "outputs": [],
   "source": [
    "list5[0] = 'nit'"
   ]
  },
  {
   "cell_type": "code",
   "execution_count": 93,
   "id": "08becf8d-7d00-4c92-a865-88e66813a413",
   "metadata": {},
   "outputs": [
    {
     "data": {
      "text/plain": [
       "'i'"
      ]
     },
     "execution_count": 93,
     "metadata": {},
     "output_type": "execute_result"
    }
   ],
   "source": [
    "list5[0][2]"
   ]
  },
  {
   "cell_type": "code",
   "execution_count": 109,
   "id": "8282f270-5f4f-49fa-807b-f9124d812aed",
   "metadata": {},
   "outputs": [
    {
     "data": {
      "text/plain": [
       "['nit', 25, [50, 100], [150, 160]]"
      ]
     },
     "execution_count": 109,
     "metadata": {},
     "output_type": "execute_result"
    }
   ],
   "source": [
    "list5"
   ]
  },
  {
   "cell_type": "code",
   "execution_count": 101,
   "id": "84cb5671-67e1-4a36-8271-643f824def48",
   "metadata": {},
   "outputs": [
    {
     "data": {
      "text/plain": [
       "100"
      ]
     },
     "execution_count": 101,
     "metadata": {},
     "output_type": "execute_result"
    }
   ],
   "source": [
    "list5[2][1]"
   ]
  },
  {
   "cell_type": "code",
   "execution_count": 105,
   "id": "6a15fcc5-aa2a-4fa2-8d77-7790a9cd78c8",
   "metadata": {},
   "outputs": [
    {
     "ename": "TypeError",
     "evalue": "'int' object is not subscriptable",
     "output_type": "error",
     "traceback": [
      "\u001b[1;31m---------------------------------------------------------------------------\u001b[0m",
      "\u001b[1;31mTypeError\u001b[0m                                 Traceback (most recent call last)",
      "Cell \u001b[1;32mIn[105], line 1\u001b[0m\n\u001b[1;32m----> 1\u001b[0m list7[\u001b[38;5;241m1\u001b[39m][\u001b[38;5;241m2\u001b[39m]\n",
      "\u001b[1;31mTypeError\u001b[0m: 'int' object is not subscriptable"
     ]
    }
   ],
   "source": [
    "list7[1][2]"
   ]
  },
  {
   "cell_type": "code",
   "execution_count": 103,
   "id": "58aa46a5-d603-4f34-963b-4176e0c849c7",
   "metadata": {},
   "outputs": [
    {
     "ename": "TypeError",
     "evalue": "'int' object is not subscriptable",
     "output_type": "error",
     "traceback": [
      "\u001b[1;31m---------------------------------------------------------------------------\u001b[0m",
      "\u001b[1;31mTypeError\u001b[0m                                 Traceback (most recent call last)",
      "Cell \u001b[1;32mIn[103], line 1\u001b[0m\n\u001b[1;32m----> 1\u001b[0m list7[\u001b[38;5;241m1\u001b[39m][\u001b[38;5;241m2\u001b[39m]\n",
      "\u001b[1;31mTypeError\u001b[0m: 'int' object is not subscriptable"
     ]
    }
   ],
   "source": [
    "list7[1][2]"
   ]
  },
  {
   "cell_type": "code",
   "execution_count": 75,
   "id": "efc40fa5-57ff-45a7-a814-82cb3548d240",
   "metadata": {},
   "outputs": [
    {
     "data": {
      "text/plain": [
       "{'john', 'michel'}"
      ]
     },
     "execution_count": 75,
     "metadata": {},
     "output_type": "execute_result"
    }
   ],
   "source": [
    "list7[-1]"
   ]
  },
  {
   "cell_type": "code",
   "execution_count": 77,
   "id": "9d38caab-e8a4-4b83-9a9b-65cd74817f3f",
   "metadata": {},
   "outputs": [
    {
     "data": {
      "text/plain": [
       "['one', 'two', 'three', 'four', 'five', 'six', 'seven', 'eight']"
      ]
     },
     "execution_count": 77,
     "metadata": {},
     "output_type": "execute_result"
    }
   ],
   "source": [
    "ml = ['one', 'two', 'three', 'four', 'five', 'six', 'seven', 'eight']\n",
    "ml"
   ]
  },
  {
   "cell_type": "code",
   "execution_count": 79,
   "id": "5afd4aa9-9b5a-4a59-8e1b-c13913b19b29",
   "metadata": {},
   "outputs": [
    {
     "data": {
      "text/plain": [
       "['four', 'five', 'six', 'seven']"
      ]
     },
     "execution_count": 79,
     "metadata": {},
     "output_type": "execute_result"
    }
   ],
   "source": [
    "ml[3:7]"
   ]
  },
  {
   "cell_type": "code",
   "execution_count": 81,
   "id": "82a5b80e-8170-48e6-9b22-88eb960990e7",
   "metadata": {},
   "outputs": [
    {
     "data": {
      "text/plain": [
       "'seven'"
      ]
     },
     "execution_count": 81,
     "metadata": {},
     "output_type": "execute_result"
    }
   ],
   "source": [
    "ml[6]"
   ]
  },
  {
   "cell_type": "code",
   "execution_count": 83,
   "id": "52b10eb2-f76e-4931-8278-5aaa40726335",
   "metadata": {},
   "outputs": [
    {
     "data": {
      "text/plain": [
       "['one', 'two', 'three', 'four', 'five', 'six']"
      ]
     },
     "execution_count": 83,
     "metadata": {},
     "output_type": "execute_result"
    }
   ],
   "source": [
    "ml[:6]"
   ]
  },
  {
   "cell_type": "code",
   "execution_count": 113,
   "id": "41ec4c3a-066d-4fc0-8a03-e1152ddb4dd1",
   "metadata": {},
   "outputs": [
    {
     "data": {
      "text/plain": [
       "['one', 'two', 'three', 'four']"
      ]
     },
     "execution_count": 113,
     "metadata": {},
     "output_type": "execute_result"
    }
   ],
   "source": [
    "ml[:-5]"
   ]
  },
  {
   "cell_type": "code",
   "execution_count": 115,
   "id": "1b62235f-e360-4133-aa94-2cd628497ae3",
   "metadata": {},
   "outputs": [
    {
     "data": {
      "text/plain": [
       "['seven', 'eight', 10000]"
      ]
     },
     "execution_count": 115,
     "metadata": {},
     "output_type": "execute_result"
    }
   ],
   "source": [
    "ml[-3:]"
   ]
  },
  {
   "cell_type": "code",
   "execution_count": 117,
   "id": "e1126bb9-1564-484f-a4be-b70b7c0bc314",
   "metadata": {},
   "outputs": [
    {
     "data": {
      "text/plain": [
       "['one', 'two', 'three', 'four', 'five', 'six', 'seven', 'eight', 10000]"
      ]
     },
     "execution_count": 117,
     "metadata": {},
     "output_type": "execute_result"
    }
   ],
   "source": [
    "ml[:]"
   ]
  },
  {
   "cell_type": "code",
   "execution_count": 119,
   "id": "be374a6d-8eb6-41b3-972e-25acdb87f565",
   "metadata": {},
   "outputs": [],
   "source": [
    "ml.append(10000)"
   ]
  },
  {
   "cell_type": "code",
   "execution_count": 121,
   "id": "9559d6d6-9e30-43f2-b358-c1a2a268cef5",
   "metadata": {},
   "outputs": [],
   "source": [
    "m2= []"
   ]
  },
  {
   "cell_type": "code",
   "execution_count": 123,
   "id": "28b74f10-73d1-489f-b29b-cb106e03acf5",
   "metadata": {},
   "outputs": [],
   "source": [
    "m1 = m2.copy()"
   ]
  },
  {
   "cell_type": "code",
   "execution_count": 125,
   "id": "bc6a19bf-09d2-4df9-b187-a93e37b3d039",
   "metadata": {},
   "outputs": [
    {
     "data": {
      "text/plain": [
       "[]"
      ]
     },
     "execution_count": 125,
     "metadata": {},
     "output_type": "execute_result"
    }
   ],
   "source": [
    "m2"
   ]
  },
  {
   "cell_type": "code",
   "execution_count": 127,
   "id": "5e9684ac-3dfe-43e6-8cf1-4251c9ccf69e",
   "metadata": {},
   "outputs": [
    {
     "data": {
      "text/plain": [
       "[]"
      ]
     },
     "execution_count": 127,
     "metadata": {},
     "output_type": "execute_result"
    }
   ],
   "source": [
    "m1"
   ]
  },
  {
   "cell_type": "code",
   "execution_count": 223,
   "id": "fdf2f257-e883-4268-96f8-a5f86fd08f43",
   "metadata": {},
   "outputs": [
    {
     "data": {
      "text/plain": [
       "['one', 'two', 'three', 'four', 'five', 'six', 'seven', 'eight']"
      ]
     },
     "execution_count": 223,
     "metadata": {},
     "output_type": "execute_result"
    }
   ],
   "source": [
    "m1 = ['one', 'two', 'three', 'four', 'five', 'six', 'seven', 'eight']\n",
    "m1"
   ]
  },
  {
   "cell_type": "code",
   "execution_count": 225,
   "id": "15d40af9-f984-4fd3-98d2-25da610ca650",
   "metadata": {},
   "outputs": [],
   "source": [
    "m2 = m1.copy()"
   ]
  },
  {
   "cell_type": "code",
   "execution_count": 227,
   "id": "ebb510e4-bf9b-4adf-903e-3bb47ab4c475",
   "metadata": {},
   "outputs": [],
   "source": [
    "m1.append('one')"
   ]
  },
  {
   "cell_type": "code",
   "execution_count": 229,
   "id": "7868e7ea-fcea-4c9f-b99b-64b6d51907c8",
   "metadata": {},
   "outputs": [
    {
     "data": {
      "text/plain": [
       "['one', 'two', 'three', 'four', 'five', 'six', 'seven', 'eight', 'one']"
      ]
     },
     "execution_count": 229,
     "metadata": {},
     "output_type": "execute_result"
    }
   ],
   "source": [
    "m1"
   ]
  },
  {
   "cell_type": "code",
   "execution_count": 233,
   "id": "a124eeec-9e83-443a-83e3-cd4b02a2e0cf",
   "metadata": {},
   "outputs": [],
   "source": [
    "m1.remove('one')"
   ]
  },
  {
   "cell_type": "code",
   "execution_count": 235,
   "id": "f68af046-a1c8-4ca8-a5ec-4d5ced69a150",
   "metadata": {},
   "outputs": [
    {
     "data": {
      "text/plain": [
       "['two', 'three', 'four', 'five', 'six', 'seven', 'eight', 'one']"
      ]
     },
     "execution_count": 235,
     "metadata": {},
     "output_type": "execute_result"
    }
   ],
   "source": [
    "m1"
   ]
  },
  {
   "cell_type": "code",
   "execution_count": 135,
   "id": "d8a92bd6-32b1-4303-b3a0-231eb8defe38",
   "metadata": {},
   "outputs": [
    {
     "data": {
      "text/plain": [
       "True"
      ]
     },
     "execution_count": 135,
     "metadata": {},
     "output_type": "execute_result"
    }
   ],
   "source": [
    "m1 == m2"
   ]
  },
  {
   "cell_type": "code",
   "execution_count": 137,
   "id": "7e5bf1ea-4552-4ce2-8c18-ea28bf8d040f",
   "metadata": {},
   "outputs": [],
   "source": [
    "m1.append(100000)\n",
    "\n"
   ]
  },
  {
   "cell_type": "code",
   "execution_count": 139,
   "id": "6d9a0b6c-f9d8-42c2-b209-5fc744a0ce97",
   "metadata": {},
   "outputs": [
    {
     "data": {
      "text/plain": [
       "False"
      ]
     },
     "execution_count": 139,
     "metadata": {},
     "output_type": "execute_result"
    }
   ],
   "source": [
    "m1 == m2"
   ]
  },
  {
   "cell_type": "code",
   "execution_count": 141,
   "id": "e098dfd9-0f61-4b63-aadb-907afb5b3f69",
   "metadata": {},
   "outputs": [],
   "source": [
    "m2.clear()"
   ]
  },
  {
   "cell_type": "code",
   "execution_count": 143,
   "id": "38a9808e-b610-44e3-8c92-9424fdfa5bd2",
   "metadata": {},
   "outputs": [
    {
     "data": {
      "text/plain": [
       "[]"
      ]
     },
     "execution_count": 143,
     "metadata": {},
     "output_type": "execute_result"
    }
   ],
   "source": [
    "m2"
   ]
  },
  {
   "cell_type": "code",
   "execution_count": 145,
   "id": "8fe9480c-83f2-4aef-b433-e9138451f80e",
   "metadata": {},
   "outputs": [
    {
     "data": {
      "text/plain": [
       "['one', 'two', 'three', 'four', 'five', 'six', 'seven', 'eight', 100000]"
      ]
     },
     "execution_count": 145,
     "metadata": {},
     "output_type": "execute_result"
    }
   ],
   "source": [
    "m1\n",
    "\n"
   ]
  },
  {
   "cell_type": "code",
   "execution_count": 147,
   "id": "047d770e-2bf7-4964-b0a6-3daeabf6b30c",
   "metadata": {},
   "outputs": [
    {
     "data": {
      "text/plain": [
       "1"
      ]
     },
     "execution_count": 147,
     "metadata": {},
     "output_type": "execute_result"
    }
   ],
   "source": [
    "m1.count('eight')"
   ]
  },
  {
   "cell_type": "code",
   "execution_count": 149,
   "id": "86853fff-d8a1-470f-9b4c-a9473b802d46",
   "metadata": {},
   "outputs": [],
   "source": [
    "m1.append('one')\n",
    "m1.append('three')\n",
    "          "
   ]
  },
  {
   "cell_type": "code",
   "execution_count": 151,
   "id": "e2e2f3d6-b986-4052-84ba-c0c873e7c29a",
   "metadata": {},
   "outputs": [
    {
     "data": {
      "text/plain": [
       "['one',\n",
       " 'two',\n",
       " 'three',\n",
       " 'four',\n",
       " 'five',\n",
       " 'six',\n",
       " 'seven',\n",
       " 'eight',\n",
       " 100000,\n",
       " 'one',\n",
       " 'three']"
      ]
     },
     "execution_count": 151,
     "metadata": {},
     "output_type": "execute_result"
    }
   ],
   "source": [
    "m1"
   ]
  },
  {
   "cell_type": "code",
   "execution_count": 153,
   "id": "bca82a46-c8ab-436f-a94d-e7f1ac8fa089",
   "metadata": {},
   "outputs": [],
   "source": [
    "m1.insert(5,500000000) "
   ]
  },
  {
   "cell_type": "code",
   "execution_count": 155,
   "id": "7db360d0-fa0c-4b9a-931b-edf0b9780204",
   "metadata": {},
   "outputs": [
    {
     "data": {
      "text/plain": [
       "['one',\n",
       " 'two',\n",
       " 'three',\n",
       " 'four',\n",
       " 'five',\n",
       " 500000000,\n",
       " 'six',\n",
       " 'seven',\n",
       " 'eight',\n",
       " 100000,\n",
       " 'one',\n",
       " 'three']"
      ]
     },
     "execution_count": 155,
     "metadata": {},
     "output_type": "execute_result"
    }
   ],
   "source": [
    "m1\n"
   ]
  },
  {
   "cell_type": "code",
   "execution_count": 157,
   "id": "a428ce41-ac59-43cb-bd12-f305baf461e1",
   "metadata": {},
   "outputs": [
    {
     "data": {
      "text/plain": [
       "500000000"
      ]
     },
     "execution_count": 157,
     "metadata": {},
     "output_type": "execute_result"
    }
   ],
   "source": [
    "m1.pop(5)"
   ]
  },
  {
   "cell_type": "code",
   "execution_count": 159,
   "id": "555d39c8-d9c3-42a6-9f23-22abaf185c25",
   "metadata": {},
   "outputs": [],
   "source": [
    "m1.remove('three')\n",
    "m1.reverse()"
   ]
  },
  {
   "cell_type": "code",
   "execution_count": 161,
   "id": "3a292554-2a5b-4cf4-b058-67f5deed045a",
   "metadata": {},
   "outputs": [
    {
     "data": {
      "text/plain": [
       "['three', 'one', 100000, 'eight', 'seven', 'six', 'five', 'four', 'two', 'one']"
      ]
     },
     "execution_count": 161,
     "metadata": {},
     "output_type": "execute_result"
    }
   ],
   "source": [
    "m1"
   ]
  },
  {
   "cell_type": "code",
   "execution_count": 163,
   "id": "09e4e46e-279b-4f49-9f3f-e4e668cf5a17",
   "metadata": {},
   "outputs": [
    {
     "data": {
      "text/plain": [
       "6"
      ]
     },
     "execution_count": 163,
     "metadata": {},
     "output_type": "execute_result"
    }
   ],
   "source": [
    "m1.index('five')\n"
   ]
  },
  {
   "cell_type": "code",
   "execution_count": 165,
   "id": "edd774e4-8fd4-4b79-bb8e-071265b2945c",
   "metadata": {},
   "outputs": [
    {
     "ename": "TypeError",
     "evalue": "'<' not supported between instances of 'int' and 'str'",
     "output_type": "error",
     "traceback": [
      "\u001b[1;31m---------------------------------------------------------------------------\u001b[0m",
      "\u001b[1;31mTypeError\u001b[0m                                 Traceback (most recent call last)",
      "Cell \u001b[1;32mIn[165], line 1\u001b[0m\n\u001b[1;32m----> 1\u001b[0m ml\u001b[38;5;241m.\u001b[39msort()\n",
      "\u001b[1;31mTypeError\u001b[0m: '<' not supported between instances of 'int' and 'str'"
     ]
    }
   ],
   "source": [
    "ml.sort()"
   ]
  },
  {
   "cell_type": "code",
   "execution_count": 167,
   "id": "d37dd17c-efc2-4a0b-9e22-d3d3d0b7fd89",
   "metadata": {},
   "outputs": [],
   "source": [
    "del ml"
   ]
  },
  {
   "cell_type": "code",
   "execution_count": 169,
   "id": "cef96910-e884-4978-bc2c-a414925ae88d",
   "metadata": {},
   "outputs": [
    {
     "ename": "NameError",
     "evalue": "name 'ml' is not defined",
     "output_type": "error",
     "traceback": [
      "\u001b[1;31m---------------------------------------------------------------------------\u001b[0m",
      "\u001b[1;31mNameError\u001b[0m                                 Traceback (most recent call last)",
      "Cell \u001b[1;32mIn[169], line 1\u001b[0m\n\u001b[1;32m----> 1\u001b[0m ml\n",
      "\u001b[1;31mNameError\u001b[0m: name 'ml' is not defined"
     ]
    }
   ],
   "source": [
    "ml"
   ]
  },
  {
   "cell_type": "code",
   "execution_count": 171,
   "id": "44c7dd5e-7284-4ad8-b069-d50ce021569d",
   "metadata": {},
   "outputs": [],
   "source": [
    "ml = [23,54,76,32,14,24,65,89]"
   ]
  },
  {
   "cell_type": "code",
   "execution_count": 173,
   "id": "09d85842-2801-4045-a50d-7cae30aa39ab",
   "metadata": {},
   "outputs": [
    {
     "data": {
      "text/plain": [
       "[14, 23, 24, 32, 54, 65, 76, 89]"
      ]
     },
     "execution_count": 173,
     "metadata": {},
     "output_type": "execute_result"
    }
   ],
   "source": [
    "ml.sort()\n",
    "ml"
   ]
  },
  {
   "cell_type": "code",
   "execution_count": 175,
   "id": "9cdb7802-a6cb-40e7-ae05-f571cb1b9d09",
   "metadata": {},
   "outputs": [],
   "source": [
    "ml.reverse()"
   ]
  },
  {
   "cell_type": "code",
   "execution_count": 177,
   "id": "6be7731b-7f33-438c-9393-810fb5b5fe35",
   "metadata": {},
   "outputs": [
    {
     "data": {
      "text/plain": [
       "[89, 76, 65, 54, 32, 24, 23, 14]"
      ]
     },
     "execution_count": 177,
     "metadata": {},
     "output_type": "execute_result"
    }
   ],
   "source": [
    "ml"
   ]
  },
  {
   "cell_type": "code",
   "execution_count": 179,
   "id": "22dab996-5da6-47ee-9b34-25c3d3272486",
   "metadata": {},
   "outputs": [
    {
     "data": {
      "text/plain": [
       "[89, 76, 65, 54, 32, 24, 23]"
      ]
     },
     "execution_count": 179,
     "metadata": {},
     "output_type": "execute_result"
    }
   ],
   "source": [
    "ml.remove(14)\n",
    "ml"
   ]
  },
  {
   "cell_type": "code",
   "execution_count": 181,
   "id": "7a69324a-5cd4-4d1e-9e3e-f524b1929aca",
   "metadata": {},
   "outputs": [],
   "source": [
    "ml.pop(1)\n",
    "ml.reverse()"
   ]
  },
  {
   "cell_type": "code",
   "execution_count": 183,
   "id": "f03080d7-51ec-4380-9d8a-6721790ee494",
   "metadata": {},
   "outputs": [
    {
     "data": {
      "text/plain": [
       "[23, 24, 32, 54, 65, 89]"
      ]
     },
     "execution_count": 183,
     "metadata": {},
     "output_type": "execute_result"
    }
   ],
   "source": [
    "ml"
   ]
  },
  {
   "cell_type": "code",
   "execution_count": 185,
   "id": "5be81f2d-cfd9-4557-8f1d-760c6bebd09d",
   "metadata": {},
   "outputs": [
    {
     "data": {
      "text/plain": [
       "[23, 24, 32, 2, 3, 89]"
      ]
     },
     "execution_count": 185,
     "metadata": {},
     "output_type": "execute_result"
    }
   ],
   "source": [
    "ml[3]=1\n",
    "ml[3]=2\n",
    "ml[4]=3\n",
    "ml\n"
   ]
  },
  {
   "cell_type": "code",
   "execution_count": 187,
   "id": "81c5f572-7770-43c2-a629-bcbdc20b9428",
   "metadata": {},
   "outputs": [
    {
     "data": {
      "text/plain": [
       "[23, 24, 1, 2, 3, 89]"
      ]
     },
     "execution_count": 187,
     "metadata": {},
     "output_type": "execute_result"
    }
   ],
   "source": [
    "ml[2]=1\n",
    "ml[3]=2\n",
    "ml[4]=3\n",
    "ml\n"
   ]
  },
  {
   "cell_type": "code",
   "execution_count": 189,
   "id": "3d6b5368-10ab-4800-95f6-434ddbe698dc",
   "metadata": {},
   "outputs": [
    {
     "data": {
      "text/plain": [
       "[23, 24, 1, 'kl', 3, 'nit']"
      ]
     },
     "execution_count": 189,
     "metadata": {},
     "output_type": "execute_result"
    }
   ],
   "source": [
    "ml[5]='nit'\n",
    "ml[3]='krinma'\n",
    "ml[3]='kl'\n",
    "ml"
   ]
  },
  {
   "cell_type": "code",
   "execution_count": 191,
   "id": "66fed554-790a-4e01-8052-00779fe6e8d6",
   "metadata": {},
   "outputs": [
    {
     "data": {
      "text/plain": [
       "[23, 24, 1, 'kl', 'krinma', 'nit']"
      ]
     },
     "execution_count": 191,
     "metadata": {},
     "output_type": "execute_result"
    }
   ],
   "source": [
    "ml[5]='nit'\n",
    "ml[4]='krinma'\n",
    "ml[3]='kl'\n",
    "ml"
   ]
  },
  {
   "cell_type": "code",
   "execution_count": 193,
   "id": "1ee50c19-2284-4d2f-99ec-dfa0a8d9eed5",
   "metadata": {},
   "outputs": [],
   "source": [
    "del m1"
   ]
  },
  {
   "cell_type": "code",
   "execution_count": 195,
   "id": "b4fc439e-aca2-416d-978d-0dbfea03d310",
   "metadata": {},
   "outputs": [],
   "source": [
    "m1 = [45, 56, 57]\n",
    "\n"
   ]
  },
  {
   "cell_type": "code",
   "execution_count": 197,
   "id": "3332513f-9882-4c21-82a5-153a5a92eced",
   "metadata": {},
   "outputs": [],
   "source": [
    "m2 = [ 34, 45 , 56]"
   ]
  },
  {
   "cell_type": "code",
   "execution_count": 199,
   "id": "ea41de47-1c66-4104-9100-1ab3685fbfed",
   "metadata": {},
   "outputs": [
    {
     "data": {
      "text/plain": [
       "2390452262912"
      ]
     },
     "execution_count": 199,
     "metadata": {},
     "output_type": "execute_result"
    }
   ],
   "source": [
    "id(m1)\n"
   ]
  },
  {
   "cell_type": "code",
   "execution_count": 201,
   "id": "08901b17-07a4-4b2d-9ef7-cccbc6291601",
   "metadata": {},
   "outputs": [
    {
     "data": {
      "text/plain": [
       "2390469806336"
      ]
     },
     "execution_count": 201,
     "metadata": {},
     "output_type": "execute_result"
    }
   ],
   "source": [
    "id(m2)\n"
   ]
  },
  {
   "cell_type": "code",
   "execution_count": 203,
   "id": "d5dfb68e-58f2-43a1-86ec-d50821482abe",
   "metadata": {},
   "outputs": [],
   "source": [
    "m2 = m1"
   ]
  },
  {
   "cell_type": "code",
   "execution_count": 205,
   "id": "5c5c43dd-2b90-4d60-8988-49d76b9a73cc",
   "metadata": {},
   "outputs": [
    {
     "data": {
      "text/plain": [
       "2390452262912"
      ]
     },
     "execution_count": 205,
     "metadata": {},
     "output_type": "execute_result"
    }
   ],
   "source": [
    "id(m1)\n"
   ]
  },
  {
   "cell_type": "code",
   "execution_count": 207,
   "id": "ea18736f-5d6c-4314-9f03-660cd42cd833",
   "metadata": {},
   "outputs": [
    {
     "data": {
      "text/plain": [
       "2390452262912"
      ]
     },
     "execution_count": 207,
     "metadata": {},
     "output_type": "execute_result"
    }
   ],
   "source": [
    "id(m2)"
   ]
  },
  {
   "cell_type": "code",
   "execution_count": 209,
   "id": "e5613634-d45b-45b8-9c2a-7dba726d505f",
   "metadata": {},
   "outputs": [
    {
     "data": {
      "text/plain": [
       "[23, 24, 1, 'kl', 'krinma', 'nit']"
      ]
     },
     "execution_count": 209,
     "metadata": {},
     "output_type": "execute_result"
    }
   ],
   "source": [
    "ml"
   ]
  },
  {
   "cell_type": "code",
   "execution_count": 210,
   "id": "62faa11b-a2fc-47ca-882d-08d57c1607bb",
   "metadata": {},
   "outputs": [
    {
     "data": {
      "text/plain": [
       "[45, 56, 57]"
      ]
     },
     "execution_count": 210,
     "metadata": {},
     "output_type": "execute_result"
    }
   ],
   "source": [
    "m2"
   ]
  },
  {
   "cell_type": "code",
   "execution_count": 238,
   "id": "48653f77-9f24-4a22-8dce-b76dbb7797b6",
   "metadata": {},
   "outputs": [],
   "source": [
    "m2 = m1.copy()"
   ]
  },
  {
   "cell_type": "code",
   "execution_count": 240,
   "id": "2952a724-a2a4-438a-a046-14df3fdfa02c",
   "metadata": {},
   "outputs": [
    {
     "data": {
      "text/plain": [
       "[34, 45, 56]"
      ]
     },
     "execution_count": 240,
     "metadata": {},
     "output_type": "execute_result"
    }
   ],
   "source": [
    "m2"
   ]
  },
  {
   "cell_type": "code",
   "execution_count": 242,
   "id": "fecbd6d9-e8f7-4ded-ad0b-626e91120a93",
   "metadata": {},
   "outputs": [
    {
     "data": {
      "text/plain": [
       "[34, 45, 56]"
      ]
     },
     "execution_count": 242,
     "metadata": {},
     "output_type": "execute_result"
    }
   ],
   "source": [
    "m1"
   ]
  },
  {
   "cell_type": "code",
   "execution_count": 244,
   "id": "51fbbd9f-acd1-4e2f-ba4b-38d6bc574d2e",
   "metadata": {},
   "outputs": [
    {
     "data": {
      "text/plain": [
       "2058080298496"
      ]
     },
     "execution_count": 244,
     "metadata": {},
     "output_type": "execute_result"
    }
   ],
   "source": [
    "id(m2)"
   ]
  },
  {
   "cell_type": "code",
   "execution_count": 246,
   "id": "bed49e5a-ae96-476b-80e1-0760a4cb82be",
   "metadata": {},
   "outputs": [
    {
     "data": {
      "text/plain": [
       "2058084132864"
      ]
     },
     "execution_count": 246,
     "metadata": {},
     "output_type": "execute_result"
    }
   ],
   "source": [
    "id(m1)"
   ]
  },
  {
   "cell_type": "code",
   "execution_count": 250,
   "id": "8518eb31-d6f7-4130-a4c8-c2c9dd859cf0",
   "metadata": {},
   "outputs": [
    {
     "data": {
      "text/plain": [
       "[23, 24, 1, 'kl', 'krinma', 'nit']"
      ]
     },
     "execution_count": 250,
     "metadata": {},
     "output_type": "execute_result"
    }
   ],
   "source": [
    "ml"
   ]
  },
  {
   "cell_type": "code",
   "execution_count": 266,
   "id": "ad72ba07-5665-4e98-b8a9-7b7432e21596",
   "metadata": {},
   "outputs": [],
   "source": [
    "m1[2]=1\n",
    "ml[1]=67"
   ]
  },
  {
   "cell_type": "code",
   "execution_count": 268,
   "id": "9acc32ba-caec-4b72-a9a0-ed5ec5bf88db",
   "metadata": {},
   "outputs": [
    {
     "data": {
      "text/plain": [
       "[34, 45, 1]"
      ]
     },
     "execution_count": 268,
     "metadata": {},
     "output_type": "execute_result"
    }
   ],
   "source": [
    "m1"
   ]
  },
  {
   "cell_type": "code",
   "execution_count": 271,
   "id": "b277e756-2240-4875-a7fd-ebde86dc4a54",
   "metadata": {},
   "outputs": [
    {
     "data": {
      "text/plain": [
       "[23, 67, 1, 'kl', 67, 'nit']"
      ]
     },
     "execution_count": 271,
     "metadata": {},
     "output_type": "execute_result"
    }
   ],
   "source": [
    "ml[4]=67\n",
    "ml"
   ]
  },
  {
   "cell_type": "code",
   "execution_count": 273,
   "id": "77c9e2cd-28c7-4f0a-a903-a193cc12145e",
   "metadata": {},
   "outputs": [
    {
     "data": {
      "text/plain": [
       "[34, 45, 56]"
      ]
     },
     "execution_count": 273,
     "metadata": {},
     "output_type": "execute_result"
    }
   ],
   "source": [
    "m2"
   ]
  },
  {
   "cell_type": "code",
   "execution_count": 275,
   "id": "a41f25cf-40e7-4f23-88d6-d748c0adfdda",
   "metadata": {},
   "outputs": [],
   "source": [
    "m1.extend(m2)"
   ]
  },
  {
   "cell_type": "code",
   "execution_count": 277,
   "id": "61d920b6-7f4f-4c4b-87ba-485cb4bd35f7",
   "metadata": {},
   "outputs": [
    {
     "data": {
      "text/plain": [
       "[34, 45, 56]"
      ]
     },
     "execution_count": 277,
     "metadata": {},
     "output_type": "execute_result"
    }
   ],
   "source": [
    "m2"
   ]
  },
  {
   "cell_type": "code",
   "execution_count": 279,
   "id": "e762b3b6-5a89-4bb1-b17b-afc69d6c1d6a",
   "metadata": {},
   "outputs": [
    {
     "data": {
      "text/plain": [
       "[34, 45, 1, 34, 45, 56]"
      ]
     },
     "execution_count": 279,
     "metadata": {},
     "output_type": "execute_result"
    }
   ],
   "source": [
    "m1"
   ]
  },
  {
   "cell_type": "code",
   "execution_count": 287,
   "id": "3d2a49cf-cfbb-4bc3-bb3d-c64e0ace72d3",
   "metadata": {},
   "outputs": [],
   "source": [
    "m1.extend(m2)"
   ]
  },
  {
   "cell_type": "code",
   "execution_count": 299,
   "id": "b9d43131-0464-4703-9cee-69662f845cc9",
   "metadata": {},
   "outputs": [
    {
     "data": {
      "text/plain": [
       "[34, 45, 1, 34, 45, 56, 34, 45, 56, 34, 45, 1, 34, 45, 56]"
      ]
     },
     "execution_count": 299,
     "metadata": {},
     "output_type": "execute_result"
    }
   ],
   "source": [
    "m1"
   ]
  },
  {
   "cell_type": "code",
   "execution_count": 296,
   "id": "78a9f9b5-8490-47cd-89d6-2f906daa6312",
   "metadata": {},
   "outputs": [],
   "source": [
    "del ml"
   ]
  },
  {
   "cell_type": "code",
   "execution_count": 301,
   "id": "f9cf8575-18fc-4649-9d91-c7d0bc63e1e2",
   "metadata": {},
   "outputs": [
    {
     "ename": "NameError",
     "evalue": "name 'ml' is not defined",
     "output_type": "error",
     "traceback": [
      "\u001b[1;31m---------------------------------------------------------------------------\u001b[0m",
      "\u001b[1;31mNameError\u001b[0m                                 Traceback (most recent call last)",
      "Cell \u001b[1;32mIn[301], line 1\u001b[0m\n\u001b[1;32m----> 1\u001b[0m ml\n",
      "\u001b[1;31mNameError\u001b[0m: name 'ml' is not defined"
     ]
    }
   ],
   "source": [
    "ml"
   ]
  },
  {
   "cell_type": "code",
   "execution_count": 306,
   "id": "f1dddb5b-8ea5-4f15-b21d-4690ff7e6ef3",
   "metadata": {},
   "outputs": [
    {
     "data": {
      "text/plain": [
       "[67, 56, 46, 940, 83833883, 9090, 9090, 90]"
      ]
     },
     "execution_count": 306,
     "metadata": {},
     "output_type": "execute_result"
    }
   ],
   "source": [
    "ml = [ 67,56,46,940,83833883,9090,9090,90 ]\n",
    "ml"
   ]
  },
  {
   "cell_type": "code",
   "execution_count": 310,
   "id": "a73e7fb8-2ed2-47bc-898a-209cfd6cf890",
   "metadata": {},
   "outputs": [],
   "source": [
    "ml.sort()"
   ]
  },
  {
   "cell_type": "code",
   "execution_count": 312,
   "id": "7a37d85c-7e37-4e98-b433-446f3278b5f2",
   "metadata": {},
   "outputs": [
    {
     "data": {
      "text/plain": [
       "[46, 56, 67, 90, 940, 9090, 9090, 83833883]"
      ]
     },
     "execution_count": 312,
     "metadata": {},
     "output_type": "execute_result"
    }
   ],
   "source": [
    "ml"
   ]
  },
  {
   "cell_type": "code",
   "execution_count": 318,
   "id": "f44abd99-8d32-434d-b999-8ff49cbebedc",
   "metadata": {},
   "outputs": [],
   "source": [
    "ml.sort(reverse=False)"
   ]
  },
  {
   "cell_type": "code",
   "execution_count": 320,
   "id": "254919a2-e49c-454c-97a7-9c94b33231af",
   "metadata": {},
   "outputs": [
    {
     "data": {
      "text/plain": [
       "[46, 56, 67, 90, 940, 9090, 9090, 83833883]"
      ]
     },
     "execution_count": 320,
     "metadata": {},
     "output_type": "execute_result"
    }
   ],
   "source": [
    "ml"
   ]
  },
  {
   "cell_type": "code",
   "execution_count": 330,
   "id": "40fcd5b8-bcbc-4f0f-9e61-9562291dd935",
   "metadata": {},
   "outputs": [
    {
     "ename": "IndentationError",
     "evalue": "expected an indented block after 'for' statement on line 1 (2601534698.py, line 2)",
     "output_type": "error",
     "traceback": [
      "\u001b[1;36m  Cell \u001b[1;32mIn[330], line 2\u001b[1;36m\u001b[0m\n\u001b[1;33m    print(i)\u001b[0m\n\u001b[1;37m    ^\u001b[0m\n\u001b[1;31mIndentationError\u001b[0m\u001b[1;31m:\u001b[0m expected an indented block after 'for' statement on line 1\n"
     ]
    }
   ],
   "source": [
    "for (i) in ml:\n",
    "print(i)"
   ]
  },
  {
   "cell_type": "code",
   "execution_count": 332,
   "id": "2f61a3a3-ab79-4207-9b15-e5bdf0ea0e31",
   "metadata": {},
   "outputs": [
    {
     "data": {
      "text/plain": [
       "[46, 56, 67, 90, 940, 9090, 9090, 83833883]"
      ]
     },
     "execution_count": 332,
     "metadata": {},
     "output_type": "execute_result"
    }
   ],
   "source": [
    "ml"
   ]
  },
  {
   "cell_type": "code",
   "execution_count": 334,
   "id": "85c39b5e-42e1-41d3-a19b-9eb5002395e8",
   "metadata": {},
   "outputs": [
    {
     "name": "stdout",
     "output_type": "stream",
     "text": [
      "46\n",
      "56\n",
      "67\n",
      "90\n",
      "940\n",
      "9090\n",
      "9090\n",
      "83833883\n"
     ]
    }
   ],
   "source": [
    "for i in ml:\n",
    "    print(i)"
   ]
  },
  {
   "cell_type": "code",
   "execution_count": 336,
   "id": "63343430-f286-4039-a087-d4480dbeedc9",
   "metadata": {},
   "outputs": [
    {
     "name": "stdout",
     "output_type": "stream",
     "text": [
      "(0, 46)\n",
      "(1, 56)\n",
      "(2, 67)\n",
      "(3, 90)\n",
      "(4, 940)\n",
      "(5, 9090)\n",
      "(6, 9090)\n",
      "(7, 83833883)\n"
     ]
    }
   ],
   "source": [
    "for i in enumerate(ml):\n",
    "    print(i)\n",
    "    "
   ]
  },
  {
   "cell_type": "code",
   "execution_count": 338,
   "id": "f3d0179e-da6d-4b11-a8bf-d54f35d70a7b",
   "metadata": {},
   "outputs": [
    {
     "data": {
      "text/plain": [
       "[46, 56, 67, 90, 940, 9090, 9090, 83833883]"
      ]
     },
     "execution_count": 338,
     "metadata": {},
     "output_type": "execute_result"
    }
   ],
   "source": [
    "ml"
   ]
  },
  {
   "cell_type": "code",
   "execution_count": 340,
   "id": "8a15763b-eeda-4b21-99aa-2d7b03860be8",
   "metadata": {},
   "outputs": [
    {
     "data": {
      "text/plain": [
       "1"
      ]
     },
     "execution_count": 340,
     "metadata": {},
     "output_type": "execute_result"
    }
   ],
   "source": [
    "ml.count(90)"
   ]
  },
  {
   "cell_type": "code",
   "execution_count": 342,
   "id": "540743ac-a4a8-4a3d-a1f4-3844248e9297",
   "metadata": {},
   "outputs": [
    {
     "data": {
      "text/plain": [
       "True"
      ]
     },
     "execution_count": 342,
     "metadata": {},
     "output_type": "execute_result"
    }
   ],
   "source": [
    "all(ml)"
   ]
  },
  {
   "cell_type": "code",
   "execution_count": 348,
   "id": "64945066-8141-4879-bf7d-28db3ba1cec0",
   "metadata": {},
   "outputs": [
    {
     "data": {
      "text/plain": [
       "[46, 79, 79, 90, 940, 9090, 9090, 83833883]"
      ]
     },
     "execution_count": 348,
     "metadata": {},
     "output_type": "execute_result"
    }
   ],
   "source": [
    "ml[1] = 79\n",
    "ml"
   ]
  },
  {
   "cell_type": "code",
   "execution_count": 352,
   "id": "63eb4921-a482-4ce2-9c08-87354db9cdc4",
   "metadata": {},
   "outputs": [
    {
     "data": {
      "text/plain": [
       "[46, 79, 79, 90, 940, 9090, 9090, 83833883]"
      ]
     },
     "execution_count": 352,
     "metadata": {},
     "output_type": "execute_result"
    }
   ],
   "source": [
    "ml"
   ]
  },
  {
   "cell_type": "code",
   "execution_count": 354,
   "id": "dd98c0a4-c753-4d89-b63e-ced37afc7ff4",
   "metadata": {},
   "outputs": [
    {
     "data": {
      "text/plain": [
       "True"
      ]
     },
     "execution_count": 354,
     "metadata": {},
     "output_type": "execute_result"
    }
   ],
   "source": [
    "all(ml)"
   ]
  },
  {
   "cell_type": "code",
   "execution_count": 356,
   "id": "90ab83de-3c2c-42ee-b43c-06a9b778da6b",
   "metadata": {},
   "outputs": [
    {
     "data": {
      "text/plain": [
       "True"
      ]
     },
     "execution_count": 356,
     "metadata": {},
     "output_type": "execute_result"
    }
   ],
   "source": [
    "any(ml)"
   ]
  },
  {
   "cell_type": "code",
   "execution_count": 358,
   "id": "68c2758d-556b-4643-bfb3-797272cb263e",
   "metadata": {},
   "outputs": [],
   "source": [
    "ml.append(89)"
   ]
  },
  {
   "cell_type": "code",
   "execution_count": 360,
   "id": "1ba65486-3612-41aa-817e-7f93790a76f7",
   "metadata": {},
   "outputs": [
    {
     "data": {
      "text/plain": [
       "[46, 79, 79, 90, 940, 9090, 9090, 83833883, 89]"
      ]
     },
     "execution_count": 360,
     "metadata": {},
     "output_type": "execute_result"
    }
   ],
   "source": [
    "ml"
   ]
  },
  {
   "cell_type": "code",
   "execution_count": 362,
   "id": "853d083f-78a9-4d23-810b-fd124c2a9984",
   "metadata": {},
   "outputs": [
    {
     "data": {
      "text/plain": [
       "True"
      ]
     },
     "execution_count": 362,
     "metadata": {},
     "output_type": "execute_result"
    }
   ],
   "source": [
    "all(ml)"
   ]
  },
  {
   "cell_type": "code",
   "execution_count": 364,
   "id": "1992053a-9f5e-47c6-ac66-cca5cfe688e7",
   "metadata": {},
   "outputs": [
    {
     "data": {
      "text/plain": [
       "True"
      ]
     },
     "execution_count": 364,
     "metadata": {},
     "output_type": "execute_result"
    }
   ],
   "source": [
    "any(ml)"
   ]
  },
  {
   "cell_type": "code",
   "execution_count": 366,
   "id": "9342c476-3416-4dab-adb1-17cd7ec9804f",
   "metadata": {},
   "outputs": [],
   "source": [
    "ml[2] = False"
   ]
  },
  {
   "cell_type": "code",
   "execution_count": 368,
   "id": "dfc8a542-c852-47e5-881c-09dfaef649bc",
   "metadata": {},
   "outputs": [
    {
     "data": {
      "text/plain": [
       "[46, 79, False, 90, 940, 9090, 9090, 83833883, 89]"
      ]
     },
     "execution_count": 368,
     "metadata": {},
     "output_type": "execute_result"
    }
   ],
   "source": [
    "ml"
   ]
  },
  {
   "cell_type": "code",
   "execution_count": 370,
   "id": "713c7892-0449-4af1-b04b-f21da0bc78c2",
   "metadata": {},
   "outputs": [
    {
     "data": {
      "text/plain": [
       "False"
      ]
     },
     "execution_count": 370,
     "metadata": {},
     "output_type": "execute_result"
    }
   ],
   "source": [
    "all(ml)"
   ]
  },
  {
   "cell_type": "code",
   "execution_count": 378,
   "id": "cab4dfb1-8c35-40e3-abf3-80775278f8fb",
   "metadata": {},
   "outputs": [
    {
     "data": {
      "text/plain": [
       "False"
      ]
     },
     "execution_count": 378,
     "metadata": {},
     "output_type": "execute_result"
    }
   ],
   "source": [
    "all(ml)\n"
   ]
  },
  {
   "cell_type": "code",
   "execution_count": 380,
   "id": "bf116ff4-13c7-48f1-ae7c-66b3697b8bd7",
   "metadata": {},
   "outputs": [
    {
     "data": {
      "text/plain": [
       "[46, 79, False, 90, 940, 9090, 9090, 83833883, 89]"
      ]
     },
     "execution_count": 380,
     "metadata": {},
     "output_type": "execute_result"
    }
   ],
   "source": [
    "ml\n"
   ]
  },
  {
   "cell_type": "code",
   "execution_count": 382,
   "id": "f2edb8da-f60e-47f2-b1fa-d2dd21dc7a14",
   "metadata": {},
   "outputs": [],
   "source": [
    "ml.extend(m2)"
   ]
  },
  {
   "cell_type": "code",
   "execution_count": 384,
   "id": "d027a182-d768-48f3-b8b6-d55409486f96",
   "metadata": {},
   "outputs": [
    {
     "data": {
      "text/plain": [
       "[46,\n",
       " 79,\n",
       " False,\n",
       " 90,\n",
       " 940,\n",
       " 9090,\n",
       " 9090,\n",
       " 83833883,\n",
       " 89,\n",
       " 34,\n",
       " 45,\n",
       " 56,\n",
       " 34,\n",
       " 45,\n",
       " 1,\n",
       " 34,\n",
       " 45,\n",
       " 56]"
      ]
     },
     "execution_count": 384,
     "metadata": {},
     "output_type": "execute_result"
    }
   ],
   "source": [
    "ml"
   ]
  },
  {
   "cell_type": "code",
   "execution_count": 388,
   "id": "2edf7c35-ac22-4002-9062-cb41848c88e5",
   "metadata": {},
   "outputs": [
    {
     "data": {
      "text/plain": [
       "2"
      ]
     },
     "execution_count": 388,
     "metadata": {},
     "output_type": "execute_result"
    }
   ],
   "source": [
    "5//2"
   ]
  },
  {
   "cell_type": "code",
   "execution_count": 390,
   "id": "93e890b3-5c76-4736-8dd6-544606a151c8",
   "metadata": {},
   "outputs": [
    {
     "data": {
      "text/plain": [
       "2.5"
      ]
     },
     "execution_count": 390,
     "metadata": {},
     "output_type": "execute_result"
    }
   ],
   "source": [
    "5/2"
   ]
  },
  {
   "cell_type": "markdown",
   "id": "2be0838d-dd8a-4fe0-b9d0-b2bcc3cb9e8a",
   "metadata": {},
   "source": [
    "# print practice"
   ]
  },
  {
   "cell_type": "code",
   "execution_count": 398,
   "id": "2405e1ce-e8ff-49c7-b722-f10f9610d5b1",
   "metadata": {},
   "outputs": [
    {
     "ename": "TypeError",
     "evalue": "'str' object is not callable",
     "output_type": "error",
     "traceback": [
      "\u001b[1;31m---------------------------------------------------------------------------\u001b[0m",
      "\u001b[1;31mTypeError\u001b[0m                                 Traceback (most recent call last)",
      "Cell \u001b[1;32mIn[398], line 1\u001b[0m\n\u001b[1;32m----> 1\u001b[0m \u001b[38;5;28mprint\u001b[39m(x(\u001b[38;5;241m1\u001b[39m))\n",
      "\u001b[1;31mTypeError\u001b[0m: 'str' object is not callable"
     ]
    }
   ],
   "source": [
    "print(x(1))"
   ]
  },
  {
   "cell_type": "code",
   "execution_count": 400,
   "id": "9d2e86f2-191a-4ecd-aa97-d030e768efee",
   "metadata": {},
   "outputs": [
    {
     "name": "stdout",
     "output_type": "stream",
     "text": [
      "25\n"
     ]
    }
   ],
   "source": [
    "age = 25\n",
    "print(age)"
   ]
  },
  {
   "cell_type": "code",
   "execution_count": 404,
   "id": "60063a08-5c03-40dd-a8e5-432e6b3a6c00",
   "metadata": {},
   "outputs": [
    {
     "name": "stdout",
     "output_type": "stream",
     "text": [
      "45\n"
     ]
    }
   ],
   "source": [
    "chef = 45\n",
    "print(chef)"
   ]
  },
  {
   "cell_type": "code",
   "execution_count": 406,
   "id": "cab194b2-74a9-4b47-88fd-ae1f6d51df71",
   "metadata": {},
   "outputs": [
    {
     "data": {
      "text/plain": [
       "43"
      ]
     },
     "execution_count": 406,
     "metadata": {},
     "output_type": "execute_result"
    }
   ],
   "source": [
    "a = 23\n",
    "b = 20\n",
    "sum = a + b \n",
    "sum"
   ]
  },
  {
   "cell_type": "code",
   "execution_count": 408,
   "id": "b2c66995-3663-4ef8-874b-18fa09db6a99",
   "metadata": {},
   "outputs": [
    {
     "name": "stdout",
     "output_type": "stream",
     "text": [
      "43\n"
     ]
    }
   ],
   "source": [
    "print(sum)"
   ]
  },
  {
   "cell_type": "code",
   "execution_count": 412,
   "id": "f6f8fc6a-ca2c-440a-8b8e-341ba888c701",
   "metadata": {},
   "outputs": [
    {
     "data": {
      "text/plain": [
       "int"
      ]
     },
     "execution_count": 412,
     "metadata": {},
     "output_type": "execute_result"
    }
   ],
   "source": [
    "type(sum)"
   ]
  },
  {
   "cell_type": "code",
   "execution_count": 416,
   "id": "e1e7e6b5-a26f-400a-9c9c-b7702aa4b4b5",
   "metadata": {},
   "outputs": [
    {
     "ename": "TypeError",
     "evalue": "object of type 'int' has no len()",
     "output_type": "error",
     "traceback": [
      "\u001b[1;31m---------------------------------------------------------------------------\u001b[0m",
      "\u001b[1;31mTypeError\u001b[0m                                 Traceback (most recent call last)",
      "Cell \u001b[1;32mIn[416], line 1\u001b[0m\n\u001b[1;32m----> 1\u001b[0m \u001b[38;5;28mlen\u001b[39m(\u001b[38;5;28msum\u001b[39m)\n",
      "\u001b[1;31mTypeError\u001b[0m: object of type 'int' has no len()"
     ]
    }
   ],
   "source": [
    "len(sum)"
   ]
  },
  {
   "cell_type": "code",
   "execution_count": 422,
   "id": "6622ec1b-2f5a-40ec-9c3f-a8e44ea6a1e6",
   "metadata": {},
   "outputs": [
    {
     "name": "stdout",
     "output_type": "stream",
     "text": [
      " The addition of  20 and 30 is= 50\n"
     ]
    }
   ],
   "source": [
    "num1 = 20 \n",
    "num2 = 30\n",
    "add = num1 + num2 \n",
    "print(' The addition of ', num1, 'and', num2, 'is=',add)"
   ]
  },
  {
   "cell_type": "code",
   "execution_count": 438,
   "id": "b91008fe-d25f-4e11-8d1c-d05c8e707dea",
   "metadata": {},
   "outputs": [
    {
     "name": "stdout",
     "output_type": "stream",
     "text": [
      "Hello my name is python and i am 24 years old from mel\n"
     ]
    }
   ],
   "source": [
    "name = 'python'\n",
    "age = 24 \n",
    "city = 'mel'\n",
    "print('Hello my name is', name, 'and i am', age, 'years', 'old', 'from', city )"
   ]
  },
  {
   "cell_type": "code",
   "execution_count": 486,
   "id": "cce5ab06-5314-41d6-bfb6-a7574c2b7b21",
   "metadata": {},
   "outputs": [
    {
     "name": "stdout",
     "output_type": "stream",
     "text": [
      "hello my name is {'kabaddi'} and my age is {25} and i am from {'melbourne'}\n"
     ]
    }
   ],
   "source": [
    "name = 'kabaddi'\n",
    "age = 25\n",
    "city = 'melbourne'\n",
    "print('hello my name is', {name}, 'and my age is',{age}, 'and i am from',{city})"
   ]
  },
  {
   "cell_type": "code",
   "execution_count": 488,
   "id": "a4e73b17-8973-4b04-96a2-b1163cae450c",
   "metadata": {},
   "outputs": [
    {
     "name": "stdout",
     "output_type": "stream",
     "text": [
      "hello my name is {'kabaddi'} and my age is {25} and i am from {'melbourne'}\n"
     ]
    }
   ],
   "source": [
    "print('hello my name is', {name}, 'and my age is',{age}, 'and i am from',{city})"
   ]
  },
  {
   "cell_type": "code",
   "execution_count": 502,
   "id": "729854f2-9cca-4122-a846-ded71ffd3bec",
   "metadata": {},
   "outputs": [
    {
     "data": {
      "text/plain": [
       "458"
      ]
     },
     "execution_count": 502,
     "metadata": {},
     "output_type": "execute_result"
    }
   ],
   "source": [
    "num1 = 100\n",
    "num2 = 25\n",
    "num3 = 333\n",
    "avg=(num1+num2+num3)\n",
    "avg"
   ]
  },
  {
   "cell_type": "code",
   "execution_count": 237,
   "id": "ae89cd46-f26d-4495-b635-c7929fe37a1a",
   "metadata": {},
   "outputs": [
    {
     "data": {
      "text/plain": [
       "152"
      ]
     },
     "execution_count": 237,
     "metadata": {},
     "output_type": "execute_result"
    }
   ],
   "source": [
    "458//3"
   ]
  },
  {
   "cell_type": "code",
   "execution_count": 239,
   "id": "17e1c529-5c15-4f5c-a525-97914165536a",
   "metadata": {},
   "outputs": [
    {
     "data": {
      "text/plain": [
       "152.66666666666666"
      ]
     },
     "execution_count": 239,
     "metadata": {},
     "output_type": "execute_result"
    }
   ],
   "source": [
    "458/3"
   ]
  },
  {
   "cell_type": "code",
   "execution_count": 514,
   "id": "41e62c8d-d9cf-422b-aaed-99114c7be42c",
   "metadata": {},
   "outputs": [],
   "source": [
    "avg= (num1+num2+num3)/3)"
   ]
  },
  {
   "cell_type": "code",
   "execution_count": 516,
   "id": "57a423ab-58ee-439f-8f8c-2d2434838bc0",
   "metadata": {},
   "outputs": [
    {
     "data": {
      "text/plain": [
       "152.66666666666666"
      ]
     },
     "execution_count": 516,
     "metadata": {},
     "output_type": "execute_result"
    }
   ],
   "source": [
    "avg"
   ]
  },
  {
   "cell_type": "code",
   "execution_count": 498,
   "id": "49d33220-1185-4d0f-b717-55dceb8245a3",
   "metadata": {},
   "outputs": [
    {
     "ename": "SyntaxError",
     "evalue": "unmatched ')' (837784318.py, line 1)",
     "output_type": "error",
     "traceback": [
      "\u001b[1;36m  Cell \u001b[1;32mIn[498], line 1\u001b[1;36m\u001b[0m\n\u001b[1;33m    avg=round((num1+num2+num3)/3,2))\u001b[0m\n\u001b[1;37m                                   ^\u001b[0m\n\u001b[1;31mSyntaxError\u001b[0m\u001b[1;31m:\u001b[0m unmatched ')'\n"
     ]
    }
   ],
   "source": [
    "avg=round((num1+num2+num3)/3,2))"
   ]
  },
  {
   "cell_type": "code",
   "execution_count": 522,
   "id": "75c8598e-7035-4481-805e-3158ddb343a7",
   "metadata": {},
   "outputs": [
    {
     "name": "stdout",
     "output_type": "stream",
     "text": [
      "the addition of 24 and 45 is= 69\n"
     ]
    }
   ],
   "source": [
    "num1 = 24\n",
    "num2 = 45\n",
    "num3 = num1+ num2\n",
    "print(f'the addition of {num1} and {num2} is= {num3}')"
   ]
  },
  {
   "cell_type": "code",
   "execution_count": 543,
   "id": "4deb8543-fb9a-4620-94f5-29d92fcbf4b7",
   "metadata": {},
   "outputs": [
    {
     "name": "stdout",
     "output_type": "stream",
     "text": [
      "Hellow guys good morining guys\n"
     ]
    }
   ],
   "source": [
    "print('Hellow guys',end=' ')\n",
    "print('good morining guys')"
   ]
  },
  {
   "cell_type": "code",
   "execution_count": 247,
   "id": "cf6be132-8be1-47c8-a48f-8806cbe74603",
   "metadata": {},
   "outputs": [
    {
     "name": "stdout",
     "output_type": "stream",
     "text": [
      "hello----->    hai----->    how----->    are----->    you\n"
     ]
    }
   ],
   "source": [
    "print('hello','hai','how','are','you',sep='----->    ')"
   ]
  },
  {
   "cell_type": "code",
   "execution_count": 549,
   "id": "50b87c01-70ca-4fb4-8053-4ff1a1db1161",
   "metadata": {},
   "outputs": [
    {
     "name": "stdout",
     "output_type": "stream",
     "text": [
      "hello@hai@how@are@you\n"
     ]
    }
   ],
   "source": [
    "print('hello','hai','how','are','you',sep='@')"
   ]
  },
  {
   "cell_type": "code",
   "execution_count": 251,
   "id": "b325f482-dfee-4c35-a9ab-aed6be889b7a",
   "metadata": {},
   "outputs": [
    {
     "name": "stdout",
     "output_type": "stream",
     "text": [
      "1 2 3.\n"
     ]
    }
   ],
   "source": [
    "print(1,2,end=' ')\n",
    "print(3,'.',sep='')"
   ]
  },
  {
   "cell_type": "code",
   "execution_count": 3,
   "id": "85c5e629-7615-4479-b89e-4cb9f6881f52",
   "metadata": {},
   "outputs": [],
   "source": [
    "radius = 8.9\n"
   ]
  },
  {
   "cell_type": "code",
   "execution_count": 5,
   "id": "09c97044-d8de-4ca9-9bd0-13775ffa73ef",
   "metadata": {},
   "outputs": [],
   "source": [
    "pi = 3.14"
   ]
  },
  {
   "cell_type": "code",
   "execution_count": 7,
   "id": "2dc745d5-0329-4539-9a03-32407bc87e38",
   "metadata": {},
   "outputs": [
    {
     "name": "stdout",
     "output_type": "stream",
     "text": [
      "248.71940000000004\n"
     ]
    }
   ],
   "source": [
    "area = pi*radius*radius\n",
    "print(area)"
   ]
  },
  {
   "cell_type": "code",
   "execution_count": 23,
   "id": "6aa74884-8839-4be4-bacb-0d312a59bdf8",
   "metadata": {},
   "outputs": [
    {
     "name": "stdout",
     "output_type": "stream",
     "text": [
      "learning is fun!\n"
     ]
    }
   ],
   "source": [
    "a = \"learning \" \n",
    "b = 'is fun!' \n",
    "c = a + b \n",
    "print(c)"
   ]
  },
  {
   "cell_type": "code",
   "execution_count": 255,
   "id": "59176201-b4eb-4308-a49c-f68946e9d792",
   "metadata": {},
   "outputs": [
    {
     "ename": "ValueError",
     "evalue": "too many values to unpack (expected 2)",
     "output_type": "error",
     "traceback": [
      "\u001b[1;31m---------------------------------------------------------------------------\u001b[0m",
      "\u001b[1;31mValueError\u001b[0m                                Traceback (most recent call last)",
      "Cell \u001b[1;32mIn[255], line 1\u001b[0m\n\u001b[1;32m----> 1\u001b[0m a,b \u001b[38;5;241m=\u001b[39m \u001b[38;5;124m\"\u001b[39m\u001b[38;5;124mlearning is fun!\u001b[39m\u001b[38;5;124m\"\u001b[39m\n",
      "\u001b[1;31mValueError\u001b[0m: too many values to unpack (expected 2)"
     ]
    }
   ],
   "source": [
    "a,b = \"learning is fun!\""
   ]
  },
  {
   "cell_type": "code",
   "execution_count": 27,
   "id": "e4eee468-101e-4344-9435-f83c627ec1f3",
   "metadata": {},
   "outputs": [
    {
     "data": {
      "text/plain": [
       "('learning ', 'is fun!')"
      ]
     },
     "execution_count": 27,
     "metadata": {},
     "output_type": "execute_result"
    }
   ],
   "source": [
    "a,b"
   ]
  },
  {
   "cell_type": "markdown",
   "id": "c104391a-bff4-4f0f-9fc2-3d61848b1294",
   "metadata": {},
   "source": [
    "## List tutorial"
   ]
  },
  {
   "cell_type": "code",
   "execution_count": 2,
   "id": "12e2d0b0-c0f6-4d68-97ca-4036bf4a9a5a",
   "metadata": {},
   "outputs": [],
   "source": [
    "k = []"
   ]
  },
  {
   "cell_type": "code",
   "execution_count": 4,
   "id": "3b7107a1-8ac5-4b86-a084-5cb3c9655d35",
   "metadata": {},
   "outputs": [
    {
     "data": {
      "text/plain": [
       "[]"
      ]
     },
     "execution_count": 4,
     "metadata": {},
     "output_type": "execute_result"
    }
   ],
   "source": [
    "k"
   ]
  },
  {
   "cell_type": "code",
   "execution_count": 6,
   "id": "df81467a-cf21-4d11-b45a-c2649d3ba7eb",
   "metadata": {},
   "outputs": [
    {
     "data": {
      "text/plain": [
       "list"
      ]
     },
     "execution_count": 6,
     "metadata": {},
     "output_type": "execute_result"
    }
   ],
   "source": [
    "type(k)"
   ]
  },
  {
   "cell_type": "code",
   "execution_count": 17,
   "id": "e08ffad3-18e1-4b0c-88f7-733c26d011a5",
   "metadata": {},
   "outputs": [],
   "source": [
    " k2 = [10,20,40,30]"
   ]
  },
  {
   "cell_type": "code",
   "execution_count": 19,
   "id": "2e711bf4-f29d-430d-954b-0953bdf9f24d",
   "metadata": {},
   "outputs": [],
   "source": [
    "k3 = [10.44,45.67,78.78,67.78]"
   ]
  },
  {
   "cell_type": "code",
   "execution_count": 21,
   "id": "6bc37440-eeab-4aff-818c-f17482e1fb07",
   "metadata": {},
   "outputs": [],
   "source": [
    "k4 = ['dig','nit','kit','hik']"
   ]
  },
  {
   "cell_type": "code",
   "execution_count": 25,
   "id": "3832798f-f3e7-42de-b63d-4528c190a4c0",
   "metadata": {},
   "outputs": [],
   "source": [
    "k5 = ['asif',25, [50,40],['nit',80]]"
   ]
  },
  {
   "cell_type": "code",
   "execution_count": 27,
   "id": "9146af9a-a7e7-4715-9881-5f32f643e9a0",
   "metadata": {},
   "outputs": [],
   "source": [
    "k6 = ['ni',20,20.45]"
   ]
  },
  {
   "cell_type": "code",
   "execution_count": 29,
   "id": "4d6e2ad8-6f5c-458f-a4a5-4be8dec592ab",
   "metadata": {},
   "outputs": [],
   "source": [
    "k7 = [10,['rit',80],[20,45],{'john','kit'}]"
   ]
  },
  {
   "cell_type": "code",
   "execution_count": 31,
   "id": "109df786-07eb-4d57-9bf9-acf2c7c42fbe",
   "metadata": {},
   "outputs": [
    {
     "data": {
      "text/plain": [
       "[10, ['rit', 80], [20, 45], {'john', 'kit'}]"
      ]
     },
     "execution_count": 31,
     "metadata": {},
     "output_type": "execute_result"
    }
   ],
   "source": [
    "k7"
   ]
  },
  {
   "cell_type": "code",
   "execution_count": 33,
   "id": "0e26ba5d-6f31-4764-a91d-3234d5bb01e4",
   "metadata": {},
   "outputs": [
    {
     "data": {
      "text/plain": [
       "4"
      ]
     },
     "execution_count": 33,
     "metadata": {},
     "output_type": "execute_result"
    }
   ],
   "source": [
    "len(k7)"
   ]
  },
  {
   "cell_type": "code",
   "execution_count": 37,
   "id": "ef1262ce-eed7-47b5-9297-99ee942ae1f6",
   "metadata": {},
   "outputs": [
    {
     "data": {
      "text/plain": [
       "['asif', 25, [50, 40], ['nit', 80]]"
      ]
     },
     "execution_count": 37,
     "metadata": {},
     "output_type": "execute_result"
    }
   ],
   "source": [
    "k5"
   ]
  },
  {
   "cell_type": "code",
   "execution_count": 41,
   "id": "992c4df2-5030-4f05-9fc0-8ae445e472df",
   "metadata": {},
   "outputs": [
    {
     "data": {
      "text/plain": [
       "[50, 40]"
      ]
     },
     "execution_count": 41,
     "metadata": {},
     "output_type": "execute_result"
    }
   ],
   "source": [
    "k5[2]"
   ]
  },
  {
   "cell_type": "code",
   "execution_count": 49,
   "id": "8638c67a-8d34-4f3f-96ea-8cb9c1687819",
   "metadata": {},
   "outputs": [
    {
     "data": {
      "text/plain": [
       "40"
      ]
     },
     "execution_count": 49,
     "metadata": {},
     "output_type": "execute_result"
    }
   ],
   "source": [
    "k5[2][1]"
   ]
  },
  {
   "cell_type": "code",
   "execution_count": 67,
   "id": "fbd3292f-8637-4877-b516-4e00cd77bc06",
   "metadata": {},
   "outputs": [
    {
     "data": {
      "text/plain": [
       "['nit', 80]"
      ]
     },
     "execution_count": 67,
     "metadata": {},
     "output_type": "execute_result"
    }
   ],
   "source": [
    "k5[-1]"
   ]
  },
  {
   "cell_type": "code",
   "execution_count": 73,
   "id": "31bd3d06-a4d6-4b37-abea-5d51b507a421",
   "metadata": {},
   "outputs": [
    {
     "data": {
      "text/plain": [
       "['nit', 80]"
      ]
     },
     "execution_count": 73,
     "metadata": {},
     "output_type": "execute_result"
    }
   ],
   "source": [
    "k5[-1]"
   ]
  },
  {
   "cell_type": "code",
   "execution_count": 87,
   "id": "c0a09d78-ac94-47b0-b459-954b872ff4a2",
   "metadata": {},
   "outputs": [],
   "source": [
    "mylist = ['one','two','three', 'four', 'five', 'six']"
   ]
  },
  {
   "cell_type": "code",
   "execution_count": 89,
   "id": "725b19ca-585e-426f-80fa-9076922e639a",
   "metadata": {},
   "outputs": [
    {
     "data": {
      "text/plain": [
       "['one', 'two', 'three', 'four', 'five', 'six']"
      ]
     },
     "execution_count": 89,
     "metadata": {},
     "output_type": "execute_result"
    }
   ],
   "source": [
    "mylist"
   ]
  },
  {
   "cell_type": "code",
   "execution_count": 91,
   "id": "b921e7f4-b9bd-4908-a215-e5ddbb17f16b",
   "metadata": {},
   "outputs": [
    {
     "data": {
      "text/plain": [
       "list"
      ]
     },
     "execution_count": 91,
     "metadata": {},
     "output_type": "execute_result"
    }
   ],
   "source": [
    "type(mylist)"
   ]
  },
  {
   "cell_type": "code",
   "execution_count": 93,
   "id": "fc45b107-43a8-4e91-8e76-b7478079946b",
   "metadata": {},
   "outputs": [
    {
     "data": {
      "text/plain": [
       "['one', 'two', 'three']"
      ]
     },
     "execution_count": 93,
     "metadata": {},
     "output_type": "execute_result"
    }
   ],
   "source": [
    "mylist[:3]"
   ]
  },
  {
   "cell_type": "code",
   "execution_count": 95,
   "id": "f749fc07-937b-49ae-b948-499f4a698ed1",
   "metadata": {},
   "outputs": [],
   "source": [
    "mylist.append(90)"
   ]
  },
  {
   "cell_type": "code",
   "execution_count": 97,
   "id": "0a0673ad-1b73-4e8b-9dc6-4886428f9b35",
   "metadata": {},
   "outputs": [
    {
     "data": {
      "text/plain": [
       "['one', 'two', 'three', 'four', 'five', 'six', 90]"
      ]
     },
     "execution_count": 97,
     "metadata": {},
     "output_type": "execute_result"
    }
   ],
   "source": [
    "mylist"
   ]
  },
  {
   "cell_type": "code",
   "execution_count": 103,
   "id": "2426c19c-c004-4324-b3fc-5adf592b0f99",
   "metadata": {},
   "outputs": [],
   "source": [
    "mylist.append('one')"
   ]
  },
  {
   "cell_type": "code",
   "execution_count": 106,
   "id": "910e5b1a-485c-474c-9c66-673ec492144a",
   "metadata": {},
   "outputs": [
    {
     "data": {
      "text/plain": [
       "['one', 'two', 'three', 'four', 'five', 'six', 90, 'one']"
      ]
     },
     "execution_count": 106,
     "metadata": {},
     "output_type": "execute_result"
    }
   ],
   "source": [
    "mylist"
   ]
  },
  {
   "cell_type": "code",
   "execution_count": 108,
   "id": "517f2012-dc94-4afc-a5dc-cc3b3193be7c",
   "metadata": {},
   "outputs": [],
   "source": [
    "mylist.remove('one')"
   ]
  },
  {
   "cell_type": "code",
   "execution_count": 110,
   "id": "b5541d75-eea3-455c-961a-23b08f2d19ad",
   "metadata": {},
   "outputs": [
    {
     "data": {
      "text/plain": [
       "['two', 'three', 'four', 'five', 'six', 90, 'one']"
      ]
     },
     "execution_count": 110,
     "metadata": {},
     "output_type": "execute_result"
    }
   ],
   "source": [
    "mylist"
   ]
  },
  {
   "cell_type": "code",
   "execution_count": 112,
   "id": "5d6cb90d-38b7-4977-b0be-c3f177d89954",
   "metadata": {},
   "outputs": [],
   "source": [
    "mylist.reverse()"
   ]
  },
  {
   "cell_type": "code",
   "execution_count": 114,
   "id": "60980309-1065-4d6a-8d20-b0c5f2893e1f",
   "metadata": {},
   "outputs": [
    {
     "data": {
      "text/plain": [
       "['one', 90, 'six', 'five', 'four', 'three', 'two']"
      ]
     },
     "execution_count": 114,
     "metadata": {},
     "output_type": "execute_result"
    }
   ],
   "source": [
    "mylist"
   ]
  },
  {
   "cell_type": "code",
   "execution_count": 116,
   "id": "02778724-832a-4f90-877d-a3ec838c0af0",
   "metadata": {},
   "outputs": [
    {
     "data": {
      "text/plain": [
       "'five'"
      ]
     },
     "execution_count": 116,
     "metadata": {},
     "output_type": "execute_result"
    }
   ],
   "source": [
    "mylist.pop(3)"
   ]
  },
  {
   "cell_type": "code",
   "execution_count": 118,
   "id": "fb16d3ab-3c7a-4536-84a0-945ba99708a8",
   "metadata": {},
   "outputs": [
    {
     "data": {
      "text/plain": [
       "['one', 90, 'six', 'four', 'three', 'two']"
      ]
     },
     "execution_count": 118,
     "metadata": {},
     "output_type": "execute_result"
    }
   ],
   "source": [
    "mylist"
   ]
  },
  {
   "cell_type": "code",
   "execution_count": 120,
   "id": "00232f61-cfee-4585-be9c-40dbfde2ae77",
   "metadata": {},
   "outputs": [
    {
     "data": {
      "text/plain": [
       "3"
      ]
     },
     "execution_count": 120,
     "metadata": {},
     "output_type": "execute_result"
    }
   ],
   "source": [
    "mylist.index('four')"
   ]
  },
  {
   "cell_type": "code",
   "execution_count": 122,
   "id": "c994cd47-9442-4f3c-b238-483349ee5a9f",
   "metadata": {},
   "outputs": [
    {
     "data": {
      "text/plain": [
       "['one', 90, 'six', 'four', 'three', 'two']"
      ]
     },
     "execution_count": 122,
     "metadata": {},
     "output_type": "execute_result"
    }
   ],
   "source": [
    "mylist"
   ]
  },
  {
   "cell_type": "code",
   "execution_count": 124,
   "id": "585d0a3d-0d12-4e97-80de-4f6407653686",
   "metadata": {},
   "outputs": [],
   "source": [
    "mylist.append(90)"
   ]
  },
  {
   "cell_type": "code",
   "execution_count": 126,
   "id": "5a283542-0f72-46cb-bd0f-c029bbba2af6",
   "metadata": {},
   "outputs": [
    {
     "data": {
      "text/plain": [
       "['one', 90, 'six', 'four', 'three', 'two', 90]"
      ]
     },
     "execution_count": 126,
     "metadata": {},
     "output_type": "execute_result"
    }
   ],
   "source": [
    "mylist"
   ]
  },
  {
   "cell_type": "code",
   "execution_count": 128,
   "id": "bd040902-b5c6-4a4c-9a8f-f292bc5da002",
   "metadata": {},
   "outputs": [
    {
     "data": {
      "text/plain": [
       "2"
      ]
     },
     "execution_count": 128,
     "metadata": {},
     "output_type": "execute_result"
    }
   ],
   "source": [
    "mylist.count(90)"
   ]
  },
  {
   "cell_type": "code",
   "execution_count": 130,
   "id": "8ea57eba-7e56-40ab-87e2-e9b407bcc623",
   "metadata": {},
   "outputs": [],
   "source": [
    "m1= mylist.copy()"
   ]
  },
  {
   "cell_type": "code",
   "execution_count": 132,
   "id": "8f3e64a0-917d-4fae-bc8c-15a9e327ab02",
   "metadata": {},
   "outputs": [
    {
     "data": {
      "text/plain": [
       "['one', 90, 'six', 'four', 'three', 'two', 90]"
      ]
     },
     "execution_count": 132,
     "metadata": {},
     "output_type": "execute_result"
    }
   ],
   "source": [
    "m1"
   ]
  },
  {
   "cell_type": "code",
   "execution_count": 134,
   "id": "a2da400f-197f-41cf-9647-90cb7a1f79b8",
   "metadata": {},
   "outputs": [],
   "source": [
    "m2 = [56,67,67,78,]"
   ]
  },
  {
   "cell_type": "code",
   "execution_count": 136,
   "id": "cb7f8392-e4c8-46e1-b37b-fa736c027a9a",
   "metadata": {},
   "outputs": [
    {
     "data": {
      "text/plain": [
       "[56, 67, 67, 78]"
      ]
     },
     "execution_count": 136,
     "metadata": {},
     "output_type": "execute_result"
    }
   ],
   "source": [
    "m2"
   ]
  },
  {
   "cell_type": "code",
   "execution_count": 138,
   "id": "916dd595-642b-40af-98d4-3a9a76bcdf4d",
   "metadata": {},
   "outputs": [],
   "source": [
    "m2.extend(m1)"
   ]
  },
  {
   "cell_type": "code",
   "execution_count": 140,
   "id": "0dceca6e-9659-4a1d-836c-631e6182759f",
   "metadata": {},
   "outputs": [
    {
     "data": {
      "text/plain": [
       "[56, 67, 67, 78, 'one', 90, 'six', 'four', 'three', 'two', 90]"
      ]
     },
     "execution_count": 140,
     "metadata": {},
     "output_type": "execute_result"
    }
   ],
   "source": [
    "m2"
   ]
  },
  {
   "cell_type": "code",
   "execution_count": 142,
   "id": "231dead1-1f7e-4275-9951-ba048b9ecd7d",
   "metadata": {},
   "outputs": [
    {
     "data": {
      "text/plain": [
       "['one', 90, 'six', 'four', 'three', 'two', 90]"
      ]
     },
     "execution_count": 142,
     "metadata": {},
     "output_type": "execute_result"
    }
   ],
   "source": [
    "m1"
   ]
  },
  {
   "cell_type": "code",
   "execution_count": 144,
   "id": "b0b883e3-4977-47df-98db-d5d2f1ec6c81",
   "metadata": {},
   "outputs": [],
   "source": [
    "m1.insert(5,'my name is')"
   ]
  },
  {
   "cell_type": "code",
   "execution_count": 146,
   "id": "cd7335ac-7c4c-45bd-9d38-ac39a0eb8097",
   "metadata": {},
   "outputs": [
    {
     "data": {
      "text/plain": [
       "['one', 90, 'six', 'four', 'three', 'my name is', 'two', 90]"
      ]
     },
     "execution_count": 146,
     "metadata": {},
     "output_type": "execute_result"
    }
   ],
   "source": [
    "m1"
   ]
  },
  {
   "cell_type": "code",
   "execution_count": 148,
   "id": "fb6f4664-95a4-4fbb-87f3-c50d972743d2",
   "metadata": {},
   "outputs": [],
   "source": [
    "m1.remove('my name is')"
   ]
  },
  {
   "cell_type": "code",
   "execution_count": 150,
   "id": "e6701f39-9f1e-41ec-a3e2-6468d1f5f616",
   "metadata": {},
   "outputs": [
    {
     "data": {
      "text/plain": [
       "['one', 90, 'six', 'four', 'three', 'two', 90]"
      ]
     },
     "execution_count": 150,
     "metadata": {},
     "output_type": "execute_result"
    }
   ],
   "source": [
    "m1"
   ]
  },
  {
   "cell_type": "code",
   "execution_count": 152,
   "id": "71ffffc1-16a6-4d3f-b0b3-a104d706df1b",
   "metadata": {},
   "outputs": [],
   "source": [
    "m2.clear()"
   ]
  },
  {
   "cell_type": "code",
   "execution_count": 154,
   "id": "9b81656a-73e5-4475-972a-ef926131ac19",
   "metadata": {},
   "outputs": [
    {
     "data": {
      "text/plain": [
       "[]"
      ]
     },
     "execution_count": 154,
     "metadata": {},
     "output_type": "execute_result"
    }
   ],
   "source": [
    "m2"
   ]
  },
  {
   "cell_type": "code",
   "execution_count": 156,
   "id": "e5da2161-6fd9-469e-ab94-0bb706d5c4a4",
   "metadata": {},
   "outputs": [],
   "source": [
    "del m2"
   ]
  },
  {
   "cell_type": "code",
   "execution_count": 158,
   "id": "a49a9dcd-6b22-4a70-8580-18f8e51880ed",
   "metadata": {},
   "outputs": [
    {
     "ename": "NameError",
     "evalue": "name 'm2' is not defined",
     "output_type": "error",
     "traceback": [
      "\u001b[1;31m---------------------------------------------------------------------------\u001b[0m",
      "\u001b[1;31mNameError\u001b[0m                                 Traceback (most recent call last)",
      "Cell \u001b[1;32mIn[158], line 1\u001b[0m\n\u001b[1;32m----> 1\u001b[0m m2\n",
      "\u001b[1;31mNameError\u001b[0m: name 'm2' is not defined"
     ]
    }
   ],
   "source": [
    "m2\n"
   ]
  },
  {
   "cell_type": "code",
   "execution_count": 160,
   "id": "f56801f1-c169-49bb-8506-8c13e3581f17",
   "metadata": {},
   "outputs": [
    {
     "data": {
      "text/plain": [
       "['one', 90, 'six', 'four', 'three', 'two', 90]"
      ]
     },
     "execution_count": 160,
     "metadata": {},
     "output_type": "execute_result"
    }
   ],
   "source": [
    "m1"
   ]
  },
  {
   "cell_type": "code",
   "execution_count": 162,
   "id": "0828b93b-bd16-4b2c-ab26-2bea2cc858a1",
   "metadata": {},
   "outputs": [
    {
     "name": "stdout",
     "output_type": "stream",
     "text": [
      "one\n",
      "90\n",
      "six\n",
      "four\n",
      "three\n",
      "two\n",
      "90\n"
     ]
    }
   ],
   "source": [
    "for i in m1:\n",
    "    print(i)"
   ]
  },
  {
   "cell_type": "code",
   "execution_count": 164,
   "id": "6c856402-7966-48a0-ba9c-8c84c5b71706",
   "metadata": {},
   "outputs": [
    {
     "name": "stdout",
     "output_type": "stream",
     "text": [
      "(0, 'one')\n",
      "(1, 90)\n",
      "(2, 'six')\n",
      "(3, 'four')\n",
      "(4, 'three')\n",
      "(5, 'two')\n",
      "(6, 90)\n"
     ]
    }
   ],
   "source": [
    "for i in enumerate(m1):\n",
    "    print(i)"
   ]
  },
  {
   "cell_type": "code",
   "execution_count": 166,
   "id": "7fd5d0e8-2185-4a1c-8444-cbaea92364ff",
   "metadata": {},
   "outputs": [
    {
     "data": {
      "text/plain": [
       "['one', 90, 'six', 'four', 'three', 'two', 90]"
      ]
     },
     "execution_count": 166,
     "metadata": {},
     "output_type": "execute_result"
    }
   ],
   "source": [
    "m1"
   ]
  },
  {
   "cell_type": "code",
   "execution_count": 257,
   "id": "9092cd4d-9278-4815-a26f-ca454060c808",
   "metadata": {},
   "outputs": [
    {
     "data": {
      "text/plain": [
       "['kl', 'three', 'four', 90, 70, 'seven', 'eight', 'one']"
      ]
     },
     "execution_count": 257,
     "metadata": {},
     "output_type": "execute_result"
    }
   ],
   "source": [
    "m1[0] = 'kl'\n",
    "m1[3] = 90\n",
    "m1[4] = 70 #mutable\n",
    "m1"
   ]
  },
  {
   "cell_type": "code",
   "execution_count": 172,
   "id": "4eaa4a22-48dc-4033-af87-3c23f01d81da",
   "metadata": {},
   "outputs": [
    {
     "data": {
      "text/plain": [
       "1511884981824"
      ]
     },
     "execution_count": 172,
     "metadata": {},
     "output_type": "execute_result"
    }
   ],
   "source": [
    "id(m1)"
   ]
  },
  {
   "cell_type": "code",
   "execution_count": 176,
   "id": "24fd6c43-1773-4c5e-9625-7b54102d30f9",
   "metadata": {},
   "outputs": [],
   "source": [
    "m2 = []"
   ]
  },
  {
   "cell_type": "code",
   "execution_count": 192,
   "id": "bf5e31de-44cb-4f70-8484-d7dc9f02c149",
   "metadata": {},
   "outputs": [],
   "source": [
    "m2 = m1.copy()"
   ]
  },
  {
   "cell_type": "code",
   "execution_count": 194,
   "id": "f88dedf2-f393-4a94-814e-708fb4151eb2",
   "metadata": {},
   "outputs": [
    {
     "data": {
      "text/plain": [
       "['kl', 90, 'six', 90, 70, 'two', 90]"
      ]
     },
     "execution_count": 194,
     "metadata": {},
     "output_type": "execute_result"
    }
   ],
   "source": [
    "m2"
   ]
  },
  {
   "cell_type": "code",
   "execution_count": 196,
   "id": "6d009ebf-74f8-4119-8d4d-ae1d9c59f252",
   "metadata": {},
   "outputs": [
    {
     "data": {
      "text/plain": [
       "1511882331136"
      ]
     },
     "execution_count": 196,
     "metadata": {},
     "output_type": "execute_result"
    }
   ],
   "source": [
    "id(m2)"
   ]
  },
  {
   "cell_type": "code",
   "execution_count": 198,
   "id": "993aa35d-a9c2-40f5-9185-8c4aea849b1d",
   "metadata": {},
   "outputs": [
    {
     "data": {
      "text/plain": [
       "True"
      ]
     },
     "execution_count": 198,
     "metadata": {},
     "output_type": "execute_result"
    }
   ],
   "source": [
    "m2 == m1"
   ]
  },
  {
   "cell_type": "code",
   "execution_count": 202,
   "id": "a9eaf2ac-7e58-4e88-9ef8-91648f870645",
   "metadata": {},
   "outputs": [
    {
     "name": "stdout",
     "output_type": "stream",
     "text": [
      "1511884981824\n",
      "1511882331136\n"
     ]
    }
   ],
   "source": [
    "print(id(m1))\n",
    "print(id(m2))"
   ]
  },
  {
   "cell_type": "code",
   "execution_count": 204,
   "id": "f3935c97-1f6d-493d-b63c-adae25a99656",
   "metadata": {},
   "outputs": [
    {
     "ename": "TypeError",
     "evalue": "'<' not supported between instances of 'int' and 'str'",
     "output_type": "error",
     "traceback": [
      "\u001b[1;31m---------------------------------------------------------------------------\u001b[0m",
      "\u001b[1;31mTypeError\u001b[0m                                 Traceback (most recent call last)",
      "Cell \u001b[1;32mIn[204], line 1\u001b[0m\n\u001b[1;32m----> 1\u001b[0m m2\u001b[38;5;241m.\u001b[39msort()\n",
      "\u001b[1;31mTypeError\u001b[0m: '<' not supported between instances of 'int' and 'str'"
     ]
    }
   ],
   "source": [
    "m2.sort()"
   ]
  },
  {
   "cell_type": "code",
   "execution_count": 206,
   "id": "f561d312-d063-4377-b0e4-1e25fa240ddc",
   "metadata": {},
   "outputs": [],
   "source": [
    "m3 =[ 34,54,343242,67,78]"
   ]
  },
  {
   "cell_type": "code",
   "execution_count": 208,
   "id": "aa90c1e3-2690-4e75-9453-8614830556bc",
   "metadata": {},
   "outputs": [],
   "source": [
    "m3.sort()"
   ]
  },
  {
   "cell_type": "code",
   "execution_count": 210,
   "id": "458c50c3-b2de-43d3-b596-1a1d834f9df8",
   "metadata": {},
   "outputs": [
    {
     "data": {
      "text/plain": [
       "[34, 54, 67, 78, 343242]"
      ]
     },
     "execution_count": 210,
     "metadata": {},
     "output_type": "execute_result"
    }
   ],
   "source": [
    "m3"
   ]
  },
  {
   "cell_type": "code",
   "execution_count": 212,
   "id": "6ee3502a-15ab-44ad-9a6b-40b01595cf64",
   "metadata": {},
   "outputs": [
    {
     "data": {
      "text/plain": [
       "['kl',\n",
       " 90,\n",
       " 'six',\n",
       " 90,\n",
       " 70,\n",
       " 'two',\n",
       " 90,\n",
       " 'kl',\n",
       " 90,\n",
       " 'six',\n",
       " 90,\n",
       " 70,\n",
       " 'two',\n",
       " 90,\n",
       " 34,\n",
       " 54,\n",
       " 67,\n",
       " 78,\n",
       " 343242]"
      ]
     },
     "execution_count": 212,
     "metadata": {},
     "output_type": "execute_result"
    }
   ],
   "source": [
    "m4 = m1 + m2 + m3\n",
    "m4"
   ]
  },
  {
   "cell_type": "code",
   "execution_count": 216,
   "id": "5874b278-12e6-46a3-93bd-a5c2af5129c4",
   "metadata": {},
   "outputs": [
    {
     "name": "stdout",
     "output_type": "stream",
     "text": [
      "['kl', 90, 'six', 90, 70, 'two', 90, 'kl', 90, 'six', 90, 70, 'two', 90, 34, 54, 67, 78, 343242]\n"
     ]
    }
   ],
   "source": [
    "print(m4)"
   ]
  },
  {
   "cell_type": "code",
   "execution_count": 218,
   "id": "a32fcc8e-959e-442e-be47-e252ddc4514c",
   "metadata": {},
   "outputs": [
    {
     "data": {
      "text/plain": [
       "True"
      ]
     },
     "execution_count": 218,
     "metadata": {},
     "output_type": "execute_result"
    }
   ],
   "source": [
    "90 in m1"
   ]
  },
  {
   "cell_type": "code",
   "execution_count": 220,
   "id": "7ceb9004-014a-4caf-9d6d-83ef7c435932",
   "metadata": {},
   "outputs": [
    {
     "data": {
      "text/plain": [
       "True"
      ]
     },
     "execution_count": 220,
     "metadata": {},
     "output_type": "execute_result"
    }
   ],
   "source": [
    "90 in m2"
   ]
  },
  {
   "cell_type": "code",
   "execution_count": 434,
   "id": "d2a8c837-9ab3-481d-8470-5d01a9fb986b",
   "metadata": {},
   "outputs": [
    {
     "ename": "SyntaxError",
     "evalue": "expected ':' (2597301984.py, line 1)",
     "output_type": "error",
     "traceback": [
      "\u001b[1;36m  Cell \u001b[1;32mIn[434], line 1\u001b[1;36m\u001b[0m\n\u001b[1;33m    if 90 in m2\u001b[0m\n\u001b[1;37m               ^\u001b[0m\n\u001b[1;31mSyntaxError\u001b[0m\u001b[1;31m:\u001b[0m expected ':'\n"
     ]
    }
   ],
   "source": [
    "if 90 in m2"
   ]
  },
  {
   "cell_type": "code",
   "execution_count": 224,
   "id": "85cb9b57-b4c6-4239-959b-a723c51c226e",
   "metadata": {},
   "outputs": [
    {
     "data": {
      "text/plain": [
       "[34, 54, 67, 78, 343242]"
      ]
     },
     "execution_count": 224,
     "metadata": {},
     "output_type": "execute_result"
    }
   ],
   "source": []
  },
  {
   "cell_type": "code",
   "execution_count": 228,
   "id": "ec457ce7-cbd7-40c2-ab47-bd2c453fe03f",
   "metadata": {},
   "outputs": [
    {
     "name": "stdout",
     "output_type": "stream",
     "text": [
      "34 is present in the list\n"
     ]
    }
   ],
   "source": [
    "if 34 in m3:\n",
    "    print('34 is present in the list')"
   ]
  },
  {
   "cell_type": "code",
   "execution_count": 232,
   "id": "22d29a36-798c-4e1a-9404-ec6ebe1952d7",
   "metadata": {},
   "outputs": [
    {
     "name": "stdout",
     "output_type": "stream",
     "text": [
      "67 is not present in the list\n"
     ]
    }
   ],
   "source": [
    "if 67 in m3:\n",
    "    print('67 is not present in the list')"
   ]
  },
  {
   "cell_type": "code",
   "execution_count": 234,
   "id": "ebad4dcc-4c36-4463-b4bf-ef47fd113e8f",
   "metadata": {},
   "outputs": [],
   "source": [
    "m3.reverse()"
   ]
  },
  {
   "cell_type": "code",
   "execution_count": 442,
   "id": "ecee0ee6-e9f9-4dd3-b2e4-7060230b9da0",
   "metadata": {},
   "outputs": [
    {
     "data": {
      "text/plain": [
       "[343242, 90, 78, 67, 54, 34]"
      ]
     },
     "execution_count": 442,
     "metadata": {},
     "output_type": "execute_result"
    }
   ],
   "source": [
    "m3"
   ]
  },
  {
   "cell_type": "code",
   "execution_count": 448,
   "id": "e4b585a2-482b-4337-a842-c5aa6922bf63",
   "metadata": {},
   "outputs": [
    {
     "name": "stdout",
     "output_type": "stream",
     "text": [
      "90 is in the m3\n"
     ]
    }
   ],
   "source": [
    "if 90 in m3:\n",
    "    print('90 is in the m3')"
   ]
  },
  {
   "cell_type": "code",
   "execution_count": 238,
   "id": "32b2ae4c-eb24-42f8-8f4d-57e09f95025f",
   "metadata": {},
   "outputs": [],
   "source": [
    "m3.append(90)"
   ]
  },
  {
   "cell_type": "code",
   "execution_count": 240,
   "id": "9a11ab5e-999f-4840-a2a6-392cd445d37d",
   "metadata": {},
   "outputs": [
    {
     "data": {
      "text/plain": [
       "[343242, 78, 67, 54, 34, 90]"
      ]
     },
     "execution_count": 240,
     "metadata": {},
     "output_type": "execute_result"
    }
   ],
   "source": [
    "m3"
   ]
  },
  {
   "cell_type": "code",
   "execution_count": 252,
   "id": "1fd08ee1-88ac-4bd1-9871-a24d9e120929",
   "metadata": {},
   "outputs": [],
   "source": [
    "m3.sort(reverse = True)"
   ]
  },
  {
   "cell_type": "code",
   "execution_count": 254,
   "id": "5d30fb57-9985-4dfe-bd33-310c97fba4ca",
   "metadata": {},
   "outputs": [
    {
     "data": {
      "text/plain": [
       "[343242, 90, 78, 67, 54, 34]"
      ]
     },
     "execution_count": 254,
     "metadata": {},
     "output_type": "execute_result"
    }
   ],
   "source": [
    "m3"
   ]
  },
  {
   "cell_type": "code",
   "execution_count": 273,
   "id": "cfb35e6a-52dd-4de1-88b0-6f8b3fff18ed",
   "metadata": {},
   "outputs": [
    {
     "data": {
      "text/plain": [
       "['four', 'klf', 'one', 'three']"
      ]
     },
     "execution_count": 273,
     "metadata": {},
     "output_type": "execute_result"
    }
   ],
   "source": [
    " m4 = ['one', 'three', 'four','klf']\n",
    "sorted(m4)"
   ]
  },
  {
   "cell_type": "code",
   "execution_count": 271,
   "id": "daa80f5d-c5aa-4ed4-a4d1-f47ebb64ec77",
   "metadata": {},
   "outputs": [
    {
     "ename": "TypeError",
     "evalue": "'<' not supported between instances of 'int' and 'str'",
     "output_type": "error",
     "traceback": [
      "\u001b[1;31m---------------------------------------------------------------------------\u001b[0m",
      "\u001b[1;31mTypeError\u001b[0m                                 Traceback (most recent call last)",
      "Cell \u001b[1;32mIn[271], line 1\u001b[0m\n\u001b[1;32m----> 1\u001b[0m m4\u001b[38;5;241m.\u001b[39msort()\n",
      "\u001b[1;31mTypeError\u001b[0m: '<' not supported between instances of 'int' and 'str'"
     ]
    }
   ],
   "source": [
    "m4.sort()"
   ]
  },
  {
   "cell_type": "code",
   "execution_count": 265,
   "id": "2c6d1f85-3ba8-4af9-a8ea-f782100bb2d1",
   "metadata": {},
   "outputs": [
    {
     "data": {
      "text/plain": [
       "True"
      ]
     },
     "execution_count": 265,
     "metadata": {},
     "output_type": "execute_result"
    }
   ],
   "source": [
    "any(m4)"
   ]
  },
  {
   "cell_type": "code",
   "execution_count": 267,
   "id": "ef617ff1-e196-4365-ae87-1585283fc573",
   "metadata": {},
   "outputs": [],
   "source": [
    "m4.append(-1)"
   ]
  },
  {
   "cell_type": "code",
   "execution_count": 269,
   "id": "d2820d38-25cc-4985-8959-a614e101d7c7",
   "metadata": {},
   "outputs": [
    {
     "data": {
      "text/plain": [
       "['one', 'three', 'four', 'klf', -1]"
      ]
     },
     "execution_count": 269,
     "metadata": {},
     "output_type": "execute_result"
    }
   ],
   "source": [
    "m4"
   ]
  },
  {
   "cell_type": "code",
   "execution_count": 266,
   "id": "73d2b008-1702-4eea-b140-6dbc6f06d047",
   "metadata": {},
   "outputs": [
    {
     "data": {
      "text/plain": [
       "True"
      ]
     },
     "execution_count": 266,
     "metadata": {},
     "output_type": "execute_result"
    }
   ],
   "source": [
    "all(m4)"
   ]
  },
  {
   "cell_type": "code",
   "execution_count": 268,
   "id": "bc163be7-9c93-4840-a084-8c90264655f1",
   "metadata": {},
   "outputs": [
    {
     "data": {
      "text/plain": [
       "True"
      ]
     },
     "execution_count": 268,
     "metadata": {},
     "output_type": "execute_result"
    }
   ],
   "source": [
    "any(m4)"
   ]
  },
  {
   "cell_type": "markdown",
   "id": "49f482da-e623-4c33-8837-45a7d8d765d4",
   "metadata": {},
   "source": [
    "m4.append(False)\n",
    "m4"
   ]
  },
  {
   "cell_type": "code",
   "execution_count": 272,
   "id": "15fc8f50-9c3b-4de0-9ab3-34ec5b3de755",
   "metadata": {},
   "outputs": [
    {
     "data": {
      "text/plain": [
       "True"
      ]
     },
     "execution_count": 272,
     "metadata": {},
     "output_type": "execute_result"
    }
   ],
   "source": [
    "any(m4)"
   ]
  },
  {
   "cell_type": "code",
   "execution_count": 274,
   "id": "e2639a68-02ec-44bd-b8be-83d8c44febe1",
   "metadata": {},
   "outputs": [
    {
     "data": {
      "text/plain": [
       "False"
      ]
     },
     "execution_count": 274,
     "metadata": {},
     "output_type": "execute_result"
    }
   ],
   "source": [
    "all(m4)"
   ]
  },
  {
   "cell_type": "markdown",
   "id": "b5773acd-669b-4c94-88b9-74f7d3e87a6f",
   "metadata": {},
   "source": [
    "## list completed"
   ]
  },
  {
   "cell_type": "code",
   "execution_count": 281,
   "id": "d1983c53-6e41-469c-9bd8-7bfbf287b5e3",
   "metadata": {},
   "outputs": [],
   "source": [
    "tup1 = ()"
   ]
  },
  {
   "cell_type": "code",
   "execution_count": 283,
   "id": "1f4d1505-d7b1-4f08-bce4-766d360443f5",
   "metadata": {},
   "outputs": [
    {
     "data": {
      "text/plain": [
       "tuple"
      ]
     },
     "execution_count": 283,
     "metadata": {},
     "output_type": "execute_result"
    }
   ],
   "source": [
    "type(tup1)"
   ]
  },
  {
   "cell_type": "code",
   "execution_count": 287,
   "id": "bd539bdd-4fdf-49c1-b214-fec5fa057395",
   "metadata": {},
   "outputs": [],
   "source": [
    "tup2 = (10,20,30)"
   ]
  },
  {
   "cell_type": "code",
   "execution_count": 289,
   "id": "605814d3-f0e5-4de2-98ff-5efdf2a2ea8c",
   "metadata": {},
   "outputs": [],
   "source": [
    "tup3 = (10.22,45.67,67.67,87.89)\n"
   ]
  },
  {
   "cell_type": "code",
   "execution_count": 291,
   "id": "5d4d630a-f4f3-4f82-b46b-8e47c54d6236",
   "metadata": {},
   "outputs": [],
   "source": [
    "tup4 = ('one', 'two', 'three')"
   ]
  },
  {
   "cell_type": "code",
   "execution_count": 293,
   "id": "d2cb5d79-d4b7-4dba-9e92-4a7f357e3c5d",
   "metadata": {},
   "outputs": [],
   "source": [
    "tup5 = ('asif', 40, (50,'nit'), (79,78))"
   ]
  },
  {
   "cell_type": "code",
   "execution_count": 295,
   "id": "a8f52012-3ec4-4c21-955f-dbcd5d89c049",
   "metadata": {},
   "outputs": [],
   "source": [
    "tup6 = ('asif', 67, ('bit','kli'), {'john','deer'}, (99,90,100))"
   ]
  },
  {
   "cell_type": "code",
   "execution_count": 297,
   "id": "9c1767ec-0e27-46ef-af5f-88f6e74ad219",
   "metadata": {},
   "outputs": [
    {
     "data": {
      "text/plain": [
       "5"
      ]
     },
     "execution_count": 297,
     "metadata": {},
     "output_type": "execute_result"
    }
   ],
   "source": [
    "len(tup6)"
   ]
  },
  {
   "cell_type": "code",
   "execution_count": 299,
   "id": "745ff3f8-c26c-43c4-9080-f21fa1dddf0a",
   "metadata": {},
   "outputs": [
    {
     "data": {
      "text/plain": [
       "{'deer', 'john'}"
      ]
     },
     "execution_count": 299,
     "metadata": {},
     "output_type": "execute_result"
    }
   ],
   "source": [
    "tup6[3]"
   ]
  },
  {
   "cell_type": "code",
   "execution_count": 301,
   "id": "4d28f78d-d1e2-47cf-b6e5-9d0d759b57cd",
   "metadata": {},
   "outputs": [
    {
     "data": {
      "text/plain": [
       "('bit', 'kli')"
      ]
     },
     "execution_count": 301,
     "metadata": {},
     "output_type": "execute_result"
    }
   ],
   "source": [
    "tup6[2]"
   ]
  },
  {
   "cell_type": "code",
   "execution_count": 303,
   "id": "a1350e4b-b723-426b-9ec5-d67944b08c06",
   "metadata": {},
   "outputs": [
    {
     "data": {
      "text/plain": [
       "'a'"
      ]
     },
     "execution_count": 303,
     "metadata": {},
     "output_type": "execute_result"
    }
   ],
   "source": [
    "tup6[0][0]"
   ]
  },
  {
   "cell_type": "code",
   "execution_count": 309,
   "id": "fe27c367-2a24-4eeb-830a-382951f42404",
   "metadata": {},
   "outputs": [
    {
     "data": {
      "text/plain": [
       "(99, 90, 100)"
      ]
     },
     "execution_count": 309,
     "metadata": {},
     "output_type": "execute_result"
    }
   ],
   "source": [
    "tup6[-1]"
   ]
  },
  {
   "cell_type": "code",
   "execution_count": 311,
   "id": "1f06fcb9-4406-4cbd-95f4-af349ddd1617",
   "metadata": {},
   "outputs": [
    {
     "data": {
      "text/plain": [
       "('asif', 67, ('bit', 'kli'), {'deer', 'john'}, (99, 90, 100))"
      ]
     },
     "execution_count": 311,
     "metadata": {},
     "output_type": "execute_result"
    }
   ],
   "source": [
    "tup6[0:5]"
   ]
  },
  {
   "cell_type": "code",
   "execution_count": 315,
   "id": "03237d2b-a51a-41aa-848b-d8d0463006e9",
   "metadata": {},
   "outputs": [
    {
     "data": {
      "text/plain": [
       "(10.22, 45.67, 67.67)"
      ]
     },
     "execution_count": 315,
     "metadata": {},
     "output_type": "execute_result"
    }
   ],
   "source": [
    "tup3[:3]"
   ]
  },
  {
   "cell_type": "code",
   "execution_count": 323,
   "id": "ec195f1b-c9d8-4993-93f6-8bd66ef0ebaa",
   "metadata": {},
   "outputs": [
    {
     "data": {
      "text/plain": [
       "(20, 30)"
      ]
     },
     "execution_count": 323,
     "metadata": {},
     "output_type": "execute_result"
    }
   ],
   "source": [
    "tup2[-2:] #return lat two items \n"
   ]
  },
  {
   "cell_type": "code",
   "execution_count": 345,
   "id": "44b48b54-7aa9-4155-8b04-280212b4aad2",
   "metadata": {},
   "outputs": [],
   "source": [
    "m5 = (45,56,56,23,23,45)"
   ]
  },
  {
   "cell_type": "code",
   "execution_count": 347,
   "id": "e6586f19-dae1-4b2c-a2ea-dcaa73df975f",
   "metadata": {},
   "outputs": [
    {
     "data": {
      "text/plain": [
       "(45, 56, 56, 23, 23)"
      ]
     },
     "execution_count": 347,
     "metadata": {},
     "output_type": "execute_result"
    }
   ],
   "source": [
    "m5[:5]"
   ]
  },
  {
   "cell_type": "code",
   "execution_count": 349,
   "id": "6a9c40f2-4da1-4035-a4e0-bc4496382730",
   "metadata": {},
   "outputs": [
    {
     "data": {
      "text/plain": [
       "(45,)"
      ]
     },
     "execution_count": 349,
     "metadata": {},
     "output_type": "execute_result"
    }
   ],
   "source": [
    "m5[5:]"
   ]
  },
  {
   "cell_type": "code",
   "execution_count": 354,
   "id": "866aa6f7-a270-4588-acb0-1b4d417b3d5a",
   "metadata": {},
   "outputs": [
    {
     "data": {
      "text/plain": [
       "(45, 56, 56, 23, 23, 45)"
      ]
     },
     "execution_count": 354,
     "metadata": {},
     "output_type": "execute_result"
    }
   ],
   "source": [
    "m5"
   ]
  },
  {
   "cell_type": "code",
   "execution_count": 363,
   "id": "aed38a39-f124-4a24-8f7c-f276ef827b58",
   "metadata": {},
   "outputs": [
    {
     "data": {
      "text/plain": [
       "(56, 23)"
      ]
     },
     "execution_count": 363,
     "metadata": {},
     "output_type": "execute_result"
    }
   ],
   "source": [
    "m5[1:5:2]"
   ]
  },
  {
   "cell_type": "code",
   "execution_count": 374,
   "id": "15d4c439-2d25-48ef-933c-c5063ea4e775",
   "metadata": {},
   "outputs": [
    {
     "ename": "NameError",
     "evalue": "name 'm5' is not defined",
     "output_type": "error",
     "traceback": [
      "\u001b[1;31m---------------------------------------------------------------------------\u001b[0m",
      "\u001b[1;31mNameError\u001b[0m                                 Traceback (most recent call last)",
      "Cell \u001b[1;32mIn[374], line 1\u001b[0m\n\u001b[1;32m----> 1\u001b[0m m5[:]\n",
      "\u001b[1;31mNameError\u001b[0m: name 'm5' is not defined"
     ]
    }
   ],
   "source": [
    "m5[:]"
   ]
  },
  {
   "cell_type": "code",
   "execution_count": null,
   "id": "17078d77-cac3-46cc-abbc-e7d9c5ddd1aa",
   "metadata": {},
   "outputs": [],
   "source": []
  },
  {
   "cell_type": "code",
   "execution_count": 372,
   "id": "27efda70-4b98-4578-a786-5f3e2742f196",
   "metadata": {},
   "outputs": [
    {
     "ename": "NameError",
     "evalue": "name 'm5' is not defined",
     "output_type": "error",
     "traceback": [
      "\u001b[1;31m---------------------------------------------------------------------------\u001b[0m",
      "\u001b[1;31mNameError\u001b[0m                                 Traceback (most recent call last)",
      "Cell \u001b[1;32mIn[372], line 1\u001b[0m\n\u001b[1;32m----> 1\u001b[0m m5\n",
      "\u001b[1;31mNameError\u001b[0m: name 'm5' is not defined"
     ]
    }
   ],
   "source": [
    "m5"
   ]
  },
  {
   "cell_type": "code",
   "execution_count": 376,
   "id": "19b03906-57d4-4b06-86c6-e99e4c8435a7",
   "metadata": {},
   "outputs": [],
   "source": [
    "m5 = (45,56,56,23,23,45)"
   ]
  },
  {
   "cell_type": "code",
   "execution_count": 378,
   "id": "a035b5cc-3f9d-40fb-9454-f668e2836ec0",
   "metadata": {},
   "outputs": [
    {
     "data": {
      "text/plain": [
       "(45, 56, 56, 23, 23, 45)"
      ]
     },
     "execution_count": 378,
     "metadata": {},
     "output_type": "execute_result"
    }
   ],
   "source": [
    "m5"
   ]
  },
  {
   "cell_type": "code",
   "execution_count": 382,
   "id": "96037d07-9bae-4d29-b9f9-fa3e3b237ca3",
   "metadata": {},
   "outputs": [
    {
     "ename": "TypeError",
     "evalue": "'tuple' object doesn't support item deletion",
     "output_type": "error",
     "traceback": [
      "\u001b[1;31m---------------------------------------------------------------------------\u001b[0m",
      "\u001b[1;31mTypeError\u001b[0m                                 Traceback (most recent call last)",
      "Cell \u001b[1;32mIn[382], line 1\u001b[0m\n\u001b[1;32m----> 1\u001b[0m \u001b[38;5;28;01mdel\u001b[39;00m m5[\u001b[38;5;241m2\u001b[39m]\n",
      "\u001b[1;31mTypeError\u001b[0m: 'tuple' object doesn't support item deletion"
     ]
    }
   ],
   "source": [
    "del m5[2]"
   ]
  },
  {
   "cell_type": "code",
   "execution_count": 384,
   "id": "c20a2ad9-e902-43a5-ac58-a04a72f430bd",
   "metadata": {},
   "outputs": [
    {
     "ename": "TypeError",
     "evalue": "'tuple' object does not support item assignment",
     "output_type": "error",
     "traceback": [
      "\u001b[1;31m---------------------------------------------------------------------------\u001b[0m",
      "\u001b[1;31mTypeError\u001b[0m                                 Traceback (most recent call last)",
      "Cell \u001b[1;32mIn[384], line 1\u001b[0m\n\u001b[1;32m----> 1\u001b[0m m5[\u001b[38;5;241m3\u001b[39m] \u001b[38;5;241m=\u001b[39m \u001b[38;5;241m5\u001b[39m\n",
      "\u001b[1;31mTypeError\u001b[0m: 'tuple' object does not support item assignment"
     ]
    }
   ],
   "source": [
    "m5[3] = 5"
   ]
  },
  {
   "cell_type": "code",
   "execution_count": 388,
   "id": "e41abcb7-f2fe-40a7-b6ba-d5ed08f88c49",
   "metadata": {},
   "outputs": [
    {
     "name": "stdout",
     "output_type": "stream",
     "text": [
      "45\n",
      "56\n",
      "56\n",
      "23\n",
      "23\n",
      "45\n"
     ]
    }
   ],
   "source": [
    "for i in m5:\n",
    "    print(i)"
   ]
  },
  {
   "cell_type": "code",
   "execution_count": 394,
   "id": "3c6092f5-7ff0-48cf-ad9c-a601e6affe11",
   "metadata": {},
   "outputs": [
    {
     "name": "stdout",
     "output_type": "stream",
     "text": [
      "(0, 45)\n",
      "(1, 56)\n",
      "(2, 56)\n",
      "(3, 23)\n",
      "(4, 23)\n",
      "(5, 45)\n"
     ]
    }
   ],
   "source": [
    "for i in enumerate(m5):\n",
    "    print(i)\n",
    "    "
   ]
  },
  {
   "cell_type": "code",
   "execution_count": 396,
   "id": "6803ce4f-6fa0-426c-a8a2-691704ca730d",
   "metadata": {},
   "outputs": [
    {
     "data": {
      "text/plain": [
       "(45, 56, 56, 23, 23, 45)"
      ]
     },
     "execution_count": 396,
     "metadata": {},
     "output_type": "execute_result"
    }
   ],
   "source": [
    "m5"
   ]
  },
  {
   "cell_type": "code",
   "execution_count": 398,
   "id": "13b5744a-4d04-48ed-9093-1b7b93a028d7",
   "metadata": {},
   "outputs": [
    {
     "data": {
      "text/plain": [
       "True"
      ]
     },
     "execution_count": 398,
     "metadata": {},
     "output_type": "execute_result"
    }
   ],
   "source": [
    "45 in m5"
   ]
  },
  {
   "cell_type": "code",
   "execution_count": 400,
   "id": "01b0d0ab-c743-4561-82a2-d2eb9a904dc4",
   "metadata": {},
   "outputs": [
    {
     "data": {
      "text/plain": [
       "False"
      ]
     },
     "execution_count": 400,
     "metadata": {},
     "output_type": "execute_result"
    }
   ],
   "source": [
    "10 in m5\n"
   ]
  },
  {
   "cell_type": "code",
   "execution_count": 275,
   "id": "7ba55cd8-0295-40d6-a758-e641f91dffd0",
   "metadata": {},
   "outputs": [],
   "source": [
    "m6 = ('one','two','three','four','six','seven')"
   ]
  },
  {
   "cell_type": "code",
   "execution_count": 277,
   "id": "9f894dc8-e41a-4b5c-bc08-b8f12594fea5",
   "metadata": {},
   "outputs": [
    {
     "data": {
      "text/plain": [
       "('one', 'two', 'three', 'four', 'six', 'seven')"
      ]
     },
     "execution_count": 277,
     "metadata": {},
     "output_type": "execute_result"
    }
   ],
   "source": [
    "m6"
   ]
  },
  {
   "cell_type": "code",
   "execution_count": 279,
   "id": "da85bb95-2bd9-4597-a968-3c893399dc89",
   "metadata": {},
   "outputs": [
    {
     "data": {
      "text/plain": [
       "'seven'"
      ]
     },
     "execution_count": 279,
     "metadata": {},
     "output_type": "execute_result"
    }
   ],
   "source": [
    "m6[5]"
   ]
  },
  {
   "cell_type": "code",
   "execution_count": 285,
   "id": "e81d3e63-8a68-47d2-825e-9f4a578fdf6d",
   "metadata": {},
   "outputs": [
    {
     "data": {
      "text/plain": [
       "('one', 'two', 'three')"
      ]
     },
     "execution_count": 285,
     "metadata": {},
     "output_type": "execute_result"
    }
   ],
   "source": [
    "m6[:-3]\n"
   ]
  },
  {
   "cell_type": "code",
   "execution_count": 283,
   "id": "48959247-3e08-4038-9769-1bc98f2ecd1e",
   "metadata": {},
   "outputs": [
    {
     "data": {
      "text/plain": [
       "('four', 'six', 'seven')"
      ]
     },
     "execution_count": 283,
     "metadata": {},
     "output_type": "execute_result"
    }
   ],
   "source": [
    "m6[-3:]"
   ]
  },
  {
   "cell_type": "code",
   "execution_count": 418,
   "id": "bd6c72f9-dbfb-4180-8d0d-78b13d5358d7",
   "metadata": {},
   "outputs": [
    {
     "data": {
      "text/plain": [
       "2"
      ]
     },
     "execution_count": 418,
     "metadata": {},
     "output_type": "execute_result"
    }
   ],
   "source": [
    "m6.index('three')\n"
   ]
  },
  {
   "cell_type": "code",
   "execution_count": 420,
   "id": "608e331a-18fd-424f-8fa8-6c5e3f6312ca",
   "metadata": {},
   "outputs": [
    {
     "data": {
      "text/plain": [
       "1"
      ]
     },
     "execution_count": 420,
     "metadata": {},
     "output_type": "execute_result"
    }
   ],
   "source": [
    "m6.count('three')"
   ]
  },
  {
   "cell_type": "code",
   "execution_count": 422,
   "id": "8c295a94-d468-4602-bb61-42bab27cd32a",
   "metadata": {},
   "outputs": [
    {
     "data": {
      "text/plain": [
       "['four', 'one', 'seven', 'six', 'three', 'two']"
      ]
     },
     "execution_count": 422,
     "metadata": {},
     "output_type": "execute_result"
    }
   ],
   "source": [
    "sorted(m6)"
   ]
  },
  {
   "cell_type": "code",
   "execution_count": 424,
   "id": "92b17271-befb-4b53-b7ce-378822e982f1",
   "metadata": {},
   "outputs": [
    {
     "data": {
      "text/plain": [
       "('one', 'two', 'three', 'four', 'six', 'seven')"
      ]
     },
     "execution_count": 424,
     "metadata": {},
     "output_type": "execute_result"
    }
   ],
   "source": [
    "m6"
   ]
  },
  {
   "cell_type": "code",
   "execution_count": 428,
   "id": "7fdbcc50-5f16-445a-9ad7-267b8472b6f6",
   "metadata": {},
   "outputs": [
    {
     "data": {
      "text/plain": [
       "['two', 'three', 'six', 'seven', 'one', 'four']"
      ]
     },
     "execution_count": 428,
     "metadata": {},
     "output_type": "execute_result"
    }
   ],
   "source": [
    "sorted(m6, reverse = True)"
   ]
  },
  {
   "cell_type": "code",
   "execution_count": 287,
   "id": "20770568-da70-4a28-b15c-2e2dfb19d78c",
   "metadata": {},
   "outputs": [
    {
     "data": {
      "text/plain": [
       "True"
      ]
     },
     "execution_count": 287,
     "metadata": {},
     "output_type": "execute_result"
    }
   ],
   "source": [
    " 'three' in m6"
   ]
  },
  {
   "cell_type": "code",
   "execution_count": 289,
   "id": "c2423a3f-3b93-4b84-a6e6-f352efe738e9",
   "metadata": {},
   "outputs": [
    {
     "data": {
      "text/plain": [
       "('one', 'two', 'three', 'four', 'six', 'seven')"
      ]
     },
     "execution_count": 289,
     "metadata": {},
     "output_type": "execute_result"
    }
   ],
   "source": [
    "m6"
   ]
  },
  {
   "cell_type": "code",
   "execution_count": 291,
   "id": "0643c624-eff6-4fcc-bd61-300319e3182f",
   "metadata": {},
   "outputs": [
    {
     "ename": "TypeError",
     "evalue": "'tuple' object does not support item assignment",
     "output_type": "error",
     "traceback": [
      "\u001b[1;31m---------------------------------------------------------------------------\u001b[0m",
      "\u001b[1;31mTypeError\u001b[0m                                 Traceback (most recent call last)",
      "Cell \u001b[1;32mIn[291], line 1\u001b[0m\n\u001b[1;32m----> 1\u001b[0m m6[\u001b[38;5;241m1\u001b[39m]\u001b[38;5;241m=\u001b[39m[\u001b[38;5;124m'\u001b[39m\u001b[38;5;124mnit\u001b[39m\u001b[38;5;124m'\u001b[39m]\n",
      "\u001b[1;31mTypeError\u001b[0m: 'tuple' object does not support item assignment"
     ]
    }
   ],
   "source": [
    "m6[1]=['nit']"
   ]
  },
  {
   "cell_type": "markdown",
   "id": "7e8ad5ca-2b7c-4afc-ba9a-e7b77ad82708",
   "metadata": {},
   "source": [
    "# tuple completed"
   ]
  },
  {
   "cell_type": "markdown",
   "id": "ea3c850a-9463-497d-a016-fc3461c9d1de",
   "metadata": {},
   "source": [
    "# set "
   ]
  },
  {
   "cell_type": "code",
   "execution_count": 299,
   "id": "dcb03df7-edaf-4a95-b010-28cd443e0025",
   "metadata": {},
   "outputs": [
    {
     "data": {
      "text/plain": [
       "{}"
      ]
     },
     "execution_count": 299,
     "metadata": {},
     "output_type": "execute_result"
    }
   ],
   "source": [
    "s = {}\n",
    "s"
   ]
  },
  {
   "cell_type": "code",
   "execution_count": 301,
   "id": "eadcee33-e5de-423f-8a25-d894a125316b",
   "metadata": {},
   "outputs": [
    {
     "data": {
      "text/plain": [
       "dict"
      ]
     },
     "execution_count": 301,
     "metadata": {},
     "output_type": "execute_result"
    }
   ],
   "source": [
    "type(s)"
   ]
  },
  {
   "cell_type": "code",
   "execution_count": 303,
   "id": "14e05328-347c-483d-a19a-557983493f49",
   "metadata": {},
   "outputs": [
    {
     "data": {
      "text/plain": [
       "set"
      ]
     },
     "execution_count": 303,
     "metadata": {},
     "output_type": "execute_result"
    }
   ],
   "source": [
    "s = set()\n",
    "type(s)"
   ]
  },
  {
   "cell_type": "code",
   "execution_count": 305,
   "id": "ccc77cb2-51b4-4188-97a8-e79b847d1354",
   "metadata": {},
   "outputs": [
    {
     "data": {
      "text/plain": [
       "{12, 23, 42, 45, 56}"
      ]
     },
     "execution_count": 305,
     "metadata": {},
     "output_type": "execute_result"
    }
   ],
   "source": [
    "s = {12,42,23,45,56}\n",
    "s"
   ]
  },
  {
   "cell_type": "code",
   "execution_count": 307,
   "id": "58908687-6631-4d32-b4a9-defa5d937612",
   "metadata": {},
   "outputs": [],
   "source": [
    "s.add(25)"
   ]
  },
  {
   "cell_type": "code",
   "execution_count": 309,
   "id": "66500cea-6489-4d6c-9fa2-a93cdd905cd0",
   "metadata": {},
   "outputs": [
    {
     "data": {
      "text/plain": [
       "{12, 23, 25, 42, 45, 56}"
      ]
     },
     "execution_count": 309,
     "metadata": {},
     "output_type": "execute_result"
    }
   ],
   "source": [
    "s"
   ]
  },
  {
   "cell_type": "code",
   "execution_count": 311,
   "id": "588bb8ae-530e-48a1-ab90-64c101cb869d",
   "metadata": {},
   "outputs": [
    {
     "ename": "TypeError",
     "evalue": "set.pop() takes no arguments (1 given)",
     "output_type": "error",
     "traceback": [
      "\u001b[1;31m---------------------------------------------------------------------------\u001b[0m",
      "\u001b[1;31mTypeError\u001b[0m                                 Traceback (most recent call last)",
      "Cell \u001b[1;32mIn[311], line 1\u001b[0m\n\u001b[1;32m----> 1\u001b[0m s\u001b[38;5;241m.\u001b[39mpop(\u001b[38;5;241m2\u001b[39m)\n",
      "\u001b[1;31mTypeError\u001b[0m: set.pop() takes no arguments (1 given)"
     ]
    }
   ],
   "source": [
    "s.pop(2)"
   ]
  },
  {
   "cell_type": "code",
   "execution_count": 313,
   "id": "a4f131a7-96ef-4ea8-a91c-731ae2071b22",
   "metadata": {},
   "outputs": [],
   "source": [
    "s1= {12,13,14,15,16,17,18}\n",
    "s2 = {'one','three','four', 'sic','seven'}\n",
    "s3 = {17,18,19,20,21}"
   ]
  },
  {
   "cell_type": "code",
   "execution_count": 315,
   "id": "6d712802-9dae-41de-9c19-213681e8e2d6",
   "metadata": {},
   "outputs": [
    {
     "name": "stdout",
     "output_type": "stream",
     "text": [
      "{16, 17, 18, 12, 13, 14, 15}\n",
      "{'sic', 'four', 'seven', 'three', 'one'}\n",
      "{17, 18, 19, 20, 21}\n"
     ]
    }
   ],
   "source": [
    "print(s1)\n",
    "print(s2)\n",
    "print(s3)"
   ]
  },
  {
   "cell_type": "code",
   "execution_count": 317,
   "id": "a0023621-8417-406f-ae36-0f38efa8b834",
   "metadata": {},
   "outputs": [
    {
     "data": {
      "text/plain": [
       "{12, 13, 14, 15, 16}"
      ]
     },
     "execution_count": 317,
     "metadata": {},
     "output_type": "execute_result"
    }
   ],
   "source": [
    "s1-s3  #difference"
   ]
  },
  {
   "cell_type": "code",
   "execution_count": 319,
   "id": "d4b6f98a-fb58-49be-9ca9-515cd2d7ce4a",
   "metadata": {},
   "outputs": [
    {
     "data": {
      "text/plain": [
       "{12, 13, 14, 15, 16, 17, 18}"
      ]
     },
     "execution_count": 319,
     "metadata": {},
     "output_type": "execute_result"
    }
   ],
   "source": [
    "s1-s2"
   ]
  },
  {
   "cell_type": "code",
   "execution_count": 321,
   "id": "72b62fd6-ea22-4aa6-a827-3e4d47307321",
   "metadata": {},
   "outputs": [
    {
     "data": {
      "text/plain": [
       "{17, 18}"
      ]
     },
     "execution_count": 321,
     "metadata": {},
     "output_type": "execute_result"
    }
   ],
   "source": [
    "s1&s3 #intersection"
   ]
  },
  {
   "cell_type": "code",
   "execution_count": 323,
   "id": "867ba0cf-70c8-4461-8a08-b04d948dbda0",
   "metadata": {},
   "outputs": [
    {
     "data": {
      "text/plain": [
       "{12, 13, 14, 15, 16, 19, 20, 21}"
      ]
     },
     "execution_count": 323,
     "metadata": {},
     "output_type": "execute_result"
    }
   ],
   "source": [
    "s1.symmetric_difference(s3)"
   ]
  },
  {
   "cell_type": "code",
   "execution_count": 325,
   "id": "7c42cb97-1069-42dd-ab2f-32733a650387",
   "metadata": {},
   "outputs": [
    {
     "data": {
      "text/plain": [
       "{17, 18}"
      ]
     },
     "execution_count": 325,
     "metadata": {},
     "output_type": "execute_result"
    }
   ],
   "source": [
    "s1.intersection(s3)"
   ]
  },
  {
   "cell_type": "code",
   "execution_count": 327,
   "id": "9eacad8e-2196-4cb2-a64e-45dd5cf95ae0",
   "metadata": {},
   "outputs": [
    {
     "data": {
      "text/plain": [
       "{12, 13, 14, 15, 16, 17, 18, 19, 20, 21}"
      ]
     },
     "execution_count": 327,
     "metadata": {},
     "output_type": "execute_result"
    }
   ],
   "source": [
    "s1 | s3"
   ]
  },
  {
   "cell_type": "code",
   "execution_count": 329,
   "id": "a74121c1-4d52-4e32-a482-7b25117dd8d9",
   "metadata": {},
   "outputs": [
    {
     "data": {
      "text/plain": [
       "{12, 13, 14, 15, 16, 17, 18, 'four', 'one', 'seven', 'sic', 'three'}"
      ]
     },
     "execution_count": 329,
     "metadata": {},
     "output_type": "execute_result"
    }
   ],
   "source": [
    "s1|s2"
   ]
  },
  {
   "cell_type": "code",
   "execution_count": 331,
   "id": "b913454d-2b64-4ce5-83e9-9b701573eedf",
   "metadata": {},
   "outputs": [
    {
     "data": {
      "text/plain": [
       "{12, 13, 14, 15, 16, 17, 18, 'four', 'one', 'seven', 'sic', 'three'}"
      ]
     },
     "execution_count": 331,
     "metadata": {},
     "output_type": "execute_result"
    }
   ],
   "source": [
    "s1.union(s2)"
   ]
  },
  {
   "cell_type": "code",
   "execution_count": 333,
   "id": "f3f8b591-2d7d-4a1a-9e0f-a866303f7d5a",
   "metadata": {},
   "outputs": [],
   "source": [
    "s1.remove(12)"
   ]
  },
  {
   "cell_type": "code",
   "execution_count": 335,
   "id": "e979bec8-8f70-4b14-bc11-864efa50dd56",
   "metadata": {},
   "outputs": [
    {
     "data": {
      "text/plain": [
       "{13, 14, 15, 16, 17, 18}"
      ]
     },
     "execution_count": 335,
     "metadata": {},
     "output_type": "execute_result"
    }
   ],
   "source": [
    "s1"
   ]
  },
  {
   "cell_type": "code",
   "execution_count": 337,
   "id": "7831f7a5-948c-40ad-ab9e-2b07f9969a20",
   "metadata": {},
   "outputs": [
    {
     "data": {
      "text/plain": [
       "[18, 17, 16, 15, 14, 13]"
      ]
     },
     "execution_count": 337,
     "metadata": {},
     "output_type": "execute_result"
    }
   ],
   "source": [
    "sorted(s1, reverse = True)"
   ]
  },
  {
   "cell_type": "code",
   "execution_count": 339,
   "id": "0c7b1770-0b3b-4bf3-b52c-67de55ac59a9",
   "metadata": {},
   "outputs": [
    {
     "data": {
      "text/plain": [
       "[13, 14, 15, 16, 17, 18]"
      ]
     },
     "execution_count": 339,
     "metadata": {},
     "output_type": "execute_result"
    }
   ],
   "source": [
    "sorted(s1)"
   ]
  },
  {
   "cell_type": "code",
   "execution_count": 345,
   "id": "c340a8b2-6935-4873-9900-a2044cb3e2ff",
   "metadata": {},
   "outputs": [
    {
     "data": {
      "text/plain": [
       "{13, 14, 15, 16, 17, 18}"
      ]
     },
     "execution_count": 345,
     "metadata": {},
     "output_type": "execute_result"
    }
   ],
   "source": [
    "s1"
   ]
  },
  {
   "cell_type": "code",
   "execution_count": 65,
   "id": "49cb0a06-ac3c-4f89-82ff-1099aa49e071",
   "metadata": {},
   "outputs": [],
   "source": [
    "s3 = {}"
   ]
  },
  {
   "cell_type": "code",
   "execution_count": 73,
   "id": "311381ff-b284-4c00-87e9-6097db18a9cb",
   "metadata": {},
   "outputs": [],
   "source": [
    "s3=s1.copy()"
   ]
  },
  {
   "cell_type": "code",
   "execution_count": 75,
   "id": "42f159cb-a3f8-4c48-b294-612803690e74",
   "metadata": {},
   "outputs": [
    {
     "data": {
      "text/plain": [
       "{13, 14, 15, 16, 17, 18}"
      ]
     },
     "execution_count": 75,
     "metadata": {},
     "output_type": "execute_result"
    }
   ],
   "source": [
    "s3"
   ]
  },
  {
   "cell_type": "code",
   "execution_count": 77,
   "id": "c2fb6647-2d2e-4f7a-b104-0f29aebb57b1",
   "metadata": {},
   "outputs": [],
   "source": [
    "s3.clear()"
   ]
  },
  {
   "cell_type": "code",
   "execution_count": 79,
   "id": "7e6b2891-7634-4668-8fe4-be96fa7d89ac",
   "metadata": {},
   "outputs": [
    {
     "data": {
      "text/plain": [
       "set()"
      ]
     },
     "execution_count": 79,
     "metadata": {},
     "output_type": "execute_result"
    }
   ],
   "source": [
    "s3"
   ]
  },
  {
   "cell_type": "code",
   "execution_count": 347,
   "id": "388714ef-3f69-4eff-a00f-6ec5e5b02aec",
   "metadata": {},
   "outputs": [
    {
     "name": "stdout",
     "output_type": "stream",
     "text": [
      "{1, 2, 3, 4, 5}\n",
      "{4, 5, 6, 7, 8}\n",
      "{8, 9, 10, 11}\n"
     ]
    }
   ],
   "source": [
    "k = {1,2, 3, 4,5}\n",
    "l = {4,5,6,7,8}\n",
    "m = {8,9,10,11}\n",
    "print(k)\n",
    "print(l)\n",
    "print(m)"
   ]
  },
  {
   "cell_type": "code",
   "execution_count": 349,
   "id": "479d0f72-8b0d-4eff-9a34-7a78d13990ed",
   "metadata": {},
   "outputs": [
    {
     "data": {
      "text/plain": [
       "{4, 5}"
      ]
     },
     "execution_count": 349,
     "metadata": {},
     "output_type": "execute_result"
    }
   ],
   "source": [
    "k.intersection(l)"
   ]
  },
  {
   "cell_type": "code",
   "execution_count": 351,
   "id": "2c8d7cc3-9915-4bd1-9de3-6fa00b910708",
   "metadata": {},
   "outputs": [
    {
     "data": {
      "text/plain": [
       "{4, 5}"
      ]
     },
     "execution_count": 351,
     "metadata": {},
     "output_type": "execute_result"
    }
   ],
   "source": [
    "k&l"
   ]
  },
  {
   "cell_type": "code",
   "execution_count": 353,
   "id": "43ed656b-76ef-45b8-b74b-fa90ea5383da",
   "metadata": {},
   "outputs": [
    {
     "data": {
      "text/plain": [
       "{1, 2, 3}"
      ]
     },
     "execution_count": 353,
     "metadata": {},
     "output_type": "execute_result"
    }
   ],
   "source": [
    "k-l"
   ]
  },
  {
   "cell_type": "code",
   "execution_count": 355,
   "id": "9d4cb47e-efd4-4489-9ba1-018722a24ea3",
   "metadata": {},
   "outputs": [
    {
     "data": {
      "text/plain": [
       "{1, 2, 3}"
      ]
     },
     "execution_count": 355,
     "metadata": {},
     "output_type": "execute_result"
    }
   ],
   "source": [
    "k.difference(l)"
   ]
  },
  {
   "cell_type": "code",
   "execution_count": 357,
   "id": "9cc34c41-16c8-46a9-8de6-a710e9428737",
   "metadata": {},
   "outputs": [
    {
     "data": {
      "text/plain": [
       "True"
      ]
     },
     "execution_count": 357,
     "metadata": {},
     "output_type": "execute_result"
    }
   ],
   "source": [
    "k.isdisjoint(m)"
   ]
  },
  {
   "cell_type": "code",
   "execution_count": 359,
   "id": "4044c506-8f18-4aa9-b8f1-0e9e0f26e171",
   "metadata": {},
   "outputs": [
    {
     "data": {
      "text/plain": [
       "False"
      ]
     },
     "execution_count": 359,
     "metadata": {},
     "output_type": "execute_result"
    }
   ],
   "source": [
    "l.issubset(k)"
   ]
  },
  {
   "cell_type": "code",
   "execution_count": 361,
   "id": "482c9f95-f7db-4a12-bfba-88a24f289432",
   "metadata": {},
   "outputs": [
    {
     "data": {
      "text/plain": [
       "False"
      ]
     },
     "execution_count": 361,
     "metadata": {},
     "output_type": "execute_result"
    }
   ],
   "source": [
    "k.issuperset(l)"
   ]
  },
  {
   "cell_type": "code",
   "execution_count": 363,
   "id": "bda9923e-54ee-48ef-8371-3b86948f6bf5",
   "metadata": {},
   "outputs": [
    {
     "data": {
      "text/plain": [
       "False"
      ]
     },
     "execution_count": 363,
     "metadata": {},
     "output_type": "execute_result"
    }
   ],
   "source": [
    "k.isdisjoint(l)"
   ]
  },
  {
   "cell_type": "code",
   "execution_count": 367,
   "id": "0b01f1cd-3ffb-456d-b941-d75f0d19af1b",
   "metadata": {},
   "outputs": [
    {
     "data": {
      "text/plain": [
       "True"
      ]
     },
     "execution_count": 367,
     "metadata": {},
     "output_type": "execute_result"
    }
   ],
   "source": [
    "k.isdisjoint(m)"
   ]
  },
  {
   "cell_type": "code",
   "execution_count": 371,
   "id": "b2d70bea-a5fd-40a8-a638-fe8595c2139c",
   "metadata": {},
   "outputs": [
    {
     "data": {
      "text/plain": [
       "1"
      ]
     },
     "execution_count": 371,
     "metadata": {},
     "output_type": "execute_result"
    }
   ],
   "source": [
    "k.pop()"
   ]
  },
  {
   "cell_type": "code",
   "execution_count": 373,
   "id": "a62e883f-ccc8-44be-a52c-1e7e3bf638b7",
   "metadata": {},
   "outputs": [
    {
     "data": {
      "text/plain": [
       "{2, 3, 4, 5}"
      ]
     },
     "execution_count": 373,
     "metadata": {},
     "output_type": "execute_result"
    }
   ],
   "source": [
    "k"
   ]
  },
  {
   "cell_type": "code",
   "execution_count": 375,
   "id": "efe130dc-28ed-42cc-adec-1c8aaa0b452f",
   "metadata": {},
   "outputs": [
    {
     "data": {
      "text/plain": [
       "{2, 3, 4, 5, 6, 7, 8}"
      ]
     },
     "execution_count": 375,
     "metadata": {},
     "output_type": "execute_result"
    }
   ],
   "source": [
    "k.union(l)"
   ]
  },
  {
   "cell_type": "code",
   "execution_count": 379,
   "id": "aeccb0b2-5e00-4309-b8c3-ba38a8bad432",
   "metadata": {},
   "outputs": [],
   "source": [
    "k.update(l)"
   ]
  },
  {
   "cell_type": "code",
   "execution_count": 381,
   "id": "c40a03d5-9afe-4a55-90c3-0e647733dca2",
   "metadata": {},
   "outputs": [
    {
     "data": {
      "text/plain": [
       "{2, 3, 4, 5, 6, 7, 8}"
      ]
     },
     "execution_count": 381,
     "metadata": {},
     "output_type": "execute_result"
    }
   ],
   "source": [
    "k"
   ]
  },
  {
   "cell_type": "code",
   "execution_count": 383,
   "id": "c39da176-49e8-4220-88c3-982a3a691bdf",
   "metadata": {},
   "outputs": [
    {
     "data": {
      "text/plain": [
       "True"
      ]
     },
     "execution_count": 383,
     "metadata": {},
     "output_type": "execute_result"
    }
   ],
   "source": [
    "k.issuperset(l)"
   ]
  },
  {
   "cell_type": "code",
   "execution_count": 385,
   "id": "0361d118-58c3-4450-b3dd-dd6ab89c4386",
   "metadata": {},
   "outputs": [],
   "source": [
    "k.remove(2)"
   ]
  },
  {
   "cell_type": "code",
   "execution_count": 387,
   "id": "3c8eff32-efbd-421a-81c5-6c39db1a67e3",
   "metadata": {},
   "outputs": [
    {
     "data": {
      "text/plain": [
       "{3, 4, 5, 6, 7, 8}"
      ]
     },
     "execution_count": 387,
     "metadata": {},
     "output_type": "execute_result"
    }
   ],
   "source": [
    "k"
   ]
  },
  {
   "cell_type": "code",
   "execution_count": 391,
   "id": "e30f1b21-d629-4ca7-81e6-6b371abb0e05",
   "metadata": {},
   "outputs": [],
   "source": [
    "k.add(2)"
   ]
  },
  {
   "cell_type": "code",
   "execution_count": 393,
   "id": "7010374a-86f7-40e7-aaff-f8bc08351a07",
   "metadata": {},
   "outputs": [
    {
     "data": {
      "text/plain": [
       "{2, 3, 4, 5, 6, 7, 8}"
      ]
     },
     "execution_count": 393,
     "metadata": {},
     "output_type": "execute_result"
    }
   ],
   "source": [
    "k"
   ]
  },
  {
   "cell_type": "code",
   "execution_count": 397,
   "id": "23ff8a6c-eafd-4df1-be93-33b3c9f786ed",
   "metadata": {},
   "outputs": [
    {
     "ename": "TypeError",
     "evalue": "'set' object does not support item assignment",
     "output_type": "error",
     "traceback": [
      "\u001b[1;31m---------------------------------------------------------------------------\u001b[0m",
      "\u001b[1;31mTypeError\u001b[0m                                 Traceback (most recent call last)",
      "Cell \u001b[1;32mIn[397], line 1\u001b[0m\n\u001b[1;32m----> 1\u001b[0m k[\u001b[38;5;241m1\u001b[39m] \u001b[38;5;241m=\u001b[39m \u001b[38;5;124m'\u001b[39m\u001b[38;5;124mnit\u001b[39m\u001b[38;5;124m'\u001b[39m\n",
      "\u001b[1;31mTypeError\u001b[0m: 'set' object does not support item assignment"
     ]
    }
   ],
   "source": [
    "k[1] = 'nit'"
   ]
  },
  {
   "cell_type": "markdown",
   "id": "09eb55f4-a42d-45ef-855b-4d957492f00b",
   "metadata": {},
   "source": [
    "# Dict"
   ]
  },
  {
   "cell_type": "code",
   "execution_count": 400,
   "id": "8f1e5167-005c-481a-9ec2-8c9f1e0f7e63",
   "metadata": {},
   "outputs": [
    {
     "data": {
      "text/plain": [
       "dict"
      ]
     },
     "execution_count": 400,
     "metadata": {},
     "output_type": "execute_result"
    }
   ],
   "source": [
    "d = {}\n",
    "type(d)"
   ]
  },
  {
   "cell_type": "code",
   "execution_count": 402,
   "id": "6888b75b-d076-430b-a4b3-bcd7a206c076",
   "metadata": {},
   "outputs": [
    {
     "data": {
      "text/plain": [
       "{}"
      ]
     },
     "execution_count": 402,
     "metadata": {},
     "output_type": "execute_result"
    }
   ],
   "source": [
    "dict = {}\n",
    "dict"
   ]
  },
  {
   "cell_type": "code",
   "execution_count": 404,
   "id": "af32c81a-0254-4f72-9ddb-73c0f578a83e",
   "metadata": {},
   "outputs": [],
   "source": [
    "dict = {1:'one', 2:'two',3:'three'}"
   ]
  },
  {
   "cell_type": "code",
   "execution_count": null,
   "id": "fbd9aa5b-c4e1-41ee-aa01-695d3cd1cfb7",
   "metadata": {},
   "outputs": [],
   "source": []
  },
  {
   "cell_type": "code",
   "execution_count": 413,
   "id": "d297a102-90b0-42e7-bef9-eb1bd7592f5b",
   "metadata": {},
   "outputs": [
    {
     "data": {
      "text/plain": [
       "{1: 'one', 2: 'two', 3: 'three'}"
      ]
     },
     "execution_count": 413,
     "metadata": {},
     "output_type": "execute_result"
    }
   ],
   "source": [
    "dict"
   ]
  },
  {
   "cell_type": "code",
   "execution_count": 415,
   "id": "d199ef9c-53e8-4a02-a673-bcebb484df1f",
   "metadata": {},
   "outputs": [],
   "source": [
    "d1 = dict.copy()"
   ]
  },
  {
   "cell_type": "code",
   "execution_count": 417,
   "id": "b7700436-8d38-47a9-a5b1-c464e7ae483a",
   "metadata": {},
   "outputs": [
    {
     "data": {
      "text/plain": [
       "{1: 'one', 2: 'two', 3: 'three'}"
      ]
     },
     "execution_count": 417,
     "metadata": {},
     "output_type": "execute_result"
    }
   ],
   "source": [
    "d1"
   ]
  },
  {
   "cell_type": "code",
   "execution_count": 419,
   "id": "64b2fb65-cfc7-4009-aa34-300f428ff89b",
   "metadata": {},
   "outputs": [
    {
     "data": {
      "text/plain": [
       "dict_keys([1, 2, 3])"
      ]
     },
     "execution_count": 419,
     "metadata": {},
     "output_type": "execute_result"
    }
   ],
   "source": [
    "d1.keys()"
   ]
  },
  {
   "cell_type": "code",
   "execution_count": 421,
   "id": "68f44691-7337-45f3-a953-744088b6618c",
   "metadata": {},
   "outputs": [
    {
     "data": {
      "text/plain": [
       "dict_values(['one', 'two', 'three'])"
      ]
     },
     "execution_count": 421,
     "metadata": {},
     "output_type": "execute_result"
    }
   ],
   "source": [
    "d1.values()"
   ]
  },
  {
   "cell_type": "code",
   "execution_count": 423,
   "id": "9e15978d-6e09-498e-89d6-b995854afdcc",
   "metadata": {},
   "outputs": [
    {
     "data": {
      "text/plain": [
       "dict_items([(1, 'one'), (2, 'two'), (3, 'three')])"
      ]
     },
     "execution_count": 423,
     "metadata": {},
     "output_type": "execute_result"
    }
   ],
   "source": [
    "d1.items()"
   ]
  },
  {
   "cell_type": "code",
   "execution_count": 431,
   "id": "bcc3e5b6-3093-44ce-8302-0f7c43748ab0",
   "metadata": {},
   "outputs": [
    {
     "data": {
      "text/plain": [
       "'one'"
      ]
     },
     "execution_count": 431,
     "metadata": {},
     "output_type": "execute_result"
    }
   ],
   "source": [
    "d1.pop(1)"
   ]
  },
  {
   "cell_type": "code",
   "execution_count": 433,
   "id": "ac35e0d8-6e62-4097-b7a5-42bc233bf0e8",
   "metadata": {},
   "outputs": [
    {
     "data": {
      "text/plain": [
       "{2: 'two'}"
      ]
     },
     "execution_count": 433,
     "metadata": {},
     "output_type": "execute_result"
    }
   ],
   "source": [
    "d1"
   ]
  },
  {
   "cell_type": "code",
   "execution_count": 435,
   "id": "7385d32b-7429-4451-b38e-68706ca75d60",
   "metadata": {},
   "outputs": [],
   "source": [
    "d1.update(dict)"
   ]
  },
  {
   "cell_type": "code",
   "execution_count": 437,
   "id": "f6226cd0-3e8c-4e5a-95b3-fa7cf413a9d5",
   "metadata": {},
   "outputs": [
    {
     "data": {
      "text/plain": [
       "{2: 'two', 1: 'one', 3: 'three'}"
      ]
     },
     "execution_count": 437,
     "metadata": {},
     "output_type": "execute_result"
    }
   ],
   "source": [
    "d1"
   ]
  },
  {
   "cell_type": "code",
   "execution_count": 439,
   "id": "46ee27b3-93db-4cd6-80ba-c04571444fea",
   "metadata": {},
   "outputs": [
    {
     "data": {
      "text/plain": [
       "{1: 'one', 2: 'two', 3: 'three'}"
      ]
     },
     "execution_count": 439,
     "metadata": {},
     "output_type": "execute_result"
    }
   ],
   "source": [
    "dict"
   ]
  },
  {
   "cell_type": "code",
   "execution_count": 441,
   "id": "84f5516f-6887-408f-a287-4f97848ae1c3",
   "metadata": {},
   "outputs": [
    {
     "data": {
      "text/plain": [
       "{2: 'two', 1: 'one', 3: 'three'}"
      ]
     },
     "execution_count": 441,
     "metadata": {},
     "output_type": "execute_result"
    }
   ],
   "source": [
    "d1"
   ]
  },
  {
   "cell_type": "code",
   "execution_count": 459,
   "id": "77225a34-64bf-496f-a436-14fdf226b99e",
   "metadata": {},
   "outputs": [],
   "source": [
    "d2 = {1:'one', 2:'two',\"A\":['Asif','three','four','three'], \"B\":('bat','cat')}"
   ]
  },
  {
   "cell_type": "code",
   "execution_count": 461,
   "id": "a212ccc6-50a7-4b63-b2a4-084deb07a818",
   "metadata": {},
   "outputs": [
    {
     "data": {
      "text/plain": [
       "{1: 'one',\n",
       " 2: 'two',\n",
       " 'A': ['Asif', 'three', 'four', 'three'],\n",
       " 'B': ('bat', 'cat')}"
      ]
     },
     "execution_count": 461,
     "metadata": {},
     "output_type": "execute_result"
    }
   ],
   "source": [
    "d2"
   ]
  },
  {
   "cell_type": "code",
   "execution_count": 463,
   "id": "245e1b7f-b8e3-42f4-84fd-3ebf7e1f141a",
   "metadata": {},
   "outputs": [
    {
     "name": "stdout",
     "output_type": "stream",
     "text": [
      "1 : one\n",
      "2 : two\n",
      "A : ['Asif', 'three', 'four', 'three']\n",
      "B : ('bat', 'cat')\n"
     ]
    }
   ],
   "source": [
    "for i in (d2):\n",
    "    print(i,':',d2[i])"
   ]
  },
  {
   "cell_type": "code",
   "execution_count": 465,
   "id": "fbe20680-6f0f-4cd0-8e77-3806e1b96b15",
   "metadata": {},
   "outputs": [
    {
     "name": "stdout",
     "output_type": "stream",
     "text": [
      "1\n",
      "2\n",
      "A\n",
      "B\n"
     ]
    }
   ],
   "source": [
    "for i in d2:\n",
    "    print(i)"
   ]
  },
  {
   "cell_type": "code",
   "execution_count": 481,
   "id": "aa4befe3-0aa8-4df4-b7ee-521f0a23b8ef",
   "metadata": {},
   "outputs": [
    {
     "data": {
      "text/plain": [
       "{'d': None, 'b': None, 'a': None, 'c': None}"
      ]
     },
     "execution_count": 481,
     "metadata": {},
     "output_type": "execute_result"
    }
   ],
   "source": [
    "keys = {'a','b','c','d'}\n",
    "d3 = dict.fromkeys(keys)\n",
    "d3"
   ]
  },
  {
   "cell_type": "code",
   "execution_count": 483,
   "id": "d197bd15-ee6e-4925-a394-6658ee1a3e6b",
   "metadata": {},
   "outputs": [
    {
     "data": {
      "text/plain": [
       "{'d': (10, 20, 'one', 'two'),\n",
       " 'b': (10, 20, 'one', 'two'),\n",
       " 'a': (10, 20, 'one', 'two'),\n",
       " 'c': (10, 20, 'one', 'two')}"
      ]
     },
     "execution_count": 483,
     "metadata": {},
     "output_type": "execute_result"
    }
   ],
   "source": [
    "keys = {'a','b','c','d'}\n",
    "values = 10,20,'one','two'\n",
    "d4 = dict.fromkeys(keys,values)\n",
    "d4"
   ]
  },
  {
   "cell_type": "markdown",
   "id": "f2122b2b-e3be-455e-a507-4145b4bff9a8",
   "metadata": {},
   "source": [
    "# Accessing items "
   ]
  },
  {
   "cell_type": "code",
   "execution_count": 491,
   "id": "7aee0a5b-5eea-46eb-965e-8f4504e57999",
   "metadata": {},
   "outputs": [],
   "source": [
    "dict = {1:'one', 2:'two',3:'three'}"
   ]
  },
  {
   "cell_type": "code",
   "execution_count": 499,
   "id": "58339bf8-9fc0-4e18-8d4b-e5ed117ce6f1",
   "metadata": {},
   "outputs": [
    {
     "ename": "IndexError",
     "evalue": "list index out of range",
     "output_type": "error",
     "traceback": [
      "\u001b[1;31m---------------------------------------------------------------------------\u001b[0m",
      "\u001b[1;31mIndexError\u001b[0m                                Traceback (most recent call last)",
      "Cell \u001b[1;32mIn[499], line 1\u001b[0m\n\u001b[1;32m----> 1\u001b[0m \u001b[38;5;28mdict\u001b[39m[\u001b[38;5;241m1\u001b[39m]\n",
      "\u001b[1;31mIndexError\u001b[0m: list index out of range"
     ]
    }
   ],
   "source": [
    "dict[1]"
   ]
  },
  {
   "cell_type": "code",
   "execution_count": 501,
   "id": "45072b2e-1c0a-4641-8df8-86afccf00983",
   "metadata": {},
   "outputs": [
    {
     "data": {
      "text/plain": [
       "[1]"
      ]
     },
     "execution_count": 501,
     "metadata": {},
     "output_type": "execute_result"
    }
   ],
   "source": [
    "dict"
   ]
  },
  {
   "cell_type": "code",
   "execution_count": 503,
   "id": "86b06046-62ed-4956-b312-c76221c81eb7",
   "metadata": {},
   "outputs": [],
   "source": [
    "dict = {1:'one', 2:'two',3:'three'}"
   ]
  },
  {
   "cell_type": "code",
   "execution_count": 505,
   "id": "3a4245cb-0e4f-4a93-803c-8c9c9122f202",
   "metadata": {},
   "outputs": [
    {
     "data": {
      "text/plain": [
       "'one'"
      ]
     },
     "execution_count": 505,
     "metadata": {},
     "output_type": "execute_result"
    }
   ],
   "source": [
    "dict[1]"
   ]
  },
  {
   "cell_type": "code",
   "execution_count": 507,
   "id": "5102626c-d88a-4217-8e1b-50e9d0600434",
   "metadata": {},
   "outputs": [
    {
     "data": {
      "text/plain": [
       "'one'"
      ]
     },
     "execution_count": 507,
     "metadata": {},
     "output_type": "execute_result"
    }
   ],
   "source": [
    "dict.get(1)"
   ]
  },
  {
   "cell_type": "code",
   "execution_count": 511,
   "id": "86c4b876-101b-4c64-b31b-fe573afb5b3d",
   "metadata": {},
   "outputs": [
    {
     "data": {
      "text/plain": [
       "{'Name': 'Arif', 'ID': 346575775, 'Adresss': 'Mumbai', 'Jobn': 'data analyst'}"
      ]
     },
     "execution_count": 511,
     "metadata": {},
     "output_type": "execute_result"
    }
   ],
   "source": [
    " dict1= {'Name':'Arif', 'ID':346575775, \"Adresss\": 'Mumbai', 'Jobn':\"data analyst\"}\n",
    "dict1"
   ]
  },
  {
   "cell_type": "code",
   "execution_count": 513,
   "id": "975addaf-9eb8-4577-a47b-9d183fdc3d4e",
   "metadata": {},
   "outputs": [
    {
     "data": {
      "text/plain": [
       "'Arif'"
      ]
     },
     "execution_count": 513,
     "metadata": {},
     "output_type": "execute_result"
    }
   ],
   "source": [
    " dict1['Name']"
   ]
  },
  {
   "cell_type": "code",
   "execution_count": 515,
   "id": "c1fadfd3-04eb-4fcf-9cf8-0341019202b5",
   "metadata": {},
   "outputs": [],
   "source": [
    "dict1['Name'] = 'Iron'"
   ]
  },
  {
   "cell_type": "code",
   "execution_count": 519,
   "id": "f660909a-20b0-4428-b988-bcd9a3b824ac",
   "metadata": {},
   "outputs": [
    {
     "data": {
      "text/plain": [
       "{'Name': 'Iron', 'ID': 346575775, 'Adresss': 'Mumbai', 'Jobn': 'data analyst'}"
      ]
     },
     "execution_count": 519,
     "metadata": {},
     "output_type": "execute_result"
    }
   ],
   "source": [
    "dict1"
   ]
  },
  {
   "cell_type": "code",
   "execution_count": 525,
   "id": "ca264c88-80e0-41a5-af7d-35f252ab979e",
   "metadata": {},
   "outputs": [
    {
     "data": {
      "text/plain": [
       "{'Address': 'HYD'}"
      ]
     },
     "execution_count": 525,
     "metadata": {},
     "output_type": "execute_result"
    }
   ],
   "source": [
    "d1 = {'Address':'HYD'}\n",
    "dict1.update(d1)\n",
    "dict1"
   ]
  },
  {
   "cell_type": "code",
   "execution_count": 523,
   "id": "2a95a3ae-ca1a-4e41-a1b1-27960377166d",
   "metadata": {},
   "outputs": [
    {
     "data": {
      "text/plain": [
       "{'Address': 'HYD'}"
      ]
     },
     "execution_count": 523,
     "metadata": {},
     "output_type": "execute_result"
    }
   ],
   "source": [
    "dict1"
   ]
  },
  {
   "cell_type": "code",
   "execution_count": 527,
   "id": "37884824-ec6b-486c-b5fb-a0bb5ff88168",
   "metadata": {},
   "outputs": [
    {
     "data": {
      "text/plain": [
       "{'Address': 'HYD'}"
      ]
     },
     "execution_count": 527,
     "metadata": {},
     "output_type": "execute_result"
    }
   ],
   "source": [
    "d1"
   ]
  },
  {
   "cell_type": "code",
   "execution_count": 529,
   "id": "e120fd93-62ef-4cec-95ef-6f6827030be5",
   "metadata": {},
   "outputs": [
    {
     "data": {
      "text/plain": [
       "{'Name': 'Arif', 'ID': 346575775, 'Adresss': 'Mumbai', 'Jobn': 'data analyst'}"
      ]
     },
     "execution_count": 529,
     "metadata": {},
     "output_type": "execute_result"
    }
   ],
   "source": [
    " dict1= {'Name':'Arif', 'ID':346575775, \"Adresss\": 'Mumbai', 'Jobn':\"data analyst\"}\n",
    "dict1"
   ]
  },
  {
   "cell_type": "code",
   "execution_count": 531,
   "id": "b8f109ee-e4a9-450b-a1a7-f2e2a06a8eee",
   "metadata": {},
   "outputs": [
    {
     "data": {
      "text/plain": [
       "{'Name': 'Arif',\n",
       " 'ID': 346575775,\n",
       " 'Adresss': 'Mumbai',\n",
       " 'Jobn': 'data analyst',\n",
       " 'email': 'asif@'}"
      ]
     },
     "execution_count": 531,
     "metadata": {},
     "output_type": "execute_result"
    }
   ],
   "source": [
    "dict1['email'] = 'asif@'\n",
    "dict1"
   ]
  },
  {
   "cell_type": "code",
   "execution_count": 533,
   "id": "db9d7df6-2d36-4e02-827e-7df37f375d3c",
   "metadata": {},
   "outputs": [],
   "source": [
    "dict1['email'] = 'aron@'"
   ]
  },
  {
   "cell_type": "code",
   "execution_count": 535,
   "id": "e7f2799a-21f0-418c-9b64-3e014078e45a",
   "metadata": {},
   "outputs": [
    {
     "data": {
      "text/plain": [
       "{'Name': 'Arif',\n",
       " 'ID': 346575775,\n",
       " 'Adresss': 'Mumbai',\n",
       " 'Jobn': 'data analyst',\n",
       " 'email': 'aron@'}"
      ]
     },
     "execution_count": 535,
     "metadata": {},
     "output_type": "execute_result"
    }
   ],
   "source": [
    "dict1"
   ]
  },
  {
   "cell_type": "code",
   "execution_count": 537,
   "id": "b0f241f9-3414-4ab3-a1a1-a7fc88097609",
   "metadata": {},
   "outputs": [
    {
     "data": {
      "text/plain": [
       "'aron@'"
      ]
     },
     "execution_count": 537,
     "metadata": {},
     "output_type": "execute_result"
    }
   ],
   "source": [
    "dict1.pop('email')"
   ]
  },
  {
   "cell_type": "code",
   "execution_count": 541,
   "id": "eabdf6e9-80f5-4117-853d-f614c1c1c357",
   "metadata": {},
   "outputs": [
    {
     "data": {
      "text/plain": [
       "('Jobn', 'data analyst')"
      ]
     },
     "execution_count": 541,
     "metadata": {},
     "output_type": "execute_result"
    }
   ],
   "source": [
    "dict1.popitem()"
   ]
  },
  {
   "cell_type": "code",
   "execution_count": 543,
   "id": "f95c1329-07fd-485b-a442-5b7658d2786d",
   "metadata": {},
   "outputs": [],
   "source": [
    "del dict1"
   ]
  },
  {
   "cell_type": "code",
   "execution_count": 545,
   "id": "f23acfd4-d922-47f3-a4b6-1373b6c7199a",
   "metadata": {},
   "outputs": [
    {
     "ename": "NameError",
     "evalue": "name 'dict1' is not defined",
     "output_type": "error",
     "traceback": [
      "\u001b[1;31m---------------------------------------------------------------------------\u001b[0m",
      "\u001b[1;31mNameError\u001b[0m                                 Traceback (most recent call last)",
      "Cell \u001b[1;32mIn[545], line 1\u001b[0m\n\u001b[1;32m----> 1\u001b[0m dict1\n",
      "\u001b[1;31mNameError\u001b[0m: name 'dict1' is not defined"
     ]
    }
   ],
   "source": [
    "dict1"
   ]
  },
  {
   "cell_type": "code",
   "execution_count": 547,
   "id": "08644aab-679b-4d1f-887c-63aea4024a38",
   "metadata": {},
   "outputs": [
    {
     "data": {
      "text/plain": [
       "{'Name': 'Arif', 'ID': 346575775, 'Adresss': 'Mumbai', 'Jobn': 'data analyst'}"
      ]
     },
     "execution_count": 547,
     "metadata": {},
     "output_type": "execute_result"
    }
   ],
   "source": [
    " dict1= {'Name':'Arif', 'ID':346575775, \"Adresss\": 'Mumbai', 'Jobn':\"data analyst\"}\n",
    "dict1"
   ]
  },
  {
   "cell_type": "code",
   "execution_count": 549,
   "id": "41f69e2b-a65f-46c8-b04d-120bf6058c9a",
   "metadata": {},
   "outputs": [
    {
     "data": {
      "text/plain": [
       "{1: 'one', 2: 'two', 3: 'three', 'Address': 'HYD'}"
      ]
     },
     "execution_count": 549,
     "metadata": {},
     "output_type": "execute_result"
    }
   ],
   "source": [
    "del[dict1['ID']]\n",
    "dict"
   ]
  },
  {
   "cell_type": "code",
   "execution_count": 551,
   "id": "23de342f-cfff-4734-b3f8-4a96db293e1c",
   "metadata": {},
   "outputs": [],
   "source": [
    "dict1.clear()"
   ]
  },
  {
   "cell_type": "code",
   "execution_count": 555,
   "id": "d9a1af04-25fd-4ae9-8e89-2f365d815a74",
   "metadata": {},
   "outputs": [],
   "source": [
    "del dict1"
   ]
  },
  {
   "cell_type": "code",
   "execution_count": 559,
   "id": "533cb8b8-9006-496a-8add-5a351642f66b",
   "metadata": {},
   "outputs": [
    {
     "ename": "NameError",
     "evalue": "name 'dict1' is not defined",
     "output_type": "error",
     "traceback": [
      "\u001b[1;31m---------------------------------------------------------------------------\u001b[0m",
      "\u001b[1;31mNameError\u001b[0m                                 Traceback (most recent call last)",
      "Cell \u001b[1;32mIn[559], line 1\u001b[0m\n\u001b[1;32m----> 1\u001b[0m dict1\n",
      "\u001b[1;31mNameError\u001b[0m: name 'dict1' is not defined"
     ]
    }
   ],
   "source": [
    "dict1"
   ]
  },
  {
   "cell_type": "code",
   "execution_count": 561,
   "id": "14fb7f87-48b5-4c7a-9011-2b1602aa4169",
   "metadata": {},
   "outputs": [
    {
     "data": {
      "text/plain": [
       "{1: 'one', 2: 'two', 3: 'three', 'Address': 'HYD'}"
      ]
     },
     "execution_count": 561,
     "metadata": {},
     "output_type": "execute_result"
    }
   ],
   "source": [
    "dict"
   ]
  },
  {
   "cell_type": "code",
   "execution_count": 563,
   "id": "01f44728-5478-40dd-92b9-09ebc50cb589",
   "metadata": {},
   "outputs": [],
   "source": [
    "dict1 = dict.copy()"
   ]
  },
  {
   "cell_type": "code",
   "execution_count": 565,
   "id": "5e9ea29d-fc2e-4152-aaa3-3b6aab4d2e35",
   "metadata": {},
   "outputs": [
    {
     "data": {
      "text/plain": [
       "{1: 'one', 2: 'two', 3: 'three', 'Address': 'HYD'}"
      ]
     },
     "execution_count": 565,
     "metadata": {},
     "output_type": "execute_result"
    }
   ],
   "source": [
    "dict1"
   ]
  },
  {
   "cell_type": "code",
   "execution_count": 575,
   "id": "be8d3500-045c-4317-a71a-fe22442affb0",
   "metadata": {},
   "outputs": [],
   "source": [
    "dict2 = dict #create a new reference but addresses are same "
   ]
  },
  {
   "cell_type": "code",
   "execution_count": 577,
   "id": "d39d6988-b260-4b88-98eb-9996ba2d3bec",
   "metadata": {},
   "outputs": [
    {
     "data": {
      "text/plain": [
       "(2390473908288, 2390473908288)"
      ]
     },
     "execution_count": 577,
     "metadata": {},
     "output_type": "execute_result"
    }
   ],
   "source": [
    "id(dict2), id(dict)"
   ]
  },
  {
   "cell_type": "code",
   "execution_count": 579,
   "id": "1df35bff-5cdf-4b3f-b247-bbcf9e9c6c87",
   "metadata": {},
   "outputs": [
    {
     "data": {
      "text/plain": [
       "(2390473762880, 2390473908288)"
      ]
     },
     "execution_count": 579,
     "metadata": {},
     "output_type": "execute_result"
    }
   ],
   "source": [
    "id(dict1),id(dict)"
   ]
  },
  {
   "cell_type": "code",
   "execution_count": 583,
   "id": "e75460b1-abbe-4be4-8219-21fcb7c25c08",
   "metadata": {},
   "outputs": [
    {
     "data": {
      "text/plain": [
       "{1: 'one', 2: 'two', 3: 'three', 'Address': 'mumbai', 'address': 'mumbai'}"
      ]
     },
     "execution_count": 583,
     "metadata": {},
     "output_type": "execute_result"
    }
   ],
   "source": [
    "dict['Address'] = 'mumbai'\n",
    "dict"
   ]
  },
  {
   "cell_type": "code",
   "execution_count": 587,
   "id": "1d195f4d-a22d-469d-b1d3-eadcbdd7b965",
   "metadata": {},
   "outputs": [
    {
     "data": {
      "text/plain": [
       "'mumbai'"
      ]
     },
     "execution_count": 587,
     "metadata": {},
     "output_type": "execute_result"
    }
   ],
   "source": [
    "dict.pop('address')"
   ]
  },
  {
   "cell_type": "code",
   "execution_count": 589,
   "id": "b13a1c3f-b4b2-4dc0-a9ea-94f6a84a5e86",
   "metadata": {},
   "outputs": [
    {
     "data": {
      "text/plain": [
       "{1: 'one', 2: 'two', 3: 'three', 'Address': 'HYD'}"
      ]
     },
     "execution_count": 589,
     "metadata": {},
     "output_type": "execute_result"
    }
   ],
   "source": [
    "dict1"
   ]
  },
  {
   "cell_type": "code",
   "execution_count": 591,
   "id": "e5ea5c6c-751b-4f7c-815e-8a8a8fb37df3",
   "metadata": {},
   "outputs": [
    {
     "data": {
      "text/plain": [
       "{1: 'one', 2: 'two', 3: 'three', 'Address': 'mumbai'}"
      ]
     },
     "execution_count": 591,
     "metadata": {},
     "output_type": "execute_result"
    }
   ],
   "source": [
    "dict"
   ]
  },
  {
   "cell_type": "code",
   "execution_count": 593,
   "id": "89d3c39d-d5a7-4aea-960b-a3a304d1aa73",
   "metadata": {},
   "outputs": [],
   "source": [
    "dict = {1: 'one', 2: 'two', 3: 'three', 'Address': 'mumbai'   ,}"
   ]
  },
  {
   "cell_type": "code",
   "execution_count": 599,
   "id": "3bc05169-6c80-4e96-8aa5-1727202c5ea3",
   "metadata": {},
   "outputs": [
    {
     "data": {
      "text/plain": [
       "{1: 'one', 2: 'two', 3: 'three', 'Address': 'mumbai'}"
      ]
     },
     "execution_count": 599,
     "metadata": {},
     "output_type": "execute_result"
    }
   ],
   "source": [
    "dict"
   ]
  },
  {
   "cell_type": "code",
   "execution_count": 603,
   "id": "75854fa9-7676-4912-93ac-40a2dedd9b74",
   "metadata": {},
   "outputs": [
    {
     "name": "stdout",
     "output_type": "stream",
     "text": [
      "1 : one\n",
      "2 : two\n",
      "3 : three\n",
      "Address : mumbai\n"
     ]
    }
   ],
   "source": [
    "for i in dict:\n",
    "    print(i,':',dict[i])"
   ]
  },
  {
   "cell_type": "code",
   "execution_count": 608,
   "id": "85664aa5-2a75-4751-afef-ecc0a6c53cb3",
   "metadata": {},
   "outputs": [
    {
     "data": {
      "text/plain": [
       "True"
      ]
     },
     "execution_count": 608,
     "metadata": {},
     "output_type": "execute_result"
    }
   ],
   "source": [
    "1 in dict"
   ]
  },
  {
   "cell_type": "code",
   "execution_count": 612,
   "id": "378c033c-5db4-4d78-b05d-7b87d383670f",
   "metadata": {},
   "outputs": [
    {
     "data": {
      "text/plain": [
       "False"
      ]
     },
     "execution_count": 612,
     "metadata": {},
     "output_type": "execute_result"
    }
   ],
   "source": [
    "'one' in dict"
   ]
  },
  {
   "cell_type": "code",
   "execution_count": 620,
   "id": "96c38803-7bb3-4211-b324-fd71047f1bd2",
   "metadata": {},
   "outputs": [
    {
     "data": {
      "text/plain": [
       "True"
      ]
     },
     "execution_count": 620,
     "metadata": {},
     "output_type": "execute_result"
    }
   ],
   "source": [
    "'Address' in dict"
   ]
  },
  {
   "cell_type": "code",
   "execution_count": 622,
   "id": "c7ccbb9b-83f3-46e5-af78-c530ce7cfc17",
   "metadata": {},
   "outputs": [
    {
     "data": {
      "text/plain": [
       "True"
      ]
     },
     "execution_count": 622,
     "metadata": {},
     "output_type": "execute_result"
    }
   ],
   "source": [
    "all(dict)"
   ]
  },
  {
   "cell_type": "code",
   "execution_count": 624,
   "id": "5e52c349-2200-4242-af93-927f492b9971",
   "metadata": {},
   "outputs": [
    {
     "data": {
      "text/plain": [
       "True"
      ]
     },
     "execution_count": 624,
     "metadata": {},
     "output_type": "execute_result"
    }
   ],
   "source": [
    "any(dict)"
   ]
  },
  {
   "cell_type": "code",
   "execution_count": 626,
   "id": "8e7a3c49-6855-4c5e-b54b-c85b0a47b95c",
   "metadata": {},
   "outputs": [
    {
     "data": {
      "text/plain": [
       "dict_items([(1, 'one'), (2, 'two'), (3, 'three'), ('Address', 'mumbai')])"
      ]
     },
     "execution_count": 626,
     "metadata": {},
     "output_type": "execute_result"
    }
   ],
   "source": [
    "dict.items()"
   ]
  },
  {
   "cell_type": "code",
   "execution_count": 632,
   "id": "9c614c34-b634-4db6-9983-94c3c816d98f",
   "metadata": {},
   "outputs": [
    {
     "data": {
      "text/plain": [
       "{'d': {10, 20, 'one', 'two'},\n",
       " 'b': {10, 20, 'one', 'two'},\n",
       " 'a': {10, 20, 'one', 'two'},\n",
       " 'c': {10, 20, 'one', 'two'}}"
      ]
     },
     "execution_count": 632,
     "metadata": {},
     "output_type": "execute_result"
    }
   ],
   "source": [
    "keys = {'a','c','b','d'}\n",
    "values = {10,20,\"one\",\"two\"}\n",
    "keys = dict.fromkeys(keys,values)\n",
    "keys"
   ]
  },
  {
   "cell_type": "code",
   "execution_count": 634,
   "id": "53ee6405-f10f-4f80-948c-0d030d425a45",
   "metadata": {},
   "outputs": [
    {
     "data": {
      "text/plain": [
       "{1: 'one', 2: 'two', 3: 'three', 'Address': 'mumbai'}"
      ]
     },
     "execution_count": 634,
     "metadata": {},
     "output_type": "execute_result"
    }
   ],
   "source": [
    "dict"
   ]
  },
  {
   "cell_type": "code",
   "execution_count": 636,
   "id": "d6cc825f-a8af-4df4-929e-348f56e69fe7",
   "metadata": {},
   "outputs": [
    {
     "data": {
      "text/plain": [
       "{1: 'one', 2: 'two', 3: 'three', 'Address': 'HYD'}"
      ]
     },
     "execution_count": 636,
     "metadata": {},
     "output_type": "execute_result"
    }
   ],
   "source": [
    "dict1"
   ]
  },
  {
   "cell_type": "code",
   "execution_count": 638,
   "id": "7b8e5cf2-c771-432d-918f-348525fb6501",
   "metadata": {},
   "outputs": [],
   "source": [
    "dict.update(dict1)"
   ]
  },
  {
   "cell_type": "code",
   "execution_count": 640,
   "id": "1a92e33e-cfc6-43e2-a273-36ca71869a37",
   "metadata": {},
   "outputs": [
    {
     "data": {
      "text/plain": [
       "{1: 'one', 2: 'two', 3: 'three', 'Address': 'HYD'}"
      ]
     },
     "execution_count": 640,
     "metadata": {},
     "output_type": "execute_result"
    }
   ],
   "source": [
    "dict"
   ]
  },
  {
   "cell_type": "code",
   "execution_count": 642,
   "id": "bef26e41-9217-49f2-9bc4-9ff0fba2b857",
   "metadata": {},
   "outputs": [
    {
     "data": {
      "text/plain": [
       "{1: 'one', 2: 'two', 3: 'three', 'Address': 'HYD'}"
      ]
     },
     "execution_count": 642,
     "metadata": {},
     "output_type": "execute_result"
    }
   ],
   "source": [
    "dict"
   ]
  },
  {
   "cell_type": "code",
   "execution_count": 644,
   "id": "afcdd084-575f-415b-b763-4e092e2878d6",
   "metadata": {},
   "outputs": [],
   "source": [
    "dict['JOB'] = 'Dataanalyst'"
   ]
  },
  {
   "cell_type": "code",
   "execution_count": 646,
   "id": "37fa596c-49ae-476b-826b-4184bd3ff024",
   "metadata": {},
   "outputs": [
    {
     "data": {
      "text/plain": [
       "{1: 'one', 2: 'two', 3: 'three', 'Address': 'HYD', 'JOB': 'Dataanalyst'}"
      ]
     },
     "execution_count": 646,
     "metadata": {},
     "output_type": "execute_result"
    }
   ],
   "source": [
    "dict"
   ]
  },
  {
   "cell_type": "code",
   "execution_count": 648,
   "id": "2ea8cd89-eba4-4281-9268-06227f072aa9",
   "metadata": {},
   "outputs": [
    {
     "name": "stdout",
     "output_type": "stream",
     "text": [
      "1\n",
      "2\n",
      "3\n",
      "Address\n",
      "JOB\n"
     ]
    }
   ],
   "source": [
    "for i in dict:\n",
    "    print(i)"
   ]
  },
  {
   "cell_type": "code",
   "execution_count": 652,
   "id": "c4536eff-b2bb-471b-abeb-244b417a5c07",
   "metadata": {},
   "outputs": [
    {
     "name": "stdout",
     "output_type": "stream",
     "text": [
      "one\n",
      "two\n",
      "three\n",
      "HYD\n",
      "Dataanalyst\n"
     ]
    }
   ],
   "source": [
    "for i in dict:\n",
    "    print(dict[i])"
   ]
  },
  {
   "cell_type": "code",
   "execution_count": 654,
   "id": "ae949f40-af80-4e9b-b72b-06287bfd550b",
   "metadata": {},
   "outputs": [
    {
     "name": "stdout",
     "output_type": "stream",
     "text": [
      "1 : one\n",
      "2 : two\n",
      "3 : three\n",
      "Address : HYD\n",
      "JOB : Dataanalyst\n"
     ]
    }
   ],
   "source": [
    "for i in dict:\n",
    "    print(i,':',dict[i])"
   ]
  },
  {
   "cell_type": "code",
   "execution_count": 678,
   "id": "254f2f8d-4bfd-4e78-bf38-f096151deca7",
   "metadata": {},
   "outputs": [
    {
     "ename": "NameError",
     "evalue": "name 'dict' is not defined",
     "output_type": "error",
     "traceback": [
      "\u001b[1;31m---------------------------------------------------------------------------\u001b[0m",
      "\u001b[1;31mNameError\u001b[0m                                 Traceback (most recent call last)",
      "Cell \u001b[1;32mIn[678], line 1\u001b[0m\n\u001b[1;32m----> 1\u001b[0m \u001b[38;5;28;01mdel\u001b[39;00m \u001b[38;5;28mdict\u001b[39m\n\u001b[0;32m      2\u001b[0m dict1\n",
      "\u001b[1;31mNameError\u001b[0m: name 'dict' is not defined"
     ]
    }
   ],
   "source": [
    "del dict\n"
   ]
  },
  {
   "cell_type": "code",
   "execution_count": 682,
   "id": "7e055e86-9e76-4a86-8f63-dee30f05ed02",
   "metadata": {},
   "outputs": [],
   "source": [
    "del dict1"
   ]
  },
  {
   "cell_type": "code",
   "execution_count": 684,
   "id": "589f90e5-1219-4bfc-83e0-cd5e4a51a3f6",
   "metadata": {},
   "outputs": [
    {
     "ename": "NameError",
     "evalue": "name 'dict1' is not defined",
     "output_type": "error",
     "traceback": [
      "\u001b[1;31m---------------------------------------------------------------------------\u001b[0m",
      "\u001b[1;31mNameError\u001b[0m                                 Traceback (most recent call last)",
      "Cell \u001b[1;32mIn[684], line 1\u001b[0m\n\u001b[1;32m----> 1\u001b[0m dict1\n",
      "\u001b[1;31mNameError\u001b[0m: name 'dict1' is not defined"
     ]
    }
   ],
   "source": [
    "dict1"
   ]
  },
  {
   "cell_type": "code",
   "execution_count": 5,
   "id": "d0d05d1b-e460-40f3-bd85-8ba96d33ffae",
   "metadata": {},
   "outputs": [
    {
     "data": {
      "text/plain": [
       "31"
      ]
     },
     "execution_count": 5,
     "metadata": {},
     "output_type": "execute_result"
    }
   ],
   "source": [
    "0x1f"
   ]
  },
  {
   "cell_type": "code",
   "execution_count": 7,
   "id": "66a1455e-a945-4946-9905-e947189846f0",
   "metadata": {},
   "outputs": [],
   "source": [
    "a,b = 10,20"
   ]
  },
  {
   "cell_type": "code",
   "execution_count": 11,
   "id": "bbc61629-79a8-4533-b4b0-470b6edd1774",
   "metadata": {},
   "outputs": [
    {
     "name": "stdout",
     "output_type": "stream",
     "text": [
      "20 10\n"
     ]
    }
   ],
   "source": [
    "c = a \n",
    "a = b\n",
    "b = c\n",
    "print(a,b)"
   ]
  },
  {
   "cell_type": "code",
   "execution_count": null,
   "id": "c05a4964-6e2b-4a42-80d4-5cad1abdb249",
   "metadata": {},
   "outputs": [],
   "source": []
  }
 ],
 "metadata": {
  "kernelspec": {
   "display_name": "Python 3 (ipykernel)",
   "language": "python",
   "name": "python3"
  },
  "language_info": {
   "codemirror_mode": {
    "name": "ipython",
    "version": 3
   },
   "file_extension": ".py",
   "mimetype": "text/x-python",
   "name": "python",
   "nbconvert_exporter": "python",
   "pygments_lexer": "ipython3",
   "version": "3.12.4"
  }
 },
 "nbformat": 4,
 "nbformat_minor": 5
}
