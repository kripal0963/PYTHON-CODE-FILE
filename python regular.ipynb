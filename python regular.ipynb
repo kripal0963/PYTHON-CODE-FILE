{
 "cells": [
  {
   "cell_type": "markdown",
   "id": "8d88e5d2-3892-4f9f-876d-8d7523e999ee",
   "metadata": {},
   "source": [
    "# python 1st code \n",
    "- lets work with number"
   ]
  },
  {
   "cell_type": "markdown",
   "id": "766ca86d-0a14-4c56-ad36-1266c54be2bb",
   "metadata": {},
   "source": [
    "## Python is widely used for data analysis due to its simplicity and the extensive ecosystem of libraries designed for data manipulation, analysis, and visualization. Here are some key components:\n",
    "\n",
    "- Libraries:\n",
    "\n",
    "1. Pandas: Provides data structures like DataFrames, making it easy to manipulate and analyze structured data.\n",
    "2. NumPy: Offers support for large, multi-dimensional arrays and matrices, along with a collection of mathematical functions to operate on these arrays.\n",
    "3. Matplotlib: A plotting library used for creating static, animated, and interactive visualizations in Python.\n",
    "4. Seaborn: Built on Matplotlib, it simplifies complex visualizations and enhances aesthetics.\n",
    "5. SciPy: A library for scientific and technical computing that builds on NumPy, providing additional functionality for optimization, integration, and statistics.\n",
    "6. Scikit-learn: A machine learning library that provides simple and efficient tools for data mining and data analysis.\n",
    "\n",
    "7. Data Cleaning and Preparation: Python's libraries, especially Pandas, provide powerful tools for cleaning and transforming data, handling missing values, and merging datasets.\n",
    "\n",
    "8. Exploratory Data Analysis (EDA): Python allows analysts to perform EDA using statistical techniques and visualizations, helping to uncover patterns, trends, and anomalies.\n",
    "\n",
    "9. Statistical Analysis: Python supports various statistical tests and methods, making it suitable for hypothesis testing and inferential statistics.\n",
    "\n",
    "10. Machine Learning and Predictive Analytics: With libraries like Scikit-learn and TensorFlow, Python enables the development of predictive models and machine learning algorithms.\n",
    "\n",
    "Overall, Python's versatility and the breadth of its libraries make it a powerful tool for data analysis across various domains."
   ]
  },
  {
   "cell_type": "code",
   "execution_count": 3,
   "id": "6c872be2-1468-4a3f-a02f-608b7c5d7218",
   "metadata": {},
   "outputs": [
    {
     "data": {
      "text/plain": [
       "15"
      ]
     },
     "execution_count": 3,
     "metadata": {},
     "output_type": "execute_result"
    }
   ],
   "source": [
    "10 + 5"
   ]
  },
  {
   "cell_type": "code",
   "execution_count": 4,
   "id": "c90f2af3-f5bf-434c-b189-28a9a1a939b0",
   "metadata": {},
   "outputs": [
    {
     "data": {
      "text/plain": [
       "5"
      ]
     },
     "execution_count": 4,
     "metadata": {},
     "output_type": "execute_result"
    }
   ],
   "source": [
    "10 - 5"
   ]
  },
  {
   "cell_type": "code",
   "execution_count": 5,
   "id": "5accaebf-9e6d-4dd1-a852-9e215f8c33be",
   "metadata": {},
   "outputs": [
    {
     "data": {
      "text/plain": [
       "50"
      ]
     },
     "execution_count": 5,
     "metadata": {},
     "output_type": "execute_result"
    }
   ],
   "source": [
    "10 * 5"
   ]
  },
  {
   "cell_type": "code",
   "execution_count": 6,
   "id": "228c75d7-9698-4885-b236-117c087f0e99",
   "metadata": {},
   "outputs": [
    {
     "data": {
      "text/plain": [
       "2.0"
      ]
     },
     "execution_count": 6,
     "metadata": {},
     "output_type": "execute_result"
    }
   ],
   "source": [
    "10 / 5"
   ]
  },
  {
   "cell_type": "code",
   "execution_count": 7,
   "id": "d6f95f63-511f-482e-9de6-2f0ec040c2d9",
   "metadata": {},
   "outputs": [
    {
     "data": {
      "text/plain": [
       "2"
      ]
     },
     "execution_count": 7,
     "metadata": {},
     "output_type": "execute_result"
    }
   ],
   "source": [
    "10 // 5"
   ]
  },
  {
   "cell_type": "code",
   "execution_count": 8,
   "id": "b3b53eed-879f-4792-8593-835914c6796c",
   "metadata": {},
   "outputs": [
    {
     "data": {
      "text/plain": [
       "14"
      ]
     },
     "execution_count": 8,
     "metadata": {},
     "output_type": "execute_result"
    }
   ],
   "source": [
    "(10+5)-7+6"
   ]
  },
  {
   "cell_type": "code",
   "execution_count": 9,
   "id": "e918d806-3259-4a74-84e7-b6ef6a354ce1",
   "metadata": {},
   "outputs": [
    {
     "data": {
      "text/plain": [
       "30"
      ]
     },
     "execution_count": 9,
     "metadata": {},
     "output_type": "execute_result"
    }
   ],
   "source": [
    "5+(5*5)"
   ]
  },
  {
   "cell_type": "code",
   "execution_count": 10,
   "id": "ee5b89dd-2849-4b0f-87dd-c480105594b3",
   "metadata": {},
   "outputs": [
    {
     "data": {
      "text/plain": [
       "50"
      ]
     },
     "execution_count": 10,
     "metadata": {},
     "output_type": "execute_result"
    }
   ],
   "source": [
    "(5+5)*5"
   ]
  },
  {
   "cell_type": "code",
   "execution_count": 11,
   "id": "69d43e40-d5f9-4d98-b472-62fbadb729ae",
   "metadata": {},
   "outputs": [
    {
     "data": {
      "text/plain": [
       "53"
      ]
     },
     "execution_count": 11,
     "metadata": {},
     "output_type": "execute_result"
    }
   ],
   "source": [
    "_ + 3"
   ]
  },
  {
   "cell_type": "code",
   "execution_count": 12,
   "id": "46603fba-b51e-49fe-ad49-8799ee28a520",
   "metadata": {},
   "outputs": [
    {
     "data": {
      "text/plain": [
       "56"
      ]
     },
     "execution_count": 12,
     "metadata": {},
     "output_type": "execute_result"
    }
   ],
   "source": [
    "_ + 3"
   ]
  },
  {
   "cell_type": "code",
   "execution_count": 13,
   "id": "4a9303b5-cca3-48dd-9d50-ec686712dea4",
   "metadata": {},
   "outputs": [
    {
     "data": {
      "text/plain": [
       "'3.12.4 | packaged by Anaconda, Inc. | (main, Jun 18 2024, 15:03:56) [MSC v.1929 64 bit (AMD64)]'"
      ]
     },
     "execution_count": 13,
     "metadata": {},
     "output_type": "execute_result"
    }
   ],
   "source": [
    "import sys\n",
    "sys.version"
   ]
  },
  {
   "cell_type": "code",
   "execution_count": 14,
   "id": "2fc42176-08cf-4284-b306-87fb36ab5744",
   "metadata": {},
   "outputs": [
    {
     "data": {
      "text/plain": [
       "4"
      ]
     },
     "execution_count": 14,
     "metadata": {},
     "output_type": "execute_result"
    }
   ],
   "source": [
    "1 + 1\n",
    "2 + 1\n",
    "3 + 1"
   ]
  },
  {
   "cell_type": "code",
   "execution_count": 15,
   "id": "8a4ca9b9-0802-46dd-be8f-7255cd6b2903",
   "metadata": {},
   "outputs": [
    {
     "name": "stdout",
     "output_type": "stream",
     "text": [
      "2\n",
      "3\n",
      "4\n"
     ]
    }
   ],
   "source": [
    "print(1 + 1)\n",
    "print(2 + 1)\n",
    "print(3 + 1)"
   ]
  },
  {
   "cell_type": "code",
   "execution_count": 16,
   "id": "847b7dd2-28dd-4719-987a-0a10245cbef6",
   "metadata": {},
   "outputs": [
    {
     "name": "stdout",
     "output_type": "stream",
     "text": [
      "30\n"
     ]
    }
   ],
   "source": [
    "a = 10\n",
    "b = 20\n",
    "\n",
    "c = a+b\n",
    "print(c)"
   ]
  },
  {
   "cell_type": "code",
   "execution_count": 17,
   "id": "3202f28b-df1b-40b8-bdad-a627c05d5d41",
   "metadata": {},
   "outputs": [
    {
     "name": "stdout",
     "output_type": "stream",
     "text": [
      "10\n",
      "20\n",
      "30\n"
     ]
    }
   ],
   "source": [
    "print(a)\n",
    "print(b)\n",
    "print(c)"
   ]
  },
  {
   "cell_type": "code",
   "execution_count": 18,
   "id": "b2ffe2c4-8b3a-4fa3-8d8d-d6f1ec1815ba",
   "metadata": {},
   "outputs": [
    {
     "ename": "SyntaxError",
     "evalue": "cannot assign to literal here. Maybe you meant '==' instead of '='? (2120639536.py, line 1)",
     "output_type": "error",
     "traceback": [
      "\u001b[1;36m  Cell \u001b[1;32mIn[18], line 1\u001b[1;36m\u001b[0m\n\u001b[1;33m    100 = d\u001b[0m\n\u001b[1;37m    ^\u001b[0m\n\u001b[1;31mSyntaxError\u001b[0m\u001b[1;31m:\u001b[0m cannot assign to literal here. Maybe you meant '==' instead of '='?\n"
     ]
    }
   ],
   "source": [
    "100 = d"
   ]
  },
  {
   "cell_type": "code",
   "execution_count": null,
   "id": "f1f8d7ad-bdb7-47dc-a36c-e77f22fcccab",
   "metadata": {},
   "outputs": [],
   "source": [
    "num1=20\n",
    "num2=30\n",
    "\n",
    "add=num1+num2\n",
    "\n",
    "print(add)\n",
    "#print('The addition of',num1,'and',num2,'is=',add)"
   ]
  },
  {
   "cell_type": "code",
   "execution_count": null,
   "id": "b6f63de9-c6cf-4e67-b2a2-e78a4418d204",
   "metadata": {},
   "outputs": [],
   "source": [
    "num1=20\n",
    "num2=30\n",
    "\n",
    "add=num1+num2\n",
    "print('The addition of--',num1,'and',num2,'is==',add)"
   ]
  },
  {
   "cell_type": "code",
   "execution_count": null,
   "id": "131c0d29-6fa4-42af-a0b0-0008da6f03e0",
   "metadata": {},
   "outputs": [],
   "source": [
    "import keyword\n",
    "keyword.kwlist"
   ]
  },
  {
   "cell_type": "code",
   "execution_count": null,
   "id": "b5fa1eee-8971-4362-867c-9259b737362e",
   "metadata": {},
   "outputs": [],
   "source": [
    "len(keyword.kwlist)"
   ]
  },
  {
   "cell_type": "code",
   "execution_count": null,
   "id": "809da4e0-5a5d-4965-8986-69ee83b920e4",
   "metadata": {},
   "outputs": [],
   "source": [
    "for = 45\n",
    "for"
   ]
  },
  {
   "cell_type": "markdown",
   "id": "a6a587e5-e9b9-4f42-b716-38b523415534",
   "metadata": {},
   "source": [
    "# 22nd OCT"
   ]
  },
  {
   "cell_type": "markdown",
   "id": "7d90b7ee-981f-48d3-b837-8f40ef3cfb02",
   "metadata": {},
   "source": [
    "# python variable concept  = python identifier concept \n",
    "\n",
    "- syntax of define variable || ( variabale name = value ) || ( identifer = value )"
   ]
  },
  {
   "cell_type": "code",
   "execution_count": null,
   "id": "afb3749b-6eb8-476e-aa9e-435f7763511a",
   "metadata": {},
   "outputs": [],
   "source": [
    "NIT = 15\n",
    "NIT"
   ]
  },
  {
   "cell_type": "code",
   "execution_count": null,
   "id": "777406c3-130d-4c91-b0f9-29e8a34e0367",
   "metadata": {},
   "outputs": [],
   "source": [
    "NIT = 20\n",
    "NIT "
   ]
  },
  {
   "cell_type": "code",
   "execution_count": null,
   "id": "aaaf6c04-aad6-4ee0-ab70-ec72b2ed742a",
   "metadata": {},
   "outputs": [],
   "source": [
    "v = 15\n",
    "v"
   ]
  },
  {
   "cell_type": "code",
   "execution_count": null,
   "id": "926ecbfb-1963-4c2c-a635-fff520158654",
   "metadata": {},
   "outputs": [],
   "source": [
    "print(v)\n",
    "print(NIT)"
   ]
  },
  {
   "cell_type": "code",
   "execution_count": null,
   "id": "d14d2f42-db5a-4cc2-8d45-f57ca2b88cc4",
   "metadata": {},
   "outputs": [],
   "source": [
    "NIT "
   ]
  },
  {
   "cell_type": "code",
   "execution_count": null,
   "id": "a1fe2760-d215-4685-a7d2-8e1599d21d3f",
   "metadata": {},
   "outputs": [],
   "source": [
    "Nit"
   ]
  },
  {
   "cell_type": "code",
   "execution_count": null,
   "id": "f33d2b8c-bc44-4b6f-b452-138e7d60bc7b",
   "metadata": {},
   "outputs": [],
   "source": [
    "v "
   ]
  },
  {
   "cell_type": "code",
   "execution_count": null,
   "id": "4878f02b-d418-45b3-ae53-0f2d783f13e8",
   "metadata": {},
   "outputs": [],
   "source": [
    "V"
   ]
  },
  {
   "cell_type": "code",
   "execution_count": null,
   "id": "6a3cc815-980c-47e1-bb23-564daf737109",
   "metadata": {},
   "outputs": [],
   "source": [
    "1var = 20\n",
    "1var"
   ]
  },
  {
   "cell_type": "code",
   "execution_count": null,
   "id": "9c9d55f8-53f2-4129-b39e-59cab2b3ac09",
   "metadata": {},
   "outputs": [],
   "source": [
    "var1 = 20\n",
    "var1"
   ]
  },
  {
   "cell_type": "code",
   "execution_count": null,
   "id": "f80c29eb-1da2-4d4c-a0b7-9813f484f63b",
   "metadata": {},
   "outputs": [],
   "source": [
    "var$ = 56\n",
    "var$"
   ]
  },
  {
   "cell_type": "code",
   "execution_count": null,
   "id": "3dc2be73-38c0-423e-8648-a1a8704b6c31",
   "metadata": {},
   "outputs": [],
   "source": [
    "var* = 45\n",
    "var*"
   ]
  },
  {
   "cell_type": "code",
   "execution_count": null,
   "id": "49fd0ce1-6100-47bd-9d5a-40ab81911489",
   "metadata": {},
   "outputs": [],
   "source": [
    "var_ = 67\n",
    "var_"
   ]
  },
  {
   "cell_type": "code",
   "execution_count": null,
   "id": "054acadb-ed02-42ef-bf43-fb529a3fd220",
   "metadata": {},
   "outputs": [],
   "source": [
    "x_train, x_test = 80, 20, 50\n",
    "x_train"
   ]
  },
  {
   "cell_type": "code",
   "execution_count": null,
   "id": "0a9f92d9-944b-4544-af0b-32016e304038",
   "metadata": {},
   "outputs": [],
   "source": [
    "x_train, x_test = 80, 20\n",
    "\n",
    "print(x_train)\n",
    "print(x_test)"
   ]
  },
  {
   "cell_type": "code",
   "execution_count": null,
   "id": "3c7098c0-6af8-41d2-8cf1-fb7b20172e0f",
   "metadata": {},
   "outputs": [],
   "source": [
    "a = 10\n",
    "b = 20 \n",
    "c = 30\n",
    "d = 40"
   ]
  },
  {
   "cell_type": "code",
   "execution_count": null,
   "id": "1e9d33eb-a94f-494b-9ffa-a6f7e18d3e4d",
   "metadata": {},
   "outputs": [],
   "source": [
    "a, b, c, d = 10, 20, 30, 40\n",
    "\n",
    "print(a)\n",
    "print(b)\n",
    "print(c)\n",
    "print(d)"
   ]
  },
  {
   "cell_type": "code",
   "execution_count": null,
   "id": "3317350a-17a7-4810-a362-1667a9abec15",
   "metadata": {},
   "outputs": [],
   "source": [
    "aaaaaaaaaaaaaaaaaaaaaaaaaaaaaaaaaaaaaaaaaaaaaaaaaaaaaaaaaaaaaaaaaaaaaa = 78\n",
    "print(aaaaaaaaaaaaaaaaaaaaaaaaaaaaaaaaaaaaaaaaaaaaaaaaaaaaaaaaaaaaaaaaaaaaaa)"
   ]
  },
  {
   "cell_type": "code",
   "execution_count": null,
   "id": "09fce8e6-0764-4556-aff0-e4225ef7df80",
   "metadata": {},
   "outputs": [],
   "source": [
    "ABC = 100 # case sensitive \n",
    "abc"
   ]
  },
  {
   "cell_type": "code",
   "execution_count": null,
   "id": "76f2dd51-af17-4938-8067-f268ded3facb",
   "metadata": {},
   "outputs": [],
   "source": [
    "nit@ = 6 #special character \n",
    "nit@"
   ]
  },
  {
   "cell_type": "code",
   "execution_count": null,
   "id": "79d3b0e3-ac60-4a00-bff2-b0267d282406",
   "metadata": {},
   "outputs": [],
   "source": [
    "nit_ = 50 #underscore only allowed\n",
    "nit_"
   ]
  },
  {
   "cell_type": "code",
   "execution_count": null,
   "id": "9ec5d849-db31-44ae-8745-8020e20ba2ab",
   "metadata": {},
   "outputs": [],
   "source": [
    "1nit = 20\n",
    "1nit "
   ]
  },
  {
   "cell_type": "markdown",
   "id": "b3297e5e-2bc2-4036-83e4-0a2c6d0a1824",
   "metadata": {},
   "source": [
    "# python identifier we are completed  "
   ]
  },
  {
   "cell_type": "markdown",
   "id": "a0405930-2b92-4c1f-989c-bbad9be879a5",
   "metadata": {},
   "source": [
    "# 23rd oct  (PYTHON DATA TYPES)"
   ]
  },
  {
   "cell_type": "code",
   "execution_count": null,
   "id": "3c042c5c-e37c-4e47-99ff-082fe269c575",
   "metadata": {},
   "outputs": [],
   "source": [
    "a = 25 \n",
    "\n",
    "# a is variable \n"
   ]
  },
  {
   "cell_type": "markdown",
   "id": "e75d0d8d-d048-42af-a127-8743c3f3e30d",
   "metadata": {},
   "source": [
    "# PYTHON DATA TYPES\n",
    "    - INT - value without decimal \n",
    "    - FLOAT - value with decimal ( petrol price, gold price, salary)\n",
    "    - BOOL - True or False \n",
    "    - STRING - 'nit ' | '' nit ''\n",
    "    - COMPLEX  - (a + bj)   "
   ]
  },
  {
   "cell_type": "code",
   "execution_count": null,
   "id": "9604ca96-3c56-45a7-856f-a8b08fac7669",
   "metadata": {},
   "outputs": [],
   "source": [
    "i = 30\n",
    "i"
   ]
  },
  {
   "cell_type": "code",
   "execution_count": null,
   "id": "c0c2e288-c337-4fdd-9305-fb55cdcd34fd",
   "metadata": {},
   "outputs": [],
   "source": [
    "type(i)"
   ]
  },
  {
   "cell_type": "code",
   "execution_count": null,
   "id": "6e14b3fb-4ba9-4d8f-9716-c838384f93d4",
   "metadata": {},
   "outputs": [],
   "source": [
    "print(type(i))"
   ]
  },
  {
   "cell_type": "code",
   "execution_count": null,
   "id": "269de2f4-38c0-4073-b38d-af5032d2869e",
   "metadata": {},
   "outputs": [],
   "source": [
    "i"
   ]
  },
  {
   "cell_type": "code",
   "execution_count": null,
   "id": "43344157-efc0-4ac5-be0c-1e3cd7a6e63d",
   "metadata": {},
   "outputs": [],
   "source": [
    "i1, i2 = 20, 30"
   ]
  },
  {
   "cell_type": "code",
   "execution_count": null,
   "id": "5e0fbbec-b43b-4753-8a4e-fecd9efb3773",
   "metadata": {},
   "outputs": [],
   "source": [
    "i + i1 + i2"
   ]
  },
  {
   "cell_type": "code",
   "execution_count": null,
   "id": "c9775742-3350-4e98-a24d-26937207f8e3",
   "metadata": {},
   "outputs": [],
   "source": [
    "i - i2 + i1"
   ]
  },
  {
   "cell_type": "code",
   "execution_count": null,
   "id": "1b1559c6-e10b-4e56-b545-d787e2f8fdad",
   "metadata": {},
   "outputs": [],
   "source": [
    "print(i)\n",
    "print(i1)\n",
    "print(i2)"
   ]
  },
  {
   "cell_type": "code",
   "execution_count": null,
   "id": "4adbe623-e19c-42e7-9643-d01a4350f930",
   "metadata": {},
   "outputs": [],
   "source": [
    "i - (i2 + i1)"
   ]
  },
  {
   "cell_type": "markdown",
   "id": "eeac526d-68f8-40a5-b51a-3b83a1f06f72",
   "metadata": {},
   "source": [
    "# integer data type we are completed"
   ]
  },
  {
   "cell_type": "code",
   "execution_count": null,
   "id": "641518a7-5a6e-461a-bf9e-fa3e28490173",
   "metadata": {},
   "outputs": [],
   "source": [
    "f = 110.23\n",
    "f"
   ]
  },
  {
   "cell_type": "code",
   "execution_count": null,
   "id": "a5efee4d-dc1c-44a3-9b23-977a40adc69f",
   "metadata": {},
   "outputs": [],
   "source": [
    "type(f)"
   ]
  },
  {
   "cell_type": "code",
   "execution_count": null,
   "id": "87df1e6f-1b87-4969-af42-f6f6449e5c2a",
   "metadata": {},
   "outputs": [],
   "source": [
    "f1 , f2, f3 = 2.3, 3.4, 5.1"
   ]
  },
  {
   "cell_type": "code",
   "execution_count": null,
   "id": "030c3d83-5006-4321-a201-803e9d0e1411",
   "metadata": {},
   "outputs": [],
   "source": [
    "print(f)\n",
    "print(f1)\n",
    "print(f2)\n",
    "print(f3)"
   ]
  },
  {
   "cell_type": "code",
   "execution_count": null,
   "id": "1922e515-61eb-4487-93fc-f3436dd4fe02",
   "metadata": {},
   "outputs": [],
   "source": [
    "1f = 1e0"
   ]
  },
  {
   "cell_type": "code",
   "execution_count": null,
   "id": "d103ca18-402f-4103-a7eb-0ad675a4964a",
   "metadata": {},
   "outputs": [],
   "source": [
    "f1 = 1e0\n",
    "f1"
   ]
  },
  {
   "cell_type": "code",
   "execution_count": null,
   "id": "3f73e496-1f33-4ba7-a8b6-3a518aee8a57",
   "metadata": {},
   "outputs": [],
   "source": [
    "f2 = 2e1\n",
    "f2"
   ]
  },
  {
   "cell_type": "code",
   "execution_count": null,
   "id": "f97c35c5-3989-436c-8958-3d6b281d6e36",
   "metadata": {},
   "outputs": [],
   "source": [
    "f3 = 3e2\n",
    "f3"
   ]
  },
  {
   "cell_type": "code",
   "execution_count": null,
   "id": "84cdb4b7-95f5-41d1-9555-74fd3da97b7f",
   "metadata": {},
   "outputs": [],
   "source": [
    "f4 = 3e3\n",
    "f4"
   ]
  },
  {
   "cell_type": "code",
   "execution_count": null,
   "id": "cafc4758-b378-418b-af35-1abfa3a46cd8",
   "metadata": {},
   "outputs": [],
   "source": [
    "f5 = 2.4e2\n",
    "f5"
   ]
  },
  {
   "cell_type": "code",
   "execution_count": null,
   "id": "1bac0810-aace-4598-9ca3-e04c54cd3972",
   "metadata": {},
   "outputs": [],
   "source": [
    "f6 = 2b3"
   ]
  },
  {
   "cell_type": "markdown",
   "id": "401a4f0c-9580-4e08-b209-d05bd7a0348a",
   "metadata": {},
   "source": [
    "# BOOl or BOOLEAN"
   ]
  },
  {
   "cell_type": "code",
   "execution_count": null,
   "id": "167cc687-8ebe-4a72-a94a-0af12a14d915",
   "metadata": {},
   "outputs": [],
   "source": [
    "b = true\n",
    "b"
   ]
  },
  {
   "cell_type": "code",
   "execution_count": null,
   "id": "5f05975e-76db-4cb8-baed-618db2cdd686",
   "metadata": {},
   "outputs": [],
   "source": [
    "b = True\n",
    "b"
   ]
  },
  {
   "cell_type": "code",
   "execution_count": null,
   "id": "ddc13123-d737-4092-82db-1f9f355e8f04",
   "metadata": {},
   "outputs": [],
   "source": [
    "b1 = false \n",
    "b1"
   ]
  },
  {
   "cell_type": "code",
   "execution_count": null,
   "id": "d59278ef-5ecc-4d23-bf2a-4bc49cd47dcf",
   "metadata": {},
   "outputs": [],
   "source": [
    "b1 = False \n",
    "b1"
   ]
  },
  {
   "cell_type": "code",
   "execution_count": null,
   "id": "18ed4907-3792-4fa9-8bb0-e7a88e21d260",
   "metadata": {},
   "outputs": [],
   "source": [
    "print(b)\n",
    "print(b1)"
   ]
  },
  {
   "cell_type": "code",
   "execution_count": null,
   "id": "2db20283-56f7-40c1-bc5b-8fec5dffb72d",
   "metadata": {},
   "outputs": [],
   "source": [
    "True + False"
   ]
  },
  {
   "cell_type": "code",
   "execution_count": null,
   "id": "11925a15-cb86-4a03-99e4-83a24c6ffcf8",
   "metadata": {},
   "outputs": [],
   "source": [
    "True - False"
   ]
  },
  {
   "cell_type": "code",
   "execution_count": null,
   "id": "0869a1f8-0f3f-4005-ac51-9a866bb1c4a7",
   "metadata": {},
   "outputs": [],
   "source": [
    "False - True "
   ]
  },
  {
   "cell_type": "code",
   "execution_count": null,
   "id": "1b6c0c40-4ec7-4850-8b95-139f65d6cf88",
   "metadata": {},
   "outputs": [],
   "source": [
    "True + True + True + False - True"
   ]
  },
  {
   "cell_type": "code",
   "execution_count": null,
   "id": "b86beffe-0e27-4bca-83c8-722df65228d7",
   "metadata": {},
   "outputs": [],
   "source": [
    "False * True "
   ]
  },
  {
   "cell_type": "code",
   "execution_count": null,
   "id": "e77de4b3-dd9f-487c-9d92-4600a71879a0",
   "metadata": {},
   "outputs": [],
   "source": [
    "True * True"
   ]
  },
  {
   "cell_type": "code",
   "execution_count": null,
   "id": "6b553b95-d6c8-4318-972c-1e8398726db0",
   "metadata": {},
   "outputs": [],
   "source": [
    "False / True "
   ]
  },
  {
   "cell_type": "code",
   "execution_count": null,
   "id": "0d09b53c-d325-4a0c-afb3-14234d40ef45",
   "metadata": {},
   "outputs": [],
   "source": [
    "True / False "
   ]
  },
  {
   "cell_type": "markdown",
   "id": "904ed1b9-bda0-443f-a65f-6c819bed9576",
   "metadata": {},
   "source": [
    "# complex data types "
   ]
  },
  {
   "cell_type": "code",
   "execution_count": null,
   "id": "48df60a7-fdaf-4d4a-b5c5-7c9b65075eb7",
   "metadata": {},
   "outputs": [],
   "source": [
    "c = 1 + 20j\n",
    "c"
   ]
  },
  {
   "cell_type": "code",
   "execution_count": null,
   "id": "521f2c21-550e-4085-8eee-298e425adc2c",
   "metadata": {},
   "outputs": [],
   "source": [
    "type(c)"
   ]
  },
  {
   "cell_type": "code",
   "execution_count": null,
   "id": "0f9525a5-a1d2-436e-825d-fc82afcf38e1",
   "metadata": {},
   "outputs": [],
   "source": [
    "c"
   ]
  },
  {
   "cell_type": "code",
   "execution_count": null,
   "id": "fd8a8aad-78dc-44ef-a3c8-7b66bdef7519",
   "metadata": {},
   "outputs": [],
   "source": [
    "c.real"
   ]
  },
  {
   "cell_type": "code",
   "execution_count": null,
   "id": "a08203cb-f6de-4690-9806-0685e9fa70c6",
   "metadata": {},
   "outputs": [],
   "source": [
    "c.imag"
   ]
  },
  {
   "cell_type": "code",
   "execution_count": null,
   "id": "2675a71c-0b03-474b-900c-f36950a07acd",
   "metadata": {},
   "outputs": [],
   "source": [
    "c1 = 10 + 20j\n",
    "c2 = 30 + 40j\n",
    "\n",
    "print(c1 + c2)\n",
    "print(c1 - c2)"
   ]
  },
  {
   "cell_type": "markdown",
   "id": "8960b58f-d617-410a-b8ed-4e559d03d57b",
   "metadata": {},
   "source": [
    "# 24th Oct"
   ]
  },
  {
   "cell_type": "code",
   "execution_count": null,
   "id": "b5a3e83e-2a34-45cf-b8de-9bfbc24604b1",
   "metadata": {},
   "outputs": [],
   "source": [
    "s = 'nit'"
   ]
  },
  {
   "cell_type": "code",
   "execution_count": null,
   "id": "725852b8-1a04-4db5-8556-6f3424dce46b",
   "metadata": {},
   "outputs": [],
   "source": [
    "s"
   ]
  },
  {
   "cell_type": "code",
   "execution_count": null,
   "id": "20bb6015-7606-48a6-a099-105df4bda8f2",
   "metadata": {},
   "outputs": [],
   "source": [
    "type(s)"
   ]
  },
  {
   "cell_type": "code",
   "execution_count": null,
   "id": "abf7b35d-109d-4bb0-b64c-bdad0b0fa911",
   "metadata": {},
   "outputs": [],
   "source": [
    "s1 = \"hello python\"\n",
    "s1"
   ]
  },
  {
   "cell_type": "code",
   "execution_count": null,
   "id": "d5a2dcc3-a0bc-4b14-a5bb-006da376ceb2",
   "metadata": {},
   "outputs": [],
   "source": [
    "s2 = ''' nit\n",
    "        hello python '''\n",
    "s2"
   ]
  },
  {
   "cell_type": "code",
   "execution_count": null,
   "id": "8d22768e-d6d6-4291-83bd-e01ce606d7e2",
   "metadata": {},
   "outputs": [],
   "source": [
    "s1"
   ]
  },
  {
   "cell_type": "code",
   "execution_count": null,
   "id": "9ce3e6ac-9265-432c-bb56-d6c54a812cbb",
   "metadata": {},
   "outputs": [],
   "source": [
    "s1[0]"
   ]
  },
  {
   "cell_type": "code",
   "execution_count": null,
   "id": "efa67e51-4abb-4655-805d-f242e7802a0f",
   "metadata": {},
   "outputs": [],
   "source": [
    "s1[-4]"
   ]
  },
  {
   "cell_type": "code",
   "execution_count": null,
   "id": "25b33481-6b9d-4113-8f62-67a1ec91fd24",
   "metadata": {},
   "outputs": [],
   "source": [
    "s1[4]"
   ]
  },
  {
   "cell_type": "code",
   "execution_count": null,
   "id": "6bd55cfe-f75f-45f5-9b7d-ce9d4438f557",
   "metadata": {},
   "outputs": [],
   "source": [
    "s1[5]"
   ]
  },
  {
   "cell_type": "code",
   "execution_count": null,
   "id": "b68a1414-a6e7-4ddb-9d01-98346439a094",
   "metadata": {},
   "outputs": [],
   "source": [
    "s1"
   ]
  },
  {
   "cell_type": "code",
   "execution_count": null,
   "id": "4fa3ed93-76ce-45f5-bb81-ffd43ac8fad6",
   "metadata": {},
   "outputs": [],
   "source": [
    "s1[-7]"
   ]
  },
  {
   "cell_type": "code",
   "execution_count": null,
   "id": "8e238957-bc9d-4294-9b2c-6753e654893f",
   "metadata": {},
   "outputs": [],
   "source": [
    "s"
   ]
  },
  {
   "cell_type": "code",
   "execution_count": null,
   "id": "f837cefd-b6a9-4700-a4f3-ebe05d3551c8",
   "metadata": {},
   "outputs": [],
   "source": [
    "print(s[0])\n",
    "print(s[1])\n",
    "print(s[2])"
   ]
  },
  {
   "cell_type": "code",
   "execution_count": null,
   "id": "e891bcc3-6bf2-4ab6-abbc-af49fdb7869c",
   "metadata": {},
   "outputs": [],
   "source": [
    "s1"
   ]
  },
  {
   "cell_type": "code",
   "execution_count": null,
   "id": "0d0ca4be-ce30-4677-acdc-3d7cd846c7f6",
   "metadata": {},
   "outputs": [],
   "source": [
    "s1[:]"
   ]
  },
  {
   "cell_type": "code",
   "execution_count": null,
   "id": "72e36ade-f481-4360-8063-cdf146c08e4f",
   "metadata": {},
   "outputs": [],
   "source": [
    "s1[2:7]"
   ]
  },
  {
   "cell_type": "code",
   "execution_count": null,
   "id": "1d31cece-c4f2-4ed8-a021-2d147542b519",
   "metadata": {},
   "outputs": [],
   "source": [
    "s2"
   ]
  },
  {
   "cell_type": "code",
   "execution_count": null,
   "id": "85c8116e-cb33-418d-92d1-344279891020",
   "metadata": {},
   "outputs": [],
   "source": [
    "s3 = 'dataanalyst'\n",
    "s3"
   ]
  },
  {
   "cell_type": "code",
   "execution_count": null,
   "id": "442265e2-6bfd-477e-a7de-585ba854d561",
   "metadata": {},
   "outputs": [],
   "source": [
    "s3[0:10]"
   ]
  },
  {
   "cell_type": "code",
   "execution_count": null,
   "id": "eabd70b7-825d-45e7-9748-0f88990ccb71",
   "metadata": {},
   "outputs": [],
   "source": [
    "s3[0:11]"
   ]
  },
  {
   "cell_type": "code",
   "execution_count": null,
   "id": "08efffa7-5279-40eb-8e9c-7ee025a2e729",
   "metadata": {},
   "outputs": [],
   "source": [
    "s3"
   ]
  },
  {
   "cell_type": "code",
   "execution_count": null,
   "id": "2afb8cf7-e10b-4e82-95a0-475d51eae40f",
   "metadata": {},
   "outputs": [],
   "source": [
    "s3[11]"
   ]
  },
  {
   "cell_type": "code",
   "execution_count": null,
   "id": "42edecc9-e2ac-4789-bc27-6be40d9d168d",
   "metadata": {},
   "outputs": [],
   "source": [
    "s3"
   ]
  },
  {
   "cell_type": "code",
   "execution_count": null,
   "id": "1436d6dc-5409-4294-a280-5cfa961970ec",
   "metadata": {},
   "outputs": [],
   "source": [
    "s3[9:12]"
   ]
  },
  {
   "cell_type": "code",
   "execution_count": null,
   "id": "b16daa90-fef0-46e5-b39f-dd235eda7960",
   "metadata": {},
   "outputs": [],
   "source": [
    "s3"
   ]
  },
  {
   "cell_type": "code",
   "execution_count": null,
   "id": "5d2f66db-c994-4e0e-a4a9-17b36ab62648",
   "metadata": {},
   "outputs": [],
   "source": [
    "s3[0:11:2]"
   ]
  },
  {
   "cell_type": "code",
   "execution_count": null,
   "id": "778e0ed1-e355-4811-a20c-0c975092d42d",
   "metadata": {},
   "outputs": [],
   "source": [
    "s3"
   ]
  },
  {
   "cell_type": "code",
   "execution_count": null,
   "id": "d27ae1b4-09fb-4791-8814-70535981d3e3",
   "metadata": {},
   "outputs": [],
   "source": [
    "s3[0:11:3]"
   ]
  },
  {
   "cell_type": "code",
   "execution_count": null,
   "id": "b5dfbbbf-c21c-4364-bd2d-41f5667bb68f",
   "metadata": {},
   "outputs": [],
   "source": [
    "s3"
   ]
  },
  {
   "cell_type": "code",
   "execution_count": null,
   "id": "58513c3d-1ecd-40f7-b15f-a8fb0ff2e8cf",
   "metadata": {},
   "outputs": [],
   "source": [
    "s3[2:-2]"
   ]
  },
  {
   "cell_type": "code",
   "execution_count": null,
   "id": "4dfee986-9b99-40a7-9c34-1b3fe99fa935",
   "metadata": {},
   "outputs": [],
   "source": [
    "s3"
   ]
  },
  {
   "cell_type": "code",
   "execution_count": null,
   "id": "c5059999-9b43-4d3f-9ad7-391b35cff23b",
   "metadata": {},
   "outputs": [],
   "source": [
    "print(s)\n",
    "print(s1)\n",
    "#print(s2)\n",
    "print(s3)"
   ]
  },
  {
   "cell_type": "code",
   "execution_count": null,
   "id": "c43448bb-2c3d-47ab-ab88-af21433c251e",
   "metadata": {},
   "outputs": [],
   "source": [
    "s3"
   ]
  },
  {
   "cell_type": "code",
   "execution_count": null,
   "id": "19aa1381-e628-4cc3-9b09-eb993f2269e4",
   "metadata": {},
   "outputs": [],
   "source": [
    "import keyword\n",
    "keyword.kwlist"
   ]
  },
  {
   "cell_type": "code",
   "execution_count": null,
   "id": "3840f737-ace3-401e-9f59-9a6ef08c6eec",
   "metadata": {},
   "outputs": [],
   "source": [
    "for i in s3:\n",
    "    print(i)"
   ]
  },
  {
   "cell_type": "markdown",
   "id": "57d5440c-6fdf-415f-ad04-c48f6498d33f",
   "metadata": {},
   "source": [
    "# Python data type completed "
   ]
  },
  {
   "cell_type": "markdown",
   "id": "b750dd14-a3e1-46c8-90ee-cc05f717ad9c",
   "metadata": {},
   "source": [
    "### python type casting | type conversion "
   ]
  },
  {
   "cell_type": "code",
   "execution_count": null,
   "id": "51b3a920-5f0c-4033-bcbe-b01c3d084195",
   "metadata": {},
   "outputs": [],
   "source": [
    "int(2.3) #float  to int"
   ]
  },
  {
   "cell_type": "code",
   "execution_count": null,
   "id": "ccf61202-4ab6-4ade-83d8-b11124f96b06",
   "metadata": {},
   "outputs": [],
   "source": [
    "int(True) #bool to int "
   ]
  },
  {
   "cell_type": "code",
   "execution_count": null,
   "id": "23470f8e-6423-4738-94ae-62a70a122438",
   "metadata": {},
   "outputs": [],
   "source": [
    "int(1+2j) #complex to int not possible "
   ]
  },
  {
   "cell_type": "code",
   "execution_count": null,
   "id": "cdfc612b-debc-42b8-9a64-599aaf2546ca",
   "metadata": {},
   "outputs": [],
   "source": [
    "int('10')"
   ]
  },
  {
   "cell_type": "code",
   "execution_count": null,
   "id": "0013f872-0d38-46b9-95ca-fd831690e315",
   "metadata": {},
   "outputs": [],
   "source": [
    "int('ten')"
   ]
  },
  {
   "cell_type": "code",
   "execution_count": null,
   "id": "8e28dfee-c1d0-4dea-a346-8daef2577b39",
   "metadata": {},
   "outputs": [],
   "source": [
    "s2"
   ]
  },
  {
   "cell_type": "code",
   "execution_count": null,
   "id": "30e99e1e-83e8-4ec5-bb83-ef594865482f",
   "metadata": {},
   "outputs": [],
   "source": [
    "del s2"
   ]
  },
  {
   "cell_type": "code",
   "execution_count": null,
   "id": "fb31b491-c748-4492-adb6-081ce6a3aff4",
   "metadata": {},
   "outputs": [],
   "source": [
    "s2"
   ]
  },
  {
   "cell_type": "code",
   "execution_count": null,
   "id": "0dccc30d-756f-4a7c-aa72-0ecedeacdbd9",
   "metadata": {},
   "outputs": [],
   "source": [
    " import numpy as np\n",
    "np.nan"
   ]
  },
  {
   "cell_type": "code",
   "execution_count": null,
   "id": "ddb74490-e914-48f9-971b-e7dbc92278e1",
   "metadata": {},
   "outputs": [],
   "source": [
    "a = np.nan\n",
    "a"
   ]
  },
  {
   "cell_type": "code",
   "execution_count": null,
   "id": "e489435d-7f4b-40dc-a762-f026feccc730",
   "metadata": {},
   "outputs": [],
   "source": [
    "type(a)"
   ]
  },
  {
   "cell_type": "markdown",
   "id": "1bb70c59-851b-4de9-ad58-1ce14793ba47",
   "metadata": {},
   "source": [
    "# 25th"
   ]
  },
  {
   "cell_type": "code",
   "execution_count": null,
   "id": "8a109988-5d1d-498b-9192-78dbd24745f7",
   "metadata": {},
   "outputs": [],
   "source": [
    "float(3)"
   ]
  },
  {
   "cell_type": "code",
   "execution_count": null,
   "id": "7466f094-ceda-4a83-aa22-3afe6df64820",
   "metadata": {},
   "outputs": [],
   "source": [
    "float(True)"
   ]
  },
  {
   "cell_type": "code",
   "execution_count": null,
   "id": "2b1e92a2-8a1d-40d1-a800-c959ca35a010",
   "metadata": {},
   "outputs": [],
   "source": [
    "float(1+2j)\n"
   ]
  },
  {
   "cell_type": "code",
   "execution_count": null,
   "id": "2fd6e77c-f61f-4a06-9395-6a8ded781ddc",
   "metadata": {},
   "outputs": [],
   "source": [
    "float(3, 4)"
   ]
  },
  {
   "cell_type": "code",
   "execution_count": null,
   "id": "4f1cd60d-aa90-4e78-8a87-ec7224caea0d",
   "metadata": {},
   "outputs": [],
   "source": [
    "float('120')"
   ]
  },
  {
   "cell_type": "code",
   "execution_count": null,
   "id": "93f29eb0-3613-458b-8d3d-799071aa853f",
   "metadata": {},
   "outputs": [],
   "source": [
    "float('ten')"
   ]
  },
  {
   "cell_type": "code",
   "execution_count": null,
   "id": "41852dc6-4e66-44b5-acc9-a46e5120f208",
   "metadata": {},
   "outputs": [],
   "source": [
    "complex(10,20)"
   ]
  },
  {
   "cell_type": "code",
   "execution_count": null,
   "id": "80a72090-7860-4e95-a7f9-d05b663184d0",
   "metadata": {},
   "outputs": [],
   "source": [
    "complex(2.3)"
   ]
  },
  {
   "cell_type": "code",
   "execution_count": null,
   "id": "7d4ecd22-3fca-4c97-94d6-65cfc229f5cc",
   "metadata": {},
   "outputs": [],
   "source": [
    "complex(2.4, 10)"
   ]
  },
  {
   "cell_type": "code",
   "execution_count": null,
   "id": "e3ef40fe-1290-40dd-bc3b-efbb7311e7b0",
   "metadata": {},
   "outputs": [],
   "source": [
    "complex(True)"
   ]
  },
  {
   "cell_type": "code",
   "execution_count": null,
   "id": "96778d5d-4142-4a13-9769-dea21274a8c3",
   "metadata": {},
   "outputs": [],
   "source": [
    "complex(False)\n"
   ]
  },
  {
   "cell_type": "code",
   "execution_count": null,
   "id": "0607f275-5bd7-4b74-b1d7-1763b47e3f0d",
   "metadata": {},
   "outputs": [],
   "source": [
    "complex('10')"
   ]
  },
  {
   "cell_type": "code",
   "execution_count": null,
   "id": "8dac5253-15c6-4abf-9287-9cf64f4d23e3",
   "metadata": {},
   "outputs": [],
   "source": [
    "complex('10', '20')"
   ]
  },
  {
   "cell_type": "code",
   "execution_count": null,
   "id": "f75e7cee-966d-469b-aa0c-df494150df3a",
   "metadata": {},
   "outputs": [],
   "source": [
    " complex(2,3)"
   ]
  },
  {
   "cell_type": "code",
   "execution_count": null,
   "id": "b7d13ea8-8aff-4ec2-b411-811e7722f819",
   "metadata": {},
   "outputs": [],
   "source": [
    "bool(24)"
   ]
  },
  {
   "cell_type": "code",
   "execution_count": null,
   "id": "e2461f04-4139-4ed4-b78c-cb4aee84e517",
   "metadata": {},
   "outputs": [],
   "source": [
    "bool(2.4)"
   ]
  },
  {
   "cell_type": "code",
   "execution_count": null,
   "id": "26a6371e-bc3d-4a01-9c1d-a8a0c6e33713",
   "metadata": {},
   "outputs": [],
   "source": [
    "bool(10 + 20j)"
   ]
  },
  {
   "cell_type": "code",
   "execution_count": null,
   "id": "7d13c3f2-7978-4dc5-b6ba-d0381e821006",
   "metadata": {},
   "outputs": [],
   "source": [
    "bool('45')\n"
   ]
  },
  {
   "cell_type": "code",
   "execution_count": null,
   "id": "b67fc985-a3e1-4a05-82b4-caadbb0c0821",
   "metadata": {},
   "outputs": [],
   "source": [
    "bool(0)"
   ]
  },
  {
   "cell_type": "code",
   "execution_count": null,
   "id": "36fa8852-19e2-4791-a0ee-151ead85dc4d",
   "metadata": {},
   "outputs": [],
   "source": [
    "bool()"
   ]
  },
  {
   "cell_type": "code",
   "execution_count": null,
   "id": "fbacb7e6-eb55-4244-844c-1ec5223f532e",
   "metadata": {},
   "outputs": [],
   "source": [
    "bool( )"
   ]
  },
  {
   "cell_type": "code",
   "execution_count": null,
   "id": "12ce5615-c274-44eb-9ab9-24383bb5a268",
   "metadata": {},
   "outputs": [],
   "source": [
    "bool('nit')"
   ]
  },
  {
   "cell_type": "code",
   "execution_count": null,
   "id": "a752c25c-9abf-46e2-bd23-80cfa94628b6",
   "metadata": {},
   "outputs": [],
   "source": [
    "bool(0 + 0j)"
   ]
  },
  {
   "cell_type": "code",
   "execution_count": null,
   "id": "a1dab0c3-efab-4ef4-a029-694028f374b8",
   "metadata": {},
   "outputs": [],
   "source": [
    "bool(10 + 20j)"
   ]
  },
  {
   "cell_type": "code",
   "execution_count": null,
   "id": "0cd4c7f8-3c35-4d3a-8235-5b7515f06765",
   "metadata": {},
   "outputs": [],
   "source": [
    "print(str(2))\n",
    "print(str(2.4))\n",
    "print(str(True))\n",
    "print(str(10+20j))\n",
    "print(str(0+0j))\n",
    "      "
   ]
  },
  {
   "cell_type": "markdown",
   "id": "9cdbe8e5-b72e-484c-8635-a7d341a88b76",
   "metadata": {},
   "source": [
    "# python type casting (convert all other datatype to one datatype) completed."
   ]
  },
  {
   "cell_type": "code",
   "execution_count": null,
   "id": "81fb7844-f9ac-4ee5-a1f4-c46494a73ca3",
   "metadata": {},
   "outputs": [],
   "source": [
    "index = \"HELLOPYTHON\"\n",
    "index"
   ]
  },
  {
   "cell_type": "code",
   "execution_count": null,
   "id": "e8612d04-aed8-47ce-bee0-b52072a357b1",
   "metadata": {},
   "outputs": [],
   "source": [
    "index[:]"
   ]
  },
  {
   "cell_type": "code",
   "execution_count": null,
   "id": "f13cd3b7-0fec-40d8-bc00-9735ad96b4e3",
   "metadata": {},
   "outputs": [],
   "source": [
    "index[::-1]"
   ]
  },
  {
   "cell_type": "code",
   "execution_count": null,
   "id": "6ed4655b-0fd3-43a1-83b6-8f842df34c27",
   "metadata": {},
   "outputs": [],
   "source": [
    "index[::]"
   ]
  },
  {
   "cell_type": "code",
   "execution_count": null,
   "id": "8fefa106-e673-4e07-9e74-51c5d329a20c",
   "metadata": {},
   "outputs": [],
   "source": [
    "index[::-2]"
   ]
  },
  {
   "cell_type": "code",
   "execution_count": null,
   "id": "9b59f314-820e-4df5-a7fe-d5c28a74e1c5",
   "metadata": {},
   "outputs": [],
   "source": [
    "index[:]"
   ]
  },
  {
   "cell_type": "code",
   "execution_count": null,
   "id": "b123c0a5-0ccb-4412-aae0-3a28b8dcda22",
   "metadata": {},
   "outputs": [],
   "source": [
    "index[::-4]"
   ]
  },
  {
   "cell_type": "code",
   "execution_count": null,
   "id": "63755f6c-b221-417a-b91c-06074c596690",
   "metadata": {},
   "outputs": [],
   "source": [
    "index[1:10:3]"
   ]
  },
  {
   "cell_type": "code",
   "execution_count": null,
   "id": "19f496d7-17c8-4b19-ac34-9a61f53544b2",
   "metadata": {},
   "outputs": [],
   "source": [
    "index[:-4]"
   ]
  },
  {
   "cell_type": "markdown",
   "id": "22237463-4d4a-4cd4-84f3-555352a01f44",
   "metadata": {},
   "source": [
    "# python type casting I completed"
   ]
  },
  {
   "cell_type": "code",
   "execution_count": null,
   "id": "410fd7c1-0c61-4903-b5f6-92aee18c31ab",
   "metadata": {},
   "outputs": [],
   "source": [
    "import matplotlib.pyplot as plt\n",
    "plt.plot([1,2,3,4])\n",
    "plt.ylabel('NUMBERS')\n",
    "plt.show()\n",
    "        "
   ]
  },
  {
   "cell_type": "code",
   "execution_count": null,
   "id": "7edc6157-7e35-4e09-af75-739fe850ca66",
   "metadata": {},
   "outputs": [],
   "source": [
    "import matplotlib.pyplot as plt\n",
    "plt.plot([3,9,27,54])\n",
    "plt.ylabel('NUMBERS')\n",
    "plt.show()\n",
    "        "
   ]
  },
  {
   "cell_type": "code",
   "execution_count": null,
   "id": "c2f1b607-f5eb-409b-bd15-5691bcfbab8d",
   "metadata": {},
   "outputs": [],
   "source": [
    "import matplotlib.pyplot as plt\n",
    "plt.plot([6,7,8,9])\n",
    "plt.ylabel('NUMBERS')\n",
    "plt.show()"
   ]
  },
  {
   "cell_type": "markdown",
   "id": "0d419c45-effb-4d6c-9191-142fc3df759c",
   "metadata": {},
   "source": [
    "## 26th oct Data Structure"
   ]
  },
  {
   "cell_type": "code",
   "execution_count": null,
   "id": "163d642f-0244-4c0f-bc1c-41cfaa86dd0e",
   "metadata": {},
   "outputs": [],
   "source": [
    "l = []\n",
    "l\n",
    "\n",
    "# list data structure is always define with square brackets[]"
   ]
  },
  {
   "cell_type": "code",
   "execution_count": null,
   "id": "05be35e4-eda2-4bbd-bb90-d26b4acc6887",
   "metadata": {},
   "outputs": [],
   "source": [
    "type(l)"
   ]
  },
  {
   "cell_type": "code",
   "execution_count": null,
   "id": "eac8028f-a6f1-44a1-b61e-ffd922fd26ef",
   "metadata": {},
   "outputs": [],
   "source": [
    "print(type(l))"
   ]
  },
  {
   "cell_type": "code",
   "execution_count": null,
   "id": "2e866792-62d3-4dc1-9a66-f551eeeb262d",
   "metadata": {},
   "outputs": [],
   "source": [
    "l.append(20)\n",
    "l"
   ]
  },
  {
   "cell_type": "code",
   "execution_count": null,
   "id": "8450064d-8c7b-4f7b-b93c-d862507d7826",
   "metadata": {},
   "outputs": [],
   "source": [
    "l.append(2.5)"
   ]
  },
  {
   "cell_type": "code",
   "execution_count": null,
   "id": "290333cc-8e31-45cb-ac0d-61ee09a2f4bf",
   "metadata": {},
   "outputs": [],
   "source": [
    "l.append(True)"
   ]
  },
  {
   "cell_type": "code",
   "execution_count": null,
   "id": "92a8bfad-8f32-4bb3-a7b0-2e256379ee6d",
   "metadata": {},
   "outputs": [],
   "source": [
    "l.append(1+2j)"
   ]
  },
  {
   "cell_type": "code",
   "execution_count": null,
   "id": "80f90639-3c03-41ff-a135-8e56663ffd61",
   "metadata": {},
   "outputs": [],
   "source": [
    "l"
   ]
  },
  {
   "cell_type": "code",
   "execution_count": null,
   "id": "79fe60f9-d16d-4a08-9f10-7d74ad77352a",
   "metadata": {},
   "outputs": [],
   "source": [
    "l.append(\"nit\")\n",
    "l.append(False)\n"
   ]
  },
  {
   "cell_type": "code",
   "execution_count": null,
   "id": "43ff2e5a-6905-4dbe-985f-4b3bcc315178",
   "metadata": {},
   "outputs": [],
   "source": [
    "l"
   ]
  },
  {
   "cell_type": "code",
   "execution_count": null,
   "id": "bd34009d-a07e-4393-a07c-168d47c628d1",
   "metadata": {},
   "outputs": [],
   "source": [
    "l.append(\"vit\")"
   ]
  },
  {
   "cell_type": "code",
   "execution_count": null,
   "id": "8514766e-8d6d-4e74-a03f-cd95ff685b77",
   "metadata": {},
   "outputs": [],
   "source": [
    "l"
   ]
  },
  {
   "cell_type": "code",
   "execution_count": null,
   "id": "375230c8-4383-4cab-9db9-3f44045a01b3",
   "metadata": {},
   "outputs": [],
   "source": [
    "l"
   ]
  },
  {
   "cell_type": "code",
   "execution_count": null,
   "id": "648a995a-9579-4cb7-93c3-feb3f33f74a8",
   "metadata": {},
   "outputs": [],
   "source": [
    "l.remove(False)"
   ]
  },
  {
   "cell_type": "code",
   "execution_count": null,
   "id": "9b51e06a-cdf3-473d-bded-5ea395a6e197",
   "metadata": {},
   "outputs": [],
   "source": [
    "l"
   ]
  },
  {
   "cell_type": "code",
   "execution_count": null,
   "id": "1010041f-6f9d-4f1a-9190-e721ca31a5dd",
   "metadata": {},
   "outputs": [],
   "source": [
    "l.append(10)\n"
   ]
  },
  {
   "cell_type": "code",
   "execution_count": null,
   "id": "01f4a7f5-1955-455f-a788-d35323d546b4",
   "metadata": {},
   "outputs": [],
   "source": [
    "len(l)"
   ]
  },
  {
   "cell_type": "code",
   "execution_count": null,
   "id": "a632c022-0f4f-4f9e-a98a-af25a80a690f",
   "metadata": {},
   "outputs": [],
   "source": [
    "l1 = l.copy()"
   ]
  },
  {
   "cell_type": "code",
   "execution_count": null,
   "id": "1effe791-05e7-4dd0-928c-b1b31f12eb71",
   "metadata": {},
   "outputs": [],
   "source": [
    "l1"
   ]
  },
  {
   "cell_type": "code",
   "execution_count": null,
   "id": "902d9388-7dd5-4381-be16-f508a9647027",
   "metadata": {},
   "outputs": [],
   "source": [
    "l1 == l"
   ]
  },
  {
   "cell_type": "code",
   "execution_count": null,
   "id": "a7aa235d-41ff-478a-b070-46ed25712e92",
   "metadata": {},
   "outputs": [],
   "source": [
    "l1.append(True)"
   ]
  },
  {
   "cell_type": "code",
   "execution_count": null,
   "id": "0d8b25d2-0290-4325-b0d2-cfe25f46a471",
   "metadata": {},
   "outputs": [],
   "source": [
    "len(l1)"
   ]
  },
  {
   "cell_type": "code",
   "execution_count": null,
   "id": "e69b3ff7-c66b-4bda-91b6-c83c7e73b184",
   "metadata": {},
   "outputs": [],
   "source": [
    "l1.count(True)"
   ]
  },
  {
   "cell_type": "code",
   "execution_count": null,
   "id": "8a9c9f5d-8b2d-47c5-ab3f-6dd6dcd057cd",
   "metadata": {},
   "outputs": [],
   "source": [
    "l.count(True)"
   ]
  },
  {
   "cell_type": "code",
   "execution_count": null,
   "id": "f23070b5-443f-45fe-87e8-1939a61b3584",
   "metadata": {},
   "outputs": [],
   "source": [
    "l1.append(40)"
   ]
  },
  {
   "cell_type": "code",
   "execution_count": null,
   "id": "ecc5e559-db5b-49f1-b7e9-2073a1390560",
   "metadata": {},
   "outputs": [],
   "source": [
    "print(len(l))\n",
    "print(len(l1))\n",
    "      "
   ]
  },
  {
   "cell_type": "code",
   "execution_count": null,
   "id": "3010d7c4-00d8-4f72-9c29-f8cbf2d65658",
   "metadata": {},
   "outputs": [],
   "source": [
    "l1 == l"
   ]
  },
  {
   "cell_type": "code",
   "execution_count": null,
   "id": "323eca36-1d7e-40ab-a3cb-3f96532ec931",
   "metadata": {},
   "outputs": [],
   "source": [
    "\n",
    "len(l1)"
   ]
  },
  {
   "cell_type": "code",
   "execution_count": null,
   "id": "b06acf14-b3dd-4aa1-b320-a2219862d968",
   "metadata": {},
   "outputs": [],
   "source": [
    "l1"
   ]
  },
  {
   "cell_type": "code",
   "execution_count": null,
   "id": "aa0a512a-b796-4173-9dd2-f0c89202ac12",
   "metadata": {},
   "outputs": [],
   "source": [
    "l1[:]"
   ]
  },
  {
   "cell_type": "code",
   "execution_count": null,
   "id": "f50d43f3-fe89-4fea-915f-cef37033ecb7",
   "metadata": {},
   "outputs": [],
   "source": [
    "l1[4]"
   ]
  },
  {
   "cell_type": "code",
   "execution_count": null,
   "id": "6bc95bda-0395-41d1-acdf-8b85e9bed98b",
   "metadata": {},
   "outputs": [],
   "source": [
    "l"
   ]
  },
  {
   "cell_type": "code",
   "execution_count": null,
   "id": "41394d35-ea91-4540-a632-9fbf3415a752",
   "metadata": {},
   "outputs": [],
   "source": [
    "l = l1.copy()"
   ]
  },
  {
   "cell_type": "code",
   "execution_count": null,
   "id": "52512c4b-8d43-4aff-8953-7f5f80a6c9b8",
   "metadata": {},
   "outputs": [],
   "source": [
    "l "
   ]
  },
  {
   "cell_type": "code",
   "execution_count": null,
   "id": "b2279494-4c62-4be0-acd0-13f0eedd3281",
   "metadata": {},
   "outputs": [],
   "source": [
    "l == l1"
   ]
  },
  {
   "cell_type": "code",
   "execution_count": null,
   "id": "5bbb92c3-ae92-431e-9257-e18510bea44e",
   "metadata": {},
   "outputs": [],
   "source": [
    "l.append(2.5)"
   ]
  },
  {
   "cell_type": "code",
   "execution_count": null,
   "id": "e56d8588-7d74-4fe3-a470-ab30a1fa71bf",
   "metadata": {},
   "outputs": [],
   "source": [
    "l"
   ]
  },
  {
   "cell_type": "code",
   "execution_count": null,
   "id": "b2e29f1e-a04a-4222-bba8-501e98fff612",
   "metadata": {},
   "outputs": [],
   "source": []
  },
  {
   "cell_type": "code",
   "execution_count": null,
   "id": "af1f2a54-fd87-4fa7-9f0e-4a4df8ea5d3f",
   "metadata": {},
   "outputs": [],
   "source": [
    "l"
   ]
  },
  {
   "cell_type": "code",
   "execution_count": null,
   "id": "83368d05-99b2-4314-bdf1-3cae680f1e23",
   "metadata": {},
   "outputs": [],
   "source": [
    "l == l1"
   ]
  },
  {
   "cell_type": "code",
   "execution_count": null,
   "id": "fbb684b6-0ba1-4477-bf1a-680ef1cafbef",
   "metadata": {},
   "outputs": [],
   "source": [
    "l[:5]"
   ]
  },
  {
   "cell_type": "code",
   "execution_count": null,
   "id": "087e9b68-0c6a-4255-86dc-938309f85f3b",
   "metadata": {},
   "outputs": [],
   "source": [
    "l[:-5]"
   ]
  },
  {
   "cell_type": "markdown",
   "id": "b0c183cf-25de-4876-a617-95d4dc0d1f82",
   "metadata": {},
   "source": [
    "# 28th - list data structure"
   ]
  },
  {
   "cell_type": "code",
   "execution_count": null,
   "id": "214df643-8f81-4eea-955e-a53c14feb834",
   "metadata": {},
   "outputs": [],
   "source": [
    "l"
   ]
  },
  {
   "cell_type": "code",
   "execution_count": null,
   "id": "27e72f49-621a-4d75-81f8-827428630c10",
   "metadata": {},
   "outputs": [],
   "source": [
    "l1"
   ]
  },
  {
   "cell_type": "code",
   "execution_count": null,
   "id": "fc26767a-f8d4-42e5-b842-8469c4985d88",
   "metadata": {},
   "outputs": [],
   "source": [
    "l2 = []"
   ]
  },
  {
   "cell_type": "code",
   "execution_count": null,
   "id": "95dc4563-447c-4b3f-8ead-7df87d86c622",
   "metadata": {},
   "outputs": [],
   "source": [
    "l2"
   ]
  },
  {
   "cell_type": "code",
   "execution_count": null,
   "id": "453a2005-1c84-4270-bc78-11b995f6240a",
   "metadata": {},
   "outputs": [],
   "source": [
    "l2.append(1)\n",
    "l2.append(2.4)\n",
    "l2.append(True)\n",
    "l2.append(1+2j)\n",
    "l2.append('nit')\n"
   ]
  },
  {
   "cell_type": "code",
   "execution_count": null,
   "id": "5d9a60a8-6ce1-47cc-9fee-40dab44afa05",
   "metadata": {},
   "outputs": [],
   "source": [
    "l2"
   ]
  },
  {
   "cell_type": "code",
   "execution_count": null,
   "id": "bd96bcb3-e98a-4197-9b86-357078f43b53",
   "metadata": {},
   "outputs": [],
   "source": [
    "len(l2)"
   ]
  },
  {
   "cell_type": "code",
   "execution_count": null,
   "id": "2e009f88-4bc1-49cd-aa06-074c9b037f7f",
   "metadata": {},
   "outputs": [],
   "source": [
    "l3 = l2.copy()"
   ]
  },
  {
   "cell_type": "code",
   "execution_count": null,
   "id": "4d31c134-f655-4dc3-85a1-ce852da2d626",
   "metadata": {},
   "outputs": [],
   "source": [
    "l3"
   ]
  },
  {
   "cell_type": "code",
   "execution_count": null,
   "id": "0e2c3df5-80bf-4044-b32c-4233edf2372f",
   "metadata": {},
   "outputs": [],
   "source": [
    "l2.count(True)"
   ]
  },
  {
   "cell_type": "code",
   "execution_count": null,
   "id": "8e7d2e7a-b32a-4b4f-bb65-20f41e4a5f96",
   "metadata": {},
   "outputs": [],
   "source": [
    "l2.remove(True)"
   ]
  },
  {
   "cell_type": "code",
   "execution_count": null,
   "id": "a626182a-02a7-41a2-bf28-21229f397193",
   "metadata": {},
   "outputs": [],
   "source": [
    "l2.count(True)"
   ]
  },
  {
   "cell_type": "code",
   "execution_count": null,
   "id": "dfc33111-8733-4a88-9116-2128f94309c7",
   "metadata": {},
   "outputs": [],
   "source": [
    "print(len(l2))\n",
    "print(len(l3))\n",
    "      "
   ]
  },
  {
   "cell_type": "code",
   "execution_count": null,
   "id": "56fd34cf-06ed-45d2-825c-6ff0b3404570",
   "metadata": {},
   "outputs": [],
   "source": [
    "l3.clear()"
   ]
  },
  {
   "cell_type": "code",
   "execution_count": null,
   "id": "5600e3a9-6497-4e87-9070-461d07d9848c",
   "metadata": {},
   "outputs": [],
   "source": [
    "l3"
   ]
  },
  {
   "cell_type": "code",
   "execution_count": null,
   "id": "6423ac1c-1083-4c58-be82-8ae98c4bccab",
   "metadata": {},
   "outputs": [],
   "source": [
    "len(l3)"
   ]
  },
  {
   "cell_type": "code",
   "execution_count": null,
   "id": "b31e984f-7ea8-4e4c-9f92-75e192190457",
   "metadata": {},
   "outputs": [],
   "source": [
    "del l3"
   ]
  },
  {
   "cell_type": "code",
   "execution_count": null,
   "id": "7cd7d003-5f14-4f6a-8297-4e62b0134df8",
   "metadata": {},
   "outputs": [],
   "source": [
    "l3"
   ]
  },
  {
   "cell_type": "code",
   "execution_count": null,
   "id": "de871160-a769-4b00-a468-7ad63bd1851c",
   "metadata": {},
   "outputs": [],
   "source": [
    "l3 = []\n",
    "l3.append(10)"
   ]
  },
  {
   "cell_type": "code",
   "execution_count": null,
   "id": "029f56da-712e-4b00-85b8-c8a910ee1f9e",
   "metadata": {},
   "outputs": [],
   "source": [
    "l3"
   ]
  },
  {
   "cell_type": "code",
   "execution_count": null,
   "id": "056427ac-07f0-40a1-bae4-b412130cce49",
   "metadata": {},
   "outputs": [],
   "source": [
    "l2"
   ]
  },
  {
   "cell_type": "code",
   "execution_count": null,
   "id": "adc8c078-cd40-4c29-8164-fe5a8b31c22e",
   "metadata": {},
   "outputs": [],
   "source": [
    "l3.extend(l2)"
   ]
  },
  {
   "cell_type": "code",
   "execution_count": null,
   "id": "3072bd51-9d6b-4fd0-ad81-1f61505f26a6",
   "metadata": {},
   "outputs": [],
   "source": [
    "l3"
   ]
  },
  {
   "cell_type": "code",
   "execution_count": null,
   "id": "62d7ae3f-add6-438e-9a23-6912f9bbf930",
   "metadata": {},
   "outputs": [],
   "source": [
    "l3.index('nit')\n"
   ]
  },
  {
   "cell_type": "code",
   "execution_count": null,
   "id": "798fd1f9-5f15-427d-b24b-04f5552e77a3",
   "metadata": {},
   "outputs": [],
   "source": [
    "l3.insert(3, 'False')"
   ]
  },
  {
   "cell_type": "code",
   "execution_count": null,
   "id": "957527f4-1bed-4fe7-b3d2-4d8150ac2e47",
   "metadata": {},
   "outputs": [],
   "source": [
    "l3"
   ]
  },
  {
   "cell_type": "code",
   "execution_count": null,
   "id": "59255021-9a9b-40e0-a808-23c346b3abda",
   "metadata": {},
   "outputs": [],
   "source": [
    "l3.remove(True)"
   ]
  },
  {
   "cell_type": "code",
   "execution_count": null,
   "id": "07ed0421-188b-456d-80cb-a3550b111bcb",
   "metadata": {},
   "outputs": [],
   "source": [
    "l3"
   ]
  },
  {
   "cell_type": "code",
   "execution_count": null,
   "id": "0683d77e-1add-4686-b9cc-bc819dda341c",
   "metadata": {},
   "outputs": [],
   "source": [
    "l3.append(True)"
   ]
  },
  {
   "cell_type": "code",
   "execution_count": null,
   "id": "046cad54-825c-4342-9a92-f25b55645f8b",
   "metadata": {},
   "outputs": [],
   "source": [
    "l3"
   ]
  },
  {
   "cell_type": "code",
   "execution_count": null,
   "id": "d2ded69a-5399-4e52-989e-bdb052d58711",
   "metadata": {},
   "outputs": [],
   "source": [
    "l3.pop(True)"
   ]
  },
  {
   "cell_type": "code",
   "execution_count": null,
   "id": "56d36899-4c49-4224-afe0-11d05398f137",
   "metadata": {},
   "outputs": [],
   "source": [
    "l3"
   ]
  },
  {
   "cell_type": "code",
   "execution_count": null,
   "id": "91c7a0e3-e06a-4d7a-8967-34ae7415a87a",
   "metadata": {},
   "outputs": [],
   "source": [
    "l3.pop(4)"
   ]
  },
  {
   "cell_type": "code",
   "execution_count": null,
   "id": "4161eaa9-143c-43f8-971f-8fa0a92467ba",
   "metadata": {},
   "outputs": [],
   "source": [
    "l3"
   ]
  },
  {
   "cell_type": "code",
   "execution_count": null,
   "id": "e070907e-9872-405a-b40c-c49a89847763",
   "metadata": {},
   "outputs": [],
   "source": [
    "l3.index(10)"
   ]
  },
  {
   "cell_type": "code",
   "execution_count": null,
   "id": "c00df334-3526-444a-8be0-6e64b62f3c20",
   "metadata": {},
   "outputs": [],
   "source": [
    "X"
   ]
  },
  {
   "cell_type": "code",
   "execution_count": null,
   "id": "b6c2ff89-1183-40e2-aa18-86a828acec13",
   "metadata": {},
   "outputs": [],
   "source": [
    "l3"
   ]
  },
  {
   "cell_type": "code",
   "execution_count": null,
   "id": "8cbe2663-d3e8-44d8-a6a6-adee6f7f3479",
   "metadata": {},
   "outputs": [],
   "source": [
    "l3.index('1')"
   ]
  },
  {
   "cell_type": "code",
   "execution_count": null,
   "id": "1be97002-6506-47e2-abd1-f6cbd22ad774",
   "metadata": {},
   "outputs": [],
   "source": [
    "l3.pop(3)"
   ]
  },
  {
   "cell_type": "code",
   "execution_count": null,
   "id": "4737127f-d4ee-443b-8803-a19e43af2e21",
   "metadata": {},
   "outputs": [],
   "source": [
    "l4 = [10,65, 100,838,23,34,45,67]\n",
    "l4"
   ]
  },
  {
   "cell_type": "code",
   "execution_count": null,
   "id": "6db9485a-30b1-465b-a7db-2d66199b10f0",
   "metadata": {},
   "outputs": [],
   "source": [
    "l4.sort()"
   ]
  },
  {
   "cell_type": "code",
   "execution_count": null,
   "id": "608e5a24-8953-4225-8be5-030ea28f8be8",
   "metadata": {},
   "outputs": [],
   "source": [
    "l4"
   ]
  },
  {
   "cell_type": "code",
   "execution_count": null,
   "id": "3e127641-ec0d-4be1-8a19-93bd5473e17d",
   "metadata": {},
   "outputs": [],
   "source": [
    "l5 = [2.3,4.5,6.3,67, 23.34,23.67]"
   ]
  },
  {
   "cell_type": "code",
   "execution_count": null,
   "id": "4966ba5f-51ea-432d-90e1-e45147addf80",
   "metadata": {},
   "outputs": [],
   "source": [
    "l5.sort()"
   ]
  },
  {
   "cell_type": "code",
   "execution_count": null,
   "id": "831c484a-9750-4697-ad7f-3ea663c5dcb4",
   "metadata": {},
   "outputs": [],
   "source": [
    "l5"
   ]
  },
  {
   "cell_type": "code",
   "execution_count": null,
   "id": "a7a29ef4-2203-40d1-bfcc-02ad93eb5d40",
   "metadata": {},
   "outputs": [],
   "source": [
    "l5.reverse()"
   ]
  },
  {
   "cell_type": "code",
   "execution_count": null,
   "id": "7ba91363-4693-446e-a4d4-bdcc051dee9b",
   "metadata": {},
   "outputs": [],
   "source": [
    "l5"
   ]
  },
  {
   "cell_type": "code",
   "execution_count": null,
   "id": "46522357-447a-47d0-8420-5af21e585b21",
   "metadata": {},
   "outputs": [],
   "source": [
    "l5.sort()"
   ]
  },
  {
   "cell_type": "code",
   "execution_count": null,
   "id": "7e42b389-cf3a-4e4d-80d2-079c8ccb4ac7",
   "metadata": {},
   "outputs": [],
   "source": [
    "l5"
   ]
  },
  {
   "cell_type": "markdown",
   "id": "5e90437f-9f20-47cb-ae3d-ffb41313f051",
   "metadata": {},
   "source": [
    "# mutable = changable"
   ]
  },
  {
   "cell_type": "code",
   "execution_count": null,
   "id": "e0214bcf-f2e6-4536-84ae-db2d7ee90c9b",
   "metadata": {},
   "outputs": [],
   "source": [
    "l5[2] = 'nit'"
   ]
  },
  {
   "cell_type": "code",
   "execution_count": null,
   "id": "61ff9913-4c4d-4650-9054-b9d71cca5e38",
   "metadata": {},
   "outputs": [],
   "source": [
    "l5"
   ]
  },
  {
   "cell_type": "code",
   "execution_count": null,
   "id": "7e384c23-efbe-4ea8-b7fd-1c84e2716f79",
   "metadata": {},
   "outputs": [],
   "source": [
    "l5[5] = 100"
   ]
  },
  {
   "cell_type": "code",
   "execution_count": null,
   "id": "205c1950-bc0c-40ad-81b1-50081c46a307",
   "metadata": {},
   "outputs": [],
   "source": [
    "l5"
   ]
  },
  {
   "cell_type": "code",
   "execution_count": null,
   "id": "8a17c7e3-4577-470b-93f5-0354059dea18",
   "metadata": {},
   "outputs": [],
   "source": [
    "for i in l5:\n",
    "    \n",
    "    print(i)"
   ]
  },
  {
   "cell_type": "code",
   "execution_count": null,
   "id": "3cc7609d-70a3-4b34-a8f7-62ec68535def",
   "metadata": {},
   "outputs": [],
   "source": [
    "l6 = [ 'a', 'b']\n",
    "l7 = ['c', 'd']\n"
   ]
  },
  {
   "cell_type": "code",
   "execution_count": null,
   "id": "5eb2cb5e-ebe6-4cd5-84cf-f21ca14782d6",
   "metadata": {},
   "outputs": [],
   "source": [
    "family = l6 + l7"
   ]
  },
  {
   "cell_type": "code",
   "execution_count": null,
   "id": "a281b1c9-f86e-4283-b760-0d4e37fd118b",
   "metadata": {},
   "outputs": [],
   "source": [
    "family"
   ]
  },
  {
   "cell_type": "code",
   "execution_count": null,
   "id": "8537cdae-ad8e-43f1-a5fc-c3a18f7cc6fc",
   "metadata": {},
   "outputs": [],
   "source": [
    "l5"
   ]
  },
  {
   "cell_type": "code",
   "execution_count": null,
   "id": "2a72c132-458c-4183-bea3-ff5b7e6913e9",
   "metadata": {},
   "outputs": [],
   "source": [
    "l5[3] = 'nit'"
   ]
  },
  {
   "cell_type": "code",
   "execution_count": null,
   "id": "9ade1006-3e5f-4533-9b47-27b8ae53b586",
   "metadata": {},
   "outputs": [],
   "source": [
    "l5"
   ]
  },
  {
   "cell_type": "code",
   "execution_count": null,
   "id": "429105ba-2e41-4f00-8634-c45760b845ab",
   "metadata": {},
   "outputs": [],
   "source": [
    "l5[3] = 'mit'"
   ]
  },
  {
   "cell_type": "code",
   "execution_count": null,
   "id": "f8a5c049-6156-4b5d-9a84-c2738c7fefca",
   "metadata": {},
   "outputs": [],
   "source": [
    "l5"
   ]
  },
  {
   "cell_type": "code",
   "execution_count": null,
   "id": "5dd75da6-302e-4435-aa21-cc4900e1ea26",
   "metadata": {},
   "outputs": [],
   "source": [
    "for i in l5:\n",
    "    print(i)"
   ]
  },
  {
   "cell_type": "code",
   "execution_count": null,
   "id": "00a439b5-ddb1-425c-b87d-969146cb8158",
   "metadata": {},
   "outputs": [],
   "source": [
    "l5\n"
   ]
  },
  {
   "cell_type": "code",
   "execution_count": null,
   "id": "7b7d53bf-ac9d-4314-b941-5a48f6ea9868",
   "metadata": {},
   "outputs": [],
   "source": [
    "l5.reverse()"
   ]
  },
  {
   "cell_type": "code",
   "execution_count": null,
   "id": "a732f402-8ce7-49bd-964d-7fa932cceb86",
   "metadata": {},
   "outputs": [],
   "source": [
    "l5"
   ]
  },
  {
   "cell_type": "code",
   "execution_count": null,
   "id": "34b53022-8e45-41f4-81b4-2124da1c357d",
   "metadata": {},
   "outputs": [],
   "source": [
    "l8 = []"
   ]
  },
  {
   "cell_type": "code",
   "execution_count": null,
   "id": "5420dbc6-fcf0-43fc-b6c4-3d6723107a27",
   "metadata": {},
   "outputs": [],
   "source": [
    "l8 = l5.copy()"
   ]
  },
  {
   "cell_type": "code",
   "execution_count": null,
   "id": "787fa246-19db-4d0c-8724-cd75fccbf438",
   "metadata": {},
   "outputs": [],
   "source": [
    "l8"
   ]
  },
  {
   "cell_type": "code",
   "execution_count": null,
   "id": "e496b3b3-9475-4967-8dfb-75283beee11a",
   "metadata": {},
   "outputs": [],
   "source": [
    "l8.append(900)"
   ]
  },
  {
   "cell_type": "code",
   "execution_count": null,
   "id": "53ef4ca3-06f5-4dbd-9549-1bcaad07bec9",
   "metadata": {},
   "outputs": [],
   "source": [
    "\n",
    "l8"
   ]
  },
  {
   "cell_type": "code",
   "execution_count": null,
   "id": "809db4f3-10c9-4cfd-ba01-2b4e155d7bed",
   "metadata": {},
   "outputs": [],
   "source": [
    "l8.count(900)"
   ]
  },
  {
   "cell_type": "code",
   "execution_count": null,
   "id": "ea757848-78aa-4eed-9749-d1e7e18707c6",
   "metadata": {},
   "outputs": [],
   "source": [
    "l8.count('mit')"
   ]
  },
  {
   "cell_type": "code",
   "execution_count": null,
   "id": "632dc54b-134a-4753-acca-708b5c245682",
   "metadata": {},
   "outputs": [],
   "source": [
    "l8.remove('mit')"
   ]
  },
  {
   "cell_type": "code",
   "execution_count": null,
   "id": "90835ce4-6f36-4ac5-9636-434f345dc4bc",
   "metadata": {},
   "outputs": [],
   "source": [
    "l8"
   ]
  },
  {
   "cell_type": "code",
   "execution_count": null,
   "id": "155f285e-44fd-4df4-8fd4-3012dcc77953",
   "metadata": {},
   "outputs": [],
   "source": [
    "l5.extend(l8)"
   ]
  },
  {
   "cell_type": "code",
   "execution_count": null,
   "id": "40f5dc04-f6aa-4977-b856-19bdddca43d7",
   "metadata": {},
   "outputs": [],
   "source": [
    "l5"
   ]
  },
  {
   "cell_type": "code",
   "execution_count": null,
   "id": "5bf27129-43eb-4276-bc80-c8493226f707",
   "metadata": {},
   "outputs": [],
   "source": [
    "l8"
   ]
  },
  {
   "cell_type": "code",
   "execution_count": null,
   "id": "5f563e0e-a65c-4d1e-bfbd-b6cc365af230",
   "metadata": {},
   "outputs": [],
   "source": [
    "l5.clear()"
   ]
  },
  {
   "cell_type": "code",
   "execution_count": null,
   "id": "019b86ac-da8f-4c50-ab22-a26e32360132",
   "metadata": {},
   "outputs": [],
   "source": [
    "l5 = l8.copy()"
   ]
  },
  {
   "cell_type": "code",
   "execution_count": null,
   "id": "73f75484-18cb-410d-b0d9-24a140c238ed",
   "metadata": {},
   "outputs": [],
   "source": [
    "l8"
   ]
  },
  {
   "cell_type": "code",
   "execution_count": null,
   "id": "bdc62e5e-bb47-445b-9181-3343bfeffba1",
   "metadata": {},
   "outputs": [],
   "source": [
    "l5"
   ]
  },
  {
   "cell_type": "code",
   "execution_count": null,
   "id": "0d6d18f4-868f-44c6-947f-31e9d7c33d90",
   "metadata": {},
   "outputs": [],
   "source": [
    "l5.insert(7,300)"
   ]
  },
  {
   "cell_type": "code",
   "execution_count": null,
   "id": "abba96a9-3b64-4fea-9f9d-610beec0b65b",
   "metadata": {},
   "outputs": [],
   "source": [
    "l5"
   ]
  },
  {
   "cell_type": "code",
   "execution_count": null,
   "id": "1492dcbd-e396-4b11-92e6-066c24279dbc",
   "metadata": {},
   "outputs": [],
   "source": [
    "l5.pop(6)"
   ]
  },
  {
   "cell_type": "code",
   "execution_count": null,
   "id": "f7e1a7b9-ba0a-4fb5-8dd5-a3210bcf1f88",
   "metadata": {},
   "outputs": [],
   "source": [
    "l5"
   ]
  },
  {
   "cell_type": "code",
   "execution_count": null,
   "id": "5270e090-4753-42ca-a6c9-24b18fc41c82",
   "metadata": {},
   "outputs": [],
   "source": [
    "l5.remove('nit')"
   ]
  },
  {
   "cell_type": "code",
   "execution_count": null,
   "id": "0ac0d874-dce3-439e-9906-66efdf295516",
   "metadata": {},
   "outputs": [],
   "source": [
    "l5"
   ]
  },
  {
   "cell_type": "code",
   "execution_count": null,
   "id": "73c97c9e-4e8e-4a34-95be-b4a859c0b570",
   "metadata": {},
   "outputs": [],
   "source": [
    "l5.sort()"
   ]
  },
  {
   "cell_type": "code",
   "execution_count": null,
   "id": "ae7cad02-7225-44f5-a42c-00d462f7d874",
   "metadata": {},
   "outputs": [],
   "source": [
    "l5"
   ]
  },
  {
   "cell_type": "code",
   "execution_count": null,
   "id": "b01ada43-7032-404e-95d3-9f6cb0a192c7",
   "metadata": {},
   "outputs": [],
   "source": [
    "import matplotlib.pyplot as plt\n",
    "plt.plot([2,4,5,6])\n",
    "plt.ylabel('numbers')\n",
    "plt.show"
   ]
  },
  {
   "cell_type": "code",
   "execution_count": null,
   "id": "5430f3c9-6333-4880-b6d5-00debf609cd1",
   "metadata": {},
   "outputs": [],
   "source": [
    "import keyword\n",
    "keyword.kwlist"
   ]
  },
  {
   "cell_type": "code",
   "execution_count": null,
   "id": "dd934f18-3b60-4674-9338-9ed56fcb16d1",
   "metadata": {},
   "outputs": [],
   "source": [
    "len(keyword.kwlist)"
   ]
  },
  {
   "cell_type": "code",
   "execution_count": null,
   "id": "04b1d1d3-2100-4913-93b6-5080b3099dfa",
   "metadata": {},
   "outputs": [],
   "source": [
    "l5"
   ]
  },
  {
   "cell_type": "code",
   "execution_count": null,
   "id": "78d01305-5d8e-4487-a863-6c1d810dcb25",
   "metadata": {},
   "outputs": [],
   "source": [
    "l5 = [2,3,'nit','mit']"
   ]
  },
  {
   "cell_type": "code",
   "execution_count": null,
   "id": "9b67a237-2dfe-4b23-b584-a9d4a257ab4d",
   "metadata": {},
   "outputs": [],
   "source": [
    "l5"
   ]
  },
  {
   "cell_type": "code",
   "execution_count": null,
   "id": "6663f53b-8dac-4c1d-8297-4821bf83e72b",
   "metadata": {},
   "outputs": [],
   "source": [
    "enumnumber\n"
   ]
  },
  {
   "cell_type": "markdown",
   "id": "48839862-0f9d-418d-bd2d-e901ed761ae9",
   "metadata": {},
   "source": [
    "# list data structure we are complected\n"
   ]
  },
  {
   "cell_type": "code",
   "execution_count": null,
   "id": "df54742b-2086-4314-b4f6-eb9b59d1928b",
   "metadata": {},
   "outputs": [],
   "source": [
    "t = ()\n",
    "t"
   ]
  },
  {
   "cell_type": "code",
   "execution_count": null,
   "id": "db4beafd-872c-4e2f-9c99-68c60e5b65ef",
   "metadata": {},
   "outputs": [],
   "source": [
    "type(t)"
   ]
  },
  {
   "cell_type": "code",
   "execution_count": null,
   "id": "112eb26b-a4c2-409d-955e-901d559da699",
   "metadata": {},
   "outputs": [],
   "source": [
    "t1 = (2, 2.4,1+2j,500, True,\"nit\")\n",
    "t1"
   ]
  },
  {
   "cell_type": "code",
   "execution_count": null,
   "id": "89925513-6f20-4733-ab0d-74859c3e75cd",
   "metadata": {},
   "outputs": [],
   "source": [
    "t1[2]"
   ]
  },
  {
   "cell_type": "code",
   "execution_count": null,
   "id": "01e18ce0-f91d-460c-875c-e2716f453b82",
   "metadata": {},
   "outputs": [],
   "source": [
    "t1[2] = 3 # we can't change the value it is used in real time in all place for the security\n"
   ]
  },
  {
   "cell_type": "code",
   "execution_count": null,
   "id": "d4efef44-8733-40c8-b319-22ab1d345c23",
   "metadata": {},
   "outputs": [],
   "source": [
    "t1.count(2)"
   ]
  },
  {
   "cell_type": "code",
   "execution_count": null,
   "id": "a83810d2-f5f2-4c07-8f7d-5d3e8e7f4520",
   "metadata": {},
   "outputs": [],
   "source": [
    "t1.index(2)\n",
    "t1.index(500)\n",
    "print(t1.index(2),t1.index(500))"
   ]
  },
  {
   "cell_type": "code",
   "execution_count": null,
   "id": "ae8e2714-668a-440f-8e8f-b7847a77a507",
   "metadata": {},
   "outputs": [],
   "source": [
    "for i in t1:\n",
    "    print(i)"
   ]
  },
  {
   "cell_type": "code",
   "execution_count": null,
   "id": "fd2a0366-adf8-463d-aa92-381a4ff69cf3",
   "metadata": {},
   "outputs": [],
   "source": [
    "for i in enumerate(t1):\n",
    "    print(i)"
   ]
  },
  {
   "cell_type": "code",
   "execution_count": null,
   "id": "8f09f592-be65-41b6-afd3-586c9f691999",
   "metadata": {},
   "outputs": [],
   "source": [
    "t"
   ]
  },
  {
   "cell_type": "code",
   "execution_count": null,
   "id": "50cd376b-4d97-4f3f-86ae-0454b9ad0419",
   "metadata": {},
   "outputs": [],
   "source": [
    "t4 = t1*4"
   ]
  },
  {
   "cell_type": "code",
   "execution_count": null,
   "id": "c0970912-2cdb-4cf1-b9d0-a16251eff41d",
   "metadata": {},
   "outputs": [],
   "source": [
    "t4"
   ]
  },
  {
   "cell_type": "code",
   "execution_count": null,
   "id": "50819c59-fd33-483a-be2e-f482dfa0313d",
   "metadata": {},
   "outputs": [],
   "source": [
    "t1"
   ]
  },
  {
   "cell_type": "code",
   "execution_count": null,
   "id": "3d1f8c01-0774-42f0-a38e-7a3002415459",
   "metadata": {},
   "outputs": [],
   "source": [
    "t4 = t1/4"
   ]
  },
  {
   "cell_type": "code",
   "execution_count": null,
   "id": "bc16e7d9-81dc-4b06-a11f-324bc63ae829",
   "metadata": {},
   "outputs": [],
   "source": [
    "t4"
   ]
  },
  {
   "cell_type": "markdown",
   "id": "6ed96f4c-d210-4541-ac4c-55785191dd59",
   "metadata": {},
   "source": [
    "# tuple"
   ]
  },
  {
   "cell_type": "code",
   "execution_count": null,
   "id": "a967ba52-2435-4c77-b73f-28166424497a",
   "metadata": {},
   "outputs": [],
   "source": [
    "t = (34,56,67,700)\n",
    "t"
   ]
  },
  {
   "cell_type": "code",
   "execution_count": null,
   "id": "f5f8ceab-5920-4ea5-8adb-65fa0685d885",
   "metadata": {},
   "outputs": [],
   "source": [
    "type(t)\n"
   ]
  },
  {
   "cell_type": "code",
   "execution_count": null,
   "id": "01a75361-134c-4a65-aa69-f64bd87245fe",
   "metadata": {},
   "outputs": [],
   "source": [
    "t.count(700)"
   ]
  },
  {
   "cell_type": "code",
   "execution_count": null,
   "id": "e48b5a88-dbe8-4633-8e54-f7230701e129",
   "metadata": {},
   "outputs": [],
   "source": [
    "t.index(700)\n"
   ]
  },
  {
   "cell_type": "code",
   "execution_count": null,
   "id": "04527ea1-a55d-4144-8751-05ee1d34072a",
   "metadata": {},
   "outputs": [],
   "source": [
    "t[3:]"
   ]
  },
  {
   "cell_type": "code",
   "execution_count": null,
   "id": "70a3eead-0e2d-4447-a7c7-c73b140a2758",
   "metadata": {},
   "outputs": [],
   "source": [
    "t[:3]"
   ]
  },
  {
   "cell_type": "code",
   "execution_count": null,
   "id": "cde16ec1-400c-4196-a148-b099d14512d9",
   "metadata": {},
   "outputs": [],
   "source": [
    "t[:]"
   ]
  },
  {
   "cell_type": "code",
   "execution_count": null,
   "id": "4e675660-972e-43a8-84a4-28e1ca4784d9",
   "metadata": {},
   "outputs": [],
   "source": [
    "t[-1]"
   ]
  },
  {
   "cell_type": "code",
   "execution_count": null,
   "id": "074bd1ff-2d74-4320-9e86-8a8f82fc8ddd",
   "metadata": {},
   "outputs": [],
   "source": [
    "t[:-1]"
   ]
  },
  {
   "cell_type": "code",
   "execution_count": null,
   "id": "cadead18-3870-441f-b831-7d06acc50462",
   "metadata": {},
   "outputs": [],
   "source": [
    "t[::-2]"
   ]
  },
  {
   "cell_type": "code",
   "execution_count": null,
   "id": "c47cb81f-ceac-4b3a-926b-c73e9be25676",
   "metadata": {},
   "outputs": [],
   "source": [
    "t[2:]"
   ]
  },
  {
   "cell_type": "code",
   "execution_count": null,
   "id": "ca113df4-9d7c-4bac-bd73-15517b4a0951",
   "metadata": {},
   "outputs": [],
   "source": [
    " for i in t:\n",
    "     print(i)"
   ]
  },
  {
   "cell_type": "code",
   "execution_count": null,
   "id": "bf031046-0d24-445f-8c39-1f37aa989156",
   "metadata": {},
   "outputs": [],
   "source": [
    "for i in enumerate(t):\n",
    "    print(i)\n"
   ]
  },
  {
   "cell_type": "markdown",
   "id": "5d636c9c-ea62-4963-a908-757d87b47214",
   "metadata": {},
   "source": [
    "# tuple we are completed"
   ]
  },
  {
   "cell_type": "code",
   "execution_count": null,
   "id": "1b6a3983-78c0-44eb-8ffb-269a425867d1",
   "metadata": {},
   "outputs": [],
   "source": [
    "s = {}"
   ]
  },
  {
   "cell_type": "code",
   "execution_count": null,
   "id": "4780e4d1-1e88-4528-9d9a-16048a6da970",
   "metadata": {},
   "outputs": [],
   "source": [
    "s"
   ]
  },
  {
   "cell_type": "code",
   "execution_count": null,
   "id": "bb6561ab-7e6c-435d-9af2-a66246e3a30d",
   "metadata": {},
   "outputs": [],
   "source": [
    "type(s)"
   ]
  },
  {
   "cell_type": "code",
   "execution_count": null,
   "id": "3ea17ee7-9042-4e38-805b-b7b50cb01777",
   "metadata": {},
   "outputs": [],
   "source": [
    "s1 = set()\n",
    "type(s1)"
   ]
  },
  {
   "cell_type": "code",
   "execution_count": null,
   "id": "9ba2cd69-9020-42c9-ae0e-e731540806a9",
   "metadata": {},
   "outputs": [],
   "source": [
    "s1 = {45,76,23,200,65,76}\n",
    "s1"
   ]
  },
  {
   "cell_type": "code",
   "execution_count": null,
   "id": "e62bc594-d8d1-4860-b4b8-917d44fa702a",
   "metadata": {},
   "outputs": [],
   "source": [
    "s2 = {3.7,9.6,7.8,9.8}\n",
    "s2"
   ]
  },
  {
   "cell_type": "code",
   "execution_count": null,
   "id": "aec15aed-c771-486f-aa97-ba1637e1fbe2",
   "metadata": {},
   "outputs": [],
   "source": [
    "s3 = {'k','j','l'}"
   ]
  },
  {
   "cell_type": "code",
   "execution_count": null,
   "id": "30a99ed3-2405-4ee3-8b05-850516e7f24e",
   "metadata": {},
   "outputs": [],
   "source": [
    "s3"
   ]
  },
  {
   "cell_type": "code",
   "execution_count": null,
   "id": "fd6ea7e4-3adb-47c3-bab7-b6ef8a244333",
   "metadata": {},
   "outputs": [],
   "source": [
    "s4  = {'y',7,9.9,}\n"
   ]
  },
  {
   "cell_type": "code",
   "execution_count": null,
   "id": "e973e656-827c-4a45-8400-cc17bac76538",
   "metadata": {},
   "outputs": [],
   "source": [
    "s4.add(30)"
   ]
  },
  {
   "cell_type": "code",
   "execution_count": null,
   "id": "4bc017fd-0ccc-49e2-a6d5-84762a477aa1",
   "metadata": {},
   "outputs": [],
   "source": [
    "s4"
   ]
  },
  {
   "cell_type": "code",
   "execution_count": null,
   "id": "6d62cdcc-abff-4600-9936-d10c4abe12f0",
   "metadata": {},
   "outputs": [],
   "source": [
    "s4.add(7)\n",
    "s4"
   ]
  },
  {
   "cell_type": "code",
   "execution_count": null,
   "id": "4e585199-3703-45f3-9c6e-84a759c94e0d",
   "metadata": {},
   "outputs": [],
   "source": [
    "print(s1)\n",
    "print(s2)\n",
    "print(s3)\n",
    "print(s4)"
   ]
  },
  {
   "cell_type": "code",
   "execution_count": null,
   "id": "4eae0394-d2bf-4d17-a88e-d0a679a2c971",
   "metadata": {},
   "outputs": [],
   "source": [
    "for i in s1:\n",
    "    print(i)"
   ]
  },
  {
   "cell_type": "code",
   "execution_count": null,
   "id": "2b5e0a81-f409-4d3d-b59c-ba671bb3aec8",
   "metadata": {},
   "outputs": [],
   "source": [
    "s = {}\n",
    "s"
   ]
  },
  {
   "cell_type": "code",
   "execution_count": null,
   "id": "20dc5ab6-f241-49d4-b3c3-f447ee6ec402",
   "metadata": {},
   "outputs": [],
   "source": [
    "type(s)"
   ]
  },
  {
   "cell_type": "code",
   "execution_count": null,
   "id": "3d788401-6299-418b-b131-c3902a2310f4",
   "metadata": {},
   "outputs": [],
   "source": [
    "s1 = set()"
   ]
  },
  {
   "cell_type": "code",
   "execution_count": null,
   "id": "9f8e242e-0455-4535-ab00-cfd470f8b219",
   "metadata": {},
   "outputs": [],
   "source": [
    "type(s1)"
   ]
  },
  {
   "cell_type": "code",
   "execution_count": null,
   "id": "bed8c157-d9bb-4d53-9feb-0b9a3047c608",
   "metadata": {},
   "outputs": [],
   "source": [
    "s"
   ]
  },
  {
   "cell_type": "code",
   "execution_count": null,
   "id": "5a4b8e47-883d-4d5b-b0f1-7443335f8deb",
   "metadata": {},
   "outputs": [],
   "source": [
    "s1 = {100,20,3,15,47}\n",
    "s1"
   ]
  },
  {
   "cell_type": "code",
   "execution_count": null,
   "id": "5b7fb5a5-92f4-4f0e-abbd-e1c22ea31821",
   "metadata": {},
   "outputs": [],
   "source": [
    "s2 = {3.4,5.6,7.6,8.7}\n",
    "s2"
   ]
  },
  {
   "cell_type": "code",
   "execution_count": null,
   "id": "5fb38fe4-9fcd-4987-bf70-8650d82c2f76",
   "metadata": {},
   "outputs": [],
   "source": [
    "s3 = {1.2,4.3,45,'fit',True}"
   ]
  },
  {
   "cell_type": "code",
   "execution_count": null,
   "id": "aff340a9-dead-47f4-8ca8-2cddc798691f",
   "metadata": {},
   "outputs": [],
   "source": [
    "s3"
   ]
  },
  {
   "cell_type": "code",
   "execution_count": null,
   "id": "99e308c0-a84a-490a-a078-cfbcf8bd8fd4",
   "metadata": {},
   "outputs": [],
   "source": [
    "s4 = {'s','d','g','h'}\n",
    "s4"
   ]
  },
  {
   "cell_type": "code",
   "execution_count": null,
   "id": "053da678-d36d-411a-89cc-8b090cf3434d",
   "metadata": {},
   "outputs": [],
   "source": [
    "print(s1)\n",
    "print(s2)\n",
    "print(s3)\n",
    "print(s4)"
   ]
  },
  {
   "cell_type": "code",
   "execution_count": null,
   "id": "49797435-028e-4491-9a5d-3e61378be784",
   "metadata": {},
   "outputs": [],
   "source": [
    "for i in (s1):\n",
    "    print(i)"
   ]
  },
  {
   "cell_type": "code",
   "execution_count": null,
   "id": "41134040-cee5-456c-8e79-dc92560ed8f9",
   "metadata": {},
   "outputs": [],
   "source": [
    "for i in enumerate(s2):\n",
    "    print(i)"
   ]
  },
  {
   "cell_type": "code",
   "execution_count": null,
   "id": "0240e17d-06d5-41b8-ba40-6fd57d11f5a1",
   "metadata": {},
   "outputs": [],
   "source": [
    "s4"
   ]
  },
  {
   "cell_type": "code",
   "execution_count": null,
   "id": "c30e2b6a-122c-454d-9d38-a40aeb852c9b",
   "metadata": {},
   "outputs": [],
   "source": [
    "s3"
   ]
  },
  {
   "cell_type": "code",
   "execution_count": null,
   "id": "0199f163-b5dc-4ff1-a825-0c8a2db763fb",
   "metadata": {},
   "outputs": [],
   "source": [
    "s3.add(20)\n",
    "s3.add(39)\n",
    "s3.add(True)\n",
    "s3"
   ]
  },
  {
   "cell_type": "code",
   "execution_count": null,
   "id": "fea658b4-884c-4942-80d1-2581aab448b8",
   "metadata": {},
   "outputs": [],
   "source": [
    "s1"
   ]
  },
  {
   "cell_type": "code",
   "execution_count": null,
   "id": "a8cb3469-31f4-4190-9619-950bb10d2938",
   "metadata": {},
   "outputs": [],
   "source": [
    "s1.add(4)\n",
    "s1"
   ]
  },
  {
   "cell_type": "code",
   "execution_count": null,
   "id": "655be874-5387-4492-b5a4-b352481b4614",
   "metadata": {},
   "outputs": [],
   "source": [
    "s1"
   ]
  },
  {
   "cell_type": "code",
   "execution_count": null,
   "id": "3dd6dae9-bd15-43f0-be61-bcc1e05f34bd",
   "metadata": {},
   "outputs": [],
   "source": [
    "len(s1)"
   ]
  },
  {
   "cell_type": "code",
   "execution_count": null,
   "id": "c76879af-e45e-4a13-a629-30499d23f5d0",
   "metadata": {},
   "outputs": [],
   "source": [
    "s1.clear()"
   ]
  },
  {
   "cell_type": "code",
   "execution_count": null,
   "id": "34befd31-cbdb-425f-809f-2acb3321d61e",
   "metadata": {},
   "outputs": [],
   "source": [
    "s1"
   ]
  },
  {
   "cell_type": "code",
   "execution_count": null,
   "id": "1892c31b-9dc5-4045-8ac8-b8f03629ed36",
   "metadata": {},
   "outputs": [],
   "source": [
    "len(s1)"
   ]
  },
  {
   "cell_type": "code",
   "execution_count": null,
   "id": "805935b6-ef39-4f4a-907e-fbb2aa344826",
   "metadata": {},
   "outputs": [],
   "source": [
    "s2"
   ]
  },
  {
   "cell_type": "code",
   "execution_count": null,
   "id": "31613b69-350b-4b5e-a4e0-a3ed0ebab10d",
   "metadata": {},
   "outputs": [],
   "source": [
    "s3"
   ]
  },
  {
   "cell_type": "code",
   "execution_count": null,
   "id": "d5adf393-2d96-4872-b4a4-e6fd78d5c86f",
   "metadata": {},
   "outputs": [],
   "source": [
    "s4"
   ]
  },
  {
   "cell_type": "code",
   "execution_count": null,
   "id": "3b0e02e2-c340-495c-af09-0e88656c6310",
   "metadata": {},
   "outputs": [],
   "source": [
    "del s1"
   ]
  },
  {
   "cell_type": "code",
   "execution_count": null,
   "id": "35c753b5-4128-4935-8307-d09a1e051dee",
   "metadata": {},
   "outputs": [],
   "source": [
    "s1 = {100,34,56,76,98}\n",
    "s1"
   ]
  },
  {
   "cell_type": "code",
   "execution_count": null,
   "id": "ba6f9305-fc5f-47c0-a70f-cbf4d33c7f61",
   "metadata": {},
   "outputs": [],
   "source": [
    "del s4"
   ]
  },
  {
   "cell_type": "code",
   "execution_count": null,
   "id": "257228b9-6919-4a35-a87e-d719887ca75f",
   "metadata": {},
   "outputs": [],
   "source": [
    "s4 = s1.copy()"
   ]
  },
  {
   "cell_type": "code",
   "execution_count": null,
   "id": "0b20bb6a-0a77-47e6-b018-7c5babcd18d4",
   "metadata": {},
   "outputs": [],
   "source": [
    "s4 == s1"
   ]
  },
  {
   "cell_type": "code",
   "execution_count": null,
   "id": "1bfa43b7-5283-47a1-8640-617332e4ae29",
   "metadata": {},
   "outputs": [],
   "source": [
    "s4"
   ]
  },
  {
   "cell_type": "code",
   "execution_count": null,
   "id": "9420cdfa-03e4-4173-923a-1784751f0e5c",
   "metadata": {},
   "outputs": [],
   "source": [
    "s4.remove(100)\n",
    "s4"
   ]
  },
  {
   "cell_type": "code",
   "execution_count": null,
   "id": "a91e1fe3-70db-44fc-bb27-7e307872604b",
   "metadata": {},
   "outputs": [],
   "source": [
    "s1[:]"
   ]
  },
  {
   "cell_type": "code",
   "execution_count": null,
   "id": "3bc9f52d-3b51-471f-be42-f3044c51ee54",
   "metadata": {},
   "outputs": [],
   "source": [
    "s1[0]"
   ]
  },
  {
   "cell_type": "code",
   "execution_count": null,
   "id": "eae64dea-3324-4ee9-b12a-cb4d56f00814",
   "metadata": {},
   "outputs": [],
   "source": [
    "s1.pop()"
   ]
  },
  {
   "cell_type": "code",
   "execution_count": null,
   "id": "615e6f27-d4a8-4920-8cff-2a0759a51a13",
   "metadata": {},
   "outputs": [],
   "source": [
    "s1"
   ]
  },
  {
   "cell_type": "code",
   "execution_count": null,
   "id": "93fc222a-78a6-42d0-85cf-3807c3c7d3cf",
   "metadata": {},
   "outputs": [],
   "source": [
    "s3"
   ]
  },
  {
   "cell_type": "code",
   "execution_count": null,
   "id": "b4379a4e-0704-424d-9b04-18d40b23669e",
   "metadata": {},
   "outputs": [],
   "source": [
    "s2"
   ]
  },
  {
   "cell_type": "code",
   "execution_count": null,
   "id": "dbb94055-3086-4943-9fef-d7c37a7b4ba1",
   "metadata": {},
   "outputs": [],
   "source": [
    "a = {1,2,3,4,5}\n",
    "b = {4,5,6,7,8}\n",
    "c = {8,9,10}"
   ]
  },
  {
   "cell_type": "code",
   "execution_count": null,
   "id": "59b7edd1-9156-444a-881b-34678a3b8265",
   "metadata": {},
   "outputs": [],
   "source": [
    "type(a)"
   ]
  },
  {
   "cell_type": "code",
   "execution_count": null,
   "id": "3baaef0f-5e08-4912-82ce-a8c4f7bf6794",
   "metadata": {},
   "outputs": [],
   "source": [
    "a.union(b)"
   ]
  },
  {
   "cell_type": "code",
   "execution_count": null,
   "id": "fe87b8d6-cd2c-42c1-9be7-99bb914c2abd",
   "metadata": {},
   "outputs": [],
   "source": [
    "b.union(a)"
   ]
  },
  {
   "cell_type": "code",
   "execution_count": null,
   "id": "2c615e7f-7560-450d-8fa1-abc306b7d113",
   "metadata": {},
   "outputs": [],
   "source": [
    "d_union = a.union(b)"
   ]
  },
  {
   "cell_type": "code",
   "execution_count": null,
   "id": "6aa440fe-76ce-4d74-8d2a-83df9de7f751",
   "metadata": {},
   "outputs": [],
   "source": [
    "d_union"
   ]
  },
  {
   "cell_type": "code",
   "execution_count": null,
   "id": "72771949-3573-473c-bdd1-53a71baf3829",
   "metadata": {},
   "outputs": [],
   "source": [
    "print(a)\n",
    "print(b)\n",
    "print(c)\n",
    "print(d_union)"
   ]
  },
  {
   "cell_type": "code",
   "execution_count": null,
   "id": "0cf636b9-486a-4b19-98db-f4ebd95665ba",
   "metadata": {},
   "outputs": [],
   "source": [
    "b.union(a,c)"
   ]
  },
  {
   "cell_type": "code",
   "execution_count": null,
   "id": "61201bc4-1340-4e94-b1d7-bcc6b1495541",
   "metadata": {},
   "outputs": [],
   "source": [
    "a | b | c"
   ]
  },
  {
   "cell_type": "code",
   "execution_count": null,
   "id": "2689061f-ab38-4c6a-b444-4c546950b241",
   "metadata": {},
   "outputs": [],
   "source": [
    "print(a)\n",
    "print(b)\n",
    "print(c)\n",
    "print(d_union)"
   ]
  },
  {
   "cell_type": "code",
   "execution_count": null,
   "id": "78cd52c6-15e9-41c3-9a9a-747246e6f025",
   "metadata": {},
   "outputs": [],
   "source": [
    "a.update(b,c)\n",
    "a"
   ]
  },
  {
   "cell_type": "code",
   "execution_count": null,
   "id": "b88998c4-2810-4e57-9ddc-88af6bbc899d",
   "metadata": {},
   "outputs": [],
   "source": [
    "print(a)"
   ]
  },
  {
   "cell_type": "code",
   "execution_count": null,
   "id": "c291d336-87e1-4ff6-b787-8d174fb49978",
   "metadata": {},
   "outputs": [],
   "source": [
    "a1 = {1,2,3,4,5}\n",
    "b1 = {4,5,6,7,8}\n",
    "c1 = {8,9,10}"
   ]
  },
  {
   "cell_type": "code",
   "execution_count": null,
   "id": "a14bf540-7981-4105-8108-b39dc9e5e2a5",
   "metadata": {},
   "outputs": [],
   "source": [
    "a1.intersection(b1)"
   ]
  },
  {
   "cell_type": "code",
   "execution_count": null,
   "id": "a48f00a4-95b3-4ca2-b895-6a6b8b3b157c",
   "metadata": {},
   "outputs": [],
   "source": [
    "b1.intersection(c1)"
   ]
  },
  {
   "cell_type": "code",
   "execution_count": null,
   "id": "cce7ca0e-e123-4356-8c83-20fb120c84de",
   "metadata": {},
   "outputs": [],
   "source": [
    "b1 & c1"
   ]
  },
  {
   "cell_type": "code",
   "execution_count": null,
   "id": "5a483d7e-f90c-4de2-a630-a3edcda6cb93",
   "metadata": {},
   "outputs": [],
   "source": [
    "a2 = {1,2,3,4,5}\n",
    "b2 = {4,5,6,7,8}\n",
    "c2 = {8,9,10}"
   ]
  },
  {
   "cell_type": "code",
   "execution_count": null,
   "id": "77d85857-9b88-48be-bc2b-247839ac71a9",
   "metadata": {},
   "outputs": [],
   "source": [
    "a2-b2"
   ]
  },
  {
   "cell_type": "code",
   "execution_count": null,
   "id": "84897517-10aa-4150-9cbc-524837ef55a4",
   "metadata": {},
   "outputs": [],
   "source": [
    "b2-c2"
   ]
  },
  {
   "cell_type": "code",
   "execution_count": null,
   "id": "1210e9aa-ef7b-493b-b689-1845f8139517",
   "metadata": {},
   "outputs": [],
   "source": [
    "a2-c2"
   ]
  },
  {
   "cell_type": "code",
   "execution_count": null,
   "id": "c5a246ec-e84c-4d9c-9e82-bb4d192bdabe",
   "metadata": {},
   "outputs": [],
   "source": [
    "a2 = {1,2,3,4,5}\n",
    "b2 = {4,5,6,7,8}\n",
    "c2 = {8,9,10}"
   ]
  },
  {
   "cell_type": "code",
   "execution_count": null,
   "id": "5b20bc9c-6d40-4ef5-bce3-493d05483b9d",
   "metadata": {},
   "outputs": [],
   "source": [
    "a2.difference(b2)"
   ]
  },
  {
   "cell_type": "code",
   "execution_count": null,
   "id": "f8eff180-a66f-461c-a9b5-ced58cbad5b2",
   "metadata": {},
   "outputs": [],
   "source": [
    "a2.difference(c2)"
   ]
  },
  {
   "cell_type": "code",
   "execution_count": null,
   "id": "6590cdbd-99f1-4873-8ac6-40236f71b0ce",
   "metadata": {},
   "outputs": [],
   "source": [
    "b2.symmetric_difference(c2)"
   ]
  },
  {
   "cell_type": "code",
   "execution_count": null,
   "id": "6eab13cc-5bd9-476d-801f-1c20c3eaae92",
   "metadata": {},
   "outputs": [],
   "source": [
    "for i in (a2):\n",
    "    print(i)"
   ]
  },
  {
   "cell_type": "code",
   "execution_count": null,
   "id": "be2f290b-0357-4f48-ab85-688adc9b5048",
   "metadata": {},
   "outputs": [],
   "source": [
    "for i in enumerate(a2):\n",
    "    print(i)"
   ]
  },
  {
   "cell_type": "code",
   "execution_count": null,
   "id": "cdae7a8c-1f74-4000-8c02-5f96116c15a3",
   "metadata": {},
   "outputs": [],
   "source": [
    "a3 = {1,2,3,4,5,6,7,8}\n",
    "b3 = {4,5,6,7,8}\n",
    "c3 = {10,20,30,40,50}\n"
   ]
  },
  {
   "cell_type": "code",
   "execution_count": null,
   "id": "95c43de3-6bef-4d2b-b659-1a980d8a921f",
   "metadata": {},
   "outputs": [],
   "source": [
    "a3.issuperset(b3)"
   ]
  },
  {
   "cell_type": "code",
   "execution_count": null,
   "id": "d5aff741-8207-49ed-8a2b-1d632da7c5e3",
   "metadata": {},
   "outputs": [],
   "source": [
    "a3.isdisjoint(b3)"
   ]
  },
  {
   "cell_type": "code",
   "execution_count": null,
   "id": "9d7838ad-ed97-4433-9022-6dc0f9bf0970",
   "metadata": {},
   "outputs": [],
   "source": [
    "a3.isdisjoint(c3)"
   ]
  },
  {
   "cell_type": "code",
   "execution_count": null,
   "id": "3777246e-9395-491c-9390-bc22177697ae",
   "metadata": {},
   "outputs": [],
   "source": [
    "a3.issubset(b3)"
   ]
  },
  {
   "cell_type": "code",
   "execution_count": null,
   "id": "bb5d8a5f-74c7-4038-9525-8af46d12950e",
   "metadata": {},
   "outputs": [],
   "source": [
    "b3.issubset(a3)"
   ]
  },
  {
   "cell_type": "code",
   "execution_count": null,
   "id": "32e9b4de-aa97-447b-bbce-4336cd3e4b38",
   "metadata": {},
   "outputs": [],
   "source": [
    "b3.isdisjoint(c3)"
   ]
  },
  {
   "cell_type": "code",
   "execution_count": null,
   "id": "932dd9ad-0815-4eb3-82c2-f99f1427a993",
   "metadata": {},
   "outputs": [],
   "source": [
    "a"
   ]
  },
  {
   "cell_type": "code",
   "execution_count": null,
   "id": "05bcb4d0-0071-47c0-98bd-69bcae472cd4",
   "metadata": {},
   "outputs": [],
   "source": [
    "sum(a)"
   ]
  },
  {
   "cell_type": "code",
   "execution_count": null,
   "id": "4f07a01d-b51e-4513-8465-43ed8c9d3a6b",
   "metadata": {},
   "outputs": [],
   "source": [
    "max(a)"
   ]
  },
  {
   "cell_type": "code",
   "execution_count": null,
   "id": "c0bbeb89-70a9-4746-9459-b179940b5c96",
   "metadata": {},
   "outputs": [],
   "source": [
    "type(a)"
   ]
  },
  {
   "cell_type": "code",
   "execution_count": null,
   "id": "987ec0bc-ce87-4046-b2fc-66114c3b924d",
   "metadata": {},
   "outputs": [],
   "source": [
    "min(a)\n"
   ]
  },
  {
   "cell_type": "code",
   "execution_count": null,
   "id": "d6d55d47-6bb4-4216-9740-72422773ef0e",
   "metadata": {},
   "outputs": [],
   "source": [
    "len(a)\n"
   ]
  },
  {
   "cell_type": "code",
   "execution_count": null,
   "id": "f7f74452-c03a-424c-a3ed-f9c0c67f3d35",
   "metadata": {},
   "outputs": [],
   "source": [
    "list(enumerate(a))"
   ]
  },
  {
   "cell_type": "code",
   "execution_count": null,
   "id": "4d88ea3e-7bf1-4067-bbba-4282c12daccf",
   "metadata": {},
   "outputs": [],
   "source": [
    "sorted(a, reverse= True)"
   ]
  },
  {
   "cell_type": "markdown",
   "id": "1b194682-e424-469b-8dda-1fc42cebc782",
   "metadata": {},
   "source": [
    "## set datastructure  completed "
   ]
  },
  {
   "cell_type": "markdown",
   "id": "848221b7-a418-4abc-bcf6-33764e03ed49",
   "metadata": {},
   "source": [
    "# dictionary(dict)"
   ]
  },
  {
   "cell_type": "code",
   "execution_count": null,
   "id": "cab87f12-6af0-4ca2-af4c-76f9a2f06a32",
   "metadata": {},
   "outputs": [],
   "source": [
    "d = {}\n",
    "type(d)"
   ]
  },
  {
   "cell_type": "code",
   "execution_count": null,
   "id": "8fbced73-0b6c-41c5-bd92-b31dd5eb4443",
   "metadata": {},
   "outputs": [],
   "source": [
    "d = {1:'one',2:'two',3:'three',4:'four',5:'five'}\n",
    "d"
   ]
  },
  {
   "cell_type": "code",
   "execution_count": null,
   "id": "c56cac9c-d50d-4e2a-827f-242a69364fbf",
   "metadata": {},
   "outputs": [],
   "source": [
    "d1 = {'one':1,'two':2,'three':3,'four':4,'five':5}"
   ]
  },
  {
   "cell_type": "code",
   "execution_count": null,
   "id": "72cb5e72-0926-4cd9-a4c1-c4cdca4b5440",
   "metadata": {},
   "outputs": [],
   "source": [
    "d1"
   ]
  },
  {
   "cell_type": "code",
   "execution_count": null,
   "id": "a3613f38-d3bb-483f-a658-d870b48fd81d",
   "metadata": {},
   "outputs": [],
   "source": [
    "d1['one']"
   ]
  },
  {
   "cell_type": "code",
   "execution_count": null,
   "id": "570a73f9-0f92-429a-97da-ff4fe229d7e8",
   "metadata": {},
   "outputs": [],
   "source": [
    "d1[1]"
   ]
  },
  {
   "cell_type": "code",
   "execution_count": null,
   "id": "346b2aec-f75a-48f9-9e2b-0cbdc5863479",
   "metadata": {},
   "outputs": [],
   "source": [
    "print(len(d))\n",
    "print(len(d1))"
   ]
  },
  {
   "cell_type": "code",
   "execution_count": null,
   "id": "31439af0-8359-4c66-b193-809b37c9eb9a",
   "metadata": {},
   "outputs": [],
   "source": [
    "d[1]"
   ]
  },
  {
   "cell_type": "code",
   "execution_count": null,
   "id": "507850d8-82c7-4e2e-b51a-b4c16d0eb27a",
   "metadata": {},
   "outputs": [],
   "source": [
    "d"
   ]
  },
  {
   "cell_type": "code",
   "execution_count": null,
   "id": "32763380-9100-46cc-845a-50357c0e8ee6",
   "metadata": {},
   "outputs": [],
   "source": [
    "d1"
   ]
  },
  {
   "cell_type": "code",
   "execution_count": null,
   "id": "c3a99fbc-6ac0-4696-b1bd-40dbce57f3f6",
   "metadata": {},
   "outputs": [],
   "source": [
    "d1.keys()"
   ]
  },
  {
   "cell_type": "code",
   "execution_count": null,
   "id": "3bd665b8-bbc8-444a-95af-4c73ccb575c4",
   "metadata": {},
   "outputs": [],
   "source": [
    "d1.values()"
   ]
  },
  {
   "cell_type": "code",
   "execution_count": null,
   "id": "b95b148c-cfa2-418d-b58e-01610557e5aa",
   "metadata": {},
   "outputs": [],
   "source": [
    "d2 = {10:'ten',2.4:\"six\", True : False, 1+2j : 3 +2j, 'seven':'eight'}"
   ]
  },
  {
   "cell_type": "code",
   "execution_count": null,
   "id": "bb9b727e-32ec-4b79-a400-920ed5640bbe",
   "metadata": {},
   "outputs": [],
   "source": [
    "d2"
   ]
  },
  {
   "cell_type": "code",
   "execution_count": null,
   "id": "fe4dc922-f656-4703-b808-75c89683468f",
   "metadata": {},
   "outputs": [],
   "source": [
    "d2.keys()"
   ]
  },
  {
   "cell_type": "code",
   "execution_count": null,
   "id": "a7bfe507-0a08-4d8a-a245-e382504c0149",
   "metadata": {},
   "outputs": [],
   "source": [
    "d2.values()\n"
   ]
  },
  {
   "cell_type": "code",
   "execution_count": null,
   "id": "f27c2ccb-439c-4256-919f-6138b59be50a",
   "metadata": {},
   "outputs": [],
   "source": [
    "d2\n"
   ]
  },
  {
   "cell_type": "code",
   "execution_count": null,
   "id": "28aac3f8-fd31-4f75-bc90-637d8ac5f3a3",
   "metadata": {},
   "outputs": [],
   "source": [
    "len(d2)"
   ]
  },
  {
   "cell_type": "code",
   "execution_count": null,
   "id": "de56398a-e06e-40d0-9e3c-cfd5b7c6ec24",
   "metadata": {},
   "outputs": [],
   "source": [
    "d2.items()"
   ]
  },
  {
   "cell_type": "code",
   "execution_count": null,
   "id": "688af80d-42ea-4429-bc6c-9e3e38b0154d",
   "metadata": {},
   "outputs": [],
   "source": [
    "id(d2)"
   ]
  },
  {
   "cell_type": "code",
   "execution_count": null,
   "id": "1f35feb1-3cb5-41a2-bb65-573f617a0922",
   "metadata": {},
   "outputs": [],
   "source": [
    "d1\n"
   ]
  },
  {
   "cell_type": "code",
   "execution_count": null,
   "id": "96d0ec5d-a4a1-453a-9843-8f336ea08137",
   "metadata": {},
   "outputs": [],
   "source": [
    "for i in (d1):\n",
    "    print(i)"
   ]
  },
  {
   "cell_type": "code",
   "execution_count": null,
   "id": "1cb08aea-1486-4603-a99a-bbe543bdaf9a",
   "metadata": {},
   "outputs": [],
   "source": [
    "for i in (d1):\n",
    "    print(i, ':', d1[i])"
   ]
  },
  {
   "cell_type": "markdown",
   "id": "f0fa47b0-e37c-44ff-8407-dfe11fc52fc9",
   "metadata": {},
   "source": [
    "# range"
   ]
  },
  {
   "cell_type": "code",
   "execution_count": null,
   "id": "68d3ed5e-720e-4d86-acb5-5b677096b4ea",
   "metadata": {},
   "outputs": [],
   "source": [
    "range(5)\n"
   ]
  },
  {
   "cell_type": "code",
   "execution_count": null,
   "id": "f8ac516a-b399-45b1-9995-5de495412e09",
   "metadata": {},
   "outputs": [],
   "source": [
    "r = range(0,5)"
   ]
  },
  {
   "cell_type": "code",
   "execution_count": null,
   "id": "06cc5b3d-fe12-4d3c-8190-6e851f6e6ea7",
   "metadata": {},
   "outputs": [],
   "source": [
    "for i in r:\n",
    "    print(i)"
   ]
  },
  {
   "cell_type": "code",
   "execution_count": null,
   "id": "b4536233-0848-444c-9dd6-bcd0b39a1f23",
   "metadata": {},
   "outputs": [],
   "source": [
    "list(r)"
   ]
  },
  {
   "cell_type": "code",
   "execution_count": null,
   "id": "61081ae7-b19e-436f-b667-7901f23f82b3",
   "metadata": {},
   "outputs": [],
   "source": [
    "r1 = range(0,11,2)"
   ]
  },
  {
   "cell_type": "code",
   "execution_count": null,
   "id": "ce1e47b0-7825-4160-9261-9797f3182502",
   "metadata": {},
   "outputs": [],
   "source": [
    "for i in r1:\n",
    "    print(i)"
   ]
  },
  {
   "cell_type": "code",
   "execution_count": null,
   "id": "14ffaf4b-ec44-41d6-978b-d304bc1f7d25",
   "metadata": {},
   "outputs": [],
   "source": [
    "r2 = range(0,20,3)"
   ]
  },
  {
   "cell_type": "code",
   "execution_count": null,
   "id": "47a973e6-f755-4b3c-8093-c2d21aff8acd",
   "metadata": {},
   "outputs": [],
   "source": [
    "for i in r2:\n",
    "    print(i)"
   ]
  },
  {
   "cell_type": "code",
   "execution_count": null,
   "id": "081c7634-8bd5-4afd-95c2-127351975b62",
   "metadata": {},
   "outputs": [],
   "source": [
    "list(r2)"
   ]
  },
  {
   "cell_type": "code",
   "execution_count": null,
   "id": "b0672e99-a555-4126-8940-8025360aa787",
   "metadata": {},
   "outputs": [],
   "source": [
    "\n",
    "\n"
   ]
  },
  {
   "cell_type": "code",
   "execution_count": null,
   "id": "0579a219-22a9-45ea-a5a9-33b4a13454ed",
   "metadata": {},
   "outputs": [],
   "source": [
    "name = 'mit'\n",
    "name"
   ]
  },
  {
   "cell_type": "code",
   "execution_count": null,
   "id": "b6f04954-16f6-4e2c-9bab-a8c1d7aec3e6",
   "metadata": {},
   "outputs": [],
   "source": [
    "name + 'technology'"
   ]
  },
  {
   "cell_type": "code",
   "execution_count": null,
   "id": "19a1fa8d-3028-457a-8243-c236b3294783",
   "metadata": {},
   "outputs": [],
   "source": [
    "name  'technology'"
   ]
  },
  {
   "cell_type": "code",
   "execution_count": null,
   "id": "ac16c6de-d6f7-47ac-9224-055e3e2b6f7d",
   "metadata": {},
   "outputs": [],
   "source": [
    "'name' 'tech"
   ]
  },
  {
   "cell_type": "code",
   "execution_count": null,
   "id": "8675ca09-1812-448f-9dd2-919d0f0ca1db",
   "metadata": {},
   "outputs": [],
   "source": [
    "name1 = 'fine'"
   ]
  },
  {
   "cell_type": "code",
   "execution_count": null,
   "id": "cebbc2c9-2157-45db-a3af-83fc9249ff0d",
   "metadata": {},
   "outputs": [],
   "source": [
    "name1 = 'dine'"
   ]
  },
  {
   "cell_type": "code",
   "execution_count": null,
   "id": "ece2eef5-87f0-4eb2-85d6-7dbd4a68e77b",
   "metadata": {},
   "outputs": [],
   "source": [
    "name1"
   ]
  },
  {
   "cell_type": "code",
   "execution_count": null,
   "id": "e13f9851-3858-4ec8-9d7b-5df6a06f970d",
   "metadata": {},
   "outputs": [],
   "source": [
    "name1.replace('','wine')"
   ]
  },
  {
   "cell_type": "code",
   "execution_count": null,
   "id": "9b5fe0fb-5545-4e96-a04a-478fc301c7a5",
   "metadata": {},
   "outputs": [],
   "source": [
    "name1"
   ]
  },
  {
   "cell_type": "markdown",
   "id": "cd32206b-e4a3-45bf-b5cf-2613cbb9f32e",
   "metadata": {},
   "source": [
    "# Print statement "
   ]
  },
  {
   "cell_type": "code",
   "execution_count": null,
   "id": "fbd1e159-fa8c-4660-ae86-150a0458f8d3",
   "metadata": {},
   "outputs": [],
   "source": [
    "5*' nit'"
   ]
  },
  {
   "cell_type": "code",
   "execution_count": 444,
   "id": "8cca98f6-68c1-464c-9951-56731eac06dc",
   "metadata": {},
   "outputs": [
    {
     "data": {
      "text/plain": [
       "'nitnit'"
      ]
     },
     "execution_count": 444,
     "metadata": {},
     "output_type": "execute_result"
    }
   ],
   "source": [
    "'nit' 'nit'"
   ]
  },
  {
   "cell_type": "code",
   "execution_count": 446,
   "id": "702467d1-6def-4496-9ec4-0968d36861a4",
   "metadata": {},
   "outputs": [
    {
     "data": {
      "text/plain": [
       "'nitnit'"
      ]
     },
     "execution_count": 446,
     "metadata": {},
     "output_type": "execute_result"
    }
   ],
   "source": [
    "'nit' + 'nit'"
   ]
  },
  {
   "cell_type": "code",
   "execution_count": 448,
   "id": "124fa0f7-8361-494d-80d3-6a7f3c8139ff",
   "metadata": {},
   "outputs": [
    {
     "name": "stdout",
     "output_type": "stream",
     "text": [
      "c:\n",
      "it\n"
     ]
    }
   ],
   "source": [
    "print('c:\\nit')"
   ]
  },
  {
   "cell_type": "code",
   "execution_count": 450,
   "id": "8c3deb23-8270-45aa-84a4-301c66f75794",
   "metadata": {},
   "outputs": [
    {
     "name": "stdout",
     "output_type": "stream",
     "text": [
      "c:\\nit\n"
     ]
    }
   ],
   "source": [
    "print(r'c:\\nit')"
   ]
  },
  {
   "cell_type": "code",
   "execution_count": 452,
   "id": "493b8cee-b3bd-47b5-a09e-74b22a8a7d4b",
   "metadata": {},
   "outputs": [
    {
     "data": {
      "text/plain": [
       "2"
      ]
     },
     "execution_count": 452,
     "metadata": {},
     "output_type": "execute_result"
    }
   ],
   "source": [
    "2"
   ]
  },
  {
   "cell_type": "code",
   "execution_count": 454,
   "id": "999ab09a-019f-4769-b344-dda7d7e8b4b4",
   "metadata": {},
   "outputs": [],
   "source": [
    "x = 2"
   ]
  },
  {
   "cell_type": "code",
   "execution_count": 456,
   "id": "02733399-a217-4b26-8a59-9f7b9db6a2c2",
   "metadata": {},
   "outputs": [
    {
     "data": {
      "text/plain": [
       "5"
      ]
     },
     "execution_count": 456,
     "metadata": {},
     "output_type": "execute_result"
    }
   ],
   "source": [
    "x + 3"
   ]
  },
  {
   "cell_type": "code",
   "execution_count": 458,
   "id": "d998ba1b-759e-4eb1-8eb9-d0ce06aa5f8d",
   "metadata": {},
   "outputs": [
    {
     "data": {
      "text/plain": [
       "3"
      ]
     },
     "execution_count": 458,
     "metadata": {},
     "output_type": "execute_result"
    }
   ],
   "source": [
    "y = 3\n",
    "y"
   ]
  },
  {
   "cell_type": "code",
   "execution_count": 460,
   "id": "0f812042-f90f-4f38-8f3a-b5dbdbe032ef",
   "metadata": {},
   "outputs": [
    {
     "data": {
      "text/plain": [
       "5"
      ]
     },
     "execution_count": 460,
     "metadata": {},
     "output_type": "execute_result"
    }
   ],
   "source": [
    "x + y"
   ]
  },
  {
   "cell_type": "code",
   "execution_count": 462,
   "id": "5c3bda1c-8b1e-4d12-b54c-eafdc7207d25",
   "metadata": {},
   "outputs": [
    {
     "data": {
      "text/plain": [
       "9"
      ]
     },
     "execution_count": 462,
     "metadata": {},
     "output_type": "execute_result"
    }
   ],
   "source": [
    "x = 9\n",
    "x"
   ]
  },
  {
   "cell_type": "code",
   "execution_count": 464,
   "id": "8ff29974-205f-420e-bacd-d9313ab8f3b9",
   "metadata": {},
   "outputs": [
    {
     "data": {
      "text/plain": [
       "12"
      ]
     },
     "execution_count": 464,
     "metadata": {},
     "output_type": "execute_result"
    }
   ],
   "source": [
    "x + y"
   ]
  },
  {
   "cell_type": "code",
   "execution_count": 466,
   "id": "fec25fd5-ddf5-4348-9e65-7d783ba9bc56",
   "metadata": {},
   "outputs": [
    {
     "data": {
      "text/plain": [
       "19"
      ]
     },
     "execution_count": 466,
     "metadata": {},
     "output_type": "execute_result"
    }
   ],
   "source": [
    "x + 10"
   ]
  },
  {
   "cell_type": "code",
   "execution_count": 476,
   "id": "93177622-b7de-4731-93d7-c4cd8b53d697",
   "metadata": {},
   "outputs": [
    {
     "ename": "TypeError",
     "evalue": "can only concatenate str (not \"int\") to str",
     "output_type": "error",
     "traceback": [
      "\u001b[1;31m---------------------------------------------------------------------------\u001b[0m",
      "\u001b[1;31mTypeError\u001b[0m                                 Traceback (most recent call last)",
      "Cell \u001b[1;32mIn[476], line 1\u001b[0m\n\u001b[1;32m----> 1\u001b[0m _ \u001b[38;5;241m+\u001b[39m y\n",
      "\u001b[1;31mTypeError\u001b[0m: can only concatenate str (not \"int\") to str"
     ]
    }
   ],
   "source": [
    "_ + y"
   ]
  },
  {
   "cell_type": "code",
   "execution_count": 482,
   "id": "87aa6363-648f-4d43-bf3e-cf57e56e2902",
   "metadata": {},
   "outputs": [
    {
     "data": {
      "text/plain": [
       "'mit'"
      ]
     },
     "execution_count": 482,
     "metadata": {},
     "output_type": "execute_result"
    }
   ],
   "source": [
    "name = 'mit'\n",
    "name"
   ]
  },
  {
   "cell_type": "code",
   "execution_count": 484,
   "id": "1afd68db-83b6-4877-b6e4-919e769be574",
   "metadata": {},
   "outputs": [
    {
     "data": {
      "text/plain": [
       "'mittechnology'"
      ]
     },
     "execution_count": 484,
     "metadata": {},
     "output_type": "execute_result"
    }
   ],
   "source": [
    "name + 'technology'"
   ]
  },
  {
   "cell_type": "code",
   "execution_count": 486,
   "id": "80016bfb-7b4a-4150-a6d2-d731c86af5c9",
   "metadata": {},
   "outputs": [
    {
     "data": {
      "text/plain": [
       "'mit technology'"
      ]
     },
     "execution_count": 486,
     "metadata": {},
     "output_type": "execute_result"
    }
   ],
   "source": [
    "name + ' technology'"
   ]
  },
  {
   "cell_type": "code",
   "execution_count": 488,
   "id": "ff36feb3-642c-41e0-bc63-7e1dea294714",
   "metadata": {},
   "outputs": [
    {
     "ename": "SyntaxError",
     "evalue": "invalid syntax (3186014715.py, line 1)",
     "output_type": "error",
     "traceback": [
      "\u001b[1;36m  Cell \u001b[1;32mIn[488], line 1\u001b[1;36m\u001b[0m\n\u001b[1;33m    name 'technology'\u001b[0m\n\u001b[1;37m         ^\u001b[0m\n\u001b[1;31mSyntaxError\u001b[0m\u001b[1;31m:\u001b[0m invalid syntax\n"
     ]
    }
   ],
   "source": [
    "name 'technology'"
   ]
  },
  {
   "cell_type": "code",
   "execution_count": 490,
   "id": "1a858a75-af08-4985-8af5-a4c38bbe67a6",
   "metadata": {},
   "outputs": [
    {
     "data": {
      "text/plain": [
       "3"
      ]
     },
     "execution_count": 490,
     "metadata": {},
     "output_type": "execute_result"
    }
   ],
   "source": [
    "len(name)"
   ]
  },
  {
   "cell_type": "code",
   "execution_count": 497,
   "id": "64b0d736-997b-48be-901c-af6f26bf6b72",
   "metadata": {},
   "outputs": [
    {
     "data": {
      "text/plain": [
       "'fine'"
      ]
     },
     "execution_count": 497,
     "metadata": {},
     "output_type": "execute_result"
    }
   ],
   "source": [
    "name1 = 'fine'\n",
    "name1"
   ]
  },
  {
   "cell_type": "code",
   "execution_count": 499,
   "id": "99e83c13-90a8-443c-8d80-a44416eaa2a9",
   "metadata": {},
   "outputs": [
    {
     "data": {
      "text/plain": [
       "'dine'"
      ]
     },
     "execution_count": 499,
     "metadata": {},
     "output_type": "execute_result"
    }
   ],
   "source": [
    "name1.replace('fine','dine')"
   ]
  },
  {
   "cell_type": "code",
   "execution_count": 502,
   "id": "db41cf6b-8645-49c1-8ba8-7d63d27b82a0",
   "metadata": {},
   "outputs": [
    {
     "data": {
      "text/plain": [
       "'fine'"
      ]
     },
     "execution_count": 502,
     "metadata": {},
     "output_type": "execute_result"
    }
   ],
   "source": [
    "name1"
   ]
  },
  {
   "cell_type": "code",
   "execution_count": 504,
   "id": "ab98da2b-d95b-4d77-8987-7bc804fe95d8",
   "metadata": {},
   "outputs": [
    {
     "data": {
      "text/plain": [
       "'fine'"
      ]
     },
     "execution_count": 504,
     "metadata": {},
     "output_type": "execute_result"
    }
   ],
   "source": [
    "name1"
   ]
  },
  {
   "cell_type": "code",
   "execution_count": 506,
   "id": "bbf6816a-ba5a-4b5d-b24c-43a395ef142f",
   "metadata": {},
   "outputs": [
    {
     "data": {
      "text/plain": [
       "'ine'"
      ]
     },
     "execution_count": 506,
     "metadata": {},
     "output_type": "execute_result"
    }
   ],
   "source": [
    "name1[1:]"
   ]
  },
  {
   "cell_type": "code",
   "execution_count": 512,
   "id": "614261d0-7493-4a6e-8923-8de7c6faa734",
   "metadata": {},
   "outputs": [
    {
     "data": {
      "text/plain": [
       "'dine'"
      ]
     },
     "execution_count": 512,
     "metadata": {},
     "output_type": "execute_result"
    }
   ],
   "source": [
    "'d' + name[1:] # change fine to dine"
   ]
  },
  {
   "cell_type": "code",
   "execution_count": 514,
   "id": "cec5fa34-b60a-454e-b808-d6b8e1956199",
   "metadata": {},
   "outputs": [
    {
     "data": {
      "text/plain": [
       "4"
      ]
     },
     "execution_count": 514,
     "metadata": {},
     "output_type": "execute_result"
    }
   ],
   "source": [
    "len(name1)"
   ]
  },
  {
   "cell_type": "markdown",
   "id": "b1def0dc-f382-4924-9810-bc463b5563c7",
   "metadata": {},
   "source": [
    "# help"
   ]
  },
  {
   "cell_type": "code",
   "execution_count": 517,
   "id": "32cccbd4-1e90-4be8-8dc8-778c62ac5085",
   "metadata": {},
   "outputs": [
    {
     "name": "stdout",
     "output_type": "stream",
     "text": [
      "Welcome to Python 3.12's help utility! If this is your first time using\n",
      "Python, you should definitely check out the tutorial at\n",
      "https://docs.python.org/3.12/tutorial/.\n",
      "\n",
      "Enter the name of any module, keyword, or topic to get help on writing\n",
      "Python programs and using Python modules.  To get a list of available\n",
      "modules, keywords, symbols, or topics, enter \"modules\", \"keywords\",\n",
      "\"symbols\", or \"topics\".\n",
      "\n",
      "Each module also comes with a one-line summary of what it does; to list\n",
      "the modules whose name or summary contain a given string such as \"spam\",\n",
      "enter \"modules spam\".\n",
      "\n",
      "To quit this help utility and return to the interpreter,\n",
      "enter \"q\" or \"quit\".\n",
      "\n"
     ]
    },
    {
     "name": "stdin",
     "output_type": "stream",
     "text": [
      "help>  q\n"
     ]
    },
    {
     "name": "stdout",
     "output_type": "stream",
     "text": [
      "\n",
      "You are now leaving help and returning to the Python interpreter.\n",
      "If you want to ask for help on a particular object directly from the\n",
      "interpreter, you can type \"help(object)\".  Executing \"help('string')\"\n",
      "has the same effect as typing a particular string at the help> prompt.\n"
     ]
    }
   ],
   "source": [
    "help()"
   ]
  },
  {
   "cell_type": "markdown",
   "id": "0439af47-ad90-4641-ab33-b664d19a0e5b",
   "metadata": {},
   "source": []
  },
  {
   "cell_type": "code",
   "execution_count": 521,
   "id": "f5a54059-e873-4c54-a8ab-989bde4a5833",
   "metadata": {},
   "outputs": [],
   "source": [
    "a"
   ]
  },
  {
   "cell_type": "code",
   "execution_count": 523,
   "id": "7ee7d81e-f7de-4cae-b42c-da4c5a5fbc81",
   "metadata": {},
   "outputs": [
    {
     "data": {
      "text/plain": [
       "15"
      ]
     },
     "execution_count": 523,
     "metadata": {},
     "output_type": "execute_result"
    }
   ],
   "source": [
    "x1 + y1"
   ]
  },
  {
   "cell_type": "code",
   "execution_count": 525,
   "id": "b7538598-ce33-4775-9000-f2b87bbfe094",
   "metadata": {},
   "outputs": [
    {
     "data": {
      "text/plain": [
       "5"
      ]
     },
     "execution_count": 525,
     "metadata": {},
     "output_type": "execute_result"
    }
   ],
   "source": [
    "x1 - y1"
   ]
  },
  {
   "cell_type": "code",
   "execution_count": 527,
   "id": "8672f2c3-dc07-48f6-b2aa-eefc5b2cb259",
   "metadata": {},
   "outputs": [
    {
     "data": {
      "text/plain": [
       "50"
      ]
     },
     "execution_count": 527,
     "metadata": {},
     "output_type": "execute_result"
    }
   ],
   "source": [
    "x1 * y1"
   ]
  },
  {
   "cell_type": "code",
   "execution_count": 529,
   "id": "62afa7d3-d1a2-4e48-9309-7070e9717e5e",
   "metadata": {},
   "outputs": [
    {
     "data": {
      "text/plain": [
       "2.0"
      ]
     },
     "execution_count": 529,
     "metadata": {},
     "output_type": "execute_result"
    }
   ],
   "source": [
    "x1 / y1"
   ]
  },
  {
   "cell_type": "code",
   "execution_count": 533,
   "id": "4ea14a38-efef-44b7-a5df-e6e9de937e68",
   "metadata": {},
   "outputs": [
    {
     "data": {
      "text/plain": [
       "2"
      ]
     },
     "execution_count": 533,
     "metadata": {},
     "output_type": "execute_result"
    }
   ],
   "source": [
    "x1 // y1"
   ]
  },
  {
   "cell_type": "code",
   "execution_count": 535,
   "id": "0176712c-965f-44b0-8e2b-969e10a0466a",
   "metadata": {},
   "outputs": [
    {
     "data": {
      "text/plain": [
       "0"
      ]
     },
     "execution_count": 535,
     "metadata": {},
     "output_type": "execute_result"
    }
   ],
   "source": [
    "x1 % y1"
   ]
  },
  {
   "cell_type": "code",
   "execution_count": 537,
   "id": "768bec33-9ad5-4f06-b820-d673a9fb33ee",
   "metadata": {},
   "outputs": [
    {
     "data": {
      "text/plain": [
       "100000"
      ]
     },
     "execution_count": 537,
     "metadata": {},
     "output_type": "execute_result"
    }
   ],
   "source": [
    "x1 ** y1"
   ]
  },
  {
   "cell_type": "code",
   "execution_count": 543,
   "id": "ad4687ed-5f66-48bc-8a94-c2600e9bc198",
   "metadata": {},
   "outputs": [
    {
     "data": {
      "text/plain": [
       "100000"
      ]
     },
     "execution_count": 543,
     "metadata": {},
     "output_type": "execute_result"
    }
   ],
   "source": [
    "10*10*10*10*10"
   ]
  },
  {
   "cell_type": "markdown",
   "id": "dc7e388d-5ac6-4bd1-9cf7-7d101a27f5cc",
   "metadata": {},
   "source": [
    " # (a,b=5,6) After swap we should get ==>(a,b=6,5)"
   ]
  },
  {
   "cell_type": "code",
   "execution_count": 2,
   "id": "f25191db-de2c-4953-a685-7bba3f68c7fd",
   "metadata": {},
   "outputs": [],
   "source": [
    "a = 5\n",
    "b = 6"
   ]
  },
  {
   "cell_type": "code",
   "execution_count": 4,
   "id": "91aa4464-1570-4253-a1a9-92518ec8477d",
   "metadata": {},
   "outputs": [],
   "source": [
    "a = b \n",
    "b = a"
   ]
  },
  {
   "cell_type": "code",
   "execution_count": 6,
   "id": "55db2407-a583-4389-9626-4fde229ca43c",
   "metadata": {},
   "outputs": [
    {
     "data": {
      "text/plain": [
       "6"
      ]
     },
     "execution_count": 6,
     "metadata": {},
     "output_type": "execute_result"
    }
   ],
   "source": [
    "a"
   ]
  },
  {
   "cell_type": "code",
   "execution_count": 8,
   "id": "3320912f-52bb-45f3-8f30-2e9dfd928263",
   "metadata": {},
   "outputs": [
    {
     "data": {
      "text/plain": [
       "6"
      ]
     },
     "execution_count": 8,
     "metadata": {},
     "output_type": "execute_result"
    }
   ],
   "source": [
    "b"
   ]
  },
  {
   "cell_type": "code",
   "execution_count": 10,
   "id": "9404b94e-ff76-401e-bb1c-fb3fbf898c1f",
   "metadata": {},
   "outputs": [],
   "source": [
    "a1 = 7\n",
    "b1 = 8"
   ]
  },
  {
   "cell_type": "code",
   "execution_count": 12,
   "id": "2cf9743e-6435-4914-b4fd-d67ce42b51b5",
   "metadata": {},
   "outputs": [],
   "source": [
    "temp = a1 \n",
    "a1 = b1 \n",
    "b1 = temp"
   ]
  },
  {
   "cell_type": "code",
   "execution_count": 22,
   "id": "1adf49a6-9f57-4f0c-940e-57933b0ae203",
   "metadata": {},
   "outputs": [
    {
     "name": "stdout",
     "output_type": "stream",
     "text": [
      "8\n",
      "7\n"
     ]
    }
   ],
   "source": [
    "print(a1)\n",
    "print(b1)"
   ]
  },
  {
   "cell_type": "code",
   "execution_count": 24,
   "id": "a677918f-e205-41ad-8f57-3e573efc3ad2",
   "metadata": {},
   "outputs": [],
   "source": [
    "a2 = 5\n",
    "b2 = 6"
   ]
  },
  {
   "cell_type": "code",
   "execution_count": 51,
   "id": "d77adfec-8d46-49fe-852c-84710dbb1eb3",
   "metadata": {},
   "outputs": [
    {
     "name": "stdout",
     "output_type": "stream",
     "text": [
      "45\n",
      "28\n"
     ]
    }
   ],
   "source": [
    "a2 = a2 + b2\n",
    "b2 = a2 - b2 \n",
    "print(a2)\n",
    "print(b2)"
   ]
  },
  {
   "cell_type": "code",
   "execution_count": 74,
   "id": "272517ba-a282-4eaf-a29b-b9fdb8668b34",
   "metadata": {},
   "outputs": [],
   "source": [
    "a = 5 \n",
    "b = 6\n"
   ]
  },
  {
   "cell_type": "code",
   "execution_count": 76,
   "id": "5b109e77-69ce-4e66-a312-594f175858f0",
   "metadata": {},
   "outputs": [
    {
     "name": "stdout",
     "output_type": "stream",
     "text": [
      "5 6\n"
     ]
    }
   ],
   "source": [
    "print(a,b)"
   ]
  },
  {
   "cell_type": "code",
   "execution_count": null,
   "id": "c9bdfde5-2346-4220-8924-c67890021c85",
   "metadata": {},
   "outputs": [],
   "source": []
  },
  {
   "cell_type": "code",
   "execution_count": 85,
   "id": "0d1f0e23-ddad-4373-9e38-9556c85aa5f2",
   "metadata": {},
   "outputs": [],
   "source": [
    "a,b = b,a"
   ]
  },
  {
   "cell_type": "code",
   "execution_count": 87,
   "id": "12cdcba7-4d13-462d-947f-4b7d332ba514",
   "metadata": {},
   "outputs": [
    {
     "data": {
      "text/plain": [
       "5"
      ]
     },
     "execution_count": 87,
     "metadata": {},
     "output_type": "execute_result"
    }
   ],
   "source": [
    "a "
   ]
  },
  {
   "cell_type": "code",
   "execution_count": 89,
   "id": "71c97d2d-d9f8-4166-9cd3-2a155dfbe9b8",
   "metadata": {},
   "outputs": [
    {
     "data": {
      "text/plain": [
       "6"
      ]
     },
     "execution_count": 89,
     "metadata": {},
     "output_type": "execute_result"
    }
   ],
   "source": [
    "b"
   ]
  },
  {
   "cell_type": "code",
   "execution_count": null,
   "id": "4e191480-cfcc-4f4b-a2db-32a45edfa5f8",
   "metadata": {},
   "outputs": [],
   "source": [
    "\n"
   ]
  },
  {
   "cell_type": "code",
   "execution_count": 2,
   "id": "48943440-9872-412a-afb6-def589191498",
   "metadata": {},
   "outputs": [
    {
     "name": "stdout",
     "output_type": "stream",
     "text": [
      "0b1100\n",
      "0b1101\n"
     ]
    }
   ],
   "source": []
  },
  {
   "cell_type": "code",
   "execution_count": 4,
   "id": "710561da-76f2-4a40-99b2-d95e44c4d01f",
   "metadata": {},
   "outputs": [
    {
     "data": {
      "text/plain": [
       "-13"
      ]
     },
     "execution_count": 4,
     "metadata": {},
     "output_type": "execute_result"
    }
   ],
   "source": []
  },
  {
   "cell_type": "markdown",
   "id": "04d3c245-4c75-4243-8b3e-2df35fa62e47",
   "metadata": {},
   "source": [
    "# range"
   ]
  },
  {
   "cell_type": "code",
   "execution_count": 2,
   "id": "fdbea43c-5351-4c42-87be-d6a8aba998e6",
   "metadata": {},
   "outputs": [
    {
     "data": {
      "text/plain": [
       "range(0, 10)"
      ]
     },
     "execution_count": 2,
     "metadata": {},
     "output_type": "execute_result"
    }
   ],
   "source": [
    "r = range(0,10)\n",
    "r"
   ]
  },
  {
   "cell_type": "code",
   "execution_count": 4,
   "id": "a12f980c-14f0-4374-88e6-2213b66a09bf",
   "metadata": {},
   "outputs": [
    {
     "data": {
      "text/plain": [
       "range"
      ]
     },
     "execution_count": 4,
     "metadata": {},
     "output_type": "execute_result"
    }
   ],
   "source": [
    "type(r)"
   ]
  },
  {
   "cell_type": "code",
   "execution_count": 6,
   "id": "ed834ef5-8988-4184-bf07-ebc2b3f34845",
   "metadata": {},
   "outputs": [
    {
     "data": {
      "text/plain": [
       "[0, 1, 2, 3, 4, 5, 6, 7, 8, 9]"
      ]
     },
     "execution_count": 6,
     "metadata": {},
     "output_type": "execute_result"
    }
   ],
   "source": [
    "list(range(0,10))"
   ]
  },
  {
   "cell_type": "code",
   "execution_count": 10,
   "id": "a3aa4c0d-9eb9-4363-b1cc-332955ccd843",
   "metadata": {},
   "outputs": [
    {
     "data": {
      "text/plain": [
       "[0, 1, 2, 3, 4, 5, 6, 7, 8, 9]"
      ]
     },
     "execution_count": 10,
     "metadata": {},
     "output_type": "execute_result"
    }
   ],
   "source": [
    "r1 = list(r)\n",
    "r1"
   ]
  },
  {
   "cell_type": "code",
   "execution_count": 14,
   "id": "243e8b6b-01af-40ce-b1fc-8bb93b6a9fcf",
   "metadata": {},
   "outputs": [
    {
     "data": {
      "text/plain": [
       "[2, 4, 6, 8]"
      ]
     },
     "execution_count": 14,
     "metadata": {},
     "output_type": "execute_result"
    }
   ],
   "source": [
    "even_number = list(range(2,10,2))\n",
    "even_number"
   ]
  },
  {
   "cell_type": "code",
   "execution_count": 16,
   "id": "41f507c6-173e-4f1d-af2c-dd7fdcb0278d",
   "metadata": {},
   "outputs": [
    {
     "data": {
      "text/plain": [
       "{1: 'one', 2: 'Two', 3: 'Three'}"
      ]
     },
     "execution_count": 16,
     "metadata": {},
     "output_type": "execute_result"
    }
   ],
   "source": [
    "d = {1:'one',2:'Two',3:'Three'}\n",
    "d"
   ]
  },
  {
   "cell_type": "code",
   "execution_count": 18,
   "id": "7a7f6082-f6a9-4f82-a56f-b6b287086489",
   "metadata": {},
   "outputs": [
    {
     "data": {
      "text/plain": [
       "dict"
      ]
     },
     "execution_count": 18,
     "metadata": {},
     "output_type": "execute_result"
    }
   ],
   "source": [
    "type(d)"
   ]
  },
  {
   "cell_type": "code",
   "execution_count": 20,
   "id": "f1e48504-e9d1-4a84-98e4-a6be0497b9c1",
   "metadata": {},
   "outputs": [
    {
     "data": {
      "text/plain": [
       "dict_keys([1, 2, 3])"
      ]
     },
     "execution_count": 20,
     "metadata": {},
     "output_type": "execute_result"
    }
   ],
   "source": [
    "d.keys()"
   ]
  },
  {
   "cell_type": "code",
   "execution_count": 22,
   "id": "30524bae-7b71-45a0-9b22-dc1b2a8fa2c3",
   "metadata": {},
   "outputs": [
    {
     "data": {
      "text/plain": [
       "dict_items([(1, 'one'), (2, 'Two'), (3, 'Three')])"
      ]
     },
     "execution_count": 22,
     "metadata": {},
     "output_type": "execute_result"
    }
   ],
   "source": [
    "d.items()"
   ]
  },
  {
   "cell_type": "code",
   "execution_count": 24,
   "id": "b4dc3b09-da55-47c4-bed3-15bcf5c74903",
   "metadata": {},
   "outputs": [
    {
     "data": {
      "text/plain": [
       "dict_values(['one', 'Two', 'Three'])"
      ]
     },
     "execution_count": 24,
     "metadata": {},
     "output_type": "execute_result"
    }
   ],
   "source": [
    "d.values()"
   ]
  },
  {
   "cell_type": "code",
   "execution_count": 26,
   "id": "78bf5c32-440b-453c-bb61-1f2b2a5b14b9",
   "metadata": {},
   "outputs": [
    {
     "data": {
      "text/plain": [
       "'Two'"
      ]
     },
     "execution_count": 26,
     "metadata": {},
     "output_type": "execute_result"
    }
   ],
   "source": [
    "d.get(2)"
   ]
  },
  {
   "cell_type": "code",
   "execution_count": 30,
   "id": "84b6e44c-b885-4cfb-8b9e-dff16f5902db",
   "metadata": {},
   "outputs": [
    {
     "data": {
      "text/plain": [
       "'Two'"
      ]
     },
     "execution_count": 30,
     "metadata": {},
     "output_type": "execute_result"
    }
   ],
   "source": [
    "d[2]"
   ]
  },
  {
   "cell_type": "markdown",
   "id": "251f5724-a30e-4c6e-8f28-414bce5ec2ce",
   "metadata": {},
   "source": [
    "# operators in python"
   ]
  },
  {
   "cell_type": "markdown",
   "id": "60103002-a2f0-4eb5-ae5f-3fd034af312d",
   "metadata": {},
   "source": [
    "### Arithmetic operators \n",
    "#### Assignmemnt operators\n",
    "#### Relational operators\n",
    "##### Logical Operators\n",
    "###### Unary operators"
   ]
  },
  {
   "cell_type": "markdown",
   "id": "62714a50-d828-40a1-922f-3e7f1f09bb96",
   "metadata": {},
   "source": [
    "## Arithmetic Operators"
   ]
  },
  {
   "cell_type": "code",
   "execution_count": 43,
   "id": "cae2c4e9-e614-4300-a1dc-5f24155bab5e",
   "metadata": {},
   "outputs": [],
   "source": [
    "x1,y1 = 10,5"
   ]
  },
  {
   "cell_type": "code",
   "execution_count": 45,
   "id": "1d5f4f9c-4d70-4ce3-9311-ba155c091087",
   "metadata": {},
   "outputs": [
    {
     "data": {
      "text/plain": [
       "15"
      ]
     },
     "execution_count": 45,
     "metadata": {},
     "output_type": "execute_result"
    }
   ],
   "source": [
    "x1 + y1"
   ]
  },
  {
   "cell_type": "code",
   "execution_count": 47,
   "id": "7de5734f-9497-47be-8320-d7785e3886e7",
   "metadata": {},
   "outputs": [
    {
     "data": {
      "text/plain": [
       "5"
      ]
     },
     "execution_count": 47,
     "metadata": {},
     "output_type": "execute_result"
    }
   ],
   "source": [
    "x1 - y1"
   ]
  },
  {
   "cell_type": "code",
   "execution_count": 49,
   "id": "4251032f-7374-4da7-9261-abce902e4998",
   "metadata": {},
   "outputs": [
    {
     "data": {
      "text/plain": [
       "2.0"
      ]
     },
     "execution_count": 49,
     "metadata": {},
     "output_type": "execute_result"
    }
   ],
   "source": [
    "x1 /y1"
   ]
  },
  {
   "cell_type": "code",
   "execution_count": 51,
   "id": "bd6244a8-93d8-4b8f-b350-95ad0adfda0b",
   "metadata": {},
   "outputs": [
    {
     "data": {
      "text/plain": [
       "2"
      ]
     },
     "execution_count": 51,
     "metadata": {},
     "output_type": "execute_result"
    }
   ],
   "source": [
    "x1 // y1"
   ]
  },
  {
   "cell_type": "code",
   "execution_count": 53,
   "id": "eb6f81ea-9e26-4c45-8952-d877d9eebdc5",
   "metadata": {},
   "outputs": [
    {
     "data": {
      "text/plain": [
       "0"
      ]
     },
     "execution_count": 53,
     "metadata": {},
     "output_type": "execute_result"
    }
   ],
   "source": [
    "x1 % y1"
   ]
  },
  {
   "cell_type": "code",
   "execution_count": 65,
   "id": "5dc797d4-703a-41af-ba43-e57689cdbd2a",
   "metadata": {},
   "outputs": [
    {
     "data": {
      "text/plain": [
       "1"
      ]
     },
     "execution_count": 65,
     "metadata": {},
     "output_type": "execute_result"
    }
   ],
   "source": [
    "21 % 5"
   ]
  },
  {
   "cell_type": "code",
   "execution_count": 59,
   "id": "af07859a-b292-4440-94de-204acd8d23a2",
   "metadata": {},
   "outputs": [
    {
     "data": {
      "text/plain": [
       "1"
      ]
     },
     "execution_count": 59,
     "metadata": {},
     "output_type": "execute_result"
    }
   ],
   "source": [
    "11 % 5"
   ]
  },
  {
   "cell_type": "code",
   "execution_count": 61,
   "id": "418a80cd-d782-4ff9-a261-393f25f49cc1",
   "metadata": {},
   "outputs": [
    {
     "data": {
      "text/plain": [
       "0"
      ]
     },
     "execution_count": 61,
     "metadata": {},
     "output_type": "execute_result"
    }
   ],
   "source": [
    "10 % 5"
   ]
  },
  {
   "cell_type": "code",
   "execution_count": 67,
   "id": "c0b8a8b3-321f-4f0c-81f2-17c384f4aa9d",
   "metadata": {},
   "outputs": [
    {
     "data": {
      "text/plain": [
       "100000"
      ]
     },
     "execution_count": 67,
     "metadata": {},
     "output_type": "execute_result"
    }
   ],
   "source": [
    "x1 **y1 # 10*10*10*10*10"
   ]
  },
  {
   "cell_type": "code",
   "execution_count": 69,
   "id": "ea88a86a-bd6f-4c1d-b3a0-6187c2e0213b",
   "metadata": {},
   "outputs": [
    {
     "data": {
      "text/plain": [
       "8"
      ]
     },
     "execution_count": 69,
     "metadata": {},
     "output_type": "execute_result"
    }
   ],
   "source": [
    "2 **3"
   ]
  },
  {
   "cell_type": "markdown",
   "id": "294585a9-db4c-4779-8966-6f94b2031cc4",
   "metadata": {},
   "source": [
    "# Assignment operators"
   ]
  },
  {
   "cell_type": "code",
   "execution_count": 72,
   "id": "babf1325-70d6-4e55-8ad9-b7e72f614e42",
   "metadata": {},
   "outputs": [],
   "source": [
    "x = 2"
   ]
  },
  {
   "cell_type": "code",
   "execution_count": 78,
   "id": "d9abb0f2-9539-413a-a286-f191f2b70a0e",
   "metadata": {},
   "outputs": [
    {
     "data": {
      "text/plain": [
       "6"
      ]
     },
     "execution_count": 78,
     "metadata": {},
     "output_type": "execute_result"
    }
   ],
   "source": [
    "x = x +2\n",
    "x"
   ]
  },
  {
   "cell_type": "code",
   "execution_count": 86,
   "id": "e4efa6e0-554c-4d0c-a8a5-b224e61449ef",
   "metadata": {},
   "outputs": [
    {
     "data": {
      "text/plain": [
       "10"
      ]
     },
     "execution_count": 86,
     "metadata": {},
     "output_type": "execute_result"
    }
   ],
   "source": [
    "x += 2\n",
    "x"
   ]
  },
  {
   "cell_type": "code",
   "execution_count": 88,
   "id": "f58b6034-9710-423c-b560-46b73f16bad2",
   "metadata": {},
   "outputs": [],
   "source": [
    "x+=2"
   ]
  },
  {
   "cell_type": "code",
   "execution_count": 90,
   "id": "77f7d92b-8278-42f5-aacd-da19553197d8",
   "metadata": {},
   "outputs": [
    {
     "data": {
      "text/plain": [
       "12"
      ]
     },
     "execution_count": 90,
     "metadata": {},
     "output_type": "execute_result"
    }
   ],
   "source": [
    "x"
   ]
  },
  {
   "cell_type": "code",
   "execution_count": 92,
   "id": "b47150cb-13db-449e-a289-9281e9b8bb82",
   "metadata": {},
   "outputs": [
    {
     "data": {
      "text/plain": [
       "24"
      ]
     },
     "execution_count": 92,
     "metadata": {},
     "output_type": "execute_result"
    }
   ],
   "source": [
    "x*=2\n",
    "x"
   ]
  },
  {
   "cell_type": "code",
   "execution_count": 94,
   "id": "c438549f-849f-4f68-be40-428045fac20d",
   "metadata": {},
   "outputs": [
    {
     "data": {
      "text/plain": [
       "12.0"
      ]
     },
     "execution_count": 94,
     "metadata": {},
     "output_type": "execute_result"
    }
   ],
   "source": [
    "x/=2\n",
    "x"
   ]
  },
  {
   "cell_type": "code",
   "execution_count": 96,
   "id": "b295738d-ded6-4a82-834c-5b2b355f9112",
   "metadata": {},
   "outputs": [
    {
     "data": {
      "text/plain": [
       "10.0"
      ]
     },
     "execution_count": 96,
     "metadata": {},
     "output_type": "execute_result"
    }
   ],
   "source": [
    "x-=2\n",
    "x"
   ]
  },
  {
   "cell_type": "code",
   "execution_count": 98,
   "id": "2abbae60-a348-4845-a700-c3cf808ec414",
   "metadata": {},
   "outputs": [
    {
     "data": {
      "text/plain": [
       "5.0"
      ]
     },
     "execution_count": 98,
     "metadata": {},
     "output_type": "execute_result"
    }
   ],
   "source": [
    "x/=2\n",
    "x"
   ]
  },
  {
   "cell_type": "markdown",
   "id": "081076b8-008a-40e5-8bc8-7fa950e1b6ed",
   "metadata": {},
   "source": [
    "# unary operators"
   ]
  },
  {
   "cell_type": "code",
   "execution_count": 101,
   "id": "cae3d862-0852-4960-ba22-37f3f85e805a",
   "metadata": {},
   "outputs": [],
   "source": [
    "n = 7 #negation"
   ]
  },
  {
   "cell_type": "code",
   "execution_count": 103,
   "id": "3c101217-99c7-470d-afbe-c9fc9b8d161b",
   "metadata": {},
   "outputs": [],
   "source": [
    "m = -(n)"
   ]
  },
  {
   "cell_type": "code",
   "execution_count": 105,
   "id": "4b360949-dffa-4ba8-8b35-62a3a021c09d",
   "metadata": {},
   "outputs": [
    {
     "data": {
      "text/plain": [
       "-7"
      ]
     },
     "execution_count": 105,
     "metadata": {},
     "output_type": "execute_result"
    }
   ],
   "source": [
    "m"
   ]
  },
  {
   "cell_type": "code",
   "execution_count": 107,
   "id": "e032c44c-3bca-4d6e-bd11-ab99244293bf",
   "metadata": {},
   "outputs": [
    {
     "data": {
      "text/plain": [
       "7"
      ]
     },
     "execution_count": 107,
     "metadata": {},
     "output_type": "execute_result"
    }
   ],
   "source": [
    "n"
   ]
  },
  {
   "cell_type": "code",
   "execution_count": 109,
   "id": "49ae9b5a-7098-43f8-b419-9412eb4d09b5",
   "metadata": {},
   "outputs": [
    {
     "data": {
      "text/plain": [
       "-7"
      ]
     },
     "execution_count": 109,
     "metadata": {},
     "output_type": "execute_result"
    }
   ],
   "source": [
    "-n"
   ]
  },
  {
   "cell_type": "markdown",
   "id": "b8f051bd-b456-4fcf-8e0b-4bc29a6b25f8",
   "metadata": {},
   "source": [
    "# Relational operators"
   ]
  },
  {
   "cell_type": "code",
   "execution_count": 112,
   "id": "105f8c89-a529-4de8-b2c1-fdf7f583cf30",
   "metadata": {},
   "outputs": [],
   "source": [
    "a = 5\n",
    "b = 7"
   ]
  },
  {
   "cell_type": "code",
   "execution_count": 114,
   "id": "787dd1c8-cf34-426c-ab0d-a326095a589b",
   "metadata": {},
   "outputs": [
    {
     "data": {
      "text/plain": [
       "False"
      ]
     },
     "execution_count": 114,
     "metadata": {},
     "output_type": "execute_result"
    }
   ],
   "source": [
    "a == b"
   ]
  },
  {
   "cell_type": "code",
   "execution_count": 116,
   "id": "eb4b3bb4-1b35-480b-93b1-3b88a68eb1ed",
   "metadata": {},
   "outputs": [
    {
     "data": {
      "text/plain": [
       "True"
      ]
     },
     "execution_count": 116,
     "metadata": {},
     "output_type": "execute_result"
    }
   ],
   "source": [
    "a <b"
   ]
  },
  {
   "cell_type": "code",
   "execution_count": 118,
   "id": "2902e61a-ab13-4af0-87c3-961bf27b9f6b",
   "metadata": {},
   "outputs": [
    {
     "data": {
      "text/plain": [
       "False"
      ]
     },
     "execution_count": 118,
     "metadata": {},
     "output_type": "execute_result"
    }
   ],
   "source": [
    "a>b"
   ]
  },
  {
   "cell_type": "code",
   "execution_count": 124,
   "id": "e349a92d-4b0c-41f7-ae81-e0ef49ad0e4c",
   "metadata": {},
   "outputs": [],
   "source": [
    "# a= b we can not use this becise it means assignment op"
   ]
  },
  {
   "cell_type": "code",
   "execution_count": 134,
   "id": "b5d9711c-49af-495e-928a-997fc71926be",
   "metadata": {},
   "outputs": [
    {
     "data": {
      "text/plain": [
       "False"
      ]
     },
     "execution_count": 134,
     "metadata": {},
     "output_type": "execute_result"
    }
   ],
   "source": [
    "a == b"
   ]
  },
  {
   "cell_type": "code",
   "execution_count": 136,
   "id": "3ed11cbc-dca8-428f-93f7-47d5dd978c49",
   "metadata": {},
   "outputs": [],
   "source": [
    "a = 10"
   ]
  },
  {
   "cell_type": "code",
   "execution_count": 138,
   "id": "593d19ec-6459-4fc4-803d-a9dd95e180aa",
   "metadata": {},
   "outputs": [
    {
     "data": {
      "text/plain": [
       "True"
      ]
     },
     "execution_count": 138,
     "metadata": {},
     "output_type": "execute_result"
    }
   ],
   "source": [
    "a != b"
   ]
  },
  {
   "cell_type": "code",
   "execution_count": 140,
   "id": "7965b4b1-002d-4636-be91-c88b31654531",
   "metadata": {},
   "outputs": [],
   "source": [
    "b = 10"
   ]
  },
  {
   "cell_type": "code",
   "execution_count": 142,
   "id": "c71ef626-7f82-4c7f-8bd0-47839f23bf59",
   "metadata": {},
   "outputs": [
    {
     "data": {
      "text/plain": [
       "True"
      ]
     },
     "execution_count": 142,
     "metadata": {},
     "output_type": "execute_result"
    }
   ],
   "source": [
    "a == b"
   ]
  },
  {
   "cell_type": "code",
   "execution_count": 144,
   "id": "6f59bb9c-e682-4748-903d-b3611cdbfe50",
   "metadata": {},
   "outputs": [],
   "source": [
    "b = 6"
   ]
  },
  {
   "cell_type": "code",
   "execution_count": 146,
   "id": "1e6ea938-aad5-4aff-aa08-89f88b38a5c5",
   "metadata": {},
   "outputs": [
    {
     "data": {
      "text/plain": [
       "False"
      ]
     },
     "execution_count": 146,
     "metadata": {},
     "output_type": "execute_result"
    }
   ],
   "source": [
    "a == b"
   ]
  },
  {
   "cell_type": "code",
   "execution_count": 148,
   "id": "9f49d005-db50-4e07-a9d4-53e574af9e5d",
   "metadata": {},
   "outputs": [
    {
     "data": {
      "text/plain": [
       "True"
      ]
     },
     "execution_count": 148,
     "metadata": {},
     "output_type": "execute_result"
    }
   ],
   "source": [
    "a >= b"
   ]
  },
  {
   "cell_type": "code",
   "execution_count": 152,
   "id": "8e1dd6a0-633d-4f41-a417-f579777df083",
   "metadata": {},
   "outputs": [
    {
     "data": {
      "text/plain": [
       "False"
      ]
     },
     "execution_count": 152,
     "metadata": {},
     "output_type": "execute_result"
    }
   ],
   "source": [
    "a <= b"
   ]
  },
  {
   "cell_type": "code",
   "execution_count": 156,
   "id": "0b0f8569-42a5-4b81-bd46-ed7d6b08b8ba",
   "metadata": {},
   "outputs": [],
   "source": [
    "a = 10\n",
    "b = 10"
   ]
  },
  {
   "cell_type": "code",
   "execution_count": 158,
   "id": "56f35cb4-8365-44ee-b613-89394959b490",
   "metadata": {},
   "outputs": [
    {
     "data": {
      "text/plain": [
       "True"
      ]
     },
     "execution_count": 158,
     "metadata": {},
     "output_type": "execute_result"
    }
   ],
   "source": [
    "a >=b"
   ]
  },
  {
   "cell_type": "code",
   "execution_count": 160,
   "id": "332ad748-d663-4913-9019-f18ec15a658f",
   "metadata": {},
   "outputs": [
    {
     "data": {
      "text/plain": [
       "True"
      ]
     },
     "execution_count": 160,
     "metadata": {},
     "output_type": "execute_result"
    }
   ],
   "source": [
    "a<=b"
   ]
  },
  {
   "cell_type": "code",
   "execution_count": 162,
   "id": "9cdc8320-4e7c-4c97-8b81-7f6c1a94cab1",
   "metadata": {},
   "outputs": [
    {
     "data": {
      "text/plain": [
       "False"
      ]
     },
     "execution_count": 162,
     "metadata": {},
     "output_type": "execute_result"
    }
   ],
   "source": [
    "a != b"
   ]
  },
  {
   "cell_type": "code",
   "execution_count": 164,
   "id": "7ff8bc5d-02c5-4a65-af1f-19570a33511f",
   "metadata": {},
   "outputs": [],
   "source": [
    "b = 7"
   ]
  },
  {
   "cell_type": "code",
   "execution_count": 166,
   "id": "dca3402c-9737-48d9-b697-4d36acec3112",
   "metadata": {},
   "outputs": [
    {
     "data": {
      "text/plain": [
       "True"
      ]
     },
     "execution_count": 166,
     "metadata": {},
     "output_type": "execute_result"
    }
   ],
   "source": [
    "a != b"
   ]
  },
  {
   "cell_type": "markdown",
   "id": "6826b42b-e525-40fd-809f-2e130c402d1a",
   "metadata": {},
   "source": [
    "# Logical Operators"
   ]
  },
  {
   "attachments": {
    "99b718bc-31d3-466c-aa0f-96a63f3ad26b.png": {
     "image/png": "[encoded data removed]"
    }
   },
   "cell_type": "markdown",
   "id": "73531b9c-9d63-4fe8-93fd-cd365bd4f6f2",
   "metadata": {},
   "source": [
    "![Screenshot 2024-11-06 215959.png](attachment:99b718bc-31d3-466c-aa0f-96a63f3ad26b.png)\n"
   ]
  },
  {
   "cell_type": "code",
   "execution_count": 169,
   "id": "1aaf26d2-e5fe-4c4a-9453-bf0bffd7726e",
   "metadata": {},
   "outputs": [],
   "source": [
    "a = 5 \n",
    "b = 4"
   ]
  },
  {
   "cell_type": "code",
   "execution_count": 171,
   "id": "04073554-0438-42a7-a7af-673a72d68bc3",
   "metadata": {},
   "outputs": [
    {
     "data": {
      "text/plain": [
       "False"
      ]
     },
     "execution_count": 171,
     "metadata": {},
     "output_type": "execute_result"
    }
   ],
   "source": [
    "a < 8 and b <2"
   ]
  },
  {
   "cell_type": "code",
   "execution_count": 173,
   "id": "e30e3b03-1bca-435b-a626-665eb5f64c3a",
   "metadata": {},
   "outputs": [
    {
     "data": {
      "text/plain": [
       "True"
      ]
     },
     "execution_count": 173,
     "metadata": {},
     "output_type": "execute_result"
    }
   ],
   "source": [
    "a < 8 or b < 2"
   ]
  },
  {
   "cell_type": "code",
   "execution_count": 175,
   "id": "0ae9572c-b5fe-427d-9b01-5e079286bbd4",
   "metadata": {},
   "outputs": [
    {
     "data": {
      "text/plain": [
       "False"
      ]
     },
     "execution_count": 175,
     "metadata": {},
     "output_type": "execute_result"
    }
   ],
   "source": [
    "a>8 or b<2"
   ]
  },
  {
   "cell_type": "code",
   "execution_count": 177,
   "id": "e521306e-15ce-4e9a-b48a-b060e50a7ae1",
   "metadata": {},
   "outputs": [
    {
     "data": {
      "text/plain": [
       "True"
      ]
     },
     "execution_count": 177,
     "metadata": {},
     "output_type": "execute_result"
    }
   ],
   "source": [
    "a<8 or b<2"
   ]
  },
  {
   "cell_type": "code",
   "execution_count": 185,
   "id": "5c85afa9-a5d4-40c0-abfb-3ea601f7f37f",
   "metadata": {},
   "outputs": [],
   "source": [
    "x = False"
   ]
  },
  {
   "cell_type": "code",
   "execution_count": 187,
   "id": "cb108582-a8d4-4893-a68e-dd3582970e57",
   "metadata": {},
   "outputs": [
    {
     "data": {
      "text/plain": [
       "True"
      ]
     },
     "execution_count": 187,
     "metadata": {},
     "output_type": "execute_result"
    }
   ],
   "source": [
    "not x"
   ]
  },
  {
   "cell_type": "code",
   "execution_count": 189,
   "id": "a4669e0c-2668-40bc-95bd-e6c2f04abcdf",
   "metadata": {},
   "outputs": [
    {
     "data": {
      "text/plain": [
       "True"
      ]
     },
     "execution_count": 189,
     "metadata": {},
     "output_type": "execute_result"
    }
   ],
   "source": [
    "x = not x\n",
    "x"
   ]
  },
  {
   "cell_type": "code",
   "execution_count": 191,
   "id": "51f07e9e-0c9f-4b55-a35e-4a48f0efb428",
   "metadata": {},
   "outputs": [
    {
     "data": {
      "text/plain": [
       "True"
      ]
     },
     "execution_count": 191,
     "metadata": {},
     "output_type": "execute_result"
    }
   ],
   "source": [
    "x "
   ]
  },
  {
   "cell_type": "code",
   "execution_count": 193,
   "id": "edbfc816-72b8-447e-a48e-2e0445bd1630",
   "metadata": {},
   "outputs": [
    {
     "data": {
      "text/plain": [
       "False"
      ]
     },
     "execution_count": 193,
     "metadata": {},
     "output_type": "execute_result"
    }
   ],
   "source": [
    "not x"
   ]
  },
  {
   "cell_type": "code",
   "execution_count": 195,
   "id": "3694e629-419b-4033-82ea-46ef6fcae6ee",
   "metadata": {},
   "outputs": [
    {
     "data": {
      "text/plain": [
       "False"
      ]
     },
     "execution_count": 195,
     "metadata": {},
     "output_type": "execute_result"
    }
   ],
   "source": [
    "not x"
   ]
  },
  {
   "cell_type": "markdown",
   "id": "a9439b3b-6717-4d03-875a-b0ec1a87a4a8",
   "metadata": {},
   "source": [
    "# number system conversition"
   ]
  },
  {
   "cell_type": "code",
   "execution_count": 200,
   "id": "8a7b2c4d-6265-4ddc-9bc7-e5101905cc00",
   "metadata": {},
   "outputs": [
    {
     "data": {
      "text/plain": [
       "25"
      ]
     },
     "execution_count": 200,
     "metadata": {},
     "output_type": "execute_result"
    }
   ],
   "source": [
    "25"
   ]
  },
  {
   "cell_type": "code",
   "execution_count": 202,
   "id": "ad2ca9f2-79c3-4d1a-b240-40a7dcc92ca8",
   "metadata": {},
   "outputs": [
    {
     "data": {
      "text/plain": [
       "'0b11001'"
      ]
     },
     "execution_count": 202,
     "metadata": {},
     "output_type": "execute_result"
    }
   ],
   "source": [
    "bin(25)"
   ]
  },
  {
   "attachments": {
    "c702776c-ecb5-4a1c-b198-cb323a2ea629.png": {
     "image/png": "[encoded data removed]"
    }
   },
   "cell_type": "markdown",
   "id": "5ac23177-7a6a-4d31-b539-d92ce16792b2",
   "metadata": {},
   "source": [
    "![image.png](attachment:c702776c-ecb5-4a1c-b198-cb323a2ea629.png)"
   ]
  },
  {
   "cell_type": "code",
   "execution_count": 208,
   "id": "0c2091b7-1e42-4c3e-90fe-67d429c54739",
   "metadata": {},
   "outputs": [
    {
     "data": {
      "text/plain": [
       "25"
      ]
     },
     "execution_count": 208,
     "metadata": {},
     "output_type": "execute_result"
    }
   ],
   "source": [
    "int(0b11001)"
   ]
  },
  {
   "cell_type": "code",
   "execution_count": 212,
   "id": "16278318-f2fa-4f19-802a-45b46c05a2d7",
   "metadata": {},
   "outputs": [
    {
     "data": {
      "text/plain": [
       "'0b100011'"
      ]
     },
     "execution_count": 212,
     "metadata": {},
     "output_type": "execute_result"
    }
   ],
   "source": [
    "bin(35) # binary power to the 2"
   ]
  },
  {
   "cell_type": "code",
   "execution_count": 215,
   "id": "6a820677-a9ee-4ea5-b345-1d28f92c1bcd",
   "metadata": {},
   "outputs": [
    {
     "data": {
      "text/plain": [
       "'0b10100'"
      ]
     },
     "execution_count": 215,
     "metadata": {},
     "output_type": "execute_result"
    }
   ],
   "source": [
    "bin(20)"
   ]
  },
  {
   "cell_type": "code",
   "execution_count": 217,
   "id": "3714f39f-e311-495b-bacb-6e738dfdd061",
   "metadata": {},
   "outputs": [
    {
     "data": {
      "text/plain": [
       "'0o43'"
      ]
     },
     "execution_count": 217,
     "metadata": {},
     "output_type": "execute_result"
    }
   ],
   "source": [
    "oct(35)"
   ]
  },
  {
   "cell_type": "code",
   "execution_count": 219,
   "id": "14733502-073a-4641-97f4-85f96d9df90f",
   "metadata": {},
   "outputs": [
    {
     "data": {
      "text/plain": [
       "'0x9'"
      ]
     },
     "execution_count": 219,
     "metadata": {},
     "output_type": "execute_result"
    }
   ],
   "source": [
    "hex(9)"
   ]
  },
  {
   "cell_type": "code",
   "execution_count": 221,
   "id": "8f10deb2-f1f4-41e1-a45a-fc76e0c1ccc7",
   "metadata": {},
   "outputs": [
    {
     "data": {
      "text/plain": [
       "'0x19'"
      ]
     },
     "execution_count": 221,
     "metadata": {},
     "output_type": "execute_result"
    }
   ],
   "source": [
    "hex(25)"
   ]
  },
  {
   "cell_type": "markdown",
   "id": "1591767f-fc59-4db7-91fb-432d64a147f8",
   "metadata": {},
   "source": [
    "# Swap the veriable"
   ]
  },
  {
   "cell_type": "code",
   "execution_count": 230,
   "id": "c4cd69fe-e07b-4e15-9683-585ad9309926",
   "metadata": {},
   "outputs": [
    {
     "name": "stdout",
     "output_type": "stream",
     "text": [
      "5 6\n"
     ]
    }
   ],
   "source": [
    "a = 5 \n",
    "b = 6\n",
    "print(a,b)"
   ]
  },
  {
   "cell_type": "code",
   "execution_count": 234,
   "id": "db5554c9-8b10-4385-ae95-e2896692fd33",
   "metadata": {},
   "outputs": [
    {
     "name": "stdout",
     "output_type": "stream",
     "text": [
      "5 6\n"
     ]
    }
   ],
   "source": [
    "c = a  # usinf new verianble\n",
    "a = b \n",
    "b = c\n",
    "print(a,b)"
   ]
  },
  {
   "cell_type": "code",
   "execution_count": 241,
   "id": "605a41e6-395f-4138-8894-e74576bbbbcb",
   "metadata": {},
   "outputs": [],
   "source": [
    "a2 = 7\n",
    "b2 = 8\n"
   ]
  },
  {
   "cell_type": "code",
   "execution_count": 243,
   "id": "d3ee2103-12a0-4c24-84ef-d0c38abbf7eb",
   "metadata": {},
   "outputs": [],
   "source": [
    "a2 = a2 + b2 #7 + 8= 15\n",
    "b2 = a2 - b2 # 15 - 8 = 7\n",
    "a2 = a2 -b2 # 15 - 8 = 8"
   ]
  },
  {
   "cell_type": "code",
   "execution_count": 245,
   "id": "0de991d9-7093-4fd9-a9ba-6592f79d42e6",
   "metadata": {},
   "outputs": [
    {
     "name": "stdout",
     "output_type": "stream",
     "text": [
      "8\n",
      "7\n"
     ]
    }
   ],
   "source": [
    "print(a2)\n",
    "print(b2)"
   ]
  },
  {
   "cell_type": "code",
   "execution_count": 249,
   "id": "d8cff2e3-e721-4c4c-901c-b96c86cab6f8",
   "metadata": {},
   "outputs": [
    {
     "name": "stdout",
     "output_type": "stream",
     "text": [
      "8 7\n"
     ]
    }
   ],
   "source": [
    "a2,b2 = 8,7\n",
    "print(a2,b2)"
   ]
  },
  {
   "cell_type": "code",
   "execution_count": 251,
   "id": "a4c9598b-53d5-4ec4-ba65-6d9ad78c0539",
   "metadata": {},
   "outputs": [
    {
     "name": "stdout",
     "output_type": "stream",
     "text": [
      "7 8\n"
     ]
    }
   ],
   "source": [
    "a2,b2 = 7,8\n",
    "print(a2,b2)\n"
   ]
  },
  {
   "cell_type": "markdown",
   "id": "cc55e969-79c1-46b0-9e8c-4937c42d16a4",
   "metadata": {},
   "source": [
    "# bitwise operator"
   ]
  },
  {
   "cell_type": "code",
   "execution_count": 5,
   "id": "f4e9968e-1ebd-433d-be9f-b0fe98bd92df",
   "metadata": {},
   "outputs": [
    {
     "data": {
      "text/plain": [
       "-4"
      ]
     },
     "execution_count": 5,
     "metadata": {},
     "output_type": "execute_result"
    }
   ],
   "source": [
    "~ 3 #completment"
   ]
  },
  {
   "cell_type": "code",
   "execution_count": 7,
   "id": "9499fa0d-15be-412d-9246-2a556181b533",
   "metadata": {},
   "outputs": [
    {
     "data": {
      "text/plain": [
       "-13"
      ]
     },
     "execution_count": 7,
     "metadata": {},
     "output_type": "execute_result"
    }
   ],
   "source": [
    "~12"
   ]
  },
  {
   "cell_type": "code",
   "execution_count": 9,
   "id": "16d80f2c-b091-46fc-8582-f1607ef3147c",
   "metadata": {},
   "outputs": [
    {
     "data": {
      "text/plain": [
       "-15"
      ]
     },
     "execution_count": 9,
     "metadata": {},
     "output_type": "execute_result"
    }
   ],
   "source": [
    "~14"
   ]
  },
  {
   "cell_type": "code",
   "execution_count": 11,
   "id": "6f3aa974-ae32-4c9c-a295-a78ce0353a38",
   "metadata": {},
   "outputs": [],
   "source": [
    "# bitwise op and & or"
   ]
  },
  {
   "cell_type": "code",
   "execution_count": 15,
   "id": "76aa414b-a3a3-41b2-92cc-099248df7f76",
   "metadata": {},
   "outputs": [
    {
     "data": {
      "text/plain": [
       "5"
      ]
     },
     "execution_count": 15,
     "metadata": {},
     "output_type": "execute_result"
    }
   ],
   "source": [
    "23 & 45"
   ]
  },
  {
   "cell_type": "code",
   "execution_count": 17,
   "id": "d56fe3f7-d91c-4d8b-9424-cf0de94afa86",
   "metadata": {},
   "outputs": [
    {
     "data": {
      "text/plain": [
       "12"
      ]
     },
     "execution_count": 17,
     "metadata": {},
     "output_type": "execute_result"
    }
   ],
   "source": [
    "12 & 13"
   ]
  },
  {
   "cell_type": "code",
   "execution_count": 19,
   "id": "e55830eb-48bb-462c-b026-53810cdaa936",
   "metadata": {},
   "outputs": [
    {
     "data": {
      "text/plain": [
       "5"
      ]
     },
     "execution_count": 19,
     "metadata": {},
     "output_type": "execute_result"
    }
   ],
   "source": [
    "45 & 23"
   ]
  },
  {
   "cell_type": "code",
   "execution_count": 28,
   "id": "22b386cd-0f1a-4e7d-8a13-3c5625fbb854",
   "metadata": {},
   "outputs": [
    {
     "data": {
      "text/plain": [
       "24"
      ]
     },
     "execution_count": 28,
     "metadata": {},
     "output_type": "execute_result"
    }
   ],
   "source": [
    "24 & 56 #0*1 = 0 1*2="
   ]
  },
  {
   "cell_type": "code",
   "execution_count": 32,
   "id": "e24b0483-79aa-4c74-b03b-832605ebf0cd",
   "metadata": {},
   "outputs": [
    {
     "data": {
      "text/plain": [
       "56"
      ]
     },
     "execution_count": 32,
     "metadata": {},
     "output_type": "execute_result"
    }
   ],
   "source": [
    "24 | 56"
   ]
  },
  {
   "cell_type": "code",
   "execution_count": 34,
   "id": "5dcdc39e-830c-4788-ba70-0e2b7ef69d8e",
   "metadata": {},
   "outputs": [
    {
     "data": {
      "text/plain": [
       "13"
      ]
     },
     "execution_count": 34,
     "metadata": {},
     "output_type": "execute_result"
    }
   ],
   "source": [
    "12 | 13 "
   ]
  },
  {
   "cell_type": "code",
   "execution_count": 36,
   "id": "eb0d8f62-cf6d-4153-b093-dc23672ec1c8",
   "metadata": {},
   "outputs": [
    {
     "data": {
      "text/plain": [
       "1"
      ]
     },
     "execution_count": 36,
     "metadata": {},
     "output_type": "execute_result"
    }
   ],
   "source": [
    "12 ^ 13 #xor"
   ]
  },
  {
   "cell_type": "code",
   "execution_count": 38,
   "id": "88fa7d42-f9fa-4c1a-b7f3-1838ac4eb8c8",
   "metadata": {},
   "outputs": [
    {
     "data": {
      "text/plain": [
       "58"
      ]
     },
     "execution_count": 38,
     "metadata": {},
     "output_type": "execute_result"
    }
   ],
   "source": [
    "23 ^45"
   ]
  },
  {
   "cell_type": "markdown",
   "id": "00dd5082-7627-43bb-9c74-0f2ff4aa7ab3",
   "metadata": {},
   "source": [
    "# Bitwise Leftside op"
   ]
  },
  {
   "cell_type": "code",
   "execution_count": 40,
   "id": "115ee55c-bd8b-4b6a-8539-65bcaf52ac5d",
   "metadata": {},
   "outputs": [
    {
     "data": {
      "text/plain": [
       "20"
      ]
     },
     "execution_count": 40,
     "metadata": {},
     "output_type": "execute_result"
    }
   ],
   "source": [
    "10<<1"
   ]
  },
  {
   "cell_type": "code",
   "execution_count": 49,
   "id": "ec20b4e1-659f-4b14-8b4d-5b343b69db40",
   "metadata": {},
   "outputs": [
    {
     "data": {
      "text/plain": [
       "40"
      ]
     },
     "execution_count": 49,
     "metadata": {},
     "output_type": "execute_result"
    }
   ],
   "source": [
    "10<<2 # add 2 zero before "
   ]
  },
  {
   "cell_type": "markdown",
   "id": "993cf02d-3f90-49dd-a558-84ccf631ff2d",
   "metadata": {},
   "source": [
    "# Bitwise Rightside op"
   ]
  },
  {
   "cell_type": "code",
   "execution_count": 52,
   "id": "d833cdde-0586-46f2-8541-0f6018be73bc",
   "metadata": {},
   "outputs": [
    {
     "data": {
      "text/plain": [
       "5"
      ]
     },
     "execution_count": 52,
     "metadata": {},
     "output_type": "execute_result"
    }
   ],
   "source": [
    "10>>1"
   ]
  },
  {
   "cell_type": "code",
   "execution_count": 54,
   "id": "4cb1616f-3b41-424e-957f-cef7aed65382",
   "metadata": {},
   "outputs": [
    {
     "data": {
      "text/plain": [
       "2"
      ]
     },
     "execution_count": 54,
     "metadata": {},
     "output_type": "execute_result"
    }
   ],
   "source": [
    "10>>2"
   ]
  },
  {
   "cell_type": "code",
   "execution_count": null,
   "id": "3e0cdbfa-fb91-4de5-bbe2-dc4ca2627fc9",
   "metadata": {},
   "outputs": [],
   "source": []
  }
 ],
 "metadata": {
  "kernelspec": {
   "display_name": "Python 3 (ipykernel)",
   "language": "python",
   "name": "python3"
  },
  "language_info": {
   "codemirror_mode": {
    "name": "ipython",
    "version": 3
   },
   "file_extension": ".py",
   "mimetype": "text/x-python",
   "name": "python",
   "nbconvert_exporter": "python",
   "pygments_lexer": "ipython3",
   "version": "3.12.4"
  }
 },
 "nbformat": 4,
 "nbformat_minor": 5
}
